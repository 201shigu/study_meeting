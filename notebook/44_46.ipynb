{
 "cells": [
  {
   "cell_type": "code",
   "execution_count": 35,
   "metadata": {},
   "outputs": [],
   "source": [
    "# Reproduce book environment\n",
    "import random\n",
    "random.seed(1234)\n",
    "\n",
    "import logging\n",
    "from pprint import pprint\n",
    "from sys import stdout as STDOUT\n",
    "\n",
    "# Write all output to a temporary directory\n",
    "import atexit\n",
    "import gc\n",
    "import io\n",
    "import os\n",
    "import tempfile"
   ]
  },
  {
   "attachments": {},
   "cell_type": "markdown",
   "metadata": {},
   "source": [
    "# 6章 メタクラスと属性"
   ]
  },
  {
   "attachments": {},
   "cell_type": "markdown",
   "metadata": {},
   "source": [
    "メタクラスは、Python の特長として挙げられる概念の一つである。\n",
    "\n",
    "メタクラスという名前は漠然とクラスより上の概念を意味している。単純に言えば、メタクラスは Python の `class` 文に割り込み、クラスが定義されるたびに特別な振る舞いを与えるものである。\n",
    "\n",
    "同様の不思議さと力を持っているのが、Python に組み込まれている属性アクセスを動的にカスタマイズする機能である。それらは、Python のオブジェクト指向機能とともに、単純なクラスから複雑なクラスへと移行する際に威力を発揮する。\n",
    "\n",
    "しかしながら、これらの強力な機能には、落とし穴が多くある。例えば、動的属性というものを使用する際には、オブジェクトをオーバーライドして、予期しない副作用を起こすことがある。メタクラスは、初心者には手に負えない、とても奇怪な振る舞いが生じることが多い。驚き最小の原則（[Principle of least astonishment / Rule of least surprise](https://ja.wikipedia.org/wiki/%E9%A9%9A%E3%81%8D%E6%9C%80%E5%B0%8F%E3%81%AE%E5%8E%9F%E5%89%87)）に従い、これらの機構をよく理解されたイディオムを実装するためだけに使うことが重要である。"
   ]
  },
  {
   "attachments": {},
   "cell_type": "markdown",
   "metadata": {},
   "source": [
    "## 復習 アンダースコア_付きクラス変数 / インスタンス変数"
   ]
  },
  {
   "attachments": {},
   "cell_type": "markdown",
   "metadata": {},
   "source": [
    "### アンダースコア_1個のクラス変数 / インスタンス変数"
   ]
  },
  {
   "attachments": {},
   "cell_type": "markdown",
   "metadata": {},
   "source": [
    "アンダースコア1個で始まるクラス変数やインスタンス変数は、慣習的に「隠蔽したい」ことを表している。\n",
    "\n",
    "これはあくまで「参照しないで欲しい」という意思表示であり、実際には自クラス以外からも参照できてしまう。\n",
    "\n",
    "しかし、このような変数は自クラス以外から参照しないようにすべきである。"
   ]
  },
  {
   "cell_type": "code",
   "execution_count": 36,
   "metadata": {},
   "outputs": [
    {
     "data": {
      "text/plain": [
       "10"
      ]
     },
     "execution_count": 36,
     "metadata": {},
     "output_type": "execute_result"
    }
   ],
   "source": [
    "class A:\n",
    "    def __init__(self, x):\n",
    "        self._x = x\n",
    "\n",
    "a = A(10)\n",
    "a._x    # 参照できてしまう"
   ]
  },
  {
   "attachments": {},
   "cell_type": "markdown",
   "metadata": {},
   "source": [
    "### アンダースコア_2個のクラス変数 / インスタンス変数"
   ]
  },
  {
   "attachments": {},
   "cell_type": "markdown",
   "metadata": {},
   "source": [
    "アンダースコア2個で始まるクラス変数やインスタンス変数は、自クラス以外から隠蔽される。\n",
    "しかし実際には、名前マングリング（名前難号化）という機能により変数名が変更されるだけである。\n",
    "そのため、変更された変数名を使えば自クラス以外からも参照できてしまう。\n",
    "\n",
    "たとえば、`Sample` クラスの `__num3` という変数は、下記のように `_Sample__num3` に変わる。\n",
    "ただし、デバッグなどの特殊な状況以外では、`_Sample__num3` を使って直接アクセスするのは控えるべきである。"
   ]
  },
  {
   "cell_type": "code",
   "execution_count": 37,
   "metadata": {},
   "outputs": [
    {
     "name": "stdout",
     "output_type": "stream",
     "text": [
      "300\n"
     ]
    }
   ],
   "source": [
    "class Sample:\n",
    "    def __init__(self):\n",
    "        self.__num3 = 300\n",
    "\n",
    "\n",
    "a = Sample()\n",
    "print(a._Sample__num3)  # 変数名が変更されているが参照できる"
   ]
  },
  {
   "attachments": {},
   "cell_type": "markdown",
   "metadata": {},
   "source": [
    "参考サイト：[アンダースコア（_）ではじまるクラスの変数](https://blog.pyq.jp/entry/python_kaiketsu_220323)"
   ]
  },
  {
   "attachments": {},
   "cell_type": "markdown",
   "metadata": {},
   "source": [
    "## 項目44 `get` メソッドや `set` メソッドは使わず属性をそのまま使う"
   ]
  },
  {
   "attachments": {},
   "cell_type": "markdown",
   "metadata": {},
   "source": [
    "他の言語から Python に移ってきたプログラマは、クラスのゲッター・セッターメソッドを明示的に実装しようとしたくなることがあるだろう。\n",
    "\n",
    "例えば抵抗器（Resistor）クラスが抵抗度合いのオーム（ohrms）をインスタンス変数に持つとしよう。`get_ohms` メソッドではその `ohrms` の値を返し、`set_ohms` メソッドではその `ohrms` の値を変更するように実装する（これらをゲッター・セッターメソッドと呼んでいる）。"
   ]
  },
  {
   "cell_type": "code",
   "execution_count": 38,
   "metadata": {},
   "outputs": [],
   "source": [
    "# Example 1\n",
    "class OldResistor:\n",
    "    def __init__(self, ohms):\n",
    "        self._ohms = ohms\n",
    "\n",
    "    def get_ohms(self):\n",
    "        return self._ohms\n",
    "\n",
    "    def set_ohms(self, ohms):\n",
    "        self._ohms = ohms"
   ]
  },
  {
   "attachments": {},
   "cell_type": "markdown",
   "metadata": {},
   "source": [
    "このゲッターやセッターの実装の仕方や、次のコードのような使い方は単純ではあるが、Pythonic では無い。\n",
    "\n",
    "※ コードがpythonicであるというのは、\n",
    "- Pythonのイディオムをうまく使っていること\n",
    "- 自然であること\n",
    "- （言語に）流暢であること\n",
    "- Pythonの最小主義の哲学と読みやすさの強調に適合していること\n",
    "\n",
    "を意味する。The Zen of Pythonについては以前の田保資料参照に記載（[他参考記事](https://www.pythonic-exam.com/pythonic)）。"
   ]
  },
  {
   "cell_type": "code",
   "execution_count": 39,
   "metadata": {},
   "outputs": [
    {
     "name": "stdout",
     "output_type": "stream",
     "text": [
      "Before: 50000.0\n",
      "After:  10000.0\n"
     ]
    }
   ],
   "source": [
    "# Example 2\n",
    "r0 = OldResistor(50e3)\n",
    "print('Before:', r0.get_ohms())\n",
    "r0.set_ohms(10e3)\n",
    "print('After: ', r0.get_ohms())"
   ]
  },
  {
   "attachments": {},
   "cell_type": "markdown",
   "metadata": {},
   "source": [
    "特に、次のような加減演算などを伴う場合では、ぎこちないコードになってしまっている。"
   ]
  },
  {
   "cell_type": "code",
   "execution_count": 40,
   "metadata": {},
   "outputs": [],
   "source": [
    "# Example 3\n",
    "r0.set_ohms(r0.get_ohms() - 4e3)\n",
    "assert r0.get_ohms() == 6e3"
   ]
  },
  {
   "attachments": {},
   "cell_type": "markdown",
   "metadata": {},
   "source": [
    "こういったユーティリティメソッド※の実装はクラスのインタフェース定義を助け、機能をカプセル化して使い方を実証し、境界を定義するのを容易にするものである。これらは、クラスが時間が経つとともに進化しても（機能拡張を行っても？）呼び出し元に問題が起こらないことを保証する、クラスを設計する際に重要な目標である。\n",
    "\n",
    "※ユーティリティ：「役に立つこと」「有益なもの」（[参考:weblio辞書](https://www.weblio.jp/content/%E3%83%A6%E3%83%BC%E3%83%86%E3%82%A3%E3%83%AA%E3%83%86%E3%82%A3%E3%83%BC)）\n",
    "\n",
    "しかし実は、Python では、明示的にセッターやゲッターメソッドを実装する必要はほとんど無い。例えば、次のように単純なパブリック属性を用いて実装することができるからである。"
   ]
  },
  {
   "cell_type": "code",
   "execution_count": 41,
   "metadata": {},
   "outputs": [
    {
     "name": "stdout",
     "output_type": "stream",
     "text": [
      "10000.0 ohms, 0 volts, 0 amps\n"
     ]
    }
   ],
   "source": [
    "# Example 4\n",
    "class Resistor:\n",
    "    def __init__(self, ohms):\n",
    "        self.ohms = ohms\n",
    "        self.voltage = 0\n",
    "        self.current = 0\n",
    "\n",
    "r1 = Resistor(50e3)\n",
    "r1.ohms = 10e3  # set メソッド\n",
    "print(f'{r1.ohms} ohms, '\n",
    "      f'{r1.voltage} volts, '\n",
    "      f'{r1.current} amps') # get メソッド"
   ]
  },
  {
   "attachments": {},
   "cell_type": "markdown",
   "metadata": {},
   "source": [
    "このように書くことで、増加演算なども自然で明確になる。"
   ]
  },
  {
   "cell_type": "code",
   "execution_count": 42,
   "metadata": {},
   "outputs": [],
   "source": [
    "# Example 5\n",
    "r1.ohms += 5e3\n",
    "\n",
    "# 比較：Example 3\n",
    "# r0.set_ohms(r0.get_ohms() - 4e3)"
   ]
  },
  {
   "attachments": {},
   "cell_type": "markdown",
   "metadata": {},
   "source": [
    "後になって、属性が設定されたときに特別な振る舞いが必要となる場合は、※`@property` デコレータ（背景は「項目 26 `functools.wraps` を使って関数デコレータを定義する」参照）とそれに対応する `setter` 属性をマイグレートすれば良い。"
   ]
  },
  {
   "attachments": {},
   "cell_type": "markdown",
   "metadata": {},
   "source": [
    "#### 捕捉：`@property` について"
   ]
  },
  {
   "attachments": {},
   "cell_type": "markdown",
   "metadata": {},
   "source": [
    "プロパティとは、値を変更しづらくしたいが、インスタンス変数のように自然に値にアクセスできるようにできるよう設計されたもの。（[参考](https://qiita.com/cardene/items/8a59d576d360b7568c3a)）"
   ]
  },
  {
   "cell_type": "code",
   "execution_count": 43,
   "metadata": {},
   "outputs": [],
   "source": [
    "'プロパティの値を取り出すメソッドを定義する'\n",
    "@property\n",
    "def プロパティ名(self):\n",
    "  return 値\n",
    "  \n",
    "'プロパティの値を設定'\n",
    "@プロパティ名.setter\n",
    "def プロパティ名(self, 値):\n",
    "  pass  # 値を処理するコード"
   ]
  },
  {
   "cell_type": "code",
   "execution_count": 44,
   "metadata": {},
   "outputs": [
    {
     "name": "stdout",
     "output_type": "stream",
     "text": [
      "Hello\n",
      "Hello\n",
      "Bye!\n"
     ]
    }
   ],
   "source": [
    "# 参考\n",
    "class PropertyClass:\n",
    "      def __init__(self, msg):\n",
    "        self.message = msg\n",
    "  \n",
    "      def __str__(self):\n",
    "        return self.message\n",
    "    \n",
    "      @property\n",
    "      def message(self):\n",
    "        return self.__message\n",
    "    \n",
    "      @message.setter\n",
    "      def message(self, value):\n",
    "        if value != '':\n",
    "          self.__message = value\n",
    "      \n",
    "\n",
    "pc= PropertyClass('Hello')\n",
    "print(pc.message)\n",
    "pc.message = ''   # messageの中身を「Hello」から空文字列に変更   ③\n",
    "print(pc)   # Hello\n",
    "pc.message = 'Bye!'   # messageの中身を「Hello」から「Bye!」に変更   ⑤\n",
    "print(pc)   # Bye!"
   ]
  },
  {
   "attachments": {},
   "cell_type": "markdown",
   "metadata": {},
   "source": [
    "細かい挙動は下記のコードで確認できる"
   ]
  },
  {
   "cell_type": "code",
   "execution_count": 45,
   "metadata": {},
   "outputs": [
    {
     "name": "stdout",
     "output_type": "stream",
     "text": [
      "inside the getter\n",
      "Hello\n",
      "inseide the setter\n",
      "inside the getter\n",
      "Python\n"
     ]
    }
   ],
   "source": [
    "class Myclass:\n",
    "    def __init__(self, input_name):\n",
    "        self.hidden_name = input_name\n",
    "\n",
    "    @property\n",
    "    def name(self):\n",
    "        print('inside the getter')\n",
    "        return self.hidden_name\n",
    "\n",
    "    @name.setter\n",
    "    def name(self, input_name):\n",
    "        print('inseide the setter')\n",
    "        self.hidden_name = input_name\n",
    "\n",
    "\n",
    "mc = Myclass('Hello')   #「Hello」を引数として渡す\n",
    "print(mc.name)   #'Hello'と表示 + 'inside the getter'と表示\n",
    "mc.name = 'Python'   # 値を'Python'に変更 + 'inside the setter'と表示\n",
    "print(mc.name)   # 'Python'と表示 + 'inside the getter'と表示"
   ]
  },
  {
   "attachments": {},
   "cell_type": "markdown",
   "metadata": {},
   "source": [
    "#### 以下書籍部分に戻る"
   ]
  },
  {
   "attachments": {},
   "cell_type": "markdown",
   "metadata": {},
   "source": [
    "次のコードでは、プロパティの `voltage` に値を代入することで、`current` を変更できる `Resistor` の新たなサブクラス `VoltageResistance` を定義する。これを正しく動作させるためには、セッターメソッドとゲッターメソッドの両方の名前が、意図している属性名に合致していなければならない。\n"
   ]
  },
  {
   "cell_type": "code",
   "execution_count": 46,
   "metadata": {},
   "outputs": [],
   "source": [
    "# Example 4\n",
    "class Resistor:\n",
    "    def __init__(self, ohms):\n",
    "        self.ohms = ohms\n",
    "        self.voltage = 0\n",
    "        self.current = 0\n",
    "        \n",
    "\n",
    "# Example 6\n",
    "class VoltageResistance(Resistor):\n",
    "    def __init__(self, ohms):\n",
    "        super().__init__(ohms)\n",
    "        self._voltage = 0\n",
    "\n",
    "    @property\n",
    "    def voltage(self):\n",
    "        return self._voltage\n",
    "\n",
    "    @voltage.setter\n",
    "    def voltage(self, voltage):\n",
    "        self._voltage = voltage\n",
    "        self.current = self._voltage / self.ohms"
   ]
  },
  {
   "attachments": {},
   "cell_type": "markdown",
   "metadata": {},
   "source": [
    "`voltage` に値を代入すると、`voltage` のセッターメソッドが実行されて、対応するオブジェクトの `current` 属性が更新される。"
   ]
  },
  {
   "cell_type": "code",
   "execution_count": 47,
   "metadata": {},
   "outputs": [
    {
     "name": "stdout",
     "output_type": "stream",
     "text": [
      "Before: 0.00 amps\n",
      "After:  0.01 amps\n"
     ]
    }
   ],
   "source": [
    "# Example 7\n",
    "r2 = VoltageResistance(1e3)\n",
    "print(f'Before: {r2.current:.2f} amps')\n",
    "r2.voltage = 10\n",
    "print(f'After:  {r2.current:.2f} amps')"
   ]
  },
  {
   "attachments": {},
   "cell_type": "markdown",
   "metadata": {},
   "source": [
    "### property の setter"
   ]
  },
  {
   "attachments": {},
   "cell_type": "markdown",
   "metadata": {},
   "source": [
    "プロパティの `setter` を指定することで、クラスに渡される値について型や値について精査することができる。\n",
    "\n",
    "例えば、抵抗値が0オームよりも大きい値であることを確かめるクラスを次のように定義することができる：\n"
   ]
  },
  {
   "cell_type": "code",
   "execution_count": 48,
   "metadata": {},
   "outputs": [],
   "source": [
    "# Example 4\n",
    "class Resistor:\n",
    "    def __init__(self, ohms):\n",
    "        self.ohms = ohms\n",
    "        self.voltage = 0\n",
    "        self.current = 0\n",
    "        \n",
    "\n",
    "# Example 8\n",
    "class BoundedResistance(Resistor):\n",
    "    def __init__(self, ohms):\n",
    "        super().__init__(ohms)\n",
    "\n",
    "    @property\n",
    "    def ohms(self):\n",
    "        return self._ohms\n",
    "\n",
    "    @ohms.setter\n",
    "    def ohms(self, ohms):\n",
    "        if ohms <= 0:\n",
    "            raise ValueError(f'ohms must be > 0; got {ohms}')\n",
    "        self._ohms = ohms"
   ]
  },
  {
   "attachments": {},
   "cell_type": "markdown",
   "metadata": {},
   "source": [
    "正しくない抵抗値（例えば0）を `ohms` に代入しようとすると例外が発生する。"
   ]
  },
  {
   "cell_type": "code",
   "execution_count": 49,
   "metadata": {},
   "outputs": [
    {
     "name": "stderr",
     "output_type": "stream",
     "text": [
      "ERROR:root:Expected\n",
      "Traceback (most recent call last):\n",
      "  File \"C:\\Users\\su10_\\AppData\\Local\\Temp\\ipykernel_3520\\2725580157.py\", line 4, in <cell line: 2>\n",
      "    r3.ohms = 0\n",
      "  File \"C:\\Users\\su10_\\AppData\\Local\\Temp\\ipykernel_3520\\586676205.py\", line 21, in ohms\n",
      "    raise ValueError(f'ohms must be > 0; got {ohms}')\n",
      "ValueError: ohms must be > 0; got 0\n"
     ]
    }
   ],
   "source": [
    "# Example 9\n",
    "try:\n",
    "    r3 = BoundedResistance(1e3)\n",
    "    r3.ohms = 0\n",
    "except:\n",
    "    logging.exception('Expected')\n",
    "else:\n",
    "    assert False"
   ]
  },
  {
   "attachments": {},
   "cell_type": "markdown",
   "metadata": {},
   "source": [
    "同様に、コンストラクタに0未満の値を渡しても例外が発生する。"
   ]
  },
  {
   "cell_type": "code",
   "execution_count": 50,
   "metadata": {},
   "outputs": [
    {
     "name": "stderr",
     "output_type": "stream",
     "text": [
      "ERROR:root:Expected\n",
      "Traceback (most recent call last):\n",
      "  File \"C:\\Users\\su10_\\AppData\\Local\\Temp\\ipykernel_3520\\4192645586.py\", line 3, in <cell line: 2>\n",
      "    BoundedResistance(-5)\n",
      "  File \"C:\\Users\\su10_\\AppData\\Local\\Temp\\ipykernel_3520\\586676205.py\", line 12, in __init__\n",
      "    super().__init__(ohms)\n",
      "  File \"C:\\Users\\su10_\\AppData\\Local\\Temp\\ipykernel_3520\\586676205.py\", line 4, in __init__\n",
      "    self.ohms = ohms\n",
      "  File \"C:\\Users\\su10_\\AppData\\Local\\Temp\\ipykernel_3520\\586676205.py\", line 21, in ohms\n",
      "    raise ValueError(f'ohms must be > 0; got {ohms}')\n",
      "ValueError: ohms must be > 0; got -5\n"
     ]
    }
   ],
   "source": [
    "# Example 10\n",
    "try:\n",
    "    BoundedResistance(-5)\n",
    "except:\n",
    "    logging.exception('Expected')\n",
    "else:\n",
    "    assert False"
   ]
  },
  {
   "attachments": {},
   "cell_type": "markdown",
   "metadata": {},
   "source": [
    "ここでは、\n",
    "1. `BoundedResistance.__init__` が `Resistor.__init__` を呼び出し、その `self.ohms = -5` という代入が行われる\n",
    "2. この代入により、`BoundedResistance` の `@ohms.setter` メソッドが呼び出され、オブジェクトの構築が完了する前に`@ohms.setter` メソッド内の `if` 文による検証が行われエラーが吐かれる。"
   ]
  },
  {
   "cell_type": "code",
   "execution_count": 51,
   "metadata": {},
   "outputs": [],
   "source": [
    "# Example 4\n",
    "class Resistor:\n",
    "    def __init__(self, ohms):\n",
    "        self.ohms = ohms\n",
    "        self.voltage = 0\n",
    "        self.current = 0\n",
    "        \n",
    "\n",
    "# Example 8\n",
    "class BoundedResistance(Resistor):\n",
    "    def __init__(self, ohms):\n",
    "        super().__init__(ohms)\n",
    "\n",
    "    @property\n",
    "    def ohms(self):\n",
    "        return self._ohms\n",
    "\n",
    "    @ohms.setter\n",
    "    def ohms(self, ohms):\n",
    "        if ohms <= 0:\n",
    "            raise ValueError(f'ohms must be > 0; got {ohms}')\n",
    "        self._ohms = ohms"
   ]
  },
  {
   "attachments": {},
   "cell_type": "markdown",
   "metadata": {},
   "source": [
    "`@property` を使って、スーパークラスの属性を変更不能にすることすらできる。"
   ]
  },
  {
   "cell_type": "code",
   "execution_count": 52,
   "metadata": {},
   "outputs": [],
   "source": [
    "# Example 11\n",
    "class FixedResistance(Resistor):\n",
    "    def __init__(self, ohms):\n",
    "        super().__init__(ohms)\n",
    "\n",
    "    @property\n",
    "    def ohms(self):\n",
    "        return self._ohms\n",
    "\n",
    "    @ohms.setter\n",
    "    def ohms(self, ohms):\n",
    "        if hasattr(self, '_ohms'):  # hasattr により self が _ohms 属性を持っているか検証\n",
    "            raise AttributeError(\"Ohms is immutable\")\n",
    "        self._ohms = ohms"
   ]
  },
  {
   "attachments": {},
   "cell_type": "markdown",
   "metadata": {},
   "source": [
    "構築後にプロパティへ値を代入しようとすると、例外が発生する。"
   ]
  },
  {
   "cell_type": "code",
   "execution_count": 53,
   "metadata": {},
   "outputs": [
    {
     "name": "stderr",
     "output_type": "stream",
     "text": [
      "ERROR:root:Expected\n",
      "Traceback (most recent call last):\n",
      "  File \"C:\\Users\\su10_\\AppData\\Local\\Temp\\ipykernel_3520\\2866752537.py\", line 4, in <cell line: 2>\n",
      "    r4.ohms = 2e3\n",
      "  File \"C:\\Users\\su10_\\AppData\\Local\\Temp\\ipykernel_3520\\3329566724.py\", line 13, in ohms\n",
      "    raise AttributeError(\"Ohms is immutable\")\n",
      "AttributeError: Ohms is immutable\n"
     ]
    }
   ],
   "source": [
    "# Example 12\n",
    "try:\n",
    "    r4 = FixedResistance(1e3)\n",
    "    r4.ohms = 2e3\n",
    "except:\n",
    "    logging.exception('Expected')\n",
    "else:\n",
    "    assert False"
   ]
  },
  {
   "attachments": {},
   "cell_type": "markdown",
   "metadata": {},
   "source": [
    "`@property` メソッドを使って、セッターやゲッターを実装するとき、予想しないような振る舞いを実装してはならない。\n",
    "\n",
    "例えば、次のようにゲッタープロパティメソッドの中で、他の属性をセットさせるケースを見てみる："
   ]
  },
  {
   "cell_type": "code",
   "execution_count": 54,
   "metadata": {},
   "outputs": [],
   "source": [
    "# Example 13\n",
    "class MysteriousResistor(Resistor):\n",
    "    @property   # getter\n",
    "    def ohms(self):\n",
    "        self.voltage = self._ohms * self.current    # 他属性\n",
    "        return self._ohms\n",
    "\n",
    "    @ohms.setter\n",
    "    def ohms(self, ohms):\n",
    "        self._ohms = ohms"
   ]
  },
  {
   "attachments": {},
   "cell_type": "markdown",
   "metadata": {},
   "source": [
    "これは、ひどく異様な振る舞いを引き起こす。"
   ]
  },
  {
   "cell_type": "code",
   "execution_count": 55,
   "metadata": {},
   "outputs": [
    {
     "name": "stdout",
     "output_type": "stream",
     "text": [
      "Before: 0.00\n",
      "After:  0.10\n"
     ]
    }
   ],
   "source": [
    "# Example 14\n",
    "r7 = MysteriousResistor(10)\n",
    "r7.current = 0.01\n",
    "print(f'Before: {r7.voltage:.2f}')\n",
    "r7.ohms\n",
    "print(f'After:  {r7.voltage:.2f}')\n"
   ]
  },
  {
   "attachments": {},
   "cell_type": "markdown",
   "metadata": {},
   "source": [
    "`@property.setter` メソッドでは、関連するオブジェクト状態だけを変更することが最良だろう。\n",
    "\n",
    "- オブジェクトを超えて、モジュールを動的にインポートする\n",
    "- 遅いヘルパー関数を実行する\n",
    "- 入出力を行う\n",
    "- 高くつくデータベースクエリを行う\n",
    "\n",
    "といった、呼び出し元が予期しない副作用をもたらしていないことを確かめて実装すべきである。\n",
    "\n",
    "クラスのユーザというものは、その属性が Python の他のオブジェクトと同じように、さっと使いやすいものと期待している。複雑であったり、遅くなるようなことは、通常のメソッドを使って行うべきである。\n"
   ]
  },
  {
   "attachments": {},
   "cell_type": "markdown",
   "metadata": {},
   "source": [
    "`@property` の最大の欠点は、属性のメソッドがサブクラスの間でしか共有できないことである。関連しないクラスは、同じ実装を共有することができない。しかし、Python では、ディスクリプタもサポート（「項目46 再利用可能な `@property` メソッドにディスクリプタを使う」参照）しており、プロパティの再利用可能なロジックや他の多くのユースケースを可能にしている。"
   ]
  },
  {
   "attachments": {},
   "cell_type": "markdown",
   "metadata": {},
   "source": [
    "### 覚えておくこと"
   ]
  },
  {
   "attachments": {},
   "cell_type": "markdown",
   "metadata": {},
   "source": [
    "- 単純なパブリックな属性を使って新たなクラスのインタフェースを定義し、`set` や `get` メソッドは定義しない。\n",
    "- 必要ならオブジェクトの属性にアクセスされたときの特別な振る舞いを `@property` を使っ\n",
    "て定義する。\n",
    "- 驚き最小の原則に従い、`@property` メソッドで奇妙な副作用が生じるのを防ぐ。\n"
   ]
  },
  {
   "attachments": {},
   "cell_type": "markdown",
   "metadata": {},
   "source": [
    "## 項目45 属性をリファクタリングする代わりに `@property` を考える"
   ]
  },
  {
   "attachments": {},
   "cell_type": "markdown",
   "metadata": {},
   "source": [
    "組み込みの `@property` デコレータによって、 インスタンスの属性への単純なアクセスが容易にできる（項目44 参照）。\n",
    "\n",
    "よく使われる `@property` の高度な使い方の一つは、単純な数値属性を、その場で計算するように変えるものである。これは既存のクラス利用のすべてを、呼び出しを一切変えることなく、新たな振る舞いができるようにマイグレートするため、非常に役立つ。時間が経つにつれ変化するインタフェースを改善していくときの重要な応急処置にもなる。\n",
    "\n",
    "例えば、普通の Python オブジェクトを用いて水漏れバケツからの水の割り当てを実装することを考える。ここで、`Bucket` クラスは、残っている割当量と、割当量の存在する時間（ピリオド）を属性に持つよう設計したとする：\n"
   ]
  },
  {
   "cell_type": "code",
   "execution_count": 56,
   "metadata": {},
   "outputs": [
    {
     "name": "stdout",
     "output_type": "stream",
     "text": [
      "Bucket(quota=0)\n"
     ]
    }
   ],
   "source": [
    "# Example 1\n",
    "from datetime import datetime, timedelta\n",
    "\n",
    "class Bucket:\n",
    "    def __init__(self, period):\n",
    "        self.period_delta = timedelta(seconds=period)\n",
    "        self.reset_time = datetime.now()\n",
    "        self.quota = 0\n",
    "\n",
    "    def __repr__(self):\n",
    "        return f'Bucket(quota={self.quota})'\n",
    "\n",
    "bucket = Bucket(60)\n",
    "print(bucket)\n"
   ]
  },
  {
   "attachments": {},
   "cell_type": "markdown",
   "metadata": {},
   "source": [
    "水漏れバケツアルゴリズムでは、バケツが一杯になるたびに、割当量が次のピリオドを越えて持ち越されないようにする："
   ]
  },
  {
   "cell_type": "code",
   "execution_count": 57,
   "metadata": {},
   "outputs": [],
   "source": [
    "# Example 2\n",
    "def fill(bucket, amount):\n",
    "    now = datetime.now()\n",
    "    if (now - bucket.reset_time) > bucket.period_delta:\n",
    "        bucket.quota = 0\n",
    "        bucket.reset_time = now\n",
    "    bucket.quota += amount"
   ]
  },
  {
   "attachments": {},
   "cell_type": "markdown",
   "metadata": {},
   "source": [
    "ユーザが何かをしたいときは、常に最初に、使いたい量がバケツから得られるかどうかを確認する必要がある："
   ]
  },
  {
   "cell_type": "code",
   "execution_count": 58,
   "metadata": {},
   "outputs": [],
   "source": [
    "# Example 3\n",
    "def deduct(bucket, amount):\n",
    "    now = datetime.now()\n",
    "    if (now - bucket.reset_time) > bucket.period_delta:\n",
    "        return False  # Bucket hasn't been filled this period\n",
    "    if bucket.quota - amount < 0:\n",
    "        return False  # Bucket was filled, but not enough\n",
    "    bucket.quota -= amount\n",
    "    return True       # Bucket had enough, quota consumed\n"
   ]
  },
  {
   "attachments": {},
   "cell_type": "markdown",
   "metadata": {},
   "source": [
    "まずこのクラスを使うために、バケツに水を入れる。"
   ]
  },
  {
   "cell_type": "code",
   "execution_count": 59,
   "metadata": {},
   "outputs": [
    {
     "name": "stdout",
     "output_type": "stream",
     "text": [
      "Bucket(quota=100)\n"
     ]
    }
   ],
   "source": [
    "# Example 4\n",
    "bucket = Bucket(60)\n",
    "fill(bucket, 100)\n",
    "print(bucket)"
   ]
  },
  {
   "attachments": {},
   "cell_type": "markdown",
   "metadata": {},
   "source": [
    "次に、必要な割当量を求めることにする。"
   ]
  },
  {
   "cell_type": "code",
   "execution_count": 60,
   "metadata": {},
   "outputs": [
    {
     "name": "stdout",
     "output_type": "stream",
     "text": [
      "Had 99 quota\n",
      "Bucket(quota=1)\n"
     ]
    }
   ],
   "source": [
    "# Example 5\n",
    "if deduct(bucket, 99):\n",
    "    print('Had 99 quota')\n",
    "else:\n",
    "    print('Not enough for 99 quota')\n",
    "print(bucket)"
   ]
  },
  {
   "attachments": {},
   "cell_type": "markdown",
   "metadata": {},
   "source": [
    "最終的には、バケツの中にある水よりも多くの割当量を引き出そうとして、そこから進めなくなる。この場合、バケツの割当量は変更させない。"
   ]
  },
  {
   "cell_type": "code",
   "execution_count": 61,
   "metadata": {},
   "outputs": [
    {
     "name": "stdout",
     "output_type": "stream",
     "text": [
      "Not enough for 3 quota\n",
      "Bucket(quota=1)\n"
     ]
    }
   ],
   "source": [
    "# Example 6\n",
    "if deduct(bucket, 3):\n",
    "    print('Had 3 quota')\n",
    "else:\n",
    "    print('Not enough for 3 quota')\n",
    "print(bucket)"
   ]
  },
  {
   "attachments": {},
   "cell_type": "markdown",
   "metadata": {},
   "source": [
    "この実装の問題点は、割当量の初期値がわからないことである。割当量は時間とともに引き去られ、やがてゼロになる。その時点では、`deduct` は常に `False` を返すだろう。そうなったとき、 `deduct` の呼び出し元が割り当てられないのは、`Bucket` が割当量を引き出されたためなのか、それとも、`Bucket` にはそもそも最初から割当量がなかったのかを知ることは有用だろう。\n",
    "\n",
    "この問題を解消するために、そのピリオドに与えた `max_quota` と使われた `quota_consumed` をクラスで記録しておくようにする。\n"
   ]
  },
  {
   "cell_type": "code",
   "execution_count": 62,
   "metadata": {},
   "outputs": [],
   "source": [
    "# Example 7\n",
    "class NewBucket:\n",
    "    def __init__(self, period):\n",
    "        self.period_delta = timedelta(seconds=period)\n",
    "        self.reset_time = datetime.now()\n",
    "        self.max_quota = 0\n",
    "        self.quota_consumed = 0\n",
    "\n",
    "    def __repr__(self):\n",
    "        return (f'NewBucket(max_quota={self.max_quota}, '\n",
    "                f'quota_consumed={self.quota_consumed})')\n",
    "# -- Example 8 --\n",
    "    @property\n",
    "    def quota(self):\n",
    "        return self.max_quota - self.quota_consumed\n",
    "\n",
    "# -- Example 9 --\n",
    "    @quota.setter\n",
    "    def quota(self, amount):\n",
    "        delta = self.max_quota - amount\n",
    "        if amount == 0:\n",
    "            # Quota being reset for a new period\n",
    "            self.quota_consumed = 0\n",
    "            self.max_quota = 0\n",
    "        elif delta < 0:\n",
    "            # Quota being filled during the period\n",
    "            self.max_quota = amount + self.quota_consumed\n",
    "        else:\n",
    "            # Quota being consumed during the period\n",
    "            self.quota_consumed = delta"
   ]
  },
  {
   "attachments": {},
   "cell_type": "markdown",
   "metadata": {},
   "source": [
    "元の `Bucket` クラスの前のインタフェースに合わせるため、`@property` メソッドを用いて、現在の割当量をその場で計算させる（上コード Example 8）"
   ]
  },
  {
   "attachments": {},
   "cell_type": "markdown",
   "metadata": {},
   "source": [
    "`quota` 属性への代入では、`fill` と `deduct` で使われているクラスの現在のインタフェースに合致するように特別な処理を行う（上コード Example 9）"
   ]
  },
  {
   "attachments": {},
   "cell_type": "markdown",
   "metadata": {},
   "source": [
    "上記のデモ用のコードを再度実行しても同じ結果となる。"
   ]
  },
  {
   "cell_type": "code",
   "execution_count": 63,
   "metadata": {},
   "outputs": [
    {
     "name": "stdout",
     "output_type": "stream",
     "text": [
      "Initial NewBucket(max_quota=0, quota_consumed=0)\n",
      "Filled NewBucket(max_quota=100, quota_consumed=0)\n",
      "Had 99 quota\n",
      "Now NewBucket(max_quota=100, quota_consumed=99)\n",
      "Not enough for 3 quota\n",
      "Still NewBucket(max_quota=100, quota_consumed=99)\n"
     ]
    }
   ],
   "source": [
    "# Example 10\n",
    "bucket = NewBucket(60)\n",
    "print('Initial', bucket)\n",
    "fill(bucket, 100)\n",
    "print('Filled', bucket)\n",
    "\n",
    "if deduct(bucket, 99):\n",
    "    print('Had 99 quota')\n",
    "else:\n",
    "    print('Not enough for 99 quota')\n",
    "\n",
    "print('Now', bucket)\n",
    "\n",
    "if deduct(bucket, 3):\n",
    "    print('Had 3 quota')\n",
    "else:\n",
    "    print('Not enough for 3 quota')\n",
    "\n",
    "print('Still', bucket)"
   ]
  },
  {
   "attachments": {},
   "cell_type": "markdown",
   "metadata": {},
   "source": [
    "一番良いところは、`Bucket.quota` を用いたコードを変更する必要も、クラスが変更されたことを知る必要もないことである。`Bucket` の新しい使い方では、`max_quota` や `quota_consumed` に直接アクセスしている。\n",
    "\n",
    "`@property` の特に良い点は、時間をかけてより良いデータモデルへと逐次的に進めていけることである。この `Bucket` の例を読むと、「`fill` と `deduct` をそもそもインスタンスメソッドで実装すべきだった」と思ったかもしれない。 それはおそらく正しい（「項目37 組み込み型の深い入れ子にはせずクラスを作成する」参照）。しかし、実際の現場では、オブジェクトが適切ではないインタフェースで定義されていたり、ダメなデータコンテナとして振る舞っているところから始まる場合が多い。このようなことは、コードが時間とともに増大し、スコープが広がり、誰も長期にわたっての健全さを考慮せず複数のプログラマが関わるような場合に起こり得る。\n",
    "\n",
    "`@property` は、実世界のコードで遭遇する問題を処理するのを助けるツールである。ただし、使いすぎないように気を付けるべきではある。繰り返し `@property` メソッドを拡張する羽目になったら、そのコードのひどい設計を何とか修正して使い続けるのはやめて、クラスをリファクタリングする時期であろう。\n"
   ]
  },
  {
   "attachments": {},
   "cell_type": "markdown",
   "metadata": {},
   "source": [
    "### 覚えておくこと"
   ]
  },
  {
   "attachments": {},
   "cell_type": "markdown",
   "metadata": {},
   "source": [
    "- `@property` を使って既存のインスタンス属性に新たな機能を追加する。\n",
    "- `@property` を使って、より良いデータモデルへと逐次改善する。\n",
    "- `@property` をあまりにも使いすぎると感じるようになったら、そのクラスとすべての呼び出し元をリファクタリングすることを考える。"
   ]
  }
 ],
 "metadata": {
  "kernelspec": {
   "display_name": "develop",
   "language": "python",
   "name": "python3"
  },
  "language_info": {
   "codemirror_mode": {
    "name": "ipython",
    "version": 3
   },
   "file_extension": ".py",
   "mimetype": "text/x-python",
   "name": "python",
   "nbconvert_exporter": "python",
   "pygments_lexer": "ipython3",
   "version": "3.10.4"
  },
  "orig_nbformat": 4,
  "vscode": {
   "interpreter": {
    "hash": "e44055ce3e952bd426b5fb3f107ba07a260ee6f4ce0ddea34f4e7c6cc81b9081"
   }
  }
 },
 "nbformat": 4,
 "nbformat_minor": 2
}
