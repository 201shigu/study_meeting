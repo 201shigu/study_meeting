{
 "cells": [
  {
   "attachments": {},
   "cell_type": "markdown",
   "metadata": {},
   "source": [
    "# 項目20～22"
   ]
  },
  {
   "cell_type": "code",
   "execution_count": 31,
   "metadata": {},
   "outputs": [],
   "source": [
    "import logging"
   ]
  },
  {
   "attachments": {},
   "cell_type": "markdown",
   "metadata": {},
   "source": [
    "## 項目20 Noneを返すのではなく例外を送出する"
   ]
  },
  {
   "attachments": {},
   "cell_type": "markdown",
   "metadata": {},
   "source": [
    "ユーティリティ関数を書く際、Pythonプログラマは`None`という戻り値に特別な意味を持たせる場合がある。\n",
    "\n",
    "次の例のように、除算をするヘルパー関数を考える。ゼロで割る場合は結果が未定義となるため、`None`を返すのが関数として自然に思える。"
   ]
  },
  {
   "cell_type": "code",
   "execution_count": 32,
   "metadata": {},
   "outputs": [],
   "source": [
    "# Example 1\n",
    "def careful_divide(a, b):\n",
    "    try:\n",
    "        return a / b\n",
    "    except ZeroDivisionError:\n",
    "        return None\n",
    "\n",
    "assert careful_divide(4, 2) == 2\n",
    "assert careful_divide(0, 1) == 0\n",
    "assert careful_divide(3, 6) == 0.5\n",
    "assert careful_divide(1, 0) == None\n"
   ]
  },
  {
   "attachments": {},
   "cell_type": "markdown",
   "metadata": {},
   "source": [
    "この関数を使って、次のように戻り値が`None`でなければ戻り値を表示し、戻り値が`None`の場合は「入力が正しくない」と表示させるコードは例えば次のように書くことができる。"
   ]
  },
  {
   "cell_type": "code",
   "execution_count": 33,
   "metadata": {},
   "outputs": [
    {
     "name": "stdout",
     "output_type": "stream",
     "text": [
      "Invalid inputs\n"
     ]
    }
   ],
   "source": [
    "# Example 2\n",
    "x, y = 1, 0\n",
    "result = careful_divide(x, y)\n",
    "if result is None:\n",
    "    print('Invalid inputs')\n",
    "else:\n",
    "    print('Result is %.1f' % result)\n"
   ]
  },
  {
   "attachments": {},
   "cell_type": "markdown",
   "metadata": {},
   "source": [
    "ここで、`if`文を次のように`if not result`と書こうと試みたとする。\n",
    "\n",
    "先ほど同様に分母がゼロのケースではExample 2と同様の挙動を取る。\n",
    "\n",
    "しかし次のように分子がゼロで、つまり戻り値`result = 0`の場合、本来は除算の結果としてゼロを表示すべきなのに、`not result`は`True`となってしまい、分母がゼロであったときと同じ挙動を取ってしまう。"
   ]
  },
  {
   "cell_type": "code",
   "execution_count": 34,
   "metadata": {},
   "outputs": [
    {
     "name": "stdout",
     "output_type": "stream",
     "text": [
      "Invalid inputs\n"
     ]
    }
   ],
   "source": [
    "# Example 3\n",
    "x, y = 0, 5\n",
    "result = careful_divide(x, y)\n",
    "if not result:\n",
    "    print('Invalid inputs')  # This runs! But shouldn't\n",
    "else:\n",
    "    assert False"
   ]
  },
  {
   "attachments": {},
   "cell_type": "markdown",
   "metadata": {},
   "source": [
    "このように`None`に「分母がゼロ」という意味を持たせて`False`と同じように扱ってしまい、意図しないエラーを起こしてしまうのはPythonではよくあることである。\n",
    "\n",
    "同様にPythonでは、次のような値がBooleanとしてFalseと見なされる：\n",
    "\n",
    "- None\n",
    "- 数値の0（0, 0.0, Decimal(0)など）\n",
    "- 空のシーケンス（空の文字列、空のリスト、空のタプルなど）\n",
    "- 空のマップ（空の辞書など）\n",
    "- 零要素のコレクション（set()など）\n",
    "\n",
    "上の`careful_divide`のように関数から`None`等を返すことはエラーに繋がりやすい。このエラーを減らす2つの方法を紹介する。"
   ]
  },
  {
   "attachments": {},
   "cell_type": "markdown",
   "metadata": {},
   "source": [
    "### 戻り値を2値のタプルにする"
   ]
  },
  {
   "attachments": {},
   "cell_type": "markdown",
   "metadata": {},
   "source": [
    "一つ目の方法は「戻り値を2値のタプルにする」という方法である（背景については「項目19 複数の戻り値では、4個以上の変数なら決してアンパックしない」参照）。\n",
    "\n",
    "タプルの第1項に除算が成功したか失敗したかを`True/False`で格納し、第2項に計算結果を格納する。"
   ]
  },
  {
   "cell_type": "code",
   "execution_count": 35,
   "metadata": {},
   "outputs": [],
   "source": [
    "# Example 4\n",
    "def careful_divide(a, b):\n",
    "    try:\n",
    "        return True, a / b\n",
    "    except ZeroDivisionError:\n",
    "        return False, None\n",
    "\n",
    "assert careful_divide(4, 2) == (True, 2)\n",
    "assert careful_divide(0, 1) == (True, 0)\n",
    "assert careful_divide(3, 6) == (True, 0.5)\n",
    "assert careful_divide(1, 0) == (False, None)"
   ]
  },
  {
   "attachments": {},
   "cell_type": "markdown",
   "metadata": {},
   "source": [
    "この関数の呼び出し元では、戻り値のタプルをアンパックし、第1項で除算が成功したかを判定すればよい。"
   ]
  },
  {
   "cell_type": "code",
   "execution_count": 36,
   "metadata": {},
   "outputs": [
    {
     "name": "stdout",
     "output_type": "stream",
     "text": [
      "Invalid inputs\n"
     ]
    }
   ],
   "source": [
    "# Example 5\n",
    "x, y = 5, 0\n",
    "success, result = careful_divide(x, y)\n",
    "if not success:\n",
    "    print('Invalid inputs')"
   ]
  },
  {
   "attachments": {},
   "cell_type": "markdown",
   "metadata": {},
   "source": [
    "しかしこれは書き手が戻り値について調べる手間が必要である。\n",
    "\n",
    "もし書き手がこの関数の仕様を知らず、計算結果のみを用いようと次のコードを書いてしまった場合、先ほどと同じ問題が起きてしまう。\n",
    "\n",
    "特に、Pythonでは`_`を用いることでアンパックした要素の一部を簡単に無視できてしまうため、次のように書くことでExample 3と全く同じコードになってしまう。"
   ]
  },
  {
   "cell_type": "code",
   "execution_count": 37,
   "metadata": {},
   "outputs": [
    {
     "name": "stdout",
     "output_type": "stream",
     "text": [
      "Invalid inputs\n"
     ]
    }
   ],
   "source": [
    "# Example 6\n",
    "x, y = 5, 0\n",
    "_, result = careful_divide(x, y)\n",
    "if not result:\n",
    "    print('Invalid inputs')"
   ]
  },
  {
   "attachments": {},
   "cell_type": "markdown",
   "metadata": {},
   "source": [
    "### 特別な場合に`None`を返さない方法"
   ]
  },
  {
   "attachments": {},
   "cell_type": "markdown",
   "metadata": {},
   "source": [
    "上記のコードでは特別な場合（`ZeroDivisionError`の際）に`None`を返しており、それが原因で予期しないエラーが起こっていた。\n",
    "\n",
    "そこで、`None`を返すのではなく、例外を呼び出し元に送出し、その処理を行わせるという方法を取る。\n",
    "\n",
    "次のコードでは`ZeroDivisionError`を`ValueError`に変換し、呼び出し元に入力値が正しくないことを示している（「項目87 APIからの呼び出し元を分離するために、ルート例外を定義する」参照）。"
   ]
  },
  {
   "cell_type": "code",
   "execution_count": 38,
   "metadata": {},
   "outputs": [],
   "source": [
    "# Example 7\n",
    "def careful_divide(a, b):\n",
    "    try:\n",
    "        return a / b\n",
    "    except ZeroDivisionError as e:\n",
    "        raise ValueError('Invalid inputs')"
   ]
  },
  {
   "attachments": {},
   "cell_type": "markdown",
   "metadata": {},
   "source": [
    "呼び出し元では、先ほどのコードのように関数の戻り値について調べる必要はなくなった。\n",
    "\n",
    "代わりに戻り値は常に正しいと仮定し、次のコードのように`try`の`else`ブロックで結果を出力する方法を取る（詳細は「項目65 `try`/`except`/`else`/`finally`の各ブロックを活用する」参照）。"
   ]
  },
  {
   "cell_type": "code",
   "execution_count": 39,
   "metadata": {},
   "outputs": [
    {
     "name": "stdout",
     "output_type": "stream",
     "text": [
      "Result is 2.5\n"
     ]
    }
   ],
   "source": [
    "# Example 8\n",
    "x, y = 5, 2\n",
    "try:\n",
    "    result = careful_divide(x, y)\n",
    "except ValueError:\n",
    "    print('Invalid inputs')\n",
    "else:\n",
    "    print('Result is %.1f' % result)"
   ]
  },
  {
   "cell_type": "code",
   "execution_count": 40,
   "metadata": {},
   "outputs": [
    {
     "name": "stdout",
     "output_type": "stream",
     "text": [
      "Invalid inputs\n"
     ]
    }
   ],
   "source": [
    "# Example 8.1\n",
    "x, y = 5, 0\n",
    "try:\n",
    "    result = careful_divide(x, y)\n",
    "except ValueError:\n",
    "    print('Invalid inputs')\n",
    "else:\n",
    "    print('Result is %.1f' % result)"
   ]
  },
  {
   "attachments": {},
   "cell_type": "markdown",
   "metadata": {},
   "source": [
    "さらに、次のコードのように型ヒントを用いた実装に拡張することができる。\n",
    "\n",
    "型ヒントにより「戻り値は`float`で、`None`には絶対ならない」と指定できる（「項目90　バグを回避するために静的解析を検討する」参照）。\n",
    "\n",
    "しかし、Pythonでは、\"例外\"が関数のインターフェースの一部であること（チェック例外）を示す方法を意図的に提供していない。\n",
    "\n",
    "その代わりに、例外を送出する振る舞いをドキュメント化することにより、関数を呼び出す人はそのドキュメントを読むことで、あらかじめ例外を知るようにしておくことができる（「項目84 すべての関数、クラス、モジュールについて`docstring`を書く」参照）。\n",
    "\n",
    "型ヒントと`docstring`を用いることで"
   ]
  },
  {
   "cell_type": "code",
   "execution_count": 41,
   "metadata": {},
   "outputs": [],
   "source": [
    "# Example 9\n",
    "def careful_divide(a: float, b: float) -> float:\n",
    "    \"\"\"Divides a by b.\n",
    "\n",
    "    Raises:\n",
    "        ValueError: When the inputs cannot be divided.\n",
    "    \"\"\"\n",
    "    try:\n",
    "        return a / b\n",
    "    except ZeroDivisionError as e:\n",
    "        raise ValueError('Invalid inputs')\n",
    "\n",
    "try:\n",
    "    result = careful_divide(1, 0)\n",
    "    assert False\n",
    "except ValueError:\n",
    "    pass  # Expected\n",
    "\n",
    "assert careful_divide(1, 5) == 0.2"
   ]
  },
  {
   "cell_type": "code",
   "execution_count": 42,
   "metadata": {},
   "outputs": [
    {
     "name": "stdout",
     "output_type": "stream",
     "text": [
      "Divides a by b.\n",
      "\n",
      "    Raises:\n",
      "        ValueError: When the inputs cannot be divided.\n",
      "    \n"
     ]
    }
   ],
   "source": [
    "# docstringはprint(関数.__doc__)で表示できる\n",
    "print(careful_divide.__doc__)"
   ]
  },
  {
   "attachments": {},
   "cell_type": "markdown",
   "metadata": {},
   "source": [
    "これにより入力・出力・例外の振る舞いが明確になり、呼び出し元が間違える回数を減らすことができる。"
   ]
  },
  {
   "attachments": {},
   "cell_type": "markdown",
   "metadata": {},
   "source": [
    "## 覚えておくこと"
   ]
  },
  {
   "attachments": {},
   "cell_type": "markdown",
   "metadata": {},
   "source": [
    "- 特別な場合に`None`等を返す関数は、条件式においてゼロや空シーケンス等と等しく`False`と評価されるため、エラーを引き起こしやすい\n",
    "- `None`を返す代わりに、例外を送出して特別な条件を示すようにする。その処理を文書化しておくことで、呼び出し元のコードで適切に例外処理されることが期待できる\n",
    "- 型ヒントを用いて、関数が特別な場合にも絶対に`None`を返さないことを明示できる"
   ]
  },
  {
   "attachments": {},
   "cell_type": "markdown",
   "metadata": {},
   "source": [
    "# 項目21 クロージャが変数スコープとどう関わるか把握しておく"
   ]
  },
  {
   "attachments": {},
   "cell_type": "markdown",
   "metadata": {},
   "source": [
    "## クロージャ"
   ]
  },
  {
   "cell_type": "code",
   "execution_count": 43,
   "metadata": {},
   "outputs": [
    {
     "name": "stdout",
     "output_type": "stream",
     "text": [
      "7\n"
     ]
    }
   ],
   "source": [
    "# 例1\n",
    "def func():\n",
    "    x = 3\n",
    "    def add3(y):\n",
    "        return y+x\n",
    "    return add3\n",
    "\n",
    "f = func()\n",
    "print(f(4)) # 7"
   ]
  },
  {
   "attachments": {},
   "cell_type": "markdown",
   "metadata": {},
   "source": [
    "`func` 関数は `add3` 関数を定義してそれを返す。\n",
    "\n",
    "`add3` 関数は外側で定義された `x` を関数内で使用している。\n",
    "\n",
    "`add3` 関数をクロージャ、`func` 関数をエンクロージャという。\n",
    "\n",
    "`x` は本来であれば `func` 数を抜けたところで消滅する`func` 関数におけるローカル変数だが、クロージャを生成したことで `x` が `add3` 関数内に記憶されて `f(4)` で呼び出した時に `x` が加算される。"
   ]
  },
  {
   "attachments": {},
   "cell_type": "markdown",
   "metadata": {},
   "source": [
    "## 本書部分"
   ]
  },
  {
   "attachments": {},
   "cell_type": "markdown",
   "metadata": {},
   "source": [
    "「数値のリストを、部の数が優先されるようにソートしたい」といった状況を考える。\n",
    "\n",
    "1つ目の方法としては、ヘルパー関数を`key`引数として、リストの`sort`メソッドに渡すことである（詳細は「項目14 `key`引数を使い複雑な基準でソートする」参照）。\n",
    "\n",
    "ヘルパー関数の戻り値が、リスト内の要素をソートするための値として使われる。\n",
    "\n",
    "ヘルパーは、与えられた要素が重要なグループかどうか調べ、それに従いソートキーを変更する。"
   ]
  },
  {
   "cell_type": "code",
   "execution_count": 44,
   "metadata": {},
   "outputs": [],
   "source": [
    "# Example 1\n",
    "def sort_priority(values, group):\n",
    "    def helper(x):\n",
    "        if x in group:\n",
    "            return (0, x)\n",
    "        return (1, x)\n",
    "    values.sort(key=helper)"
   ]
  },
  {
   "attachments": {},
   "cell_type": "markdown",
   "metadata": {},
   "source": [
    "関数`helper`をクロージャ、関数`sort_priority`をエンクロージャに相当する。\n",
    "\n",
    "次のように`group`内にある数が、それ以外の数に対し優先されソートされることが確認できる。"
   ]
  },
  {
   "cell_type": "code",
   "execution_count": 45,
   "metadata": {},
   "outputs": [
    {
     "name": "stdout",
     "output_type": "stream",
     "text": [
      "[2, 3, 5, 7, 1, 4, 6, 8]\n"
     ]
    }
   ],
   "source": [
    "# Example 2\n",
    "numbers = [8, 3, 1, 2, 5, 4, 7, 6]\n",
    "group = {3, 5, 7, 2}\n",
    "sort_priority(numbers, group)\n",
    "print(numbers)"
   ]
  },
  {
   "attachments": {},
   "cell_type": "markdown",
   "metadata": {},
   "source": [
    "この関数が期待通りに働くのは、\n",
    "- Pythonがクロージャをサポートしている。クロージャとは定義されたスコープの変数を参照する関数である。これにより、`helper`関数が`sort_priority`の`group`引数にアクセスできる。\n",
    "- Pythonでは関数がファーストクラスオブジェクトである。つまり、直接参照でき、変数に代入したり、他の関数の引数として渡したり、式の中や`if`文の中で比較することができる。これにより、`sort`メソッドがクロージャ関数を`key`引数として受け付ける。\n",
    "- Pythonでは（タプルを含めた）シーケンスの比較に特別な規則を持つ。最初にインデックス0の要素を比較し、等しければ次にインデックス1の要素を比較する。それらも等しければ、その次はインデックス2の要素となる。これにより、`helper`クロージャの戻り値がソート順で2つの異なるグループになるようにできる。"
   ]
  },
  {
   "attachments": {},
   "cell_type": "markdown",
   "metadata": {},
   "source": [
    "上の関数が優先度の高い要素がそもそもリストにあるか否かを返すようにできれば、ユーザーインターフェースコードがそれに応じて動けるのでより改善する。\n",
    "\n",
    "そのような振る舞いを追加するのは簡単に思える。\n",
    "\n",
    "それぞれの数に対してどのグループか決定するクロージャ関数は既にあるので、クロージャを用いて、高い優先度の要素があればフラグを立てれば実装できるように思える。\n",
    "\n",
    "この方法を次のように試してみる。"
   ]
  },
  {
   "cell_type": "code",
   "execution_count": 46,
   "metadata": {},
   "outputs": [],
   "source": [
    "# Example 3\n",
    "def sort_priority2(numbers, group):\n",
    "    found = False\n",
    "    def helper(x):\n",
    "        if x in group:\n",
    "            found = True  # Seems simple\n",
    "            return (0, x)\n",
    "        return (1, x)\n",
    "    numbers.sort(key=helper)\n",
    "    return found"
   ]
  },
  {
   "cell_type": "code",
   "execution_count": 47,
   "metadata": {},
   "outputs": [
    {
     "name": "stdout",
     "output_type": "stream",
     "text": [
      "Found: False\n",
      "[2, 3, 5, 7, 1, 4, 6, 8]\n"
     ]
    }
   ],
   "source": [
    "# Example 4\n",
    "numbers = [8, 3, 1, 2, 5, 4, 7, 6]\n",
    "found = sort_priority2(numbers, group)\n",
    "print('Found:', found)\n",
    "print(numbers)"
   ]
  },
  {
   "attachments": {},
   "cell_type": "markdown",
   "metadata": {},
   "source": [
    "ソートした結果は正しいが、`group`の要素があるのに`found`は`False`となってしまっている。\n",
    "\n",
    "式の中の変数を参照するとき、Pythonインタプリタはスコープ内を横断して、次の順序で参照を解決する。\n",
    "\n",
    "- 現在の関数のスコープ\n",
    "- （他の関数の中にある場合のように）外側のスコープ\n",
    "- コードを含むモジュールのスコープ（グローバルスコープとも呼ばれる）\n",
    "- （`len`や`str`のような関数を含む）組み込みスコープ\n",
    "\n",
    "これらのいずれにも参照名の定義済み変数がないと、`NameError`例外を送出する。"
   ]
  },
  {
   "cell_type": "code",
   "execution_count": 48,
   "metadata": {},
   "outputs": [
    {
     "name": "stderr",
     "output_type": "stream",
     "text": [
      "ERROR:root:Expected\n",
      "Traceback (most recent call last):\n",
      "  File \"C:\\Users\\su10_\\AppData\\Local\\Temp\\ipykernel_11432\\3528649612.py\", line 3, in <cell line: 2>\n",
      "    foo = does_not_exist * 5\n",
      "NameError: name 'does_not_exist' is not defined\n"
     ]
    }
   ],
   "source": [
    "# Example 5\n",
    "try:\n",
    "    foo = does_not_exist * 5\n",
    "except:\n",
    "    logging.exception('Expected')\n",
    "else:\n",
    "    assert False"
   ]
  },
  {
   "attachments": {},
   "cell_type": "markdown",
   "metadata": {},
   "source": [
    "変数への値代入は、これとは動きが異なる。\n",
    "\n",
    "①変数が現在のスコープですでに定義されていると、その変数は新たな値をとる\n",
    "\n",
    "②変数が現在のスコープに存在しないと、Pythonは代入を変数定義のように扱う。新たに定義された変数のスコープは代入を含む関数である。\n",
    "\n",
    "この代入での振る舞いが、`sort_priority2`関数の戻り値がおかしくなってしまう原因である。\n",
    "\n",
    "変数`found`は`helper`クロージャの中で`True`と代入されている。\n",
    "\n",
    "この時\"`helper`クロージャでの代入\"は、`helper`内の新たな変数定義として扱われ（②）、`sort_priority2`内の代入（①）としては扱われていなかったのである。"
   ]
  },
  {
   "cell_type": "code",
   "execution_count": 49,
   "metadata": {},
   "outputs": [],
   "source": [
    "# Example 6\n",
    "def sort_priority2(numbers, group):\n",
    "    found = False         # Scope: 'sort_priority2'\n",
    "    def helper(x):\n",
    "        if x in group:\n",
    "            found = True  # Scope: 'helper' -- Bad!\n",
    "            return (0, x)\n",
    "        return (1, x)\n",
    "    numbers.sort(key=helper)\n",
    "    return found"
   ]
  },
  {
   "attachments": {},
   "cell_type": "markdown",
   "metadata": {},
   "source": [
    "この手の問題は、Pythonの初学者を混乱させるため、「スコープ処理バグ」と呼ばれることがある。\n",
    "\n",
    "しかし、これはバグではなく、仕様上の意図された結果である。\n",
    "\n",
    "逆に、この振る舞いのおかげで、関数のローカル変数はそれを含んだモジュールを汚染せずに済むのである。\n",
    "\n",
    "そうでなければ、関数内のすべての代入がグローバルモジュールスコープと同義となり、むしろバグの原因となりうるだろう。"
   ]
  },
  {
   "attachments": {},
   "cell_type": "markdown",
   "metadata": {},
   "source": [
    "### `nonlocal`構文"
   ]
  },
  {
   "attachments": {},
   "cell_type": "markdown",
   "metadata": {},
   "source": [
    "Pythonでは、データをクロージャの外に出す特別な構文がある。\n",
    "\n",
    "`nonlocal`文が、指定した変数名の代入に際してスコープ横断をすべきことを示す。\n",
    "\n",
    "唯一の制限としては、`nonlocal`が（グローバルを汚染しないように）モジュールレベルのスコープまでは行かないことである。\n",
    "\n",
    "`nonlocal`を用いて次のように同じ関数を定義する。"
   ]
  },
  {
   "cell_type": "code",
   "execution_count": 50,
   "metadata": {},
   "outputs": [],
   "source": [
    "# Example 7\n",
    "def sort_priority3(numbers, group):\n",
    "    found = False\n",
    "    def helper(x):\n",
    "        nonlocal found  # Added\n",
    "        if x in group:\n",
    "            found = True\n",
    "            return (0, x)\n",
    "        return (1, x)\n",
    "    numbers.sort(key=helper)\n",
    "    return found"
   ]
  },
  {
   "cell_type": "code",
   "execution_count": 51,
   "metadata": {},
   "outputs": [],
   "source": [
    "# Example 8\n",
    "numbers = [8, 3, 1, 2, 5, 4, 7, 6]\n",
    "found = sort_priority3(numbers, group)\n",
    "assert found\n",
    "assert numbers == [2, 3, 5, 7, 1, 4, 6, 8]"
   ]
  },
  {
   "attachments": {},
   "cell_type": "markdown",
   "metadata": {},
   "source": [
    "データが代入されるときに、それがクロージャの外のスコープにあることを`nonlocal`文によって明示する。\n",
    "\n",
    "これは、変数の代入が直接モジュールのスコープになる`global`文と補完関係にある。"
   ]
  },
  {
   "attachments": {},
   "cell_type": "markdown",
   "metadata": {},
   "source": [
    "しかし、グローバル変数のアンチパターンと同様に、`nonlocal`を単純な関数以外には使わないほうが好ましい。\n",
    "\n",
    "`nonlocal`の抱える副作用は見つけることが困難だからである。\n",
    "\n",
    "大きな関数で、`nonlocal`文と関連する変数への代入が離れていると、特に理解が困難になる。"
   ]
  },
  {
   "attachments": {},
   "cell_type": "markdown",
   "metadata": {},
   "source": [
    "### ヘルパー関数でラップ"
   ]
  },
  {
   "attachments": {},
   "cell_type": "markdown",
   "metadata": {},
   "source": [
    "`nonlocal`の使い方が複雑になってきたら、状態をヘルパークラスでラップするとよい。\n",
    "\n",
    "次のように、`nonlocal`を使う方式と同じ結果を出すクラスを定義する。\n",
    "\n",
    "少し長くなっているが、読みやすくなっている（特殊メソッド`__call__`の詳細は「項目38 単純なインターフェースにはクラスの代わりに関数を使う」参照）。"
   ]
  },
  {
   "cell_type": "code",
   "execution_count": 52,
   "metadata": {},
   "outputs": [],
   "source": [
    "# Example 9\n",
    "numbers = [8, 3, 1, 2, 5, 4, 7, 6]\n",
    "group = {3, 5, 7, 2}\n",
    "class Sorter:\n",
    "    def __init__(self, group):\n",
    "        self.group = group\n",
    "        self.found = False\n",
    "\n",
    "    def __call__(self, x):\n",
    "        if x in self.group:\n",
    "            self.found = True\n",
    "            return (0, x)\n",
    "        return (1, x)\n",
    "\n",
    "sorter = Sorter(group)\n",
    "numbers.sort(key=sorter)\n",
    "assert sorter.found is True # Trueであることが確認できる\n",
    "assert numbers == [2, 3, 5, 7, 1, 4, 6, 8]"
   ]
  },
  {
   "attachments": {},
   "cell_type": "markdown",
   "metadata": {},
   "source": [
    "## 覚えておくこと"
   ]
  },
  {
   "attachments": {},
   "cell_type": "markdown",
   "metadata": {},
   "source": [
    "- クロージャ関数は定義されたスコープのどれからでも変数を参照できる\n",
    "- デフォルトではクロージャ内での変数への代入は外部のスコープには影響しない\n",
    "- `nonlocal`文を用いてクロージャが外のスコープにある変数を修正できる\n",
    "- `nonlocal`文を単純な関数でのみ使うようにする"
   ]
  },
  {
   "attachments": {},
   "cell_type": "markdown",
   "metadata": {},
   "source": [
    "# 項目22 可変長位置引数を使って、見た目をすっきりさせる"
   ]
  },
  {
   "attachments": {},
   "cell_type": "markdown",
   "metadata": {},
   "source": [
    "可変長位置引数（`varargs`または`*args`という記法から「スター引数(star args)」とも呼ぶ）を使うと、関数呼び出しがより明確で見た目がすっきりする。\n",
    "\n",
    "例えば、デバッグ情報のログを取ることを考える。\n",
    "\n",
    "固定個数の引数だと、次のようにメッセージと値のリストを取る関数が必要である。"
   ]
  },
  {
   "cell_type": "code",
   "execution_count": 53,
   "metadata": {},
   "outputs": [
    {
     "name": "stdout",
     "output_type": "stream",
     "text": [
      "My numbers are: 1, 2\n",
      "Hi there\n"
     ]
    }
   ],
   "source": [
    "# Example 1\n",
    "def log(message, values):\n",
    "    if not values:\n",
    "        print(message)\n",
    "    else:\n",
    "        values_str = ', '.join(str(x) for x in values)\n",
    "        print(f'{message}: {values_str}')\n",
    "\n",
    "log('My numbers are', [1, 2])\n",
    "log('Hi there', [])"
   ]
  },
  {
   "attachments": {},
   "cell_type": "markdown",
   "metadata": {},
   "source": [
    "値がないときに第二引数に空のリストを`log`に渡さないといけないのが面倒ですっきりしていない。\n",
    "\n",
    "Pythonでは、最後の位置引数の名前に`*`をつけることで、このような渡したくない空の要素を省くように実装することができる。\n",
    "\n",
    "今実装ではログ用メッセージの第一引数は不可欠だが、次の位置引数はオプションで何個でも構わない。\n",
    "\n",
    "次のように関数本体は全く同じで、引数の部分だけ変えて実装できる。"
   ]
  },
  {
   "cell_type": "code",
   "execution_count": 54,
   "metadata": {},
   "outputs": [
    {
     "name": "stdout",
     "output_type": "stream",
     "text": [
      "My numbers are: 1, 2\n",
      "Hi there\n"
     ]
    }
   ],
   "source": [
    "# Example 2\n",
    "def log(message, *values):  # The only difference\n",
    "    if not values:\n",
    "        print(message)\n",
    "    else:\n",
    "        values_str = ', '.join(str(x) for x in values)\n",
    "        print(f'{message}: {values_str}')\n",
    "\n",
    "log('My numbers are', 1, 2)\n",
    "log('Hi there')  # Much better"
   ]
  },
  {
   "attachments": {},
   "cell_type": "markdown",
   "metadata": {},
   "source": [
    "この構文は「項目13　スライスではなくcatch-allアンパックを使う」で出てきたアンパック代入文で使うアスタリスク付きの式によく似ている。"
   ]
  },
  {
   "attachments": {},
   "cell_type": "markdown",
   "metadata": {},
   "source": [
    "（`list`などの）シーケンスで`log`のような可変個引数関数を呼び出したいなら、*演算子を使って呼び出すことができる。\n",
    "\n",
    "Pythonにシーケンスの要素を位置引数に渡すよう指示すればよい。"
   ]
  },
  {
   "cell_type": "code",
   "execution_count": 55,
   "metadata": {},
   "outputs": [
    {
     "name": "stdout",
     "output_type": "stream",
     "text": [
      "Favorite colors: 7, 33, 99\n"
     ]
    }
   ],
   "source": [
    "# Example 3\n",
    "favorites = [7, 33, 99]\n",
    "log('Favorite colors', *favorites)"
   ]
  },
  {
   "attachments": {},
   "cell_type": "markdown",
   "metadata": {},
   "source": [
    "※ 上の`log`では実際には*ではなくリストそのものを渡しても実行結果は変わらない\n",
    "\n",
    "※ 下の例のようにそのものを取り出してみると挙動の違いに気づく。そのまま`list`で渡すと期待した挙動とならないが、`*list`の形で渡すことで各要素を要素に持つタプルの形式で渡す挙動を取る（後述）"
   ]
  },
  {
   "cell_type": "code",
   "execution_count": 56,
   "metadata": {},
   "outputs": [
    {
     "name": "stdout",
     "output_type": "stream",
     "text": [
      "Favorite colors: [7, 33, 99]\n"
     ]
    }
   ],
   "source": [
    "log('Favorite colors', favorites)"
   ]
  },
  {
   "cell_type": "code",
   "execution_count": 57,
   "metadata": {},
   "outputs": [
    {
     "name": "stdout",
     "output_type": "stream",
     "text": [
      "([1, 2],)\n",
      "(1, 2)\n"
     ]
    }
   ],
   "source": [
    "def test(*args):\n",
    "    print(args)\n",
    "\n",
    "test([1,2])\n",
    "test(*[1,2])"
   ]
  },
  {
   "attachments": {},
   "cell_type": "markdown",
   "metadata": {},
   "source": [
    "可変長位置引数を使うには2つの問題が生じる。"
   ]
  },
  {
   "attachments": {},
   "cell_type": "markdown",
   "metadata": {},
   "source": [
    "### 問題点1：可変個数の引数が、関数に渡される前に常にタプルに変換される"
   ]
  },
  {
   "attachments": {},
   "cell_type": "markdown",
   "metadata": {},
   "source": [
    "問題点の一つ目は可変個数の引数が、関数に渡される前に常にタプルに変換されているということである。\n",
    "\n",
    "つまり関数の呼び出し元がジェネレータで*演算子を使っていれば、終わるまでイテレーションされてしまう（「項目30 リストを返さずにジェネレータを返すことを考える」参照）。\n",
    "\n",
    "結果のタプルにはジェネレータからのすべての値が含まれるため、メモリを大量に消費して、プログラムをクラッシュさせる危険性がある。"
   ]
  },
  {
   "cell_type": "code",
   "execution_count": 58,
   "metadata": {},
   "outputs": [
    {
     "name": "stdout",
     "output_type": "stream",
     "text": [
      "(0, 1, 2, 3, 4, 5, 6, 7, 8, 9)\n"
     ]
    }
   ],
   "source": [
    "# Example 4\n",
    "def my_generator():\n",
    "    for i in range(10):\n",
    "        yield i\n",
    "\n",
    "def my_func(*args):\n",
    "    print(args)\n",
    "\n",
    "it = my_generator()\n",
    "my_func(*it)"
   ]
  },
  {
   "attachments": {},
   "cell_type": "markdown",
   "metadata": {},
   "source": [
    "`*args`を受け入れる関数は、引数リストの入力個数が少ないことがわかっている場合が一番適している。\n",
    "\n",
    "多くのリテラルや変数名を一緒に渡す関数呼び出しが理想的である。\n",
    "\n",
    "基本的にプログラマの便宜のためであり、コードの可読性が高くなる。"
   ]
  },
  {
   "attachments": {},
   "cell_type": "markdown",
   "metadata": {},
   "source": [
    "### 問題点2：新たな位置パラメータを追加する際に発見困難なバグを生じうる"
   ]
  },
  {
   "attachments": {},
   "cell_type": "markdown",
   "metadata": {},
   "source": [
    "`*args`の第二の問題点は、すべての呼び出し元を修正せずには関数に対して新たな位置引数を追加できないことである。\n",
    "\n",
    "引数リストの前に位置引数を追加すれば、既存の呼び出し元は、更新されない限り気づかない内に壊れてしまう。"
   ]
  },
  {
   "cell_type": "code",
   "execution_count": 59,
   "metadata": {},
   "outputs": [
    {
     "name": "stdout",
     "output_type": "stream",
     "text": [
      "1 - Favorites: 7, 33\n",
      "1 - Hi there\n",
      "Favorite numbers - 7: 33\n"
     ]
    }
   ],
   "source": [
    "# Example 5\n",
    "def log(sequence, message, *values):\n",
    "    if not values:\n",
    "        print(f'{sequence} - {message}')\n",
    "    else:\n",
    "        values_str = ', '.join(str(x) for x in values)\n",
    "        print(f'{sequence} - {message}: {values_str}')\n",
    "\n",
    "log(1, 'Favorites', 7, 33)      # New with *args OK\n",
    "log(1, 'Hi there')              # New message only OK\n",
    "log('Favorite numbers', 7, 33)  # Old usage breaks"
   ]
  },
  {
   "attachments": {},
   "cell_type": "markdown",
   "metadata": {},
   "source": [
    "ここでの問題は、`log`の3番目の呼び出しで、`sequence`引数がないので7を`message`パラメータとしてしまうことである。\n",
    "\n",
    "このようなバグは、コードが何の例外も起こさず実行をしてしまうため、探し出すのが困難だという点である。\n",
    "\n",
    "このような危険性を完全になくすには、`*args`を受け入れる関数を拡張するときには、キーワード専用引数を使う（「項目25 キーワード専用引数と位置専用引数で明確さを高める」参照）ことである。\n",
    "\n",
    "より安全にするには、型ヒントを使うこと（「項目90 バグを回避するために静的解析を検討する」参照）も検討すべきである。"
   ]
  },
  {
   "attachments": {},
   "cell_type": "markdown",
   "metadata": {},
   "source": [
    "## 覚えておくこと\n",
    "- 関数は`def`文で`*args`を使うことにより、可変個数の位置引数を受け入れられる\n",
    "- `*`演算子を関数に用いて、シーケンスからの要素を位置引数として使える\n",
    "- `*`演算子をジェネレータと一緒に使うと、プログラムがメモリを使い果たしてクラッシュすることがある\n",
    "- `*args`を使う関数に新たに位置パラメータを追加すると、発見が困難なバグを生み出す危険性がある"
   ]
  }
 ],
 "metadata": {
  "kernelspec": {
   "display_name": "develop",
   "language": "python",
   "name": "python3"
  },
  "language_info": {
   "codemirror_mode": {
    "name": "ipython",
    "version": 3
   },
   "file_extension": ".py",
   "mimetype": "text/x-python",
   "name": "python",
   "nbconvert_exporter": "python",
   "pygments_lexer": "ipython3",
   "version": "3.10.4"
  },
  "orig_nbformat": 4,
  "vscode": {
   "interpreter": {
    "hash": "e44055ce3e952bd426b5fb3f107ba07a260ee6f4ce0ddea34f4e7c6cc81b9081"
   }
  }
 },
 "nbformat": 4,
 "nbformat_minor": 2
}
