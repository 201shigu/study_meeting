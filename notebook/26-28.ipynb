{
 "cells": [
  {
   "attachments": {},
   "cell_type": "markdown",
   "metadata": {},
   "source": [
    "# 項目26-28\n",
    "担当：須藤"
   ]
  },
  {
   "cell_type": "code",
   "execution_count": 32,
   "metadata": {},
   "outputs": [],
   "source": [
    "# 必要なモジュール\n",
    "import logging"
   ]
  },
  {
   "attachments": {},
   "cell_type": "markdown",
   "metadata": {},
   "source": [
    "# 項目26 functools.wrapsを使って関数デコレータを定義する"
   ]
  },
  {
   "attachments": {},
   "cell_type": "markdown",
   "metadata": {},
   "source": [
    "Python には、関数に適用できるデコレータの特別な構文がある。\n",
    "\n",
    "デコレータは、ラップする関数への呼び出しの前後で追加コードを実行することができる。\n",
    "\n",
    "これによって、入力の引数や戻り値にアクセスして値を変更したり、例外を送出したりできる。\n",
    "\n",
    "この機能は、セマンティクス強化、デバッグ、関数登録などを行うのに役立つ。"
   ]
  },
  {
   "attachments": {},
   "cell_type": "markdown",
   "metadata": {},
   "source": [
    "例えば、関数呼び出しの引数と戻り値を出力したいとする。\n",
    "\n",
    "これは、再帰関数で関数呼び出しの入れ子になったスタックをデバッグするときに、特に有用である。\n",
    "\n",
    "そのようなデコレータを `*args` と `**kwargs` を使い、全パラメータをラップした関数に渡すことで次のように定義する(「項目22 可変長位置引数を使って、見た目をすっきりさせる」 および 「項目23 キーワード引数にオプションの振る舞いを与える」参照)。"
   ]
  },
  {
   "cell_type": "code",
   "execution_count": 73,
   "metadata": {},
   "outputs": [],
   "source": [
    "# Example 1\n",
    "def trace(func):\n",
    "    def wrapper(*args, **kwargs):\n",
    "        result = func(*args, **kwargs)\n",
    "        print(f'{func.__name__}({args!r}, {kwargs!r}) '\n",
    "              f'-> {result!r}')\n",
    "        return result\n",
    "    return wrapper"
   ]
  },
  {
   "attachments": {},
   "cell_type": "markdown",
   "metadata": {},
   "source": [
    "このデコレータを記号を用いて関数に適用する。"
   ]
  },
  {
   "cell_type": "code",
   "execution_count": 74,
   "metadata": {},
   "outputs": [],
   "source": [
    "# Example 2\n",
    "@trace\n",
    "def fibonacci(n):\n",
    "    \"\"\"Return the n-th Fibonacci number\"\"\"\n",
    "    if n in (0, 1):\n",
    "        return n\n",
    "    return (fibonacci(n - 2) + fibonacci(n - 1))"
   ]
  },
  {
   "attachments": {},
   "cell_type": "markdown",
   "metadata": {},
   "source": [
    "`@` 記号は、デコレータがラップする関数を引数として呼び出して、 戻り値を同じスコープの元々の\n",
    "名前に代入することと等価である。"
   ]
  },
  {
   "cell_type": "code",
   "execution_count": 60,
   "metadata": {},
   "outputs": [],
   "source": [
    "# Example 3\n",
    "def fibonacci(n):\n",
    "    \"\"\"Return the n-th Fibonacci number\"\"\"\n",
    "    if n in (0, 1):\n",
    "        return n\n",
    "    return fibonacci(n - 2) + fibonacci(n - 1)\n",
    "\n",
    "fibonacci = trace(fibonacci)"
   ]
  },
  {
   "attachments": {},
   "cell_type": "markdown",
   "metadata": {},
   "source": [
    "このデコレータ付きの関数を呼び出すと、`fibonacci` を実行する前後でラッパーのコードが実行されます。 再帰スタックのレベルごとに引数と戻り値を出力します。"
   ]
  },
  {
   "cell_type": "code",
   "execution_count": 75,
   "metadata": {},
   "outputs": [
    {
     "name": "stdout",
     "output_type": "stream",
     "text": [
      "fibonacci((0,), {}) -> 0\n",
      "fibonacci((1,), {}) -> 1\n",
      "fibonacci((2,), {}) -> 1\n",
      "fibonacci((1,), {}) -> 1\n",
      "fibonacci((0,), {}) -> 0\n",
      "fibonacci((1,), {}) -> 1\n",
      "fibonacci((2,), {}) -> 1\n",
      "fibonacci((3,), {}) -> 2\n",
      "fibonacci((4,), {}) -> 3\n"
     ]
    },
    {
     "data": {
      "text/plain": [
       "3"
      ]
     },
     "execution_count": 75,
     "metadata": {},
     "output_type": "execute_result"
    }
   ],
   "source": [
    "# Example 4\n",
    "fibonacci(4)"
   ]
  },
  {
   "attachments": {},
   "cell_type": "markdown",
   "metadata": {},
   "source": [
    "これはきちんと動作しているようにも見えるが、意図しない副作用も生じてしまっている。\n",
    "\n",
    "次のように、デコレータから返された値（上記で呼び出された関数）は、`fibonacci` という名前ではなくなってしまっている。"
   ]
  },
  {
   "cell_type": "code",
   "execution_count": 37,
   "metadata": {},
   "outputs": [
    {
     "name": "stdout",
     "output_type": "stream",
     "text": [
      "<function trace.<locals>.wrapper at 0x00000169BFFB7F40>\n"
     ]
    }
   ],
   "source": [
    "# Example 5\n",
    "print(fibonacci)"
   ]
  },
  {
   "attachments": {},
   "cell_type": "markdown",
   "metadata": {},
   "source": [
    "これは、`trace` 関数が、その本体で定義する `wrapper` を返しており、デコレータの働きで `wrapper` 関数が、定義元のモジュールでの `fibonacci` という名前に代入されたのである。\n",
    "\n",
    "この振る舞いは、デバッガ (「項目 80 `pdb` で対話的にデバッグすることを考える」参照)のようなイントロスペクションを行うツールの機能を損なうため、問題となってしまう。"
   ]
  },
  {
   "attachments": {},
   "cell_type": "markdown",
   "metadata": {},
   "source": [
    "例えば、デコレートされた `fibonacci` 関数には、組み込み関数 `help` が機能しない。\n",
    "\n",
    "本来であれば、`help` を実行した際には、上で定義された `docstring` ('Return the n-th Fibonacci number') を出力すべきである。"
   ]
  },
  {
   "cell_type": "code",
   "execution_count": 38,
   "metadata": {},
   "outputs": [
    {
     "name": "stdout",
     "output_type": "stream",
     "text": [
      "Help on function wrapper in module __main__:\n",
      "\n",
      "wrapper(*args, **kwargs)\n",
      "\n"
     ]
    }
   ],
   "source": [
    "# Example 6\n",
    "help(fibonacci)"
   ]
  },
  {
   "attachments": {},
   "cell_type": "markdown",
   "metadata": {},
   "source": [
    "オブジェクトシリアライザー (「項目 68 `copyreg` で `pickle` を信頼できるようにする」 参照) は、デコレートされた元の関数の位置を決定できないのでエラーとなってしまう。"
   ]
  },
  {
   "cell_type": "code",
   "execution_count": 39,
   "metadata": {},
   "outputs": [
    {
     "name": "stderr",
     "output_type": "stream",
     "text": [
      "ERROR:root:Expected\n",
      "Traceback (most recent call last):\n",
      "  File \"C:\\Users\\su10_\\AppData\\Local\\Temp\\ipykernel_28564\\2000568974.py\", line 4, in <cell line: 3>\n",
      "    pickle.dumps(fibonacci)\n",
      "AttributeError: Can't pickle local object 'trace.<locals>.wrapper'\n"
     ]
    }
   ],
   "source": [
    "import pickle\n",
    "# Example 7\n",
    "try:\n",
    "    pickle.dumps(fibonacci)\n",
    "except:\n",
    "    logging.exception('Expected')\n",
    "else:\n",
    "    assert False"
   ]
  },
  {
   "attachments": {},
   "cell_type": "markdown",
   "metadata": {},
   "source": [
    "組み込みモジュール `functools` の `wraps` ヘルパー関数を使うことにより解決する。これは、デコレータを書くのを助けるデコレータである。これを `wrapper` 関数に適用すると、内部関数についてのすべての重要なメタデータが外部関数に複製される。"
   ]
  },
  {
   "cell_type": "code",
   "execution_count": 40,
   "metadata": {},
   "outputs": [],
   "source": [
    "# Example 8\n",
    "from functools import wraps\n",
    "\n",
    "def trace(func):\n",
    "    @wraps(func)\n",
    "    def wrapper(*args, **kwargs):\n",
    "        result = func(*args, **kwargs)\n",
    "        print(f'{func.__name__}({args!r}, {kwargs!r}) '\n",
    "              f'-> {result!r}')\n",
    "        return result\n",
    "    return wrapper\n",
    "\n",
    "@trace\n",
    "def fibonacci(n):\n",
    "    \"\"\"Return the n-th Fibonacci number\"\"\"\n",
    "    if n in (0, 1):\n",
    "        return n\n",
    "    return fibonacci(n - 2) + fibonacci(n - 1)"
   ]
  },
  {
   "attachments": {},
   "cell_type": "markdown",
   "metadata": {},
   "source": [
    "`help` 関数を実行すると、 関数をデコレートしたうえで、期待された結果が得られる。"
   ]
  },
  {
   "cell_type": "code",
   "execution_count": 41,
   "metadata": {},
   "outputs": [
    {
     "name": "stdout",
     "output_type": "stream",
     "text": [
      "Help on function fibonacci in module __main__:\n",
      "\n",
      "fibonacci(n)\n",
      "    Return the n-th Fibonacci number\n",
      "\n"
     ]
    }
   ],
   "source": [
    "# Example 9\n",
    "help(fibonacci)"
   ]
  },
  {
   "attachments": {},
   "cell_type": "markdown",
   "metadata": {},
   "source": [
    "`pickle` オブジェクトシリアライザーも動作する。"
   ]
  },
  {
   "cell_type": "code",
   "execution_count": 42,
   "metadata": {},
   "outputs": [
    {
     "name": "stdout",
     "output_type": "stream",
     "text": [
      "b'\\x80\\x04\\x95\\x1a\\x00\\x00\\x00\\x00\\x00\\x00\\x00\\x8c\\x08__main__\\x94\\x8c\\tfibonacci\\x94\\x93\\x94.'\n"
     ]
    }
   ],
   "source": [
    "# Example 10\n",
    "print(pickle.dumps(fibonacci))\n"
   ]
  },
  {
   "attachments": {},
   "cell_type": "markdown",
   "metadata": {},
   "source": [
    "これらの例の他にも、Python 関数は、言語の関数インタフェースを保守するために保持しなくてはならない多くの標準属性 (例えば、`__name__`,`__module__`,`__annotations__`)を持っており、`wraps` を使うことにより、期待した動作を行うようになる。"
   ]
  },
  {
   "attachments": {},
   "cell_type": "markdown",
   "metadata": {},
   "source": [
    "### 覚えておくこと"
   ]
  },
  {
   "attachments": {},
   "cell_type": "markdown",
   "metadata": {},
   "source": [
    "- Python のデコレータ構文を使うと、 ある関数が他の関数を実行時に修正できる\n",
    "- デコレータを使うことでデバッガのようなイントロスペクションを行うツールに奇妙な振る 舞いを引き起こすことがある\n",
    "- 問題を起こさないようにデコレータを自分で定義するときには、組み込みモジュール functoolsのデコレータ wrapsを使う\n"
   ]
  },
  {
   "attachments": {},
   "cell_type": "markdown",
   "metadata": {},
   "source": [
    "# 第4章 内包表記とジェネレータ"
   ]
  },
  {
   "attachments": {},
   "cell_type": "markdown",
   "metadata": {},
   "source": [
    "多くのプログラム言語においてリスト、辞書、キー値対、集合を処理できるよう構築されている。Python は内包表記と呼ばれる特別な構文で、これらの型で簡潔にイテレーションしたり、派生データ構造を使えるようになっている。内包表記は、このようなよくある処理コードを読みやすくするだけでなく、 他にも多くの利点がある。"
   ]
  },
  {
   "attachments": {},
   "cell_type": "markdown",
   "metadata": {},
   "source": [
    "この処理スタイルは、 ジェネレータ関数にも拡張できて、関数により値のストリームを順に返すことができる。\n",
    "\n",
    "ジェネレータ関数の呼び出しの結果は、 イテレータを使えるところであればどこでも使える（例: `for` ループ、アスタリスク付きの式）。ジェネレータは、性能を向上させ、メモリ使用を減らし、可読性を高める。"
   ]
  },
  {
   "attachments": {},
   "cell_type": "markdown",
   "metadata": {},
   "source": [
    "## 項目 27 map や filter の代わりにリスト内包表記を使う"
   ]
  },
  {
   "attachments": {},
   "cell_type": "markdown",
   "metadata": {},
   "source": [
    "Python は、他のシーケンスやイテラブルオブジェクトからリストを導出するための簡潔な構文を備えている。 この式は、リスト内包表記と呼ばれる。\n",
    "\n",
    "例えば、リスト中の各数の平方を計算したいとする。次のコードは、これを簡単な `for` ループで実装している。"
   ]
  },
  {
   "cell_type": "code",
   "execution_count": 43,
   "metadata": {},
   "outputs": [
    {
     "name": "stdout",
     "output_type": "stream",
     "text": [
      "[1, 4, 9, 16, 25, 36, 49, 64, 81, 100]\n"
     ]
    }
   ],
   "source": [
    "# Example 1\n",
    "a = [1, 2, 3, 4, 5, 6, 7, 8, 9, 10]\n",
    "squares = []\n",
    "for x in a:\n",
    "    squares.append(x**2)\n",
    "print(squares)"
   ]
  },
  {
   "attachments": {},
   "cell_type": "markdown",
   "metadata": {},
   "source": [
    "これをリスト内包表記で実装すると次のようなコードになる。\n",
    "\n",
    "ループする入力シーケンスに計算式を指定すれば、同じ結果が得られる。"
   ]
  },
  {
   "cell_type": "code",
   "execution_count": 44,
   "metadata": {},
   "outputs": [
    {
     "name": "stdout",
     "output_type": "stream",
     "text": [
      "[1, 4, 9, 16, 25, 36, 49, 64, 81, 100]\n"
     ]
    }
   ],
   "source": [
    "# Example 2\n",
    "squares = [x**2 for x in a]  # リスト内包表記\n",
    "print(squares)"
   ]
  },
  {
   "attachments": {},
   "cell_type": "markdown",
   "metadata": {},
   "source": [
    "単一引数関数でなければ、 単純な場合にはリスト内包表記のほうが組み込み関数 `map` よりも明確になる。\n",
    "\n",
    "次のコードでは`map` を用いて実装したものであるが、計算するために `lambda` 関数を作る必要があり、見た目的にうるさく映ってしまっている。"
   ]
  },
  {
   "cell_type": "code",
   "execution_count": 45,
   "metadata": {},
   "outputs": [],
   "source": [
    "# Example 3\n",
    "alt = map(lambda x: x ** 2, a)\n",
    "assert list(alt) == squares, f'{alt} {squares}'"
   ]
  },
  {
   "attachments": {},
   "cell_type": "markdown",
   "metadata": {},
   "source": [
    "`map` の場合と異なり、リスト内包表記では、入力リストから要素をフィルタリングし、対応する出力を結果から取り除くことが簡単にできる。 例えば、2で割り切れる数だけ平方を計算したいとき、リスト内包表記のループの後に条件式を付け加えるだけで実現できる。"
   ]
  },
  {
   "cell_type": "code",
   "execution_count": 46,
   "metadata": {},
   "outputs": [
    {
     "name": "stdout",
     "output_type": "stream",
     "text": [
      "[4, 16, 36, 64, 100]\n"
     ]
    }
   ],
   "source": [
    "# Example 4\n",
    "even_squares = [x**2 for x in a if x % 2 == 0]\n",
    "print(even_squares)"
   ]
  },
  {
   "attachments": {},
   "cell_type": "markdown",
   "metadata": {},
   "source": [
    "`map` を用いた実装でも、組み込み関数 `filter` を `map` と一緒に用いることで、同じ結果が得られるが、読みにくくなってしまう。\n"
   ]
  },
  {
   "cell_type": "code",
   "execution_count": 47,
   "metadata": {},
   "outputs": [
    {
     "name": "stdout",
     "output_type": "stream",
     "text": [
      "[4, 16, 36, 64, 100]\n"
     ]
    }
   ],
   "source": [
    "# Example 5\n",
    "alt = map(lambda x: x**2, filter(lambda x: x % 2 == 0, a))\n",
    "print(list(alt))"
   ]
  },
  {
   "attachments": {},
   "cell_type": "markdown",
   "metadata": {},
   "source": [
    "辞書と集合にもリスト内包表記に対応する表現式 (辞書内包表記と集合内包表記と呼ぶ)がある。 これらを用いて書く際にも、関連するデータ構造が容易に作成できる。"
   ]
  },
  {
   "cell_type": "code",
   "execution_count": 48,
   "metadata": {},
   "outputs": [
    {
     "name": "stdout",
     "output_type": "stream",
     "text": [
      "{2: 4, 4: 16, 6: 36, 8: 64, 10: 100}\n",
      "{216, 729, 27}\n"
     ]
    }
   ],
   "source": [
    "# Example 6\n",
    "even_squares_dict = {x: x**2 for x in a if x % 2 == 0}\n",
    "threes_cubed_set = {x**3 for x in a if x % 3 == 0}\n",
    "print(even_squares_dict)\n",
    "print(threes_cubed_set)"
   ]
  },
  {
   "attachments": {},
   "cell_type": "markdown",
   "metadata": {},
   "source": [
    "`map` や `filter` でも対応するコンストラクタ呼び出しをラップすれば同じ結果を得ることができる。\n",
    "\n",
    "これらの文は、長くなるため複数行に分割しなければならず、 さらに見た目がうるさくなるため、避けたほうが無難である。"
   ]
  },
  {
   "cell_type": "code",
   "execution_count": 62,
   "metadata": {},
   "outputs": [
    {
     "name": "stdout",
     "output_type": "stream",
     "text": [
      "{2: 4, 4: 16, 6: 36, 8: 64, 10: 100}\n",
      "{216, 729, 27}\n"
     ]
    }
   ],
   "source": [
    "# Example 7\n",
    "alt_dict = dict(map(lambda x: (x, x**2),\n",
    "\t\t\t\tfilter(lambda x: x % 2 == 0, a)))\n",
    "alt_set = set(map(lambda x: x**3,\n",
    "\t          filter(lambda x: x % 3 == 0, a)))\n",
    "print(even_squares_dict)\n",
    "print(threes_cubed_set)"
   ]
  },
  {
   "attachments": {},
   "cell_type": "markdown",
   "metadata": {},
   "source": [
    "### 覚えておくこと"
   ]
  },
  {
   "attachments": {},
   "cell_type": "markdown",
   "metadata": {},
   "source": [
    "- リスト内包表記は、`lambda` 式を必要としないので、組み込み関数の `map` や `filter` よりも明確\n",
    "- リスト内包表記は、入力リストから要素を抜き出すのが容易なことに対し、`map` を用いた実装は `filter` が必要になり見た目がうるさくなってしまう\n",
    "- 辞書と集合も内包表記を使って作成できる"
   ]
  },
  {
   "attachments": {},
   "cell_type": "markdown",
   "metadata": {},
   "source": [
    "## 項目28 内包表記では、3つ以上の式を避ける"
   ]
  },
  {
   "attachments": {},
   "cell_type": "markdown",
   "metadata": {},
   "source": [
    "基本的な使い方（「項目 27 `map` や `filter` の代わりにリスト内包表記を使う」 参照）の他に、内包表記では、多重ループもサポートしている。 例えば、行列（リストを要素とするリスト）を平坦化し、 1つのリストにすべての要素が含まれるようにする。これを、2つの `for` 式を含むリスト内包表記を使い、次のコードのように行う。式の実行順序は、左から右へとされている。"
   ]
  },
  {
   "cell_type": "code",
   "execution_count": 50,
   "metadata": {},
   "outputs": [
    {
     "name": "stdout",
     "output_type": "stream",
     "text": [
      "[1, 2, 3, 4, 5, 6, 7, 8, 9]\n"
     ]
    }
   ],
   "source": [
    "matrix = [[1, 2, 3], [4, 5, 6], [7, 8, 9]]\n",
    "flat = [x for row in matrix for x in row]\n",
    "print(flat)"
   ]
  },
  {
   "attachments": {},
   "cell_type": "markdown",
   "metadata": {},
   "source": [
    "この例は単純で、読みやすく、 内包表記での多重ループの使い方も合理的である。 多重ループのもう1つの合理的な使い方は、次元2の入力リストを複製する場合である。例えば、2次元行列の各要素を二乗したいとする。次の内包表記は、前よりも `[]` が多くうるさいが、まだ読みやすい。"
   ]
  },
  {
   "cell_type": "code",
   "execution_count": 51,
   "metadata": {},
   "outputs": [
    {
     "name": "stdout",
     "output_type": "stream",
     "text": [
      "[[1, 4, 9], [16, 25, 36], [49, 64, 81]]\n"
     ]
    }
   ],
   "source": [
    "# Example 2\n",
    "squared = [[x**2 for x in row] for row in matrix]\n",
    "print(squared)"
   ]
  },
  {
   "attachments": {},
   "cell_type": "markdown",
   "metadata": {},
   "source": [
    "この内包表記にもう1つループを使うと、長くなりすぎてしまい、複数行に分割しないといけない。"
   ]
  },
  {
   "cell_type": "code",
   "execution_count": 52,
   "metadata": {},
   "outputs": [
    {
     "name": "stdout",
     "output_type": "stream",
     "text": [
      "[1, 2, 3, 4, 5, 6, 7, 8, 9, 10, 11, 12]\n"
     ]
    }
   ],
   "source": [
    "# Example 3\n",
    "my_lists = [\n",
    "    [[1, 2, 3], [4, 5, 6]],\n",
    "    [[7, 8, 9], [10, 11, 12]],\n",
    "]\n",
    "flat = [x for sublist1 in my_lists\n",
    "        for sublist2 in sublist1\n",
    "        for x in sublist2]\n",
    "print(flat)"
   ]
  },
  {
   "attachments": {},
   "cell_type": "markdown",
   "metadata": {},
   "source": [
    "この時点で、複数行の内包表記は、他の書き方に比べてずっと短いという長所を失ってしまう。 \n",
    "\n",
    "次の実装のように、通常の `for` ループ文を使って同じ結果が得られる。今回のケースではリスト内包表記で書くよりも、インデントによってループ構造がわかりやすくなっている。"
   ]
  },
  {
   "cell_type": "code",
   "execution_count": 53,
   "metadata": {},
   "outputs": [
    {
     "name": "stdout",
     "output_type": "stream",
     "text": [
      "[1, 2, 3, 4, 5, 6, 7, 8, 9, 10, 11, 12]\n"
     ]
    }
   ],
   "source": [
    "# Example 4\n",
    "flat = []\n",
    "for sublist1 in my_lists:\n",
    "    for sublist2 in sublist1:\n",
    "        flat.extend(sublist2)\n",
    "print(flat)"
   ]
  },
  {
   "attachments": {},
   "cell_type": "markdown",
   "metadata": {},
   "source": [
    "内包表記は、複数の `if` 条件を扱うこともできる。 同一のループでの複数条件は、明記しない場合 `and` 式となる。 例えば、数のリストから、4より大きな偶数だけをフィルターして取り出すコードを書くとする。次の2つのリスト内包表記は、いずれも同じ挙動を取る。"
   ]
  },
  {
   "cell_type": "code",
   "execution_count": 54,
   "metadata": {},
   "outputs": [
    {
     "name": "stdout",
     "output_type": "stream",
     "text": [
      "[6, 8, 10]\n",
      "[6, 8, 10]\n"
     ]
    }
   ],
   "source": [
    "# Example 5\n",
    "a = [1, 2, 3, 4, 5, 6, 7, 8, 9, 10]\n",
    "b = [x for x in a if x > 4 if x % 2 == 0]\n",
    "c = [x for x in a if x > 4 and x % 2 == 0]\n",
    "print(b)\n",
    "print(c)\n",
    "assert b and c\n",
    "assert b == c"
   ]
  },
  {
   "attachments": {},
   "cell_type": "markdown",
   "metadata": {},
   "source": [
    "条件は、各レベルでの `for` 式の後に指定できます。 例えば、行列に対して、要素が3で割り切れて、 行方向での和が10以上というフィルターを考える。これは、リスト内包表記で簡潔に書くことができるが、読み解くのは困難である。"
   ]
  },
  {
   "cell_type": "code",
   "execution_count": 55,
   "metadata": {},
   "outputs": [
    {
     "name": "stdout",
     "output_type": "stream",
     "text": [
      "[[6], [9]]\n"
     ]
    }
   ],
   "source": [
    "# Example 6\n",
    "matrix = [[1, 2, 3], [4, 5, 6], [7, 8, 9]]\n",
    "filtered = [[x for x in row if x % 3 == 0]\n",
    "            for row in matrix if sum(row) >= 10]\n",
    "print(filtered)"
   ]
  },
  {
   "attachments": {},
   "cell_type": "markdown",
   "metadata": {},
   "source": [
    "この例は少しひねくれているが、実際には、このような式で十分な状況に出会うこともあるだろう。\n",
    "このような `list`、`dict`、`set` の内包表記を使うことは避けた方が良い。このようなケースでこれらを使ってしまうと、読む側にとっては理解し難いものとなってしまう。`dict` 内包表記では、キーと値とで余分なバラメータを必要とするため、さらにひどいものとなってしまう。\n",
    "\n",
    " "
   ]
  },
  {
   "attachments": {},
   "cell_type": "markdown",
   "metadata": {},
   "source": [
    "大まかな基準を言うとすれば、リスト内包表記では、3つ以上の式を使うことは避けるべきである。2つの条件、2つのループ、1つの条件と1つのループまでとすることが好ましいだろう。\n",
    "\n",
    "これよりも複雑になるのであれば、 通常の `if` 文や `for` 文を使った、ジェネレータのヘルパー関数を書くべきである(「項目30 リストを返さずにジェネレータを返すことを考える」参照)。\n"
   ]
  },
  {
   "attachments": {},
   "cell_type": "markdown",
   "metadata": {},
   "source": [
    "### 覚えておくこと"
   ]
  },
  {
   "attachments": {},
   "cell_type": "markdown",
   "metadata": {},
   "source": [
    "- 内包表記は多重ループと1つのループに複数の条件をサポートする\n",
    "- 3つ以上の式を使う内包表記は、読むのが難しくなるため避けるべきである"
   ]
  }
 ],
 "metadata": {
  "kernelspec": {
   "display_name": "develop",
   "language": "python",
   "name": "python3"
  },
  "language_info": {
   "codemirror_mode": {
    "name": "ipython",
    "version": 3
   },
   "file_extension": ".py",
   "mimetype": "text/x-python",
   "name": "python",
   "nbconvert_exporter": "python",
   "pygments_lexer": "ipython3",
   "version": "3.10.4"
  },
  "orig_nbformat": 4,
  "vscode": {
   "interpreter": {
    "hash": "e44055ce3e952bd426b5fb3f107ba07a260ee6f4ce0ddea34f4e7c6cc81b9081"
   }
  }
 },
 "nbformat": 4,
 "nbformat_minor": 2
}
