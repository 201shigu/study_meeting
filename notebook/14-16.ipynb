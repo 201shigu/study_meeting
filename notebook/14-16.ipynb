{
 "cells": [
  {
   "cell_type": "markdown",
   "metadata": {},
   "source": [
    "# 項目14～16"
   ]
  },
  {
   "cell_type": "markdown",
   "metadata": {},
   "source": [
    "### 必要なモジュール"
   ]
  },
  {
   "cell_type": "code",
   "execution_count": 1,
   "metadata": {},
   "outputs": [
    {
     "data": {
      "text/plain": [
       "<function __main__.close_open_files()>"
      ]
     },
     "execution_count": 1,
     "metadata": {},
     "output_type": "execute_result"
    }
   ],
   "source": [
    "import random\n",
    "random.seed(1234)\n",
    "\n",
    "import logging\n",
    "from pprint import pprint\n",
    "from sys import stdout as STDOUT\n",
    "\n",
    "# Write all output to a temporary directory\n",
    "import atexit\n",
    "import gc\n",
    "import io\n",
    "import os\n",
    "import tempfile\n",
    "\n",
    "TEST_DIR = tempfile.TemporaryDirectory()\n",
    "atexit.register(TEST_DIR.cleanup)\n",
    "\n",
    "# Make sure Windows processes exit cleanly\n",
    "OLD_CWD = os.getcwd()\n",
    "atexit.register(lambda: os.chdir(OLD_CWD))\n",
    "os.chdir(TEST_DIR.name)\n",
    "\n",
    "def close_open_files():\n",
    "    everything = gc.get_objects()\n",
    "    for obj in everything:\n",
    "        if isinstance(obj, io.IOBase):\n",
    "            obj.close()\n",
    "\n",
    "atexit.register(close_open_files)"
   ]
  },
  {
   "cell_type": "markdown",
   "metadata": {},
   "source": [
    "## 項目14 key引数を使い複雑な基準でソートする"
   ]
  },
  {
   "cell_type": "markdown",
   "metadata": {},
   "source": [
    "`list`には様々な基準に基づいて`list`の要素を順序に従って整列するsortメソッドがある。\n",
    "\n",
    "デフォルトのsortでは、listの内容を要素の自然な順序の昇順に並べる。\n",
    "\n",
    "例えば、次のコードは整数を小さいものから大きいものに並べる。"
   ]
  },
  {
   "cell_type": "code",
   "execution_count": 2,
   "metadata": {},
   "outputs": [
    {
     "name": "stdout",
     "output_type": "stream",
     "text": [
      "[11, 68, 70, 86, 93]\n"
     ]
    }
   ],
   "source": [
    "# Example 1\n",
    "numbers = [93, 86, 11, 68, 70]\n",
    "numbers.sort()\n",
    "print(numbers)"
   ]
  },
  {
   "cell_type": "markdown",
   "metadata": {},
   "source": [
    "sortメソッドは自然な順序のあるほとんどの組み込み型（文字列、浮動小数点数など）で動作する。\n",
    "\n",
    "ここでオブジェクトに対してどのような動作が起きるか見てみよう。\n",
    "\n",
    "例えば、建築現場で使う様々な工具を表すクラスを、インスタンスを出力できるよう`__repr__`メソッド（項目75参照）を含めて定義する。"
   ]
  },
  {
   "cell_type": "code",
   "execution_count": 3,
   "metadata": {},
   "outputs": [],
   "source": [
    "# Example 2\n",
    "class Tool:\n",
    "    def __init__(self, name, weight):\n",
    "        self.name = name\n",
    "        self.weight = weight\n",
    "\n",
    "    def __repr__(self):\n",
    "        return f'Tool({self.name!r}, {self.weight})'\n",
    "\n",
    "tools = [\n",
    "    Tool('level', 3.5),\n",
    "    Tool('hammer', 1.25),\n",
    "    Tool('screwdriver', 0.5),\n",
    "    Tool('chisel', 0.25),\n",
    "]"
   ]
  },
  {
   "cell_type": "markdown",
   "metadata": {},
   "source": [
    "この型のオブジェクトのソートを行おうとすると、（クラスで定義されていない）比較のための特殊メソッドを`sort`メソッドが呼び出そうとするため失敗する。"
   ]
  },
  {
   "cell_type": "code",
   "execution_count": 4,
   "metadata": {},
   "outputs": [
    {
     "name": "stderr",
     "output_type": "stream",
     "text": [
      "ERROR:root:Expected\n",
      "Traceback (most recent call last):\n",
      "  File \"C:\\Users\\su10_\\AppData\\Local\\Temp\\ipykernel_29048\\3010603424.py\", line 3, in <cell line: 2>\n",
      "    tools.sort()\n",
      "TypeError: '<' not supported between instances of 'Tool' and 'Tool'\n"
     ]
    }
   ],
   "source": [
    "# Example 3\n",
    "try:\n",
    "    tools.sort()\n",
    "except:\n",
    "    logging.exception('Expected')\n",
    "else:\n",
    "    assert False"
   ]
  },
  {
   "cell_type": "markdown",
   "metadata": {},
   "source": [
    "クラスに（整数のような）自然な順序がない場合には、必要な特殊メソッド（項目73参照）を定義して、追加のパラメータがなくても`sort`が動作するようにできる。\n",
    "\n",
    "しかし、より一般的な場合には、オブジェクトで複数の順序付けをサポートする必要があり、自然な順序の定義だけでは意味がない。\n",
    "\n",
    "しばしば、オブジェクトの属性値によってソートする場合がある。このユースケースをサポートするために、`sort`メソッドには関数を引数とする`key`パラメータがある。\n",
    "\n",
    "`key`関数には単一引数としてソートされるリストの要素が渡される。戻り値は、ソートのために使用する比較可能な（自然な順序を持つ）値でなければならない。\n",
    "\n",
    "次のコードでは、`Tool`オブジェクトのリストを名前の英字淳にソートできる`key`パラメータのための関数をlambdaキーワードを用いて定義する。"
   ]
  },
  {
   "cell_type": "code",
   "execution_count": 5,
   "metadata": {},
   "outputs": [
    {
     "name": "stdout",
     "output_type": "stream",
     "text": [
      "Unsorted: [Tool('level', 3.5), Tool('hammer', 1.25), Tool('screwdriver', 0.5), Tool('chisel', 0.25)]\n",
      "\n",
      "Sorted:   [Tool('chisel', 0.25), Tool('hammer', 1.25), Tool('level', 3.5), Tool('screwdriver', 0.5)]\n"
     ]
    }
   ],
   "source": [
    "# Example 4\n",
    "print('Unsorted:', repr(tools))\n",
    "tools.sort(key=lambda x: x.name)\n",
    "print('\\nSorted:  ', tools)"
   ]
  },
  {
   "cell_type": "markdown",
   "metadata": {},
   "source": [
    "同様に重さでソートするラムダ関数も定義でき、`sort`メソッドに`key`パラメータとして渡すことができる。"
   ]
  },
  {
   "cell_type": "code",
   "execution_count": 6,
   "metadata": {},
   "outputs": [
    {
     "name": "stdout",
     "output_type": "stream",
     "text": [
      "By weight: [Tool('chisel', 0.25), Tool('screwdriver', 0.5), Tool('hammer', 1.25), Tool('level', 3.5)]\n"
     ]
    }
   ],
   "source": [
    "# Example 5\n",
    "tools.sort(key=lambda x: x.weight)\n",
    "print('By weight:', tools)"
   ]
  },
  {
   "cell_type": "markdown",
   "metadata": {},
   "source": [
    "`key`パラメータとして渡されるラムダ関数の中で要素の属性に、（シーケンス、タプル、辞書では）要素のインデックス、あるいは、他の式を用いてアクセスすることができる。\n",
    "\n",
    "文字列のような基本型では、`key`関数を使ってソートの前に値の変換ができる。\n",
    "\n",
    "例えば次のコードでは、通常のソートでは大文字が小文字の前に来るところを、\n",
    "大文字小文字を無視した英字順なるよう、`list`の中の要素の名前に`lower`メソッドを適用している。"
   ]
  },
  {
   "cell_type": "code",
   "execution_count": 7,
   "metadata": {},
   "outputs": [
    {
     "name": "stdout",
     "output_type": "stream",
     "text": [
      "Case sensitive:   ['New York', 'Paris', 'home', 'work']\n",
      "Case insensitive: ['home', 'New York', 'Paris', 'work']\n"
     ]
    }
   ],
   "source": [
    "# Example 6\n",
    "places = ['home', 'work', 'New York', 'Paris']\n",
    "places.sort()\n",
    "print('Case sensitive:  ', places)\n",
    "places.sort(key=lambda x: x.lower())\n",
    "print('Case insensitive:', places)"
   ]
  },
  {
   "cell_type": "markdown",
   "metadata": {},
   "source": [
    "ソートに複数の基準を使う必要が生じることもある。例えば、工具のリストがあり、まず重さ、次に名前でソートしたいとする。"
   ]
  },
  {
   "cell_type": "code",
   "execution_count": 8,
   "metadata": {},
   "outputs": [],
   "source": [
    "# Example 7\n",
    "power_tools = [\n",
    "    Tool('drill', 4),\n",
    "    Tool('circular saw', 5),\n",
    "    Tool('jackhammer', 40),\n",
    "    Tool('sander', 4),\n",
    "]"
   ]
  },
  {
   "cell_type": "markdown",
   "metadata": {},
   "source": [
    "Pythonでの最も単純な方法は`tupple`型を用いることである。`tupple`は任意のPython値の変更不能なシーケンスである。\n",
    "\n",
    "`tupple`はデフォルトで比較可能で自然な順序があり、`sort`メソッドが必要とする`__lt__`のような特殊メソッドを備えている。\n",
    "\n",
    "`tupple`同士では`tupple`の各位置の要素について実装されている特殊メソッドで順に比較していく。\n",
    "\n",
    "ある工具が別の工具よりも重い場合にこれがどうなるかを次に示す。"
   ]
  },
  {
   "cell_type": "code",
   "execution_count": 44,
   "metadata": {},
   "outputs": [
    {
     "data": {
      "text/plain": [
       "True"
      ]
     },
     "execution_count": 44,
     "metadata": {},
     "output_type": "execute_result"
    }
   ],
   "source": [
    "# Example 8\n",
    "saw = (100, 'circular saw')\n",
    "jackhammer = (40, 'jackhammer')\n",
    "# assert not (jackhammer < saw)  # 各要素で比較が行われている\n",
    "jackhammer < saw"
   ]
  },
  {
   "cell_type": "markdown",
   "metadata": {},
   "source": [
    "タプルの最初の位置の要素（上例では重さ）が等しい場合、タプルの比較は次の位置の要素の比較に移る。"
   ]
  },
  {
   "cell_type": "code",
   "execution_count": 10,
   "metadata": {},
   "outputs": [],
   "source": [
    "# Example 9\n",
    "drill = (4, 'drill')\n",
    "sander = (4, 'sander')\n",
    "assert drill[0] == sander[0]  # Same weight\n",
    "assert drill[1] < sander[1]   # Alphabetically less\n",
    "assert drill < sander         # Thus, drill comes first"
   ]
  },
  {
   "cell_type": "markdown",
   "metadata": {},
   "source": [
    "この`tupple`の比較方式を用いて、工具をまずその重さでソートし、等しい場合には名前でソートすることができる。\n",
    "\n",
    "次のコードでは、優先順位順にソートする二つの属性の特性を返す`key`関数を定義している。"
   ]
  },
  {
   "cell_type": "code",
   "execution_count": 11,
   "metadata": {},
   "outputs": [
    {
     "name": "stdout",
     "output_type": "stream",
     "text": [
      "[Tool('drill', 4), Tool('sander', 4), Tool('circular saw', 5), Tool('jackhammer', 40)]\n"
     ]
    }
   ],
   "source": [
    "# Example 10\n",
    "power_tools.sort(key=lambda x: (x.weight, x.name))\n",
    "print(power_tools)"
   ]
  },
  {
   "cell_type": "markdown",
   "metadata": {},
   "source": [
    "`key`関数で`tuple`を返す場合の制限は、すべての基準に対してソートの方向が同じ（全部が昇順か降順）ことである。\n",
    "\n",
    "`sort`メソッドに`reverse`パラメータを渡すと、`tuple`の両方の基準に同じように影響する（`sander`の方が`drill`より前に来ることに注意）。"
   ]
  },
  {
   "cell_type": "code",
   "execution_count": 12,
   "metadata": {},
   "outputs": [
    {
     "name": "stdout",
     "output_type": "stream",
     "text": [
      "[Tool('jackhammer', 40), Tool('circular saw', 5), Tool('sander', 4), Tool('drill', 4)]\n"
     ]
    }
   ],
   "source": [
    "# Example 11\n",
    "power_tools.sort(key=lambda x: (x.weight, x.name),\n",
    "                 reverse=True)  # Makes all criteria descending\n",
    "print(power_tools)"
   ]
  },
  {
   "cell_type": "markdown",
   "metadata": {},
   "source": [
    "数値については、マイナス単項演算子を用い`key`関数でソートの昇順/降順を混在させることができる。\n",
    "\n",
    "マイナス演算子は、他には影響せずに、返された`tuple`の値の一つを符号変換することで、`sort`の順番を逆転させることができる。\n",
    "\n",
    "次のコードでは`weight`を降順、`name`を昇順にソートしている。"
   ]
  },
  {
   "cell_type": "code",
   "execution_count": 13,
   "metadata": {},
   "outputs": [
    {
     "name": "stdout",
     "output_type": "stream",
     "text": [
      "[Tool('jackhammer', 40), Tool('circular saw', 5), Tool('drill', 4), Tool('sander', 4)]\n"
     ]
    }
   ],
   "source": [
    "# Example 12\n",
    "power_tools.sort(key=lambda x: (-x.weight, x.name))\n",
    "print(power_tools)"
   ]
  },
  {
   "cell_type": "markdown",
   "metadata": {},
   "source": [
    "ただし、単項マイナス演算子はすべての型に使える訳ではない。"
   ]
  },
  {
   "cell_type": "code",
   "execution_count": 14,
   "metadata": {},
   "outputs": [
    {
     "name": "stderr",
     "output_type": "stream",
     "text": [
      "ERROR:root:Expected\n",
      "Traceback (most recent call last):\n",
      "  File \"C:\\Users\\su10_\\AppData\\Local\\Temp\\ipykernel_29048\\2522468187.py\", line 3, in <cell line: 2>\n",
      "    power_tools.sort(key=lambda x: (x.weight, -x.name),\n",
      "  File \"C:\\Users\\su10_\\AppData\\Local\\Temp\\ipykernel_29048\\2522468187.py\", line 3, in <lambda>\n",
      "    power_tools.sort(key=lambda x: (x.weight, -x.name),\n",
      "TypeError: bad operand type for unary -: 'str'\n"
     ]
    }
   ],
   "source": [
    "# Example 13\n",
    "try:\n",
    "    power_tools.sort(key=lambda x: (x.weight, -x.name),\n",
    "                     reverse=True)\n",
    "except:\n",
    "    logging.exception('Expected')\n",
    "else:\n",
    "    assert False"
   ]
  },
  {
   "cell_type": "markdown",
   "metadata": {},
   "source": [
    "このように、`name`の順序を逆転させるため、Pythonには安定ソートアルゴリズムが用意されている。\n",
    "\n",
    "`list`型の`sort`メソッドは、`key`関数が互いに等しいという値を返した時には、入力リストでの順番を保持する。\n",
    "\n",
    "これは、同じリストに`sort`を複数回呼び出し、異なる基準を組み合わせられるということを意味している。\n",
    "\n",
    "次のコードでは上で行ったように、`weight`が降順、`name`が昇順となる`sort`を別々に二回呼び出して行っている。"
   ]
  },
  {
   "cell_type": "code",
   "execution_count": 15,
   "metadata": {},
   "outputs": [
    {
     "name": "stdout",
     "output_type": "stream",
     "text": [
      "[Tool('jackhammer', 40), Tool('circular saw', 5), Tool('drill', 4), Tool('sander', 4)]\n"
     ]
    }
   ],
   "source": [
    "# Example 14\n",
    "power_tools.sort(key=lambda x: x.name)   # Name ascending\n",
    "\n",
    "power_tools.sort(key=lambda x: x.weight, # Weight descending\n",
    "                 reverse=True)\n",
    "\n",
    "print(power_tools)"
   ]
  },
  {
   "cell_type": "markdown",
   "metadata": {},
   "source": [
    "上のコードの挙動を確認しよう。最初の`sort`では名前を英字順にしている。"
   ]
  },
  {
   "cell_type": "code",
   "execution_count": 16,
   "metadata": {},
   "outputs": [
    {
     "name": "stdout",
     "output_type": "stream",
     "text": [
      "[Tool('circular saw', 5), Tool('drill', 4), Tool('jackhammer', 40), Tool('sander', 4)]\n"
     ]
    }
   ],
   "source": [
    "# Example 15\n",
    "power_tools.sort(key=lambda x: x.name)\n",
    "print(power_tools)"
   ]
  },
  {
   "cell_type": "markdown",
   "metadata": {},
   "source": [
    "二番目の`sort`が`weight`の降順で呼ばれると、'sander'と'drill'が同じ重さの4であることに気づく。\n",
    "\n",
    "これにより、`sort`メソッドは、この2要素をもとの`list`に現れていたのと同じ順序になるようにソートするため、`name`の相対順序は昇順が保たれる。"
   ]
  },
  {
   "cell_type": "code",
   "execution_count": 17,
   "metadata": {},
   "outputs": [
    {
     "name": "stdout",
     "output_type": "stream",
     "text": [
      "[Tool('jackhammer', 40), Tool('circular saw', 5), Tool('drill', 4), Tool('sander', 4)]\n"
     ]
    }
   ],
   "source": [
    "# Example 16\n",
    "power_tools.sort(key=lambda x: x.weight,\n",
    "                 reverse=True)\n",
    "print(power_tools)"
   ]
  },
  {
   "cell_type": "markdown",
   "metadata": {},
   "source": [
    "これと同じ方式がさまざまなソート基準を好きな方向に組み合わせる際に使うことができる。\n",
    "\n",
    "参集の`list`で保持するものを逆のシーケンスでソートするように確認すればよいだけである。\n",
    "\n",
    "この例では、`weight`を降順に、`name`を昇順にしたいため、`name`をソートしてから、次に`weight`をソートする必要があった。\n",
    "\n",
    "先ほどの例での「`key`関数で`tuple`を返し、マイナス単項演算子を使って異なるソート順を混在させる」手法の方が読みやすく、必要なコード量も少なく済む。\n",
    "\n",
    "この例のように複数回ソートを呼び出すのは必要な場合にのみするべきである。"
   ]
  },
  {
   "cell_type": "markdown",
   "metadata": {},
   "source": [
    "### 覚えておくこと"
   ]
  },
  {
   "cell_type": "markdown",
   "metadata": {},
   "source": [
    "- `list`型の`sort`メソッドは、リストの内容を文字列、整数、タプルなどの自然な順序に並べ替えるのに使う\n",
    "- `sort`メソッドは、特殊メソッドを使って順序付けするメソッドを定義しないとオブジェクトで動作しないが、一般的にはあまりない\n",
    "- `sort`メソッドの`key`パラメータを使い、`list`の各要素をソートする値を返すヘルパー関数を与えることができる\n",
    "- `key`関数で`tuple`を返すことにより、複数のソート基準を組み合わせることができる。単項マイナス演算子が、その型で許されるソート順を逆転するのに使える\n",
    "- マイナス演算子を使えない型では、`sort`メソッドをさまざまな`key`関数と`reverse`値に対して、最も低いランクの`sort`呼び出しから最も高いランクの`sort`呼び出しまで順に複数回呼び出すことで組み合わせたソートが出来る。"
   ]
  },
  {
   "cell_type": "markdown",
   "metadata": {},
   "source": [
    "## 項目15 dictの挿入順序に依存する場合は注意する"
   ]
  },
  {
   "cell_type": "markdown",
   "metadata": {},
   "source": [
    "Python3.5以前では、辞書型の`dict`をイテレートしようとする際、要素を挿入した順序とは無関係な順序が出力されてしまうことがあった。\n",
    "\n",
    "例えば、以下のように辞書を作り出力する例を考える（項目75参照）。"
   ]
  },
  {
   "cell_type": "code",
   "execution_count": 18,
   "metadata": {},
   "outputs": [
    {
     "name": "stdout",
     "output_type": "stream",
     "text": [
      "{'cat': 'kitten', 'dog': 'puppy'}\n"
     ]
    }
   ],
   "source": [
    "# Example 1\n",
    "# Python 3.5\n",
    "baby_names = {\n",
    "    'cat': 'kitten',\n",
    "    'dog': 'puppy',\n",
    "}\n",
    "print(baby_names)"
   ]
  },
  {
   "cell_type": "markdown",
   "metadata": {},
   "source": [
    "※Python 3.5だとこの左右が逆\n",
    "辞書を作成したときの順序は、'cat'、'dog'でしたが出力では逆になってしまうことがあった。\n",
    "\n",
    "それまでの辞書型の実装が、組み込み型関数`hash`とPython起動時に与えられる乱数のシードとのハッシュ表アルゴリズムに依存してたことが原因である。\n",
    "\n",
    "これにより挿入順序が辞書でのキーの順序とは合致せず、プログラム実行ごとにシャッフルされてしまっていた。\n",
    "\n",
    "Python3.6以降では仕様として、辞書は挿入した順番を保持するようになった。"
   ]
  },
  {
   "cell_type": "code",
   "execution_count": 19,
   "metadata": {},
   "outputs": [
    {
     "name": "stdout",
     "output_type": "stream",
     "text": [
      "{'cat': 'kitten', 'dog': 'puppy'}\n"
     ]
    }
   ],
   "source": [
    "# Example 2\n",
    "baby_names = {\n",
    "    'cat': 'kitten',\n",
    "    'dog': 'puppy',\n",
    "}\n",
    "print(baby_names)"
   ]
  },
  {
   "cell_type": "markdown",
   "metadata": {},
   "source": [
    "Python3.5以前では、`dict`に関しイテレーション順序に依存する全メソッド（`keys`・`values`・`items`・`popitem`等）でも、同じように順番がランダムになってしまう挙動であった。"
   ]
  },
  {
   "cell_type": "code",
   "execution_count": 1,
   "metadata": {},
   "outputs": [
    {
     "name": "stdout",
     "output_type": "stream",
     "text": [
      "['cat', 'dog']\n",
      "['kitten', 'puppy']\n",
      "[('cat', 'kitten'), ('dog', 'puppy')]\n",
      "('dog', 'puppy')\n"
     ]
    }
   ],
   "source": [
    "# Example 3\n",
    "# Python 3.5\n",
    "baby_names = {\n",
    "    'cat': 'kitten',\n",
    "    'dog': 'puppy',\n",
    "}\n",
    "print(list(baby_names.keys()))\n",
    "print(list(baby_names.values()))\n",
    "print(list(baby_names.items()))\n",
    "print(baby_names.popitem())  # Randomly chooses an item"
   ]
  },
  {
   "cell_type": "markdown",
   "metadata": {},
   "source": [
    "これらのメソッドも、3.6以降では挿入順序に統一された。"
   ]
  },
  {
   "cell_type": "code",
   "execution_count": 36,
   "metadata": {},
   "outputs": [
    {
     "name": "stdout",
     "output_type": "stream",
     "text": [
      "['cat', 'dog']\n",
      "['kitten', 'puppy']\n",
      "[('cat', 'kitten'), ('dog', 'puppy')]\n",
      "('dog', 'puppy')\n"
     ]
    }
   ],
   "source": [
    "baby_names = {\n",
    "    'cat': 'kitten',\n",
    "    'dog': 'puppy',\n",
    "}\n",
    "\n",
    "# Example 4\n",
    "print(list(baby_names.keys()))\n",
    "print(list(baby_names.values()))\n",
    "print(list(baby_names.items()))\n",
    "print(baby_names.popitem())  # Last item inserted"
   ]
  },
  {
   "cell_type": "markdown",
   "metadata": {},
   "source": [
    "この変更は`dict`型とその実装に依存していた他のPythonの機能に多くの影響を与えた。\n",
    "\n",
    "例えば、`**kwargs`パラメータ（「項目23」参照）を含めた関数のキーワード引数も従来はランダムな順序だったため、関数呼び出しのデバッグが難しくなっていた。"
   ]
  },
  {
   "cell_type": "code",
   "execution_count": 22,
   "metadata": {},
   "outputs": [
    {
     "name": "stdout",
     "output_type": "stream",
     "text": [
      "goose = gosling\n",
      "kangaroo = joey\n"
     ]
    }
   ],
   "source": [
    "# Example 5\n",
    "# Python 3.5\n",
    "def my_func(**kwargs):\n",
    "    for key, value in kwargs.items():\n",
    "        print('%s = %s' % (key, value))\n",
    "\n",
    "my_func(goose='gosling', kangaroo='joey')"
   ]
  },
  {
   "cell_type": "markdown",
   "metadata": {},
   "source": [
    "今ではキーワード引数の順序も、関数を呼び出した元の順序になるよう保持されている。"
   ]
  },
  {
   "cell_type": "code",
   "execution_count": 23,
   "metadata": {},
   "outputs": [
    {
     "name": "stdout",
     "output_type": "stream",
     "text": [
      "goose = gosling\n",
      "kangaroo = joey\n"
     ]
    }
   ],
   "source": [
    "# Example 6\n",
    "def my_func(**kwargs):\n",
    "    for key, value in kwargs.items():\n",
    "        print(f'{key} = {value}')\n",
    "\n",
    "my_func(goose='gosling', kangaroo='joey')"
   ]
  },
  {
   "cell_type": "markdown",
   "metadata": {},
   "source": [
    "クラスもインスタンス辞書に`dict`型を使っている。Pythonの古いバージョンでは、オブジェクトのフィールドの順序はランダムだった。"
   ]
  },
  {
   "cell_type": "code",
   "execution_count": 24,
   "metadata": {},
   "outputs": [
    {
     "name": "stdout",
     "output_type": "stream",
     "text": [
      "alligator = hatchling\n",
      "elephant = calf\n"
     ]
    }
   ],
   "source": [
    "# Example 7\n",
    "# Python 3.5\n",
    "class MyClass:\n",
    "    def __init__(self):\n",
    "        self.alligator = 'hatchling'\n",
    "        self.elephant = 'calf'\n",
    "\n",
    "a = MyClass()\n",
    "for key, value in a.__dict__.items():\n",
    "    print('%s = %s' % (key, value))\n"
   ]
  },
  {
   "cell_type": "markdown",
   "metadata": {},
   "source": [
    "これも今ではインスタンスフィールドの代入順序が`__dict__`に反映され、入力した順序となっている。"
   ]
  },
  {
   "cell_type": "code",
   "execution_count": 25,
   "metadata": {},
   "outputs": [
    {
     "name": "stdout",
     "output_type": "stream",
     "text": [
      "alligator = hatchling\n",
      "elephant = calf\n"
     ]
    }
   ],
   "source": [
    "# Example 8\n",
    "class MyClass:\n",
    "    def __init__(self):\n",
    "        self.alligator = 'hatchling'\n",
    "        self.elephant = 'calf'\n",
    "\n",
    "a = MyClass()\n",
    "for key, value in a.__dict__.items():\n",
    "    print(f'{key} = {value}')"
   ]
  },
  {
   "cell_type": "markdown",
   "metadata": {},
   "source": [
    "    長らく組み込みモジュール`collections`には挿入順序を保持する`OrderedDict`クラスがあった。\n",
    "\n",
    "    このクラスの振る舞いはPython3.7以降の標準`dict`型と同じだが、性能・特性はまったく異なる。\n",
    "\n",
    "    キーの挿入と`popitem`呼び出しが高頻度（例えばLRUキャッシュの実装）なら標準`dict`型よりも`OrderedDict`の方が良い（「項目70」参照）"
   ]
  },
  {
   "cell_type": "markdown",
   "metadata": {},
   "source": [
    "辞書が挿入順序を保持する仕様により、クラスや関数を設計する際にはこの仕様を仮定することができる。\n",
    "\n",
    "しかし、この挿入順序の振る舞いが、辞書を扱う場合に常に保持されると仮定すべきではない。\n",
    "\n",
    "Pythonでは書き手が`list`、`dict`などに合致する標準プロトコルをエミュレーションするコンテナ型を定義することが簡単にできる（項目43参照）。\n",
    "\n",
    "Pythonは静的型付けではなく、ほとんどのコードは厳格なクラス階層に基づく代わりに、オブジェクトの振る舞いがデファクト型に基づく*ダックタイピング*（動的型付けに対応したオブジェクト指向プログラミング言語に特徴的な、型付けのスタイルのひとつ）に依存している。\n",
    "\n",
    "しかしこれが原因で予測しない結果を生じることがある。\n",
    "\n",
    "例えば、一番かわいい動物の赤ちゃんというコンテストの結果を示すプログラムを考える。まず、それぞれの動物と投票数についての辞書を考える。"
   ]
  },
  {
   "cell_type": "code",
   "execution_count": 26,
   "metadata": {},
   "outputs": [],
   "source": [
    "# Example 9\n",
    "votes = {\n",
    "    'otter': 1281,\n",
    "    'polar bear': 587,\n",
    "    'fox': 863,\n",
    "}"
   ]
  },
  {
   "cell_type": "markdown",
   "metadata": {},
   "source": [
    "この投票データを引数とし、動物の順位を空の辞書`ranks`に登録する関数を定義する。"
   ]
  },
  {
   "cell_type": "code",
   "execution_count": 27,
   "metadata": {},
   "outputs": [],
   "source": [
    "# Example 10\n",
    "def populate_ranks(votes, ranks):\n",
    "    names = list(votes.keys())\n",
    "    names.sort(key=votes.get, reverse=True)\n",
    "    for i, name in enumerate(names, 1):\n",
    "        ranks[name] = i"
   ]
  },
  {
   "cell_type": "markdown",
   "metadata": {},
   "source": [
    "次に、どの動物がコンテストで優勝したかを示す関数も定義する。\n",
    "\n",
    "上の`populate_ranks`が「辞書`ranks`に昇順で動物と投票数を登録している」と仮定し、`next`を用いて優勝者を呼び出せると考え設計した。"
   ]
  },
  {
   "cell_type": "code",
   "execution_count": 28,
   "metadata": {},
   "outputs": [],
   "source": [
    "# Example 11\n",
    "def get_winner(ranks):\n",
    "    return next(iter(ranks))"
   ]
  },
  {
   "cell_type": "markdown",
   "metadata": {},
   "source": [
    "これらの関数が設計した通りに動作して、結果が期待通りになっているかを確認する。"
   ]
  },
  {
   "cell_type": "code",
   "execution_count": 29,
   "metadata": {},
   "outputs": [
    {
     "name": "stdout",
     "output_type": "stream",
     "text": [
      "{'otter': 1, 'fox': 2, 'polar bear': 3}\n",
      "otter\n"
     ]
    }
   ],
   "source": [
    "# Example 12\n",
    "ranks = {}\n",
    "populate_ranks(votes, ranks)\n",
    "print(ranks)\n",
    "winner = get_winner(ranks)\n",
    "print(winner)"
   ]
  },
  {
   "cell_type": "markdown",
   "metadata": {},
   "source": [
    "ここで、このプログラムの要求が変わったとする。結果を示すUI要素を順位ではなく、英字順に表示することになったとする。\n",
    "\n",
    "そのために、組み込みモジュール`collection.abc`を使って、新たな辞書的クラス`SortedDict`を作り、英字順に内容をイテレートするとする。"
   ]
  },
  {
   "cell_type": "code",
   "execution_count": 30,
   "metadata": {},
   "outputs": [],
   "source": [
    "# Example 13\n",
    "from collections.abc import MutableMapping\n",
    "\n",
    "class SortedDict(MutableMapping):\n",
    "    def __init__(self):\n",
    "        self.data = {}\n",
    "\n",
    "    def __getitem__(self, key):\n",
    "        return self.data[key]\n",
    "\n",
    "    def __setitem__(self, key, value):\n",
    "        self.data[key] = value\n",
    "\n",
    "    def __delitem__(self, key):\n",
    "        del self.data[key]\n",
    "\n",
    "    # keyでソートするように定義\n",
    "    def __iter__(self):\n",
    "        keys = list(self.data.keys())\n",
    "        keys.sort()\n",
    "        for key in keys:\n",
    "            yield key\n",
    "\n",
    "    def __len__(self):\n",
    "        return len(self.data)\n",
    "\n",
    "# SortedDictの挙動確認\n",
    "my_dict = SortedDict()\n",
    "my_dict['otter'] = 1\n",
    "my_dict['cheeta'] = 2\n",
    "my_dict['anteater'] = 3\n",
    "my_dict['deer'] = 4\n",
    "\n",
    "assert my_dict['otter'] == 1\n",
    "\n",
    "assert 'cheeta' in my_dict\n",
    "del my_dict['cheeta']\n",
    "assert 'cheeta' not in my_dict\n",
    "\n",
    "expected = [('anteater', 3), ('deer', 4), ('otter', 1)]\n",
    "assert list(my_dict.items()) == expected\n",
    "\n",
    "assert not isinstance(my_dict, dict)"
   ]
  },
  {
   "cell_type": "markdown",
   "metadata": {},
   "source": [
    "前に定義した関数の標準`dict`の代わりに、この`SortedDict`インスタンスを使うが標準辞書のプロトコルに適合しているためエラーは生じない。\n",
    "\n",
    "しかし、実行結果は正しくないものが出力される。"
   ]
  },
  {
   "cell_type": "code",
   "execution_count": 31,
   "metadata": {},
   "outputs": [
    {
     "name": "stdout",
     "output_type": "stream",
     "text": [
      "{'otter': 1, 'fox': 2, 'polar bear': 3}\n",
      "fox\n"
     ]
    }
   ],
   "source": [
    "# Example 14\n",
    "sorted_ranks = SortedDict()\n",
    "populate_ranks(votes, sorted_ranks)\n",
    "print(sorted_ranks.data)\n",
    "winner = get_winner(sorted_ranks)\n",
    "print(winner)"
   ]
  },
  {
   "cell_type": "markdown",
   "metadata": {},
   "source": [
    "これは上で実装した`get_winner`が、辞書のイテレーションで挿入順序が`populate_ranks`に一致していると仮定しているため、この問題が起こってしまう。\n",
    "\n",
    "（`dict`ではなく`SortedDict`を使っているため、この仮定は成り立たない。）\n",
    "\n",
    "よって優勝者として返された値は、英字順で先頭の「'fox'」となっている。\n",
    "\n",
    "この問題を解決するには3つの方法がある。\n",
    "\n",
    "一つ目は`get_winner`関数を再実装し、`ranks`辞書が特定のイテレーション順になっていると仮定しないということであり、最も保守的で頑健な解法である。"
   ]
  },
  {
   "cell_type": "code",
   "execution_count": 32,
   "metadata": {},
   "outputs": [
    {
     "name": "stdout",
     "output_type": "stream",
     "text": [
      "otter\n"
     ]
    }
   ],
   "source": [
    "# Example 15\n",
    "def get_winner(ranks):\n",
    "    for name, rank in ranks.items():\n",
    "        if rank == 1:\n",
    "            return name\n",
    "\n",
    "winner = get_winner(sorted_ranks)\n",
    "print(winner)"
   ]
  },
  {
   "cell_type": "markdown",
   "metadata": {},
   "source": [
    "二つ目の方法は、関数の先頭で`ranks`の型が期待通りかチェックして、もしそうでないなら例外を出す方法である。\n",
    "\n",
    "これは一つ目の方法よりも実行性能が優れている。"
   ]
  },
  {
   "cell_type": "code",
   "execution_count": 33,
   "metadata": {},
   "outputs": [
    {
     "name": "stderr",
     "output_type": "stream",
     "text": [
      "ERROR:root:Expected\n",
      "Traceback (most recent call last):\n",
      "  File \"C:\\Users\\su10_\\AppData\\Local\\Temp\\ipykernel_29048\\3818594816.py\", line 10, in <cell line: 2>\n",
      "    get_winner(sorted_ranks)\n",
      "  File \"C:\\Users\\su10_\\AppData\\Local\\Temp\\ipykernel_29048\\3818594816.py\", line 5, in get_winner\n",
      "    raise TypeError('must provide a dict instance')\n",
      "TypeError: must provide a dict instance\n"
     ]
    }
   ],
   "source": [
    "# Example 16\n",
    "try:\n",
    "    def get_winner(ranks):\n",
    "        if not isinstance(ranks, dict): # 1番目の引数に指定したオブジェクトが2番目の引数に指定したデータ型と等しいかどうかを返す\n",
    "            raise TypeError('must provide a dict instance')\n",
    "        return next(iter(ranks))\n",
    "    \n",
    "    assert get_winner(ranks) == 'otter'\n",
    "    \n",
    "    get_winner(sorted_ranks)\n",
    "except:\n",
    "    logging.exception('Expected')\n",
    "else:\n",
    "    assert False"
   ]
  },
  {
   "cell_type": "markdown",
   "metadata": {},
   "source": [
    "三つ目の方法は、型ヒントを用いて`get_winner`に渡される値が`dict`インスタンスで辞書的振る舞いをする`MutableMapping`でないことを確認する方法である（「項目90」参照）。\n",
    "\n",
    "次のコードでは、上のコードにアノテーションを付け、mypyツールを`strict`モードで実行したものである。"
   ]
  },
  {
   "cell_type": "code",
   "execution_count": 37,
   "metadata": {},
   "outputs": [
    {
     "name": "stdout",
     "output_type": "stream",
     "text": [
      "{'otter': 1, 'fox': 2, 'polar bear': 3}\n",
      "fox\n"
     ]
    }
   ],
   "source": [
    "# Example 17\n",
    "# Check types in this file with: python -m mypy <path>\n",
    "\n",
    "from typing import Dict, MutableMapping\n",
    "\n",
    "def populate_ranks(votes: Dict[str, int],\n",
    "                   ranks: Dict[str, int]) -> None:\n",
    "    names = list(votes.keys())\n",
    "    names.sort(key=votes.get, reverse=True)\n",
    "    for i, name in enumerate(names, 1):\n",
    "        ranks[name] = i\n",
    "\n",
    "def get_winner(ranks: Dict[str, int]) -> str:\n",
    "    return next(iter(ranks))\n",
    "\n",
    "from typing import Iterator, MutableMapping\n",
    "\n",
    "class SortedDict(MutableMapping[str, int]):\n",
    "    def __init__(self) -> None:\n",
    "        self.data: Dict[str, int] = {}\n",
    "\n",
    "    def __getitem__(self, key: str) -> int:\n",
    "        return self.data[key]\n",
    "\n",
    "    def __setitem__(self, key: str, value: int) -> None:\n",
    "        self.data[key] = value\n",
    "\n",
    "    def __delitem__(self, key: str) -> None:\n",
    "        del self.data[key]\n",
    "\n",
    "    def __iter__(self) -> Iterator[str]:\n",
    "        keys = list(self.data.keys())\n",
    "        keys.sort()\n",
    "        for key in keys:\n",
    "            yield key\n",
    "\n",
    "    def __len__(self) -> int:\n",
    "        return len(self.data)\n",
    "\n",
    "votes = {\n",
    "    'otter': 1281,\n",
    "    'polar bear': 587,\n",
    "    'fox': 863,\n",
    "}\n",
    "\n",
    "sorted_ranks = SortedDict()\n",
    "populate_ranks(votes, sorted_ranks)\n",
    "print(sorted_ranks.data)\n",
    "winner = get_winner(sorted_ranks)\n",
    "print(winner)\n"
   ]
  },
  {
   "cell_type": "markdown",
   "metadata": {},
   "source": [
    "これは正しく`dict`と`MutableMapping`型との間の不整合を検出して、不正な使い方をエラーだと通知する。\n",
    "\n",
    "これは静的型安全性と実行性能の最良の組み合わせと言える。"
   ]
  },
  {
   "cell_type": "markdown",
   "metadata": {},
   "source": [
    "### 覚えておくこと"
   ]
  },
  {
   "cell_type": "markdown",
   "metadata": {},
   "source": [
    "- Python3.7以降では、`dict`インスタンスの内容をイテレーションすると、キーが最初に挿入された順番が保持される\n",
    "- Pythonでは、`dict`インスタンスではないが辞書のようにふるまうオブジェクトを簡単に定義できる。そのような型では、挿入順序が保持されるとは仮定できない。\n",
    "- 辞書的クラスで注意するには3つの方法がある。\n",
    "  - 挿入順序に依存しないコードを書く\n",
    "  - 実行時に`dict`型か明示的にチェックする\n",
    "  - 型ヒントと静的解析を使って`dict`値の要件をチェックする"
   ]
  },
  {
   "cell_type": "markdown",
   "metadata": {},
   "source": [
    "## 項目16 辞書の欠損キーの処理にはinやKeyErrorではなくgetを使う"
   ]
  },
  {
   "cell_type": "markdown",
   "metadata": {},
   "source": [
    "辞書に関する基本的な演算として、キーと値へのアクセス・代入・削除が挙げられる。\n",
    "\n",
    "例えばサンドイッチ屋のメニューを作るために、人々の好きなパンの種類を調べようとしているとする。\n",
    "\n",
    "次のコードでは、種類ごとに現在の投票数を示す辞書を定義している。"
   ]
  },
  {
   "cell_type": "code",
   "execution_count": 2,
   "metadata": {},
   "outputs": [],
   "source": [
    "# Example 1\n",
    "counters = {\n",
    "    'pumpernickel': 2,\n",
    "    'sourdough': 1,\n",
    "}"
   ]
  },
  {
   "cell_type": "markdown",
   "metadata": {},
   "source": [
    "新たな投票に対応してカウンタを増やすには、キーがあるかを調べ、無ければ新しいキーとデフォルト値0を挿入し、カウンタの値を１つ増やすということをする。\n",
    "\n",
    "これを行うには、キーに2回アクセスし、代入を1回する必要がある。次のコードでは`if`分でキーが存在する場合に`True`を返す`in`式を用いている。"
   ]
  },
  {
   "cell_type": "code",
   "execution_count": 4,
   "metadata": {},
   "outputs": [
    {
     "name": "stdout",
     "output_type": "stream",
     "text": [
      "{'pumpernickel': 2, 'sourdough': 1, 'wheat': 2}\n"
     ]
    }
   ],
   "source": [
    "# Example 2\n",
    "key = 'wheat'\n",
    "\n",
    "if key in counters:\n",
    "    count = counters[key]\n",
    "else:\n",
    "    count = 0\n",
    "\n",
    "counters[key] = count + 1\n",
    "\n",
    "print(counters)"
   ]
  },
  {
   "cell_type": "markdown",
   "metadata": {},
   "source": [
    "別の方法として、存在しないキーの値を得たい場合に`KeyError`例外を発生させるという方法がある。\n",
    "\n",
    "この方法ではアクセスと代入をそれぞれ1回だけ行うため、先ほどの方法より効率的である。"
   ]
  },
  {
   "cell_type": "code",
   "execution_count": 5,
   "metadata": {},
   "outputs": [
    {
     "name": "stdout",
     "output_type": "stream",
     "text": [
      "{'pumpernickel': 2, 'sourdough': 1, 'wheat': 2, 'brioche': 1}\n"
     ]
    }
   ],
   "source": [
    "# Example 3\n",
    "key = 'brioche'\n",
    "\n",
    "try:\n",
    "    count = counters[key]\n",
    "except KeyError:\n",
    "    count = 0\n",
    "\n",
    "counters[key] = count + 1\n",
    "\n",
    "print(counters)"
   ]
  },
  {
   "cell_type": "markdown",
   "metadata": {},
   "source": [
    "実は、存在するキーを取得するか、デフォルト値（上の例での0）を返すという処理は`dict`の`get`メソッドとして用意されている。\n",
    "\n",
    "`get`の第一引数で`key`を、第二引数でデフォルト値を指定する。\n",
    "\n",
    "これを用いることで先ほどの`KeyError`の例よりはるかに短く書くことができる。"
   ]
  },
  {
   "cell_type": "code",
   "execution_count": 10,
   "metadata": {},
   "outputs": [
    {
     "name": "stdout",
     "output_type": "stream",
     "text": [
      "{'pumpernickel': 2, 'sourdough': 1, 'wheat': 2, 'brioche': 1, 'multigrain': 4}\n"
     ]
    }
   ],
   "source": [
    "# Example 4\n",
    "key = 'multigrain'\n",
    "\n",
    "count = counters.get(key, 0)\n",
    "counters[key] = count + 1\n",
    "\n",
    "print(counters)"
   ]
  },
  {
   "cell_type": "markdown",
   "metadata": {},
   "source": [
    "例1の`in`式や例2の`KeyError`方式を短くする方法はあるが、どのような方法をとっても代入の重複という問題を避けることができず読みにくくなってしまうので使用は避けた方がよい。"
   ]
  },
  {
   "cell_type": "code",
   "execution_count": null,
   "metadata": {},
   "outputs": [],
   "source": [
    "# Example 5\n",
    "key = 'baguette'\n",
    "\n",
    "if key not in counters:\n",
    "    counters[key] = 0\n",
    "counters[key] += 1\n",
    "\n",
    "key = 'ciabatta'\n",
    "\n",
    "if key in counters:\n",
    "    counters[key] += 1\n",
    "else:\n",
    "    counters[key] = 1\n",
    "\n",
    "key = 'ciabatta'\n",
    "\n",
    "try:\n",
    "    counters[key] += 1\n",
    "except KeyError:\n",
    "    counters[key] = 1\n",
    "\n",
    "print(counters)"
   ]
  },
  {
   "cell_type": "markdown",
   "metadata": {},
   "source": [
    "よって単純な型の辞書では、`get`メソッドを使うのが最短で最も明確なコードとなる。"
   ]
  },
  {
   "cell_type": "markdown",
   "metadata": {},
   "source": [
    "- このような辞書を保守している場合には、組み込みモジュール`collections`の`Counter`クラスを検討してもよい。"
   ]
  },
  {
   "cell_type": "markdown",
   "metadata": {},
   "source": [
    "### 辞書の値がlistの場合"
   ]
  },
  {
   "cell_type": "markdown",
   "metadata": {},
   "source": [
    "辞書の値が`list`のような複雑な型である場合を考える。\n",
    "\n",
    "例えば投票数を数えるだけでなく誰がそのパンに投票したかも集計するということを考える。\n",
    "\n",
    "次のコードでは各キーに対し名前の`list`を値として持たせた辞書を実装している。"
   ]
  },
  {
   "cell_type": "code",
   "execution_count": 11,
   "metadata": {},
   "outputs": [
    {
     "name": "stdout",
     "output_type": "stream",
     "text": [
      "{'baguette': ['Bob', 'Alice'], 'ciabatta': ['Coco', 'Deb'], 'brioche': ['Elmer']}\n"
     ]
    }
   ],
   "source": [
    "# Example 6\n",
    "votes = {\n",
    "    'baguette': ['Bob', 'Alice'],\n",
    "    'ciabatta': ['Coco', 'Deb'],\n",
    "}\n",
    "\n",
    "key = 'brioche'\n",
    "who = 'Elmer'\n",
    "\n",
    "if key in votes:\n",
    "    names = votes[key]\n",
    "else:\n",
    "    votes[key] = names = []\n",
    "\n",
    "names.append(who)\n",
    "print(votes)"
   ]
  },
  {
   "cell_type": "markdown",
   "metadata": {},
   "source": [
    "このコードのように、`in`式を用いる場合、キーのある場合には2回、ない場合には1回のアクセスと1回の代入が必要である。\n",
    "\n",
    "この例では1つ前のカウンタの例とは異なり、キーが存在しない場合には空のリストを代入しなければいけない。\n",
    "\n",
    "3重代入文（votes[key] = names = []）によって、2行ではなく1行でキーを追加している。\n",
    "\n",
    "辞書にデフォルト値が挿入され、`list`がその後の`append`呼び出しにより変更されるため、再度代入する必要は無い。"
   ]
  },
  {
   "cell_type": "markdown",
   "metadata": {},
   "source": [
    "次のコードのように`KeyError`例外の方法を用いて実装することも可能である。\n",
    "\n",
    "キーの有無に関わらず1回のアクセスと1回の代入のみが必要であり、上の`in`条件式よりも効率的である。"
   ]
  },
  {
   "cell_type": "code",
   "execution_count": 12,
   "metadata": {},
   "outputs": [
    {
     "name": "stdout",
     "output_type": "stream",
     "text": [
      "{'baguette': ['Bob', 'Alice'], 'ciabatta': ['Coco', 'Deb'], 'brioche': ['Elmer'], 'rye': ['Felix']}\n"
     ]
    }
   ],
   "source": [
    "# Example 7\n",
    "votes = {\n",
    "    'baguette': ['Bob', 'Alice'],\n",
    "    'ciabatta': ['Coco', 'Deb'],\n",
    "}\n",
    "\n",
    "key = 'rye'\n",
    "who = 'Felix'\n",
    "\n",
    "try:\n",
    "    names = votes[key]\n",
    "except KeyError:\n",
    "    votes[key] = names = []\n",
    "\n",
    "names.append(who)\n",
    "\n",
    "print(votes)"
   ]
  },
  {
   "cell_type": "markdown",
   "metadata": {},
   "source": [
    "また、`get`メソッドでもアクセスと代入を1回ずつで実行できる"
   ]
  },
  {
   "cell_type": "code",
   "execution_count": 13,
   "metadata": {},
   "outputs": [
    {
     "name": "stdout",
     "output_type": "stream",
     "text": [
      "{'baguette': ['Bob', 'Alice'], 'ciabatta': ['Coco', 'Deb'], 'brioche': ['Elmer'], 'rye': ['Felix'], 'wheat': ['Gertrude']}\n"
     ]
    }
   ],
   "source": [
    "# Example 8\n",
    "votes = {\n",
    "    'baguette': ['Bob', 'Alice'],\n",
    "    'ciabatta': ['Coco', 'Deb'],\n",
    "}\n",
    "\n",
    "key = 'wheat'\n",
    "who = 'Gertrude'\n",
    "\n",
    "names = votes.get(key)\n",
    "if names is None:\n",
    "    votes[key] = names = []\n",
    "\n",
    "names.append(who)\n",
    "\n",
    "print(votes)"
   ]
  },
  {
   "cell_type": "markdown",
   "metadata": {},
   "source": [
    "`get`を使って`list`値を取得するこの方式は、if文で代入式（「項目10 代入式で繰り返しを防ぐ」参照）を用いることで、1行短縮することができ読みやすさが向上する。"
   ]
  },
  {
   "cell_type": "code",
   "execution_count": 14,
   "metadata": {},
   "outputs": [
    {
     "name": "stdout",
     "output_type": "stream",
     "text": [
      "{'baguette': ['Bob', 'Alice'], 'ciabatta': ['Coco', 'Deb'], 'brioche': ['Elmer', 'Hugh'], 'rye': ['Felix'], 'wheat': ['Gertrude']}\n"
     ]
    }
   ],
   "source": [
    "# Example 9\n",
    "key = 'brioche'\n",
    "who = 'Hugh'\n",
    "\n",
    "if (names := votes.get(key)) is None:\n",
    "    votes[key] = names = []\n",
    "\n",
    "names.append(who)\n",
    "\n",
    "print(votes)"
   ]
  },
  {
   "cell_type": "markdown",
   "metadata": {},
   "source": [
    "`dict`型には、さらに簡潔に書くことのできる`setdefault`メソッドもある。\n",
    "\n",
    "`setdefault`は辞書のキーの値を取得しようとし、キーがない場合、このメソッドはそのキーに対し指定されたデフォルト値を割り当て、ある場合は対応する値を返す。\n",
    "\n",
    "つまりデフォルト値または元々あった値のいずれかを返すメソッドである。\n",
    "\n",
    "次のコードでは前の`get`の例と同じロジックを`setdefault`を用いて実装している。"
   ]
  },
  {
   "cell_type": "code",
   "execution_count": 15,
   "metadata": {},
   "outputs": [
    {
     "name": "stdout",
     "output_type": "stream",
     "text": [
      "{'baguette': ['Bob', 'Alice'], 'ciabatta': ['Coco', 'Deb'], 'brioche': ['Elmer', 'Hugh'], 'rye': ['Felix'], 'wheat': ['Gertrude'], 'cornbread': ['Kirk']}\n"
     ]
    }
   ],
   "source": [
    "# Example 10\n",
    "key = 'cornbread'\n",
    "who = 'Kirk'\n",
    "\n",
    "names = votes.setdefault(key, [])\n",
    "names.append(who)\n",
    "\n",
    "print(votes)"
   ]
  },
  {
   "cell_type": "markdown",
   "metadata": {},
   "source": [
    "期待通りに動作し短くなっているが、あまり読みやすいとは言えない。\n",
    "\n",
    "値を取得しているのにメソッド名は`set`という名前をしており、目的を混乱させてしまっている。\n",
    "\n",
    "Pythonに詳しくない人が読む際に、何をしようとしているか分からなくなってしまう懸念がある。"
   ]
  },
  {
   "cell_type": "markdown",
   "metadata": {},
   "source": [
    "また、`setdefault`に渡されるデフォルト値は欠損キーの場合には辞書に複製されるのではなく直接代入される。\n",
    "\n",
    "値が`list`である場合のそれによる影響を次の例で示す。"
   ]
  },
  {
   "cell_type": "code",
   "execution_count": 16,
   "metadata": {},
   "outputs": [
    {
     "name": "stdout",
     "output_type": "stream",
     "text": [
      "Before: {'foo': []}\n",
      "After:  {'foo': ['hello']}\n"
     ]
    }
   ],
   "source": [
    "# Example 11\n",
    "data = {}\n",
    "key = 'foo'\n",
    "value = []\n",
    "data.setdefault(key, value)\n",
    "print('Before:', data)\n",
    "value.append('hello')\n",
    "print('After: ', data)"
   ]
  },
  {
   "cell_type": "markdown",
   "metadata": {},
   "source": [
    "`setdefault`でアクセスする場合、どんなキーであっても新たなデフォルト値を作成しておかなければならない、ということである。\n",
    "\n",
    "`setdefault`を呼び出すたびに作成するため、パフォーマンス上大きなオーバーヘッドになってしまう。\n",
    "\n",
    "しかし、性能や読みやすさを気にしてこのデフォルト値を再利用してしまうと、不思議な現象やバグを生み出すことになる（この問題の別の例について「項目24 動的なデフォルト引数を指定するときにはNoneとdocstringを使う」参照）。"
   ]
  },
  {
   "cell_type": "markdown",
   "metadata": {},
   "source": [
    "誰が投票したかのリストのではなく、辞書の値にカウンタを使っていた例に戻り、`setdefault`を使った例が次のコードである。"
   ]
  },
  {
   "cell_type": "code",
   "execution_count": 17,
   "metadata": {},
   "outputs": [
    {
     "name": "stdout",
     "output_type": "stream",
     "text": [
      "{'pumpernickel': 2, 'sourdough': 1, 'wheat': 2, 'brioche': 1, 'multigrain': 4, 'dutch crunch': 1}\n"
     ]
    }
   ],
   "source": [
    "# Example 12\n",
    "key = 'dutch crunch'\n",
    "\n",
    "# 比較: counters.get(key, 0)\n",
    "count = counters.setdefault(key, 0)\n",
    "counters[key] = count + 1\n",
    "\n",
    "print(counters)"
   ]
  },
  {
   "cell_type": "markdown",
   "metadata": {},
   "source": [
    "このコードにおける問題は、`setdefault`の呼び出しが余計だという点である。カウンタを増やした後で、辞書のキーに常に新たな値を代入する必要がある。\n",
    "\n",
    "よって、`setdefault`による余計な代入は必要がない。カウンタ更新に`get`を使う従来の方式では、カウンタ更新はアクセスと代入が1回ずつだった。\n",
    "\n",
    "しかし`setdefault`では1回のアクセスと2回の代入が必要となってしまう。"
   ]
  },
  {
   "cell_type": "markdown",
   "metadata": {},
   "source": [
    "欠損した辞書キーを扱うのに`setdefault`が最短となるのは、デフォルト値の作成が安価で変更可能勝つ例外の起こる可能性がない（例：`list`インスタンス）わずかな状況に限られている。\n",
    "\n",
    "そのような非常に特殊な場合には、`get`を使うためにより多くの文字と行を費やすよりもメソッド名の`setdefault`が紛らしくても使う価値があると言える。\n",
    "\n",
    "しかし、そのような状況で本当に必要なのは、`defaultdict`を使うことである（「項目17」参照）。"
   ]
  },
  {
   "cell_type": "markdown",
   "metadata": {},
   "source": [
    "### 覚えておくこと"
   ]
  },
  {
   "cell_type": "markdown",
   "metadata": {},
   "source": [
    "- 辞書の欠損キーを検出するには以下の4津の方法がある：\n",
    "  - `in`式\n",
    "  - `KeyError`例外\n",
    "  - `get`メソッド\n",
    "  - `setdefault`メソッド\n",
    "- `get`メソッドは、カウンタのような基本的な型からなる辞書には最適である。辞書の値の生成コストがかかる場合や例外が送出される可能性がある場合は代入式と一緒に用いるのが良い。\n",
    "- `dict`の`setdefault`の代わりに`defaultdict`を用いることを検討する"
   ]
  }
 ],
 "metadata": {
  "kernelspec": {
   "display_name": "Python 3.10.4 ('develop')",
   "language": "python",
   "name": "python3"
  },
  "language_info": {
   "codemirror_mode": {
    "name": "ipython",
    "version": 3
   },
   "file_extension": ".py",
   "mimetype": "text/x-python",
   "name": "python",
   "nbconvert_exporter": "python",
   "pygments_lexer": "ipython3",
   "version": "3.10.4"
  },
  "orig_nbformat": 4,
  "vscode": {
   "interpreter": {
    "hash": "e44055ce3e952bd426b5fb3f107ba07a260ee6f4ce0ddea34f4e7c6cc81b9081"
   }
  }
 },
 "nbformat": 4,
 "nbformat_minor": 2
}
