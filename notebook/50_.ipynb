{
 "cells": [
  {
   "attachments": {},
   "cell_type": "markdown",
   "metadata": {},
   "source": [
    "# 5/18, 6/1\n",
    "発表担当：須藤"
   ]
  },
  {
   "cell_type": "code",
   "execution_count": 2,
   "metadata": {},
   "outputs": [
    {
     "data": {
      "text/plain": [
       "<function __main__.close_open_files()>"
      ]
     },
     "execution_count": 2,
     "metadata": {},
     "output_type": "execute_result"
    }
   ],
   "source": [
    "# Reproduce book environment\n",
    "import random\n",
    "random.seed(1234)\n",
    "\n",
    "import logging\n",
    "from pprint import pprint\n",
    "from sys import stdout as STDOUT\n",
    "\n",
    "# Write all output to a temporary directory\n",
    "import atexit\n",
    "import gc\n",
    "import io\n",
    "import os\n",
    "import tempfile\n",
    "\n",
    "TEST_DIR = tempfile.TemporaryDirectory()\n",
    "atexit.register(TEST_DIR.cleanup)\n",
    "\n",
    "# Make sure Windows processes exit cleanly\n",
    "OLD_CWD = os.getcwd()\n",
    "atexit.register(lambda: os.chdir(OLD_CWD))\n",
    "os.chdir(TEST_DIR.name)\n",
    "\n",
    "def close_open_files():\n",
    "    everything = gc.get_objects()\n",
    "    for obj in everything:\n",
    "        if isinstance(obj, io.IOBase):\n",
    "            obj.close()\n",
    "\n",
    "atexit.register(close_open_files)"
   ]
  },
  {
   "attachments": {},
   "cell_type": "markdown",
   "metadata": {},
   "source": [
    "## 項目50 クラス属性に`__set_name__`で注釈を加える"
   ]
  },
  {
   "attachments": {},
   "cell_type": "markdown",
   "metadata": {},
   "source": [
    "メタクラスで実現されるもう1つの有用な機能は、クラスが定義された後で、実際に使われる前に、属性を修正したり、注釈を加えたりする能力である。この方式は、一般にディスクリプタを使って(「項目46 再利用可能な@property メソッドにディスクリプタを使う」 参照) 包含するクラス内においてそれがどのように使われるかを、さらに調べられるようにする。\n",
    "\n",
    "例えば、顧客データベースのレコードを表す新しいクラスを定義したいとする。データベースの\n",
    "テーブルの各カラムに対応する属性が必要である。そのために、属性とカラム名を連携するディスクリプタクラスを定義する。\n"
   ]
  },
  {
   "cell_type": "code",
   "execution_count": 3,
   "metadata": {},
   "outputs": [],
   "source": [
    "# Example 1\n",
    "class Field:\n",
    "    def __init__(self, name):\n",
    "        self.name = name\n",
    "        self.internal_name = '_' + self.name\n",
    "\n",
    "    def __get__(self, instance, instance_type):\n",
    "        if instance is None:\n",
    "            return self\n",
    "        return getattr(instance, self.internal_name, '')\n",
    "\n",
    "    def __set__(self, instance, value):\n",
    "        setattr(instance, self.internal_name, value)"
   ]
  },
  {
   "attachments": {},
   "cell_type": "markdown",
   "metadata": {},
   "source": [
    "カラム名がFieldディスクリプタに格納されているため、すべてのインスタンスごとの状態は、み込み関数 setattr と getattr を使ってインスタンス辞書に保護フィールドとして直接保存できる。最初は、これは、メモリリークを避けるために weakref を使ったディスクリプタを構築するよりも、ずっと簡便に思える。\n",
    "\n",
    "レコードを表現するクラスを定義するには、各クラス属性にカラム名を与える必要がある。\n"
   ]
  },
  {
   "cell_type": "code",
   "execution_count": 4,
   "metadata": {},
   "outputs": [],
   "source": [
    "# Example 2\n",
    "class Customer:\n",
    "    # Class attributes\n",
    "    first_name = Field('first_name')\n",
    "    last_name = Field('last_name')\n",
    "    prefix = Field('prefix')\n",
    "    suffix = Field('suffix')\n"
   ]
  },
  {
   "attachments": {},
   "cell_type": "markdown",
   "metadata": {},
   "source": [
    "クラスの使い方は簡単で、Field ディスクリプタが期待通りにインスタンス辞書`__dict__`を修正していることがわかる。"
   ]
  },
  {
   "cell_type": "code",
   "execution_count": 5,
   "metadata": {},
   "outputs": [
    {
     "name": "stdout",
     "output_type": "stream",
     "text": [
      "Before: '' {}\n",
      "After:  'Euclid' {'_first_name': 'Euclid'}\n"
     ]
    }
   ],
   "source": [
    "# Example 3\n",
    "cust = Customer()\n",
    "print(f'Before: {cust.first_name!r} {cust.__dict__}')\n",
    "cust.first_name = 'Euclid'\n",
    "print(f'After:  {cust.first_name!r} {cust.__dict__}')"
   ]
  },
  {
   "attachments": {},
   "cell_type": "markdown",
   "metadata": {},
   "source": [
    "しかし、クラス定義が冗長です。 ('field_name=') という代入文の左辺で、フィールド名を既に宣言している。右辺で (Field('first_name')) とフィールド名をFieldコンストラクタにも渡す\n",
    "必要がなぜあるのだろうか。\n"
   ]
  },
  {
   "cell_type": "code",
   "execution_count": 6,
   "metadata": {},
   "outputs": [],
   "source": [
    "# Example 4\n",
    "class Customer:\n",
    "    # 左辺と右辺が冗長\n",
    "    first_name = Field('first_name')\n",
    "    last_name = Field('last_name')\n",
    "    prefix = Field('prefix')\n",
    "    suffix = Field('suffix')\n"
   ]
  },
  {
   "attachments": {},
   "cell_type": "markdown",
   "metadata": {},
   "source": [
    "問題は Customer クラス定義における演算順序が、左から右へと読む順序とは反対になっていることです。最初に、FieldコンストラクタがField('first_name')で呼ばれます。それから、その戻り値がCustomer.first_nameに代入されます。Field インスタンスが前もって、どのクラス属性に代入されるかを知る方法はありません。\n",
    "\n",
    "この冗長性をなくすために、メタクラスを使います。メタクラスはclass文に直接フックを掛けて\n",
    "class 本体が終わるやいなや動作できます (働きの詳細は「項目48 サブクラスを`__init_subclass__`で検証する」参照)。この場合、フィールド名を何度も指定する代わりに、メタクラスを使ってField. nameとField.internal_nameとをディスクリプタで自動的に割り当てることができます。\n"
   ]
  },
  {
   "cell_type": "code",
   "execution_count": 7,
   "metadata": {},
   "outputs": [],
   "source": [
    "# Example 5\n",
    "class Meta(type):\n",
    "    def __new__(meta, name, bases, class_dict):\n",
    "        for key, value in class_dict.items():\n",
    "            if isinstance(value, Field):\n",
    "                value.name = key\n",
    "                value.internal_name = '_' + key\n",
    "        cls = type.__new__(meta, name, bases, class_dict)\n",
    "        return cls"
   ]
  },
  {
   "attachments": {},
   "cell_type": "markdown",
   "metadata": {},
   "source": [
    "次に、メタクラスを使う基底クラスを定義します。 データベースのレコードを表すクラスはすべて メタクラスを使うように、このクラスを継承しなければなりません。"
   ]
  },
  {
   "cell_type": "code",
   "execution_count": 8,
   "metadata": {},
   "outputs": [],
   "source": [
    "# Example 6\n",
    "class DatabaseRow(metaclass=Meta):\n",
    "    pass"
   ]
  },
  {
   "attachments": {},
   "cell_type": "markdown",
   "metadata": {},
   "source": [
    "メタクラスを使っても、フィールドディスクリプタはほとんど変わりません。唯一の相違点は、コンストラクタに渡す引数がもはや必要ないことです。代わりに、属性が上の `Meta.__new__` メソッドによって設定されます。\n"
   ]
  },
  {
   "cell_type": "code",
   "execution_count": 9,
   "metadata": {},
   "outputs": [],
   "source": [
    "# Example 7\n",
    "class Field:\n",
    "    def __init__(self):\n",
    "        # These will be assigned by the metaclass.\n",
    "        self.name = None\n",
    "        self.internal_name = None\n",
    "\n",
    "    def __get__(self, instance, instance_type):\n",
    "        if instance is None:\n",
    "            return self\n",
    "        return getattr(instance, self.internal_name, '')\n",
    "\n",
    "    def __set__(self, instance, value):\n",
    "        setattr(instance, self.internal_name, value)"
   ]
  },
  {
   "attachments": {},
   "cell_type": "markdown",
   "metadata": {},
   "source": [
    "メタクラスを使うことで、 新しい DatabaseRow 基底クラス、 新しいFieldディスクリプタ、そしてデータベースのレコードのためのクラス定義は、変更前にあった冗長性を解消しました。\n"
   ]
  },
  {
   "cell_type": "code",
   "execution_count": 10,
   "metadata": {},
   "outputs": [],
   "source": [
    "# Example 8\n",
    "class BetterCustomer(DatabaseRow):\n",
    "    first_name = Field()\n",
    "    last_name = Field()\n",
    "    prefix = Field()\n",
    "    suffix = Field()"
   ]
  },
  {
   "attachments": {},
   "cell_type": "markdown",
   "metadata": {},
   "source": [
    "新しいクラスの振る舞いは、 変更前と変わりません。"
   ]
  },
  {
   "cell_type": "code",
   "execution_count": 11,
   "metadata": {},
   "outputs": [
    {
     "name": "stdout",
     "output_type": "stream",
     "text": [
      "Before: '' {}\n",
      "After:  'Euler' {'_first_name': 'Euler'}\n"
     ]
    }
   ],
   "source": [
    "# Example 9\n",
    "cust = BetterCustomer()\n",
    "print(f'Before: {cust.first_name!r} {cust.__dict__}')\n",
    "cust.first_name = 'Euler'\n",
    "print(f'After:  {cust.first_name!r} {cust.__dict__}')\n"
   ]
  },
  {
   "attachments": {},
   "cell_type": "markdown",
   "metadata": {},
   "source": [
    "この方式には、同じくDatabaseRow から継承されているものでないと、属性に Field クラスを使えないという問題点があります。DatabaseRow のサブクラスを忘れたり、クラス階層の他の構造的要求に従わないと、コードはうまくいきません。"
   ]
  },
  {
   "cell_type": "code",
   "execution_count": 12,
   "metadata": {},
   "outputs": [
    {
     "name": "stderr",
     "output_type": "stream",
     "text": [
      "ERROR:root:Expected\n",
      "Traceback (most recent call last):\n",
      "  File \"C:\\Users\\su10_\\AppData\\Local\\Temp\\ipykernel_27020\\3518107673.py\", line 10, in <cell line: 2>\n",
      "    cust.first_name = 'Mersenne'\n",
      "  File \"C:\\Users\\su10_\\AppData\\Local\\Temp\\ipykernel_27020\\2110137792.py\", line 14, in __set__\n",
      "    setattr(instance, self.internal_name, value)\n",
      "TypeError: attribute name must be string, not 'NoneType'\n"
     ]
    }
   ],
   "source": [
    "# Example 10\n",
    "try:\n",
    "    class BrokenCustomer:\n",
    "        first_name = Field()\n",
    "        last_name = Field()\n",
    "        prefix = Field()\n",
    "        suffix = Field()\n",
    "    \n",
    "    cust = BrokenCustomer()\n",
    "    cust.first_name = 'Mersenne'\n",
    "except:\n",
    "    logging.exception('Expected')\n",
    "else:\n",
    "    assert False"
   ]
  },
  {
   "attachments": {},
   "cell_type": "markdown",
   "metadata": {},
   "source": [
    "この問題の解は、ディスクリプタに特殊メソッド `__set_name__` を使うことです。Python 3.6で導入されたこのメソッドは、含まれるクラスが定義されるときに、すべてのディスクリプタインスタンスについて呼び出されます。ディスクリプタインスタンスを保持する所有クラスとディスクリプタインスタンスが代入される属性名をパラメータとしてチェックします。次のコードでは、メタクラス全体の定 義は避けて、上で `Meta.__new__` メソッドが行っていることを `__set_name__` に移しています。\n"
   ]
  },
  {
   "cell_type": "code",
   "execution_count": 13,
   "metadata": {},
   "outputs": [],
   "source": [
    "# Example 11\n",
    "class Field:\n",
    "    def __init__(self):\n",
    "        self.name = None\n",
    "        self.internal_name = None\n",
    "\n",
    "    def __set_name__(self, owner, name):\n",
    "        # Called on class creation for each descriptor\n",
    "        self.name = name\n",
    "        self.internal_name = '_' + name\n",
    "\n",
    "    def __get__(self, instance, instance_type):\n",
    "        if instance is None:\n",
    "            return self\n",
    "        return getattr(instance, self.internal_name, '')\n",
    "\n",
    "    def __set__(self, instance, value):\n",
    "        setattr(instance, self.internal_name, value)"
   ]
  },
  {
   "attachments": {},
   "cell_type": "markdown",
   "metadata": {},
   "source": [
    "今度は、スーパークラスから継承したり、メタクラスを使わなくても Fieldディスクリプタの便益\n",
    "が得られます。\n"
   ]
  },
  {
   "cell_type": "code",
   "execution_count": 14,
   "metadata": {},
   "outputs": [
    {
     "name": "stdout",
     "output_type": "stream",
     "text": [
      "Before: '' {}\n",
      "After:  'Mersenne' {'_first_name': 'Mersenne'}\n"
     ]
    }
   ],
   "source": [
    "# Example 12\n",
    "class FixedCustomer:\n",
    "    first_name = Field()\n",
    "    last_name = Field()\n",
    "    prefix = Field()\n",
    "    suffix = Field()\n",
    "\n",
    "cust = FixedCustomer()\n",
    "print(f'Before: {cust.first_name!r} {cust.__dict__}')\n",
    "cust.first_name = 'Mersenne'\n",
    "print(f'After:  {cust.first_name!r} {cust.__dict__}')"
   ]
  },
  {
   "attachments": {},
   "cell_type": "markdown",
   "metadata": {},
   "source": [
    "### 覚えておくこと"
   ]
  },
  {
   "attachments": {},
   "cell_type": "markdown",
   "metadata": {},
   "source": [
    "- メタクラスは、クラスが完全に定義される前に、クラス属性の修正を可能にする。\n",
    "- ディスクリプタとメタクラスとは、宣言的な振る舞いと実行時イントロスペクションのための強力なコンビである。\n",
    "- ディスクリプタクラスで `__set_name__` を定義すると、取り囲むクラスとその属性名につ いての処理ができる。\n",
    "- ディスクリプタがクラスインスタンスの階層において、 扱うデータを直接調べることで、メモリリークと組み込みモジュール weakref の両方を避けることができる。\n"
   ]
  },
  {
   "attachments": {},
   "cell_type": "markdown",
   "metadata": {},
   "source": [
    "## 項目51 合成可能なクラス拡張のためにはメタクラスではなくクラスデコレータを使う "
   ]
  },
  {
   "attachments": {},
   "cell_type": "markdown",
   "metadata": {},
   "source": [
    "メタクラスで、クラス作成をさまざまな方法でカスタマイズ (「項目48 サブクラスを `__init_subclass__` で検証する」や「項目49 クラスの存在を`__init_subclass__`で登録する」 参照)できますが起こりうるあらゆる状況を扱うことはまだできません。\n",
    "例えば、クラスの全メソッドについて、引数、戻り値、発生した例外を出力するヘルパーをデコレートしたいとします。 次のコードでは、デバッグデコレータを定義します (背景は「項目26 functools.wraps を使って関数デコレータを定義する」参照)。\n"
   ]
  },
  {
   "cell_type": "code",
   "execution_count": 15,
   "metadata": {},
   "outputs": [],
   "source": [
    "# Example 1\n",
    "from functools import wraps\n",
    "\n",
    "def trace_func(func):\n",
    "    if hasattr(func, 'tracing'):  # Only decorate once\n",
    "        return func\n",
    "\n",
    "    @wraps(func)\n",
    "    def wrapper(*args, **kwargs):\n",
    "        result = None\n",
    "        try:\n",
    "            result = func(*args, **kwargs)\n",
    "            return result\n",
    "        except Exception as e:\n",
    "            result = e\n",
    "            raise\n",
    "        finally:\n",
    "            print(f'{func.__name__}({args!r}, {kwargs!r}) -> '\n",
    "                  f'{result!r}')\n",
    "\n",
    "    wrapper.tracing = True\n",
    "    return wrapper"
   ]
  },
  {
   "attachments": {},
   "cell_type": "markdown",
   "metadata": {},
   "source": [
    "新たな dict サブクラスのさまざまな特殊メソッドに、このデコレータを適用できます (背景は「項目43 カスタムコンテナ型は collections.abc を継承する」参照)。"
   ]
  },
  {
   "cell_type": "code",
   "execution_count": 16,
   "metadata": {},
   "outputs": [],
   "source": [
    "# Example 2\n",
    "class TraceDict(dict):\n",
    "    @trace_func\n",
    "    def __init__(self, *args, **kwargs):\n",
    "        super().__init__(*args, **kwargs)\n",
    "\n",
    "    @trace_func\n",
    "    def __setitem__(self, *args, **kwargs):\n",
    "        return super().__setitem__(*args, **kwargs)\n",
    "\n",
    "    @trace_func\n",
    "    def __getitem__(self, *args, **kwargs):\n",
    "        return super().__getitem__(*args, **kwargs)"
   ]
  },
  {
   "attachments": {},
   "cell_type": "markdown",
   "metadata": {},
   "source": [
    "クラスのインスタンスとのやり取りで、これらのメソッドのデコレータの妥当性検証ができます。"
   ]
  },
  {
   "cell_type": "code",
   "execution_count": 17,
   "metadata": {},
   "outputs": [
    {
     "name": "stdout",
     "output_type": "stream",
     "text": [
      "__init__(({'hi': 1}, [('hi', 1)]), {}) -> None\n",
      "__setitem__(({'hi': 1, 'there': 2}, 'there', 2), {}) -> None\n",
      "__getitem__(({'hi': 1, 'there': 2}, 'hi'), {}) -> 1\n",
      "__getitem__(({'hi': 1, 'there': 2}, 'does not exist'), {}) -> KeyError('does not exist')\n"
     ]
    }
   ],
   "source": [
    "# Example 3\n",
    "trace_dict = TraceDict([('hi', 1)])\n",
    "trace_dict['there'] = 2\n",
    "trace_dict['hi']\n",
    "try:\n",
    "    trace_dict['does not exist']\n",
    "except KeyError:\n",
    "    pass  # Expected\n",
    "else:\n",
    "    assert False"
   ]
  },
  {
   "attachments": {},
   "cell_type": "markdown",
   "metadata": {},
   "source": [
    "このコードには、 @trace_func でデコレートしたいメソッドをすべて再定義しなければならないと いう問題点があります。これは、冗長なボイラープレート（使いまわされることを前提にした文言）で、読みにくくエラーになりやすいものです。 さらに、新たなメソッドを後で dict サブクラスに追加する場合には、TraceDict で定義しておかないとデコレートされません。\n",
    "\n",
    "この問題を解決する方法の1つに、メタクラスを使ってクラスのメソッドをすべて自動的にデコレートする方法があります。 次のコードでは、この振る舞いを関数やメソッドをtrace_func デコレータの新たな型でラップして実装します。"
   ]
  },
  {
   "cell_type": "code",
   "execution_count": 18,
   "metadata": {},
   "outputs": [],
   "source": [
    "# Example 4\n",
    "import types\n",
    "\n",
    "trace_types = (\n",
    "    types.MethodType,\n",
    "    types.FunctionType,\n",
    "    types.BuiltinFunctionType,\n",
    "    types.BuiltinMethodType,\n",
    "    types.MethodDescriptorType,\n",
    "    types.ClassMethodDescriptorType)\n",
    "\n",
    "class TraceMeta(type):\n",
    "    def __new__(meta, name, bases, class_dict):\n",
    "        klass = super().__new__(meta, name, bases, class_dict)\n",
    "\n",
    "        for key in dir(klass):\n",
    "            value = getattr(klass, key)\n",
    "            if isinstance(value, trace_types):\n",
    "                wrapped = trace_func(value)\n",
    "                setattr(klass, key, wrapped)\n",
    "\n",
    "        return klass"
   ]
  },
  {
   "attachments": {},
   "cell_type": "markdown",
   "metadata": {},
   "source": [
    "メタクラス TraceMetaを使ってdict サブクラスを宣言し、 期待通り動作することを検証できます。"
   ]
  },
  {
   "cell_type": "code",
   "execution_count": 19,
   "metadata": {},
   "outputs": [
    {
     "name": "stdout",
     "output_type": "stream",
     "text": [
      "__new__((<class '__main__.TraceDict'>, [('hi', 1)]), {}) -> {}\n",
      "__getitem__(({'hi': 1, 'there': 2}, 'hi'), {}) -> 1\n",
      "__getitem__(({'hi': 1, 'there': 2}, 'does not exist'), {}) -> KeyError('does not exist')\n"
     ]
    }
   ],
   "source": [
    "# Example 5\n",
    "class TraceDict(dict, metaclass=TraceMeta):\n",
    "    pass\n",
    "\n",
    "trace_dict = TraceDict([('hi', 1)])\n",
    "trace_dict['there'] = 2\n",
    "trace_dict['hi']\n",
    "try:\n",
    "    trace_dict['does not exist']\n",
    "except KeyError:\n",
    "    pass  # Expected\n",
    "else:\n",
    "    assert False\n"
   ]
  },
  {
   "attachments": {},
   "cell_type": "markdown",
   "metadata": {},
   "source": [
    "うまく動くだけでなく、 前の実装にはなかった__new__ の呼び出しも出力できています。 スーパークラスで既にメタクラスが指定されている場合、 TraceMetaを使うとどうなるでしょうか。"
   ]
  },
  {
   "cell_type": "code",
   "execution_count": 20,
   "metadata": {},
   "outputs": [
    {
     "name": "stderr",
     "output_type": "stream",
     "text": [
      "ERROR:root:Expected\n",
      "Traceback (most recent call last):\n",
      "  File \"C:\\Users\\su10_\\AppData\\Local\\Temp\\ipykernel_27020\\3195519885.py\", line 9, in <cell line: 2>\n",
      "    class TraceDict(SimpleDict, metaclass=TraceMeta):\n",
      "TypeError: metaclass conflict: the metaclass of a derived class must be a (non-strict) subclass of the metaclasses of all its bases\n"
     ]
    }
   ],
   "source": [
    "# Example 6\n",
    "try:\n",
    "    class OtherMeta(type):\n",
    "        pass\n",
    "    \n",
    "    class SimpleDict(dict, metaclass=OtherMeta):\n",
    "        pass\n",
    "    \n",
    "    class TraceDict(SimpleDict, metaclass=TraceMeta):\n",
    "        pass\n",
    "except:\n",
    "    logging.exception('Expected')\n",
    "else:\n",
    "    assert False"
   ]
  },
  {
   "attachments": {},
   "cell_type": "markdown",
   "metadata": {},
   "source": [
    "これは、TraceMetaがOther Metaを継承していないので、うまくいきません。理論的には、メタ クラス継承を使い、TraceMeta から Other Meta を継承してこの問題を解消できるはずです。"
   ]
  },
  {
   "cell_type": "code",
   "execution_count": 21,
   "metadata": {},
   "outputs": [
    {
     "name": "stdout",
     "output_type": "stream",
     "text": [
      "__init_subclass__((), {}) -> None\n",
      "__new__((<class '__main__.TraceDict'>, [('hi', 1)]), {}) -> {}\n",
      "__getitem__(({'hi': 1, 'there': 2}, 'hi'), {}) -> 1\n",
      "__getitem__(({'hi': 1, 'there': 2}, 'does not exist'), {}) -> KeyError('does not exist')\n"
     ]
    }
   ],
   "source": [
    "# Example 7\n",
    "class TraceMeta(type):\n",
    "    def __new__(meta, name, bases, class_dict):\n",
    "        klass = type.__new__(meta, name, bases, class_dict)\n",
    "\n",
    "        for key in dir(klass):\n",
    "            value = getattr(klass, key)\n",
    "            if isinstance(value, trace_types):\n",
    "                wrapped = trace_func(value)\n",
    "                setattr(klass, key, wrapped)\n",
    "\n",
    "        return klass\n",
    "\n",
    "class OtherMeta(TraceMeta):\n",
    "    pass\n",
    "\n",
    "class SimpleDict(dict, metaclass=OtherMeta):\n",
    "    pass\n",
    "\n",
    "class TraceDict(SimpleDict, metaclass=TraceMeta):\n",
    "    pass\n",
    "\n",
    "trace_dict = TraceDict([('hi', 1)])\n",
    "trace_dict['there'] = 2\n",
    "trace_dict['hi']\n",
    "try:\n",
    "    trace_dict['does not exist']\n",
    "except KeyError:\n",
    "    pass  # Expected\n",
    "else:\n",
    "    assert False"
   ]
  },
  {
   "attachments": {},
   "cell_type": "markdown",
   "metadata": {},
   "source": [
    "しかし、修正不能なライブラリからのメタクラスであったり、 Trace Metaのようなユーティリティメタクラスを同時に複数使いたい場合には、これはうまくいきません。\n",
    "メタクラス方式では、修正されるクラスにあまりに多くの制約があります。\n",
    "\n",
    "この問題を回避するため、 Python にはクラスデコレータがあります。 クラスデコレータは、関数デコレータと同じように働きます。\n",
    "@記号を関数名の前に付けて、クラス宣言の前に置きます。修正または再作成したクラスを、 関数が返します。\n"
   ]
  },
  {
   "cell_type": "code",
   "execution_count": 22,
   "metadata": {},
   "outputs": [
    {
     "name": "stdout",
     "output_type": "stream",
     "text": [
      "<class '__main__.MyClass'>\n",
      "hello\n"
     ]
    }
   ],
   "source": [
    "# Example 8\n",
    "def my_class_decorator(klass):\n",
    "    klass.extra_param = 'hello'\n",
    "    return klass\n",
    "\n",
    "@my_class_decorator\n",
    "class MyClass:\n",
    "    pass\n",
    "\n",
    "print(MyClass)\n",
    "print(MyClass.extra_param)"
   ]
  },
  {
   "attachments": {},
   "cell_type": "markdown",
   "metadata": {},
   "source": [
    "上のTraceMeta.__new_ メソッドの主要部分を1つの関数に移して、 関数 trace_func をクラス のすべてのメソッドと関数に適用するクラスデコレータを実装できます。"
   ]
  },
  {
   "cell_type": "code",
   "execution_count": 23,
   "metadata": {},
   "outputs": [],
   "source": [
    "# Example 9\n",
    "def trace(klass):\n",
    "    for key in dir(klass):\n",
    "        value = getattr(klass, key)\n",
    "        if isinstance(value, trace_types):\n",
    "            wrapped = trace_func(value)\n",
    "            setattr(klass, key, wrapped)\n",
    "    return klass\n"
   ]
  },
  {
   "attachments": {},
   "cell_type": "markdown",
   "metadata": {},
   "source": [
    "このデコレータをdict サブクラスに適用して、 上のメタクラス方式で得られたのと同じ振る舞いが得られます。\n"
   ]
  },
  {
   "cell_type": "code",
   "execution_count": 24,
   "metadata": {},
   "outputs": [
    {
     "name": "stdout",
     "output_type": "stream",
     "text": [
      "__new__((<class '__main__.TraceDict'>, [('hi', 1)]), {}) -> {}\n",
      "__getitem__(({'hi': 1, 'there': 2}, 'hi'), {}) -> 1\n",
      "__getitem__(({'hi': 1, 'there': 2}, 'does not exist'), {}) -> KeyError('does not exist')\n"
     ]
    }
   ],
   "source": [
    "# Example 10\n",
    "@trace\n",
    "class TraceDict(dict):\n",
    "    pass\n",
    "\n",
    "trace_dict = TraceDict([('hi', 1)])\n",
    "trace_dict['there'] = 2\n",
    "trace_dict['hi']\n",
    "try:\n",
    "    trace_dict['does not exist']\n",
    "except KeyError:\n",
    "    pass  # Expected\n",
    "else:\n",
    "    assert False"
   ]
  },
  {
   "attachments": {},
   "cell_type": "markdown",
   "metadata": {},
   "source": [
    "クラスデコレータは、デコレートするクラスでメタクラスが既に定義済みの場合にもうまく動作します。"
   ]
  },
  {
   "cell_type": "code",
   "execution_count": 25,
   "metadata": {},
   "outputs": [
    {
     "name": "stdout",
     "output_type": "stream",
     "text": [
      "__new__((<class '__main__.TraceDict'>, [('hi', 1)]), {}) -> {}\n",
      "__getitem__(({'hi': 1, 'there': 2}, 'hi'), {}) -> 1\n",
      "__getitem__(({'hi': 1, 'there': 2}, 'does not exist'), {}) -> KeyError('does not exist')\n"
     ]
    }
   ],
   "source": [
    "# Example 11\n",
    "class OtherMeta(type):\n",
    "    pass\n",
    "\n",
    "@trace\n",
    "class TraceDict(dict, metaclass=OtherMeta):\n",
    "    pass\n",
    "\n",
    "trace_dict = TraceDict([('hi', 1)])\n",
    "trace_dict['there'] = 2\n",
    "trace_dict['hi']\n",
    "try:\n",
    "    trace_dict['does not exist']\n",
    "except KeyError:\n",
    "    pass  # Expected\n",
    "else:\n",
    "    assert False"
   ]
  },
  {
   "attachments": {},
   "cell_type": "markdown",
   "metadata": {},
   "source": [
    "クラスの拡張に、合成可能な方式を考えているなら、クラスデコレータが最良のツールです(役に 立つfunctools.total_ordering というクラスデコレータについては「項目73 優先度付きキュー でheapqの使い方を知っておく」参照)。"
   ]
  },
  {
   "attachments": {},
   "cell_type": "markdown",
   "metadata": {},
   "source": [
    "### 覚えておくこと"
   ]
  },
  {
   "attachments": {},
   "cell_type": "markdown",
   "metadata": {},
   "source": [
    "\n",
    "- クラスデコレータは class インスタンスを引数として、新たなクラスまたは元のクラスの修正バージョンを返す簡単な関数だ\n",
    "- クラスデコレータは、最小の定型文ですべてのメソッドまたは属性を修正したい場合に役立つ\n",
    "- メラクラスは、簡単に合成できないが、多くのクラスデコレータがクラスの拡張に問題なく使うことができる\n"
   ]
  }
 ],
 "metadata": {
  "kernelspec": {
   "display_name": "develop",
   "language": "python",
   "name": "python3"
  },
  "language_info": {
   "codemirror_mode": {
    "name": "ipython",
    "version": 3
   },
   "file_extension": ".py",
   "mimetype": "text/x-python",
   "name": "python",
   "nbconvert_exporter": "python",
   "pygments_lexer": "ipython3",
   "version": "3.10.4"
  },
  "orig_nbformat": 4
 },
 "nbformat": 4,
 "nbformat_minor": 2
}
