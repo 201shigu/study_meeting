{
 "cells": [
  {
   "cell_type": "markdown",
   "metadata": {},
   "source": [
    "## 項目88 循環依存を取り除く方法を知る"
   ]
  },
  {
   "cell_type": "markdown",
   "metadata": {},
   "source": [
    "他の人と協働していると、不可避的に、モジュール間で相互依存性が見つかるものです。単一のプログラムのさまざまな部分について独りで作業しているときにも、相互依存が生じることがあります。\n",
    "\n",
    "例えば、GUI アプリケーションで、どこに文書を保存するか選ぶためのダイアログボックスを表示するとします。表示データは、イベントハンドラへの引数で指定できるでしょう。しかし、ダイアログを適切にレンダリングするためには、ユーザ設定などのグローバル状態を読み取っておく必要があります。\n",
    "\n",
    "ここでは、グローバルな設定からデフォルトの文書保存場所を得るダイアログを定義します。\n"
   ]
  },
  {
   "cell_type": "code",
   "execution_count": null,
   "metadata": {},
   "outputs": [],
   "source": [
    "# dialog.py\n",
    "import app\n",
    "\n",
    "class Dialog:\n",
    "    def __init__(self, save_dir):\n",
    "        self.save_dir = save_dir\n",
    "\n",
    "save_dialog = Dialog(app.prefs.get('save_dir'))\n",
    "\n",
    "def show():\n",
    "    print('Showing the dialog!')"
   ]
  },
  {
   "cell_type": "markdown",
   "metadata": {},
   "source": [
    "問題は、prefs オブジェクトを含む app モジュールが、 プログラム開始のダイアログを表示するために、dialog クラスをインポートしていることです。"
   ]
  },
  {
   "cell_type": "code",
   "execution_count": null,
   "metadata": {},
   "outputs": [],
   "source": [
    "# app.py\n",
    "import dialog\n",
    "\n",
    "class Prefs:\n",
    "    def get(self, name):\n",
    "        pass\n",
    "\n",
    "prefs = Prefs()\n",
    "dialog.show()\n"
   ]
  },
  {
   "cell_type": "markdown",
   "metadata": {},
   "source": [
    "これは、循環依存になっており、app モジュールをメインプログラムから次のように使おうとすると、例外が発生します。"
   ]
  },
  {
   "cell_type": "code",
   "execution_count": null,
   "metadata": {},
   "outputs": [],
   "source": [
    "# main.py\n",
    "import app"
   ]
  },
  {
   "cell_type": "markdown",
   "metadata": {},
   "source": [
    "```python\n",
    "Traceback (most recent call last):\n",
    "  File \"...\\main.py\", line 17, in <module>\n",
    "    import app\n",
    "  File \"...\\app.py\", line 17, in <module>\n",
    "    import dialog\n",
    "  File \"...\\dialog.py\", line 23, in <module>\n",
    "    save_dialog = Dialog(app.prefs.get('save_dir'))\n",
    "AttributeError: partially initialized module 'app' has no attribute 'prefs' (most likely due to a circular import)\n",
    "```"
   ]
  },
  {
   "cell_type": "markdown",
   "metadata": {},
   "source": [
    "ここで、何が起こっているかを理解するには、 Pythonの一般的なインポート機構を知る必要があります (詳細は組み込みパッケージ importlib 参照)。モジュールがインポートされたとき、Python が実際に行うことは、深さ順に次のようになります。\n",
    "\n",
    "1. sys.path から始めてモジュールの位置を特定する([参考](https://note.nkmk.me/python-import-module-search-path/#syspath))。\n",
    "2. モジュールからコードをロードして、コンパイルできることを確かめる。\n",
    "3. 対応する空モジュールオブジェクトを作る。\n",
    "4. モジュールを sys.module に挿入する。\n",
    "5. モジュールオブジェクトのコードを実行して、内容を定義する。\n",
    "\n",
    "循環依存の問題は、モジュールの属性が属性のためのコードが実行されるまで (ステップ5の後) 定義されないことです。しかし、モジュールは sys.module に挿入された直後 (ステップ4の後) に import 文でロードされるのです。\n",
    "\n",
    "先ほどの例では、app モジュールが定義の前に dialog をインポートします。そして、dialog モジュールがappをインポートします。app はまだ実行が完了していない (dialog をインポート中) ので、app モジュールは空のシェル (ステップ4) のままです。すると、prefs を定義するコードがまだ実行していない (appのステップ5は終わっていない) ため、AttributeError が dialog のステップ5の途中で起こります。 \n",
    "\n",
    "この問題に対する最適解は、コードをリファクタリングして、prefs のデータ構造が依存木の底に来るようにすることです。そうすると、app も dialog もともに同じユーティリティモジュールをインポートできて、循環依存を回避できます。しかし、そのようなすっきりした分割が常に可能とは限りませんし、労力の割に報われないリファクタリングの作業があまりにも多く必要とされるかもしれません。\n",
    "\n",
    "循環依存を取り除くには、他に3つの方法があります。"
   ]
  },
  {
   "cell_type": "markdown",
   "metadata": {},
   "source": [
    "### インポートの順序を変更する"
   ]
  },
  {
   "cell_type": "markdown",
   "metadata": {},
   "source": [
    "\n",
    "第1の方式は、インポートの順序を変えることです。例えば、dialog モジュールを app モジュールの下のほうで、その内容を順番に実行した後でインポートすれば、AttributeError が解消します。\n"
   ]
  },
  {
   "cell_type": "code",
   "execution_count": null,
   "metadata": {},
   "outputs": [],
   "source": [
    "# app.py ver2\n",
    "class Prefs:\n",
    "    def get(self, name):\n",
    "        pass\n",
    "\n",
    "prefs = Prefs()\n",
    "\n",
    "import dialog  # Moved\n",
    "dialog.show()"
   ]
  },
  {
   "cell_type": "markdown",
   "metadata": {},
   "source": [
    "これがうまくいくのは、dialog モジュールが後でロードされたとき、その再帰的な app のインポートで app.prefs が既に定義されていること (app のステップ5がほぼ終了) がわかるからです。\n",
    "\n",
    "これは、AttributeError を回避しますが、PEP 8 スタイルガイド (「項目2 PEP 8 スタイルガイドに従う」参照) に違反しています。スタイルガイドは、インポートを Python ファイルの先頭に置くよう指示しています。モジュールの依存関係が、コードの新たな読者にも明確になります。また、依存しているすべてのモジュールが、モジュールのすべてのコードのスコープにあって利用可能なことを保証します。\n",
    "\n",
    "インポートがファイルの後ろのほうにあるということは、扱いにくく、コードの順番のちょっとした変更で、モジュール全体がダメになる危険性があります。したがって、循環依存の問題を解決するために、インポートの順番を変えるのは避けるべきです。\n"
   ]
  },
  {
   "cell_type": "markdown",
   "metadata": {},
   "source": [
    "### インポート、構成、実行"
   ]
  },
  {
   "cell_type": "markdown",
   "metadata": {},
   "source": [
    "循環インポート問題の第2の解法は、インポート時のモジュールの副作用を最小化することです。モジュールでは、関数、クラス、定数の定義だけを行います。インポート時には、関数を実際に実行しないようにします。そして、他のすべてのモジュールのインポートが終わったら、各モジュールが提供した configure 関数を実行します。configure の目的は、他のモジュールの属性にアクセスして、各モジュールの状態を準備しておくことにあります。すべてのモジュールがインポートされた (ステップ5が完了) 後で configure を実行するので、すべての属性が定義されています。\n",
    "\n",
    "ここでは、dialog モジュールを再定義して、configure が呼ばれたときに、prefs オブジェクトだけにアクセスするようにします。\n"
   ]
  },
  {
   "cell_type": "code",
   "execution_count": null,
   "metadata": {},
   "outputs": [],
   "source": [
    "# dialog.py ver3\n",
    "import app\n",
    "\n",
    "class Dialog:\n",
    "    def __init__(self):\n",
    "        pass\n",
    "\n",
    "save_dialog = Dialog()\n",
    "\n",
    "def show():\n",
    "    print('Showing the dialog!')\n",
    "\n",
    "def configure():\n",
    "    save_dialog.save_dir = app.prefs.get('save_dir')"
   ]
  },
  {
   "cell_type": "markdown",
   "metadata": {},
   "source": [
    "app モジュールも再定義して、インポートしたときに何も実行しないようにします。"
   ]
  },
  {
   "cell_type": "code",
   "execution_count": null,
   "metadata": {},
   "outputs": [],
   "source": [
    "# app.py ver3\n",
    "import dialog\n",
    "\n",
    "class Prefs:\n",
    "    def get(self, name):\n",
    "        pass\n",
    "\n",
    "prefs = Prefs()\n",
    "\n",
    "def configure():\n",
    "    pass"
   ]
  },
  {
   "cell_type": "markdown",
   "metadata": {},
   "source": [
    "最後に、mainモジュールが、すべてをインポート、すべてを configure、最初のアクティビティを実行するという3段階を実行します。"
   ]
  },
  {
   "cell_type": "code",
   "execution_count": null,
   "metadata": {},
   "outputs": [],
   "source": [
    "# main.py ver3\n",
    "import app\n",
    "import dialog\n",
    "\n",
    "app.configure()\n",
    "dialog.configure()\n",
    "\n",
    "dialog.show()"
   ]
  },
  {
   "cell_type": "markdown",
   "metadata": {},
   "source": [
    "これは、多くの状況でうまく働き、**依存注入（Dependency Injection: DI）** のようなパターンを可能にします。 しかし、時には、 明示的な configure ステップが可能となるようにコードを構造化することが困難なことがあります。2つの異なる段階をモジュールの中に持つのも、オブジェクトの定義をその構成から分離するために、コードを読みにくくしています。\n"
   ]
  },
  {
   "cell_type": "markdown",
   "metadata": {},
   "source": [
    "### 動的インポート"
   ]
  },
  {
   "cell_type": "markdown",
   "metadata": {},
   "source": [
    "第3の、しばしば最も簡単な循環インポート問題の解決法は、関数またはメソッドの中で import 文を使うことです。\n",
    "これは、モジュールのインポートが、プログラムが最初に開始してモジュールを初期化しているときではなく、プログラムの実行中に起こるので、動的インポートと呼ばれます。\n",
    "\n",
    "ここでは、dialogモジュールを再定義して動的インポートを使います。\n",
    "dialog モジュールが初期化時に app をインポートするのではなくて、dialog.show 関数が実行時に app モジュールをインポートします。\n"
   ]
  },
  {
   "cell_type": "code",
   "execution_count": null,
   "metadata": {},
   "outputs": [],
   "source": [
    "# dialog.py ver4\n",
    "\n",
    "class Dialog:\n",
    "    def __init__(self):\n",
    "        pass\n",
    "\n",
    "# Using this instead will break things\n",
    "# save_dialog = Dialog(app.prefs.get('save_dir'))\n",
    "save_dialog = Dialog()\n",
    "\n",
    "def show():\n",
    "    import app  # Dynamic import\n",
    "    save_dialog.save_dir = app.prefs.get('save_dir')\n",
    "    print('Showing the dialog!')\n"
   ]
  },
  {
   "cell_type": "markdown",
   "metadata": {},
   "source": [
    "dialogを最初にインポートして dialog.show を最後に呼び出します (app モジュールは、元々の例にあったのと同じで構いません)。\n",
    "\n"
   ]
  },
  {
   "cell_type": "code",
   "execution_count": null,
   "metadata": {},
   "outputs": [],
   "source": [
    "# app.py ver1\n",
    "import dialog\n",
    "\n",
    "class Prefs:\n",
    "    def get(self, name):\n",
    "        pass\n",
    "\n",
    "prefs = Prefs()\n",
    "dialog.show()\n"
   ]
  },
  {
   "cell_type": "markdown",
   "metadata": {},
   "source": [
    "この方式は、1つ前の「インポート、構成、実行方式」と同様の効果があります。違いは、この方式がモジュールが定義されインポートされる方式に構造上の変更を必要としないことです。単に、循環インポートを他のモジュールにアクセスしなければならない瞬間まで遅らせるだけです。その時点では、他のすべてのモジュールが既に初期化されている (ステップ5がすべてで完了している) と考えられるでしょう。\n",
    "\n",
    "ただし、一般にはこのような動的インポートは避けるべきです。import 文のコストは無視できませんし、ループでは特にひどく高価になりかねません。実行遅延によって、動的インポートは、実行時に、プログラムが開始してから随分時間が経ったのに、SyntaxError 例外が発生するなどという致命的なエラー (「項目76 関係する振る舞いをTestCase サブクラスで検証する」参照) を犯す危険もあります。しかし、これらの弱点も、プログラム全体を再構成するという別の解決策よりはましだという場合がしばしばあります。\n"
   ]
  },
  {
   "cell_type": "markdown",
   "metadata": {},
   "source": [
    "### 覚えておくこと"
   ]
  },
  {
   "cell_type": "markdown",
   "metadata": {},
   "source": [
    "- 循環依存は、2つのモジュールがインポート時に互いに呼び出すときに生じる。これは、プ\n",
    "ログラムを開始時にクラッシュさせる。\n",
    "- 循環依存を断ち切る最良の方法は、相互依存をリファクタリングして、依存木の底に切り離されたモジュールが来るようにすることである。\n",
    "- 動的インポートが、 リファクタリングと複雑さを最小化して、モジュール間の循環依存を断ち切る最も単純な方式である。\n",
    "\n"
   ]
  },
  {
   "cell_type": "markdown",
   "metadata": {},
   "source": [
    "## 項目 89 リファクタリングと利用のマイグレーションに warnings を考える"
   ]
  },
  {
   "cell_type": "markdown",
   "metadata": {},
   "source": [
    "以前は予期されていなかったニーズを満たす新たな要求のために、API が変更されることはよくあります。API が小さくて、上にも下にも依存がわずかな間は、そのような変更は簡単です。プログラマが1人で、小さな API と、そのすべての呼び出し元を更新して、1回コミットすれば解決することはよくあります。\n",
    "\n",
    "しかし、コードベースが大きくなると、API の呼び出し元が多くなったり、複数のソースリポジトリに分かれていて、API の変更で一度に呼び出し元を変更することが実際的でなかったり、不可能になってしまいます。その代わりに、協働してコードをリファクタリングし、API の使用法を最新の形式にマイグレーションしてくれるように、人々に注意して励ますための方法を考えないといけません。\n",
    "\n",
    "例えば、自動車で平均速度と時間を指定し、どのくらいの距離を走行できるかを計算するモジュールを作るとします。つまり、平均速度 (マイル/時) と運転時間を引数として取る関数として定義します。\n"
   ]
  },
  {
   "cell_type": "code",
   "execution_count": 8,
   "metadata": {},
   "outputs": [
    {
     "name": "stdout",
     "output_type": "stream",
     "text": [
      "12.5 miles\n"
     ]
    }
   ],
   "source": [
    "# Example 1\n",
    "def print_distance(speed, duration):\n",
    "    distance = speed * duration\n",
    "    print(f'{distance} miles')\n",
    "\n",
    "print_distance(5, 2.5)"
   ]
  },
  {
   "cell_type": "markdown",
   "metadata": {},
   "source": [
    "この関数はうまく動作し、この関数に依存するコードが多数あったとします。協働するプログラマは、このような距離を計算して出力する必要が共有コードベース全体であります。\n",
    "\n",
    "現状うまくいっているようにも見えますが、このコードベースには、引数の距離の単位が明示されていないので間違いが起こりやすいという欠点があります。例えば、弾丸が秒速1,000メートルで3秒経ったときに、どこまで進んでいるか知ろうとしたときに、次のような間違った結果を得てしまうことがあり得ます。\n"
   ]
  },
  {
   "cell_type": "code",
   "execution_count": 9,
   "metadata": {},
   "outputs": [
    {
     "name": "stdout",
     "output_type": "stream",
     "text": [
      "3000 miles\n"
     ]
    }
   ],
   "source": [
    "# Example 2\n",
    "print_distance(1000, 3)"
   ]
  },
  {
   "cell_type": "markdown",
   "metadata": {},
   "source": [
    "この問題に対して、print_distance の API にオプションのキーワード引数 (「項目23 キーワード引数にオプションの振る舞いを与える」および「項目25 キーワード専用引数と位置専用引数で明確さを高める」参照) で speed, duration, 計算した距離の単位を指定できるようにします。"
   ]
  },
  {
   "cell_type": "code",
   "execution_count": 10,
   "metadata": {},
   "outputs": [],
   "source": [
    "# Example 3\n",
    "CONVERSIONS = {\n",
    "    'mph': 1.60934 / 3600 * 1000,   # m/s\n",
    "    'hours': 3600,                  # seconds\n",
    "    'miles': 1.60934 * 1000,        # m\n",
    "    'meters': 1,                    # m\n",
    "    'm/s': 1,                       # m\n",
    "    'seconds': 1,                   # s\n",
    "}\n",
    "\n",
    "def convert(value, units):\n",
    "    rate = CONVERSIONS[units]\n",
    "    return rate * value\n",
    "\n",
    "def localize(value, units):\n",
    "    rate = CONVERSIONS[units]\n",
    "    return value / rate\n",
    "\n",
    "def print_distance(speed, duration, *,\n",
    "                   speed_units='mph',\n",
    "                   time_units='hours',\n",
    "                   distance_units='miles'):\n",
    "    norm_speed = convert(speed, speed_units)\n",
    "    norm_duration = convert(duration, time_units)\n",
    "    norm_distance = norm_speed * norm_duration\n",
    "    distance = localize(norm_distance, distance_units)\n",
    "    print(f'{distance} {distance_units}')"
   ]
  },
  {
   "cell_type": "markdown",
   "metadata": {},
   "source": [
    "弾丸の飛距離の関数呼び出しで、 正しい結果をマイルへの単位変換を指定するよう修正します。"
   ]
  },
  {
   "cell_type": "code",
   "execution_count": 11,
   "metadata": {},
   "outputs": [
    {
     "name": "stdout",
     "output_type": "stream",
     "text": [
      "1.8641182099494205 miles\n"
     ]
    }
   ],
   "source": [
    "# Example 4\n",
    "print_distance(1000, 3,\n",
    "               speed_units='meters',\n",
    "               time_units='seconds')"
   ]
  },
  {
   "cell_type": "markdown",
   "metadata": {},
   "source": [
    "この関数に単位指定を要求するのは良い方法に思えます。明示することでエラーの可能性が減り、初めての人にもコードが理解しやすくなります。しかし、API のすべての呼び出し元に、常に単位を指定するように移行することをどうすればできるでしょうか。 print_distance に依存するどのコードでも問題発生を最小限にして、呼び出し元が新たな単位引数をできるだけ早く採用するようにするにはどうすればいいでしょうか。\n",
    "\n",
    "Python の組み込みモジュール warningsを使ってこの問題を解決します。warnings を使用する と、依存しているライブラリの変更に合わせてコードを修正するようにという通知を他のプログラムにするようプログラムできます。例外が主としてマシンによる自動エラー処理 (「項目87 APIからの呼び出し元を分離するために、ルート例外を定義する」 参照) であるのに対して、警告 (warnings) は、互いの協働で何を期待するかという人間間のコミュニケーションについてのものです。\n",
    "\n",
    "print_distance を修正して、単位を指定するキーワード引数がないと警告を発するようにしま す。こうしておくと、引数はとりあえずオプションのままですが (「項目24 動的なデフォルト引数を 指定するときにはNoneとdocstring を使う」参照)、依存しているプログラムを実行している人々に、対応しないと将来問題が起きるかもしれないという注意を明示的に促すことができます。\n"
   ]
  },
  {
   "cell_type": "code",
   "execution_count": 12,
   "metadata": {},
   "outputs": [],
   "source": [
    "# Example 5\n",
    "import warnings\n",
    "\n",
    "def print_distance(speed, duration, *,\n",
    "                   speed_units=None,\n",
    "                   time_units=None,\n",
    "                   distance_units=None):\n",
    "    if speed_units is None:\n",
    "        warnings.warn(\n",
    "            'speed_units required', DeprecationWarning)\n",
    "        speed_units = 'mph'\n",
    "\n",
    "    if time_units is None:\n",
    "        warnings.warn(\n",
    "            'time_units required', DeprecationWarning)\n",
    "        time_units = 'hours'\n",
    "\n",
    "    if distance_units is None:\n",
    "        warnings.warn(\n",
    "            'distance_units required', DeprecationWarning)  # 下記のwarning箇所\n",
    "        distance_units = 'miles'\n",
    "\n",
    "    norm_speed = convert(speed, speed_units)\n",
    "    norm_duration = convert(duration, time_units)\n",
    "    norm_distance = norm_speed * norm_duration\n",
    "    distance = localize(norm_distance, distance_units)\n",
    "    print(f'{distance} {distance_units}')"
   ]
  },
  {
   "cell_type": "markdown",
   "metadata": {},
   "source": [
    "このコードが警告を発することを検証するため、関数を以前と同じ引数で呼び出し、warnings モジュールの sys.stderr 出力を捕捉します。\n"
   ]
  },
  {
   "cell_type": "code",
   "execution_count": 13,
   "metadata": {},
   "outputs": [
    {
     "name": "stdout",
     "output_type": "stream",
     "text": [
      "1.8641182099494205 miles\n",
      "C:\\Users\\su10_\\AppData\\Local\\Temp\\ipykernel_23044\\2134811440.py:19: DeprecationWarning: distance_units required\n",
      "  warnings.warn(\n",
      "\n"
     ]
    }
   ],
   "source": [
    "# Example 6\n",
    "import contextlib\n",
    "import io\n",
    "\n",
    "fake_stderr = io.StringIO()\n",
    "with contextlib.redirect_stderr(fake_stderr):\n",
    "    print_distance(1000, 3,\n",
    "                   speed_units='meters',\n",
    "                   time_units='seconds')    # warning を出してほしいところ\n",
    "\n",
    "print(fake_stderr.getvalue())\n"
   ]
  },
  {
   "cell_type": "markdown",
   "metadata": {},
   "source": [
    "この関数に警告を追加するには、多数の定型句を繰り返す必要があり、可読性も保守性も悪くなります。警告メッセージは、warnings.warn が呼ばれた行を示していますが、本当に表示したかったのは、もうすぐ必要になるキーワード引数なしに print_distance が呼ばれた箇所です。\n",
    "\n",
    "幸い、warnings.warn 関数は stacklevel パラメータをサポートしており、警告の原因となったスタック上の正しい場所を報告することが可能です。stacklevel を使うと、定型句を省略して他のコードのための警告を発することも可能です。オプション引数がないと警告を発し、デフォルト値を与えるヘルパー関数を次のように定義します。\n"
   ]
  },
  {
   "cell_type": "code",
   "execution_count": 14,
   "metadata": {},
   "outputs": [],
   "source": [
    "# Example 7\n",
    "def require(name, value, default):\n",
    "    if value is not None:\n",
    "        return value\n",
    "    warnings.warn(\n",
    "        f'{name} will be required soon, update your code',\n",
    "        DeprecationWarning,\n",
    "        stacklevel=3)\n",
    "    return default\n",
    "\n",
    "def print_distance(speed, duration, *,\n",
    "                   speed_units=None,\n",
    "                   time_units=None,\n",
    "                   distance_units=None):\n",
    "    speed_units = require('speed_units', speed_units, 'mph')\n",
    "    time_units = require('time_units', time_units, 'hours')\n",
    "    distance_units = require(\n",
    "        'distance_units', distance_units, 'miles')\n",
    "\n",
    "    norm_speed = convert(speed, speed_units)\n",
    "    norm_duration = convert(duration, time_units)\n",
    "    norm_distance = norm_speed * norm_duration\n",
    "    distance = localize(norm_distance, distance_units)\n",
    "    print(f'{distance} {distance_units}')"
   ]
  },
  {
   "cell_type": "markdown",
   "metadata": {},
   "source": [
    "捕捉した出力を調べて、 これが問題の行を正しく把握したか検証します。"
   ]
  },
  {
   "cell_type": "code",
   "execution_count": 15,
   "metadata": {},
   "outputs": [
    {
     "name": "stdout",
     "output_type": "stream",
     "text": [
      "1.8641182099494205 miles\n",
      "C:\\Users\\su10_\\AppData\\Local\\Temp\\ipykernel_23044\\1661391751.py:7: DeprecationWarning: distance_units will be required soon, update your code\n",
      "  print_distance(1000, 3,\n",
      "\n"
     ]
    }
   ],
   "source": [
    "# Example 8\n",
    "import contextlib\n",
    "import io\n",
    "\n",
    "fake_stderr = io.StringIO()\n",
    "with contextlib.redirect_stderr(fake_stderr):\n",
    "    print_distance(1000, 3,\n",
    "                   speed_units='meters',\n",
    "                   time_units='seconds')\n",
    "\n",
    "print(fake_stderr.getvalue())\n"
   ]
  },
  {
   "cell_type": "markdown",
   "metadata": {},
   "source": [
    "warnings モジュールでは、警告が発生したときの動作を設定することもできます。選択肢の1つとしては、すべての警告がエラーになることで、警告を sys.stderr に出力する代わりに例外として上げることです。"
   ]
  },
  {
   "cell_type": "code",
   "execution_count": 16,
   "metadata": {},
   "outputs": [],
   "source": [
    "# Example 9\n",
    "warnings.simplefilter('error')\n",
    "try:\n",
    "    warnings.warn('This usage is deprecated',\n",
    "                  DeprecationWarning)\n",
    "except DeprecationWarning:\n",
    "    pass  # Expected\n",
    "else:\n",
    "    assert False\n",
    "\n",
    "warnings.resetwarnings()"
   ]
  },
  {
   "cell_type": "markdown",
   "metadata": {},
   "source": [
    "この例外を送出する振る舞いは、自動化テストにおいて、依存性の上流で変更を検出し、テスト時にエラーを送出させるので、特に役立ちます。このようなテスト時に警告を発生させることは、共同している人々にコード変更の必要性を明確にする非常に良い方法です。Python インタプリタで -W error コマンドライン引数を使うか、このオプションを省略するために環境変数 PYTHONWARNINGS を error 等の値に設定することでも適用できます。"
   ]
  },
  {
   "cell_type": "markdown",
   "metadata": {},
   "source": [
    "```\n",
    "$ python -W error example_test.py\n",
    "Traceback (most recent call last):\n",
    "File \".../example_test.py\", line 6, in <module>\n",
    "warnings.warn('This might raise an exception ! ' )\n",
    "UserWarning: This might raise an exception!\n",
    "```"
   ]
  },
  {
   "cell_type": "markdown",
   "metadata": {},
   "source": [
    "非推奨APIに依存するコードの責任者が、マイグレーションの必要性に気付いたなら、warnings モジュールで simplefilter と filterwarnings 関数を用い、エラーを無視するように設定することもできます (詳細については https://docs.python.org/ja/3/library/warnings.html 参照)。"
   ]
  },
  {
   "cell_type": "code",
   "execution_count": 17,
   "metadata": {},
   "outputs": [],
   "source": [
    "# Example 10\n",
    "warnings.resetwarnings()\n",
    "\n",
    "warnings.simplefilter('ignore')\n",
    "warnings.warn('This will not be printed to stderr')\n",
    "\n",
    "warnings.resetwarnings()"
   ]
  },
  {
   "cell_type": "markdown",
   "metadata": {},
   "source": [
    "プログラムをプロダクションに使い出すと、警告からエラーを起こさせるのは、極めて重大な時期にプログラムをクラッシュさせるので、意味がなくなります。それよりも良い方式は、警告を組み込みモジュール logging に複製することです。次のコードでは、logging.captureWarnings 関数を呼び出し、対応する py.warnings ロガーを構成します。"
   ]
  },
  {
   "cell_type": "code",
   "execution_count": 18,
   "metadata": {},
   "outputs": [
    {
     "name": "stdout",
     "output_type": "stream",
     "text": [
      "2023-10-26 11:21:20,758 WARNING] C:\\Users\\su10_\\AppData\\Local\\Temp\\ipykernel_23044\\212808671.py:17: UserWarning: This will go to the logs output\n",
      "  warnings.warn('This will go to the logs output')\n",
      "\n",
      "\n"
     ]
    }
   ],
   "source": [
    "# Example 11\n",
    "import logging\n",
    "\n",
    "fake_stderr = io.StringIO()\n",
    "handler = logging.StreamHandler(fake_stderr)\n",
    "formatter = logging.Formatter(\n",
    "    '%(asctime)-15s WARNING] %(message)s')\n",
    "handler.setFormatter(formatter)\n",
    "\n",
    "logging.captureWarnings(True)\n",
    "logger = logging.getLogger('py.warnings')\n",
    "logger.addHandler(handler)\n",
    "logger.setLevel(logging.DEBUG)\n",
    "\n",
    "warnings.resetwarnings()\n",
    "warnings.simplefilter('default')\n",
    "warnings.warn('This will go to the logs output')\n",
    "\n",
    "print(fake_stderr.getvalue())\n",
    "\n",
    "warnings.resetwarnings()"
   ]
  },
  {
   "cell_type": "markdown",
   "metadata": {},
   "source": [
    "ロギングを使って警告を捕捉すると、プログラムで使っているエラー報告システムがプロダクションで重要な警告も受け取るようになることが確実になります。これは、テストがあらゆる極端な利用の場合を網羅しているわけではないため、特に有用です。\n",
    "\n",
    "APIライブラリの保守担当者も正しい環境で明確で対応可能なメッセージを警告として出せていることを検証するユニットテストを検証すべきです (「項目76 関係する振る舞いを TestCase サブクラスで検証する」参照)。次のコードでは、warnings.catch_warnings 関数をコンテキストマネジャーとして使い (背景は「項目66 contextlib と with 文を try/finally の代わりに考える」参照) 上で定義 した require 関数の呼び出しをラップします。\n"
   ]
  },
  {
   "cell_type": "code",
   "execution_count": 19,
   "metadata": {},
   "outputs": [],
   "source": [
    "# Example 12\n",
    "with warnings.catch_warnings(record=True) as found_warnings:\n",
    "    found = require('my_arg', None, 'fake units')\n",
    "    expected = 'fake units'\n",
    "    assert found == expected"
   ]
  },
  {
   "cell_type": "markdown",
   "metadata": {},
   "source": [
    "警告メッセージを集めたら、番号、詳細メッセージ、カテゴリが自分の期待と合致しているか検証できます。"
   ]
  },
  {
   "cell_type": "code",
   "execution_count": 20,
   "metadata": {},
   "outputs": [],
   "source": [
    "# Example 13\n",
    "assert len(found_warnings) == 1\n",
    "single_warning = found_warnings[0]\n",
    "assert str(single_warning.message) == (\n",
    "    'my_arg will be required soon, update your code')\n",
    "assert single_warning.category == DeprecationWarning"
   ]
  },
  {
   "cell_type": "markdown",
   "metadata": {},
   "source": [
    "### 覚えておくこと"
   ]
  },
  {
   "cell_type": "markdown",
   "metadata": {},
   "source": [
    "- warnings モジュールは、APIの呼び出し元に非推奨利用について警告するのに使う。警告メッセージは、後でプログラムが変更により失敗する前に、 呼び出し元がコードを修正でき るようになる。\n",
    "- -W error コマンドライン引数を使ってPython インタプリタに警告をエラーとして上げる。これは、依存性を減らす可能性を持つ自動化テストにおいて特に有用だ。\n",
    "- プロダクションでは、警告を logging モジュールに複製して、既存のエラー報告システムが実行時に警告を捕捉することを確かにする。\n",
    "- コードで起きる警告をテストして、依存する下流のコードで適切なときに警告が出されることを確かめる。\n"
   ]
  },
  {
   "cell_type": "markdown",
   "metadata": {},
   "source": [
    "## 項目90 バグを回避するために静的解析を検討する"
   ]
  },
  {
   "cell_type": "markdown",
   "metadata": {},
   "source": [
    "ドキュメントが提供されていると、API の利用者が正しい使い方を理解するのにとても役立ちますが (「項目84 すべての関数、クラス、モジュールについて docstring を書く」参照)、それだけでは十分でないことが多く、相変わらず不適切な使用によりバグを引き起こします。理想的には、呼び出し元がAPIを正しく使っていることと、API で下流での依存関係を正しく使っていること確認する仕組みがプログラムにあることです。多くのプログラミング言語で、この必要性に答えて、ある種のバグを検出して取り除くためにコンパイル時の型チェックを取り入れています。\n",
    "\n",
    "歴史的に Python は、動的な機能に焦点を絞っており、いかなるコンパイル時の型安全性も提供しませんでした。しかし、最近 Python は、特別な構文と組み込みの typing モジュールを導入し、変数、クラスフィールド、関数、メソッドに型情報を与えられるようにしました。これらの型ヒントは、緩やかな型付けを可能にするとともに、望ましい型を緩やかに指定できるようにします。\n",
    "\n",
    "Python プログラムに型情報を追加する利点は、静的解析ツールを実行してプログラムのソースコードに対して、どこにバグが潜んでいるかを検出できることです。組み込みモジュール typing 自体は、いかなる型チェック機能も実装していません。ジェネリクスを含めて型を定義するための共通ライブラリを提供しているだけです。これは、Python コードに適用して、別のツールでその結果を利用できます。\n",
    "\n",
    "Python インタプリタには複数の異なる実装 (例: CPython、PyPy) があるので、typing を利用する静的解析ツールも複数の実装があります。本書執筆時点 (2019年秋) において、最もよく使われているのは、mypy (https://github.com/python/mypy)、pytype (https://github.com/google/pytype)、pyright (https://github.com/microsoft/pyright)、pyre (https://pyre-check.org) です。本書で取り上げた typing 事例には、--strict フラグで mypy を使いました。ツールで扱うすべての警告を扱います。コマンドラインの実行例を示します。\n",
    "\n"
   ]
  },
  {
   "cell_type": "markdown",
   "metadata": {},
   "source": [
    "```shell-session\n",
    "$ python3 -m mypy --strict example.py\n",
    "```"
   ]
  },
  {
   "cell_type": "markdown",
   "metadata": {},
   "source": [
    "このようなツールは、プログラム実行前に多数のよくあるエラーを捕捉します。これは、ユニットテストに加えて (項目76 関係する振る舞いを TestCase サブクラスで検証する」参照) 安全性のレイヤーを追加します。例えば、次の簡単な関数がコンパイルでは問題がなかったのに、実行時にエラー例外が発生するのは何故なのかわかるでしょうか。"
   ]
  },
  {
   "cell_type": "markdown",
   "metadata": {},
   "source": [
    "```python code\n",
    "def subtract (a,b):\n",
    "    return a-b\n",
    "    \n",
    "subtract (10, '5')\n",
    "```"
   ]
  },
  {
   "cell_type": "markdown",
   "metadata": {},
   "source": [
    "```shell\n",
    ">>>\n",
    "Traceback ...\n",
    "TypeError: unsupported operand type(s) for -: 'int' and 'str'\n",
    "\n",
    "```"
   ]
  },
  {
   "cell_type": "markdown",
   "metadata": {},
   "source": [
    "引数や変数の型ヒントは、name: type のようにコロンの後に指定します。戻り値の型は引数リストの後に -> type と書きます。型ヒントと mypy でバグが簡単に見つかります。"
   ]
  },
  {
   "cell_type": "markdown",
   "metadata": {},
   "source": [
    "```python\n",
    "# example.py\n",
    "def subtract(a: int, b: int) -> int: # 関数の型ヒント\n",
    "    return a - b\n",
    "\n",
    "subtract(10, '5')   # おっと、文字列を渡した\n",
    "```"
   ]
  },
  {
   "cell_type": "markdown",
   "metadata": {},
   "source": [
    "```shell\n",
    "$ python3 -m mypy --strict example.py\n",
    ".../example.py:4: error: Argument 2 to \"subtract\" has\n",
    " incompatible type \"str\"; expected \"int\"\n",
    "```"
   ]
  },
  {
   "cell_type": "markdown",
   "metadata": {},
   "source": [
    "Python 2 から Python 3に移ってきたプログラマに特によくある間違いは、bytes と str のインスタンスを混在させて使うことです (項目3 bytes とstr の違いを知っておく」参照)。 実行時エラーを起こす次の例題の問題がわかるでしょうか。\n"
   ]
  },
  {
   "cell_type": "code",
   "execution_count": 10,
   "metadata": {},
   "outputs": [],
   "source": [
    "def concat(a, b):\n",
    "    return a + b"
   ]
  },
  {
   "cell_type": "markdown",
   "metadata": {},
   "source": [
    "```python\n",
    "concat('first', b'second')\n",
    "```\n",
    "```shell\n",
    ">>>\n",
    "Traceback ...\n",
    "TypeError: can only concatenate str (not \"bytes\") to str\n",
    "```"
   ]
  },
  {
   "cell_type": "markdown",
   "metadata": {},
   "source": [
    "型ヒントとmypyを使うと、この問題がプログラムを実行する前に静的に検出できます。"
   ]
  },
  {
   "cell_type": "markdown",
   "metadata": {},
   "source": [
    "```python\n",
    "# example.py\n",
    "def concat(a, b) -> str:    # 型ヒント\n",
    "    return a + b\n",
    "\n",
    "concat('first', b'second')  # おっと、bytes 値を渡した\n",
    "```"
   ]
  },
  {
   "cell_type": "markdown",
   "metadata": {},
   "source": [
    "```shell\n",
    "$ python3 -m mypy --strict example.py\n",
    ".../example.py:4: error: Argument 2 to \"concat\" has\n",
    " incompatible type \"bytes\"; expected \"str\"\n",
    "```"
   ]
  },
  {
   "cell_type": "markdown",
   "metadata": {},
   "source": [
    "型ヒントはクラスにも使えます。次のクラスにはバグが2つあり、実行時に例外が発生します。"
   ]
  },
  {
   "cell_type": "code",
   "execution_count": 11,
   "metadata": {},
   "outputs": [],
   "source": [
    "class Counter:\n",
    "    def __init__(self):\n",
    "        self.value = 0\n",
    "\n",
    "    def add(self, offset):\n",
    "        value += offsetMode.noitsioo\n",
    "   \n",
    "    def get(self) -> int:\n",
    "        self.value"
   ]
  },
  {
   "cell_type": "markdown",
   "metadata": {},
   "source": [
    "add メソッド呼び出しで最初のエラーが起きます。"
   ]
  },
  {
   "cell_type": "markdown",
   "metadata": {},
   "source": [
    "```python\n",
    "counter = Counter()\n",
    "counter.add(5)\n",
    "```"
   ]
  },
  {
   "cell_type": "markdown",
   "metadata": {},
   "source": [
    "```shell\n",
    ">>>\n",
    "Traceback ...\n",
    "UnboundLocalError: local variable 'value' referenced before assignment\n",
    "```"
   ]
  },
  {
   "cell_type": "markdown",
   "metadata": {},
   "source": [
    "get を呼び出すと第2のエラーが起きます。"
   ]
  },
  {
   "cell_type": "markdown",
   "metadata": {},
   "source": [
    "```python\n",
    "counter = Counter()\n",
    "found = counter.get()\n",
    "assert found == 0, found\n",
    "```\n",
    "```shell\n",
    ">>>\n",
    "Traceback ...\n",
    "AssertionError: None\n",
    "```"
   ]
  },
  {
   "cell_type": "markdown",
   "metadata": {},
   "source": [
    "両方の問題とも、mypy で簡単に見つかります。"
   ]
  },
  {
   "cell_type": "markdown",
   "metadata": {},
   "source": [
    "```python\n",
    "# example.py\n",
    "class Counter:\n",
    "    def __init__(self) -> None:\n",
    "        self.value: int = 0 # フィールド/変数の型ヒント\n",
    "    \n",
    "    def add (self, offset: int) -> None:\n",
    "        value += offset     # おっと。self.を忘れた\n",
    "    \n",
    "    def get(self) -> int:\n",
    "        self.value          #おっと。return を忘れた\n",
    "\n",
    "counter = Counter()\n",
    "counter.add(5)\n",
    "counter.add(3)\n",
    "assert counter.get() == 8\n",
    "```\n",
    "```shell\n",
    "$ python3 -m mypy --strict example.py\n",
    ".../example.py:6: error: Name 'value' is not defined\n",
    ".../example.py:8: error: Missing return statement\n",
    "```\n",
    "\n"
   ]
  },
  {
   "cell_type": "markdown",
   "metadata": {},
   "source": [
    "Pythonのダイナミズムの強みの1つが、 ダックタイピングを処理できるジェネリックな機能を書けるところです (項目15 dictの挿入順序に依存する場合は注意する」および「項目43 カスタムコンテナ型は collections.abc を継承する」参照)。これによって、1つの実装で広範囲の型を扱えて、重複作業が減り、テストが簡単になります。次のコードは、そのようなジェネリックな関数を定義して list の値を組み合わせます。 最後のアサーションが失敗するのはなぜかわかりますか。"
   ]
  },
  {
   "cell_type": "code",
   "execution_count": 12,
   "metadata": {},
   "outputs": [],
   "source": [
    "def combine(func, values):\n",
    "    assert len (values) > 0\n",
    "\n",
    "    result = values[0]\n",
    "    for next_value in values [1:]:\n",
    "        result = func(result, next_value )\n",
    "    \n",
    "    return result\n",
    "\n",
    "def add(x, y):\n",
    "    return x + y"
   ]
  },
  {
   "cell_type": "markdown",
   "metadata": {},
   "source": [
    "```python\n",
    "inputs = [1, 2, 3, 4j]\n",
    "result = combine(add, inputs)\n",
    "assert result == 10, result # 失敗\n",
    "```\n",
    "```shell\n",
    "Traceback ...\n",
    "AssertionError: (6+4j)\n",
    "```"
   ]
  },
  {
   "cell_type": "markdown",
   "metadata": {},
   "source": [
    "typing モジュールのジェネリクスのサポートを使って、この関数の型ヒントを書き、問題を静的に検出できます。\n"
   ]
  },
  {
   "cell_type": "code",
   "execution_count": 13,
   "metadata": {},
   "outputs": [],
   "source": [
    "from typing import Callable, List, TypeVar\n",
    "\n",
    "Value = TypeVar('Value')\n",
    "Func = Callable[[Value, Value], Value]\n",
    "\n",
    "def combine(func: Func[Value], values: List[Value]) -> Value:\n",
    "    assert len(values) > 0\n",
    "\n",
    "    result = values[0]\n",
    "    for next_value in values[1:]:\n",
    "        result = func(result, next_value)\n",
    "\n",
    "    return result\n",
    "\n",
    "Real = TypeVar('Real', int, float)\n",
    "\n",
    "def add(x: Real, y: Real) -> Real:\n",
    "    return x + y\n"
   ]
  },
  {
   "cell_type": "markdown",
   "metadata": {},
   "source": [
    "```python\n",
    "inputs = [1, 2, 3, 4j]  # Oops: included a complex number\n",
    "result = combine(add, inputs)\n",
    "assert result == 10\n",
    "```\n",
    "```shell\n",
    "$ python3 -m mypy --strict example.py\n",
    "../example.py:21: error: Argument 1 to \"combine\" has\n",
    " incompatible type \"Callable[[Real, Real], Real]\"; expected\n",
    " \"Callable [[complex, complex], complex]\"\n",
    "```"
   ]
  },
  {
   "cell_type": "markdown",
   "metadata": {},
   "source": [
    "別の非常によくあるエラーが、正しいオブジェクトが得られるだろうと思っていたのに None 値が返されることでしょう (「項目20 None を返すのではなく例外を送出する」)。 この問題は、非常に簡単と思えるコードでも起こります。問題点がわかるでしょうか。\n"
   ]
  },
  {
   "cell_type": "code",
   "execution_count": 14,
   "metadata": {},
   "outputs": [],
   "source": [
    "from typing import Optional\n",
    "\n",
    "def get_or_default(value, default):\n",
    "    if value is not None:\n",
    "        return value\n",
    "    return value"
   ]
  },
  {
   "cell_type": "markdown",
   "metadata": {},
   "source": [
    "```python\n",
    "found = get_or_default(3,5) \n",
    "assert found == 3\n",
    "\n",
    "found = get_or_default(None, 5)\n",
    "assert found = = 5, found   # 失敗\n",
    "```\n",
    "```shell\n",
    ">>>\n",
    "Traceback ...\n",
    "AssertionError: None\n",
    "```"
   ]
  },
  {
   "cell_type": "markdown",
   "metadata": {},
   "source": [
    "typing モジュールは、**オプション型**をサポートして、適切な null チェックが行われた値とだけプログラムが扱うことを確実にします。これによって、mypy はコードにバグがあると推論できます。return 文に使われた型が None でなければならず、それは、関数シグネチャが要求する int 型と合致しません。"
   ]
  },
  {
   "cell_type": "code",
   "execution_count": 15,
   "metadata": {},
   "outputs": [],
   "source": [
    "# example.py\n",
    "from typing import Optional\n",
    "\n",
    "def get_or_default(value: Optional[int],\n",
    "                   default: int) -> int: \n",
    "    if value is not None:\n",
    "        return value\n",
    "    return value  # Oops: should have returned \"default\""
   ]
  },
  {
   "cell_type": "markdown",
   "metadata": {},
   "source": [
    "```shell\n",
    "$ python3 -m mypy --strict example.py\n",
    ".../example.py:7: error: Incompatible return value type (got \"None\",\n",
    " expected \"int\")\n",
    "```"
   ]
  },
  {
   "cell_type": "markdown",
   "metadata": {},
   "source": [
    "typing モジュールでは幅広くさまざまなオプションを使うことができます。 詳細については、 https://docs.python.org/ja/3/library/typing.html を参照してください。 例が含まれていないのは大きな特徴です。すべてのメソッドで API 境界を要求する例外をチェックする Java とは異なり、Python の型ヒントは、C# とよく似ています。例外は、インタフェースの定義の一部とは考えられていません。したがって、例外を送出し、捕捉することが適切か検証するためには、テストを書かねばなりません。\n",
    "\n",
    "typing モジュールを使う上でよく問題になるのが、前方参照の扱いです (同様の問題は「項目88 循環依存を取り除く方法を知る」参照)。例えば、2つのクラスの片方が他を参照しているとします。"
   ]
  },
  {
   "cell_type": "code",
   "execution_count": 16,
   "metadata": {},
   "outputs": [],
   "source": [
    "class FirstClass:\n",
    "    def __init__(self, value):\n",
    "        self.value = value\n",
    "\n",
    "class SecondClass:\n",
    "    def __init__(self, value):\n",
    "        self.value = value\n",
    "\n",
    "second = SecondClass(5)\n",
    "first = FirstClass(second)"
   ]
  },
  {
   "cell_type": "markdown",
   "metadata": {},
   "source": [
    "このプログラムに型ヒントを与えて mypy を実行すると問題は出ません。"
   ]
  },
  {
   "cell_type": "code",
   "execution_count": 17,
   "metadata": {},
   "outputs": [],
   "source": [
    "# example.py\n",
    "class FirstClass:\n",
    "    def __init__(self, value: SecondClass) -> None: # うまくいかない\n",
    "        self.value = value\n",
    "\n",
    "class SecondClass:\n",
    "    def __init__(self, value: int) -> None:\n",
    "        self.value = value\n",
    "\n",
    "second = SecondClass(5)\n",
    "first = FirstClass(second)\n"
   ]
  },
  {
   "cell_type": "markdown",
   "metadata": {},
   "source": [
    "```shell\n",
    "$ python3 -m mypy --strict example.py\n",
    "(-> ok)\n",
    "```"
   ]
  },
  {
   "cell_type": "markdown",
   "metadata": {},
   "source": [
    "しかし、実際に実行すると、`FirstClass.__init__` メソッドのパラメータの型ヒントで、\n",
    "SecondClass が定義前に参照されているので、エラーが生じます。\n"
   ]
  },
  {
   "cell_type": "markdown",
   "metadata": {},
   "source": [
    "```python\n",
    "second = SecondClass(5)\n",
    "first = FirstClass(second)\n",
    "```\n",
    "```shell\n",
    "Traceback ...\n",
    "NameError: name 'SecondClass' is not defined\n",
    "```"
   ]
  },
  {
   "cell_type": "markdown",
   "metadata": {},
   "source": [
    "静的解析ツールを使う回避法は、前方参照を含む型ヒントを文字列で指定することです。文字列値が後でパースされてチェックする型情報を評価抽出します。"
   ]
  },
  {
   "cell_type": "code",
   "execution_count": 18,
   "metadata": {},
   "outputs": [],
   "source": [
    "class FirstClass:\n",
    "    def __init__(self, value: SecondClass) -> None:  # OK\n",
    "        self.value = value\n",
    "\n",
    "class SecondClass:\n",
    "    def __init__(self, value: int) -> None:\n",
    "        self.value = value\n",
    "\n",
    "second = SecondClass(5)\n",
    "first = FirstClass(second)"
   ]
  },
  {
   "cell_type": "markdown",
   "metadata": {},
   "source": [
    "より良い方式は、`from __future__ import annotations`を使うことです。これは Python 3.7 で導入されて、Python 3.10 ではデフォルトになる予定です。これを使うと、Python インタプリタは、型ヒントに指定された値をプログラム実行時に完全に無視します。これによって、前方参照の問題が解決し、プログラム開始時の性能が改善します。"
   ]
  },
  {
   "cell_type": "code",
   "execution_count": 19,
   "metadata": {},
   "outputs": [],
   "source": [
    "from __future__ import annotations\n",
    "\n",
    "class FirstClass:\n",
    "    def __init__(self, value: SecondClass) -> None:  # OK\n",
    "        self.value = value\n",
    "\n",
    "class SecondClass:\n",
    "    def __init__(self, value: int) -> None:\n",
    "        self.value = value\n",
    "\n",
    "second = SecondClass(5)\n",
    "first = FirstClass(second)"
   ]
  },
  {
   "cell_type": "markdown",
   "metadata": {},
   "source": [
    "型ヒントをどのように使うか、その便益がどのようなものかがわかったと思いますが、いつ使うかについてはよく考えることが重要です。覚えておくべきベストプラクティスを次に示します。\n",
    "\n",
    "- 新たにコードを書くとき、最初から型ヒントを指定しようとすると作業が遅くなる。一般的な戦略は、最初のバージョンは型ヒントなしで書き、テストを書き、それから最も価値のある部分で 型ヒントを書くというものだ。\n",
    "- 多数の呼び出し元 (したがって多数の人) が依存するAPIのような、コードベースの境界で、型ヒントが最も重要になる。型ヒントは、統合テスト (「項目77 setUp, tearDown, setUpModule, tearDownModule で他からテストを分離する」参照) や警告 (「項目89 リファク タリングと利用のマイグレーションに warningsを考える」参照)と相補う形で、コード変更に際 して、API呼び出し元が驚いたり、実行がうまくいかなくなることがないようにする。\n",
    "- APIの部分以外では、コードベースで最も複雑で、エラーになりやすい箇所で型ヒントを使うの が有効だ。しかし、コード全体に型ヒントを指定するのは、労力の割に得るものが少ないのであまり価値がないだろう。\n",
    "- 可能なら、静的解析をビルドとテストの自動システムに含めて、コードベースをコミットするたびに、エラーがないかチェックするようにすべきだ。さらに、型チェックに使う構成をリポジト リで保守管理し、協働するすべての人が同じ規則に従うようにすべきだ。\n",
    "- コードに型情報を追加したなら、そのたびに型チェッカを実行することが重要だ。そうでないと、 型ヒントというスプリンクラーをあちらこちらに付けたはいいが、型チェックツールで膨大なエラーが出され、面倒な作業が発生するので、型ヒントをもう使いたくないと思うかもしれない。\n",
    "  \n",
    "最後に、多くの場合、型ヒントが必要なかったり、使いたくない場合もあることを認識しておくことが重要です。小さなプログラム、暫定的なコード、従来からのレガシーコードベース、プロトタイプなどでは、型ヒントにかける労力の割には、効果が見込めないものです。\n",
    "\n"
   ]
  },
  {
   "cell_type": "markdown",
   "metadata": {},
   "source": [
    "### 覚えておくこと"
   ]
  },
  {
   "cell_type": "markdown",
   "metadata": {},
   "source": [
    "- Python には、変数、フィールド、関数、メソッドに型情報を与える、特別な構文と組み込みのモジュールがある。 \n",
    "- 静的型チェッカは型情報を使って、 実行時にエラーが生じる多くのよくあるバグを回避するのを助ける\n",
    "- プログラムに型ヒントを採用し、API に使うには、さまざまなベストプラクティスがあるので、生産性を妨げないようにうまく使うべきだ。\n"
   ]
  }
 ],
 "metadata": {
  "kernelspec": {
   "display_name": "develop",
   "language": "python",
   "name": "python3"
  },
  "language_info": {
   "codemirror_mode": {
    "name": "ipython",
    "version": 3
   },
   "file_extension": ".py",
   "mimetype": "text/x-python",
   "name": "python",
   "nbconvert_exporter": "python",
   "pygments_lexer": "ipython3",
   "version": "3.10.4"
  },
  "orig_nbformat": 4
 },
 "nbformat": 4,
 "nbformat_minor": 2
}
