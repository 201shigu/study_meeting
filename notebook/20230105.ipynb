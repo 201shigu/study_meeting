{
 "cells": [
  {
   "cell_type": "code",
   "execution_count": 1,
   "metadata": {},
   "outputs": [],
   "source": [
    "M = 18\n",
    "num_lst = [4,3,2,1]"
   ]
  },
  {
   "cell_type": "code",
   "execution_count": 2,
   "metadata": {},
   "outputs": [
    {
     "data": {
      "text/plain": [
       "4"
      ]
     },
     "execution_count": 2,
     "metadata": {},
     "output_type": "execute_result"
    }
   ],
   "source": [
    "max(num_lst)"
   ]
  },
  {
   "cell_type": "code",
   "execution_count": 7,
   "metadata": {},
   "outputs": [
    {
     "name": "stdout",
     "output_type": "stream",
     "text": [
      "-2\n"
     ]
    }
   ],
   "source": [
    "if X:=-2:\n",
    "    print(X)"
   ]
  },
  {
   "cell_type": "code",
   "execution_count": 15,
   "metadata": {},
   "outputs": [
    {
     "data": {
      "text/plain": [
       "1"
      ]
     },
     "execution_count": 15,
     "metadata": {},
     "output_type": "execute_result"
    }
   ],
   "source": [
    "lst=[1,2,3]\n",
    "a = lst.pop(0)\n",
    "a"
   ]
  },
  {
   "cell_type": "code",
   "execution_count": 32,
   "metadata": {},
   "outputs": [
    {
     "name": "stdout",
     "output_type": "stream",
     "text": [
      "a\n"
     ]
    }
   ],
   "source": [
    "if not []:\n",
    "    print(\"a\")"
   ]
  },
  {
   "cell_type": "code",
   "execution_count": 38,
   "metadata": {},
   "outputs": [
    {
     "name": "stdout",
     "output_type": "stream",
     "text": [
      "4 [3, 2, 1]\n",
      "18\n",
      "3 [2, 1]\n",
      "18\n",
      "2 [1]\n",
      "18\n",
      "1 []\n",
      "18\n",
      "17\n",
      "16\n",
      "15\n",
      "16\n",
      "14\n",
      "12\n",
      "15\n",
      "12\n",
      "9\n",
      "14\n",
      "10\n",
      "6\n"
     ]
    }
   ],
   "source": [
    "S = 18\n",
    "num_lst = [4,3,2,1] #降順に定義\n",
    "\n",
    "def culc_pair(sum, lst, ans):\n",
    "    M = lst.pop(0)\n",
    "    print(M, lst)\n",
    "    for i in range(4):\n",
    "        X = sum - i*M\n",
    "        # print(M, X, lst, ans)\n",
    "        if X > 0 and lst:\n",
    "            # print(X, lst, ans)\n",
    "            culc_pair(X, lst ,ans)\n",
    "        elif X == 0:\n",
    "            print(ans)    \n",
    "        ans += [M]\n",
    "\n",
    "culc_pair(S, num_lst, [])"
   ]
  },
  {
   "cell_type": "code",
   "execution_count": 46,
   "metadata": {},
   "outputs": [
    {
     "name": "stdout",
     "output_type": "stream",
     "text": [
      "M,lst =  4 [3, 2, 1]\n",
      "ansは []\n",
      "M,lst =  3 [2, 1]\n",
      "ansは []\n",
      "M,lst =  2 [1]\n",
      "ansは []\n",
      "M,lst =  1 []\n",
      "ansは []\n",
      "ansは [1]\n",
      "ansは [1, 1]\n",
      "ansは [1, 1, 1]\n",
      "ansは [1, 1, 1, 2]\n",
      "ansは [1, 1, 1, 2, 2]\n",
      "ansは [1, 1, 1, 2, 2, 2]\n",
      "ansは [1, 1, 1, 2, 2, 2, 3]\n",
      "ansは [1, 1, 1, 2, 2, 2, 3, 3]\n",
      "ansは [1, 1, 1, 2, 2, 2, 3, 3, 3]\n",
      "ansは [1, 1, 1, 2, 2, 2, 3, 3, 3, 4]\n",
      "ansは [1, 1, 1, 2, 2, 2, 3, 3, 3, 4, 4]\n",
      "ansは [1, 1, 1, 2, 2, 2, 3, 3, 3, 4, 4, 4]\n"
     ]
    }
   ],
   "source": [
    "S = 18\n",
    "num_lst = [4,3,2,1] #降順に定義\n",
    "\n",
    "def culc_pair(sum, lst, ans):\n",
    "    M = lst.pop(0)\n",
    "    print(\"M,lst = \",M, lst)\n",
    "    for i in range(4):\n",
    "        X = sum - i*M\n",
    "        if i:\n",
    "            ans += [M]\n",
    "        print(\"ansは\", ans)\n",
    "        # print(M, X, lst, ans)\n",
    "        if X == 0:\n",
    "            print(\"解の一つは\",ans)  # 解を出力 \n",
    "        elif X > 0 and lst:\n",
    "            # print(X, lst, ans)\n",
    "            culc_pair(X, lst ,ans)\n",
    "        \n",
    "\n",
    "culc_pair(S, num_lst, [])"
   ]
  },
  {
   "cell_type": "code",
   "execution_count": 39,
   "metadata": {},
   "outputs": [],
   "source": [
    "lst = [4, 3, 2, 1]\n",
    "M = 18\n",
    "\n",
    "def search(nums, s, count):\n",
    "    if s == M and count == 0:\n",
    "        print(nums)\n",
    "        return\n",
    "\n",
    "    if count > 0:\n",
    "        for i in range(4):\n",
    "            search(nums + [lst[i]], s + lst[i], count - 1)\n",
    "\n",
    "for i in range(4):\n",
    "    search([], 0, i)"
   ]
  },
  {
   "cell_type": "code",
   "execution_count": 62,
   "metadata": {},
   "outputs": [],
   "source": [
    "import numpy as np\n",
    "\n",
    "num_lst = np.array([4, 3, 2, 1])\n",
    "S = 18\n",
    "\n",
    "ans = np.zeros(lst.size, dtype=int)\n",
    "\n",
    "def calc(sum, lst, ans, count):\n",
    "    for i in range(4):\n",
    "        ans[count] = i\n",
    "        if sum == lst @ ans:\n",
    "            print(\"解:\",ans)\n",
    "        elif (sum > lst @ ans) and (lst.size > count+1):\n",
    "            calc(sum, lst, ans, count+1)\n",
    "calc(S, num_lst, ans, 0)"
   ]
  },
  {
   "cell_type": "code",
   "execution_count": 70,
   "metadata": {},
   "outputs": [
    {
     "name": "stdout",
     "output_type": "stream",
     "text": [
      "18\n",
      "[0, 0, 2, 3]\n",
      "[0, 2, 2, 2]\n",
      "[0, 3, 0, 3]\n",
      "[1, 0, 3, 2]\n",
      "[1, 1, 1, 3]\n",
      "[1, 2, 3, 1]\n",
      "[1, 3, 1, 2]\n",
      "[2, 1, 2, 2]\n",
      "[2, 2, 0, 3]\n",
      "[2, 3, 2, 1]\n",
      "[3, 0, 1, 3]\n",
      "[3, 1, 3, 1]\n",
      "[3, 2, 1, 2]\n",
      "20\n",
      "[0, 1, 2, 3]\n",
      "[0, 3, 2, 2]\n",
      "[1, 1, 3, 2]\n",
      "[1, 2, 1, 3]\n",
      "[1, 3, 3, 1]\n",
      "[2, 0, 2, 3]\n",
      "[2, 2, 2, 2]\n",
      "[2, 3, 0, 3]\n",
      "[3, 0, 3, 2]\n",
      "[3, 1, 1, 3]\n"
     ]
    }
   ],
   "source": [
    "def find_integers(x, a, target):\n",
    "    # 再帰の終了条件\n",
    "    if len(a) == 4:\n",
    "        if sum([x[i]*a[i] for i in range(4)]) == target and sum(a) <= 8:\n",
    "            print(a)\n",
    "        return\n",
    "    \n",
    "    # 再帰を実行する処理\n",
    "    for i in range(4):\n",
    "        find_integers(x, a+[i], target)\n",
    "\n",
    "# 再帰関数を呼び出す\n",
    "print(18)\n",
    "find_integers([1, 2, 3, 4], [], 18)\n",
    "\n",
    "print(20)\n",
    "find_integers([1, 2, 3, 4], [], 20)"
   ]
  }
 ],
 "metadata": {
  "kernelspec": {
   "display_name": "Python 3.10.4 ('develop')",
   "language": "python",
   "name": "python3"
  },
  "language_info": {
   "codemirror_mode": {
    "name": "ipython",
    "version": 3
   },
   "file_extension": ".py",
   "mimetype": "text/x-python",
   "name": "python",
   "nbconvert_exporter": "python",
   "pygments_lexer": "ipython3",
   "version": "3.10.4"
  },
  "orig_nbformat": 4,
  "vscode": {
   "interpreter": {
    "hash": "e44055ce3e952bd426b5fb3f107ba07a260ee6f4ce0ddea34f4e7c6cc81b9081"
   }
  }
 },
 "nbformat": 4,
 "nbformat_minor": 2
}
