{
 "cells": [
  {
   "cell_type": "markdown",
   "metadata": {},
   "source": [
    "## 項目 76 関係する振る舞いを TestCase サブクラスで検証する"
   ]
  },
  {
   "cell_type": "markdown",
   "metadata": {},
   "source": [
    "Python でテストを書く正しい標準的な方法は、組み込みモジュール unittest を使うことである。\n",
    "\n",
    "例えば、utils.py で定義された、次のようなユーティリティ関数を、さまざまな入力に対して正しく動作するか検証しようとする。\n"
   ]
  },
  {
   "cell_type": "code",
   "execution_count": 3,
   "metadata": {},
   "outputs": [],
   "source": [
    "## utils.py ##\n",
    "def to_str(data):\n",
    "    if isinstance(data, str):\n",
    "        return data\n",
    "    elif isinstance(data, bytes):\n",
    "        return data.decode('utf-8')\n",
    "    else:\n",
    "        raise TypeError('Must supply str or bytes, '\n",
    "                        'found: %r' % data)"
   ]
  },
  {
   "cell_type": "markdown",
   "metadata": {},
   "source": [
    "テストを定義するために、 期待する各振る舞いのテストを含んだ test_utils.py または utils_test.py という名の第2のファイルを作る (ファイル名は任意) 。"
   ]
  },
  {
   "cell_type": "code",
   "execution_count": 6,
   "metadata": {},
   "outputs": [],
   "source": [
    "## utils_test.py ##\n",
    "from unittest import TestCase, main\n",
    "# from utils import to_str\n",
    "\n",
    "class UtilsTestCase(TestCase):\n",
    "    def test_to_str_bytes(self):\n",
    "        self.assertEqual('hello', to_str(b'hello'))\n",
    "\n",
    "    def test_to_str_str(self):\n",
    "        self.assertEqual('hello', to_str('hello'))\n",
    "\n",
    "    def test_failing(self):\n",
    "        self.assertEqual('incorrect', to_str('hello'))\n",
    "\n",
    "# if __name__ == '__main__':\n",
    "#     main()\n"
   ]
  },
  {
   "cell_type": "markdown",
   "metadata": {},
   "source": [
    "テストファイルを Python コマンドラインで実行する。この場合、テストメソッドの2つは無事パスするが、1つは失敗し、何がいけなかったのかを示すエラーメッセージが表示される。"
   ]
  },
  {
   "cell_type": "markdown",
   "metadata": {},
   "source": [
    "```\n",
    "utils_test.py\n",
    "F..\n",
    "======================================================================\n",
    "FAIL: test_failing (__main__.UtilsTestCase)\n",
    "----------------------------------------------------------------------\n",
    "Traceback (most recent call last):\n",
    "  File \"c:\\Users\\su10_\\python\\effectivepython-master\\example_code\\item_76\\testing\\utils_test.py\", line 28, in test_failing\n",
    "    self.assertEqual('incorrect', to_str('hello'))\n",
    "AssertionError: 'incorrect' != 'hello'\n",
    "- incorrect\n",
    "+ hello\n",
    "\n",
    "\n",
    "----------------------------------------------------------------------\n",
    "Ran 3 tests in 0.001s\n",
    "\n",
    "FAILED (failures=1)\n",
    "```"
   ]
  },
  {
   "cell_type": "markdown",
   "metadata": {},
   "source": [
    "テストは、TestCaseサブクラスで構成する (上の例では UtilsTestCase)。各テストケースは、test_ という語で始まるメソッドである。テストメソッドが何の Exception (assert 文の AssertionError も含めて) も起こさずに実行できた場合、テストは成功したと考えられる。1つのテストが失敗した場合、TestCase サブクラスは最初の問題点で停止するのではなく、継続して他のテストメソッドを実行し、テスト全体の様子がわかるようにする。\n",
    "\n",
    "もし、特定のテストで迅速にバグを修正したり、改善を反復したい場合には、コマンドラインのテストモジュールで、そのパスを指定して、そのテストメソッドだけを実行することができる。\n"
   ]
  },
  {
   "cell_type": "markdown",
   "metadata": {},
   "source": [
    "```\n",
    "$ python3 utils_test.py UtilsTestCase.test_to_str_bytes\n",
    ".\n",
    "---------------------------------------------------------\n",
    "Ran 1 test in 0.000s\n",
    "\n",
    "OK\n",
    "```"
   ]
  },
  {
   "cell_type": "markdown",
   "metadata": {},
   "source": [
    "テストメソッドの中で、特定のブレークポイントで障害の原因をより深く調べるために直接デバッガを呼び出すこともできる (どのように行うかは「項目 80 pdbで対話的にデバッグすることを考える」参照)。\n",
    "\n",
    "TestCase クラスは、テストで確認のためのアサーションを行うためのヘルパー関数を提供する。等価性を検証する assertEqual、論理式を検証する assertTrue など多数ある (他は help(TestCase) 参照)。これらは、入出力すべてを出力して、テストが失敗した理由をしっかりと理解できるため、組み込みの assert 文よりも有益である。例えば次に、ヘルパーアサーションメソッドがある場合とない場合とで同じテストケースを比較する。\n"
   ]
  },
  {
   "cell_type": "code",
   "execution_count": null,
   "metadata": {},
   "outputs": [],
   "source": [
    "from unittest import TestCase, main\n",
    "from utils import to_str\n",
    "\n",
    "class AssertTestCase(TestCase):\n",
    "    def test_assert_helper(self):\n",
    "        expected = 12\n",
    "        found = 2 * 5\n",
    "        self.assertEqual(expected, found)\n",
    "\n",
    "    def test_assert_statement(self):\n",
    "        expected = 12\n",
    "        found = 2 * 5\n",
    "        assert expected == found\n",
    "\n",
    "# if __name__ == '__main__':\n",
    "#     main()"
   ]
  },
  {
   "cell_type": "markdown",
   "metadata": {},
   "source": [
    "次の失敗メッセージを比較すると分かるよう、ヘルパー関数 assertionEqual を用いたケースの方が原因が判別しやすいだろう。"
   ]
  },
  {
   "cell_type": "markdown",
   "metadata": {},
   "source": [
    "```\n",
    "assert_test.py\n",
    "FF\n",
    "======================================================================\n",
    "FAIL: test_assert_helper (__main__.AssertTestCase)\n",
    "----------------------------------------------------------------------\n",
    "Traceback (most recent call last):\n",
    "  File \"c:\\Users\\su10_\\python\\effectivepython-master\\example_code\\item_76\\testing\\assert_test.py\", line 24, in test_assert_helper\n",
    "    self.assertEqual(expected, found)\n",
    "AssertionError: 12 != 10\n",
    "```"
   ]
  },
  {
   "cell_type": "markdown",
   "metadata": {},
   "source": [
    "```\n",
    "======================================================================\n",
    "FAIL: test_assert_statement (__main__.AssertTestCase)\n",
    "----------------------------------------------------------------------\n",
    "Traceback (most recent call last):\n",
    "  File \"c:\\Users\\su10_\\python\\effectivepython-master\\example_code\\item_76\\testing\\assert_test.py\", line 29, in test_assert_statement\n",
    "    assert expected == found\n",
    "AssertionError\n",
    "\n",
    "----------------------------------------------------------------------\n",
    "Ran 2 tests in 0.001s\n",
    "\n",
    "FAILED (failures=2)\n",
    "```"
   ]
  },
  {
   "cell_type": "markdown",
   "metadata": {},
   "source": [
    "with 文でコンテキストマネジャーとして使うことができる例外を検証する assertRaises ヘルパーメソッドもある(どのように動作するかは「項目 66 contextlib と with 文を try/finally の代わりに考える」参照)。これは、try/except 文とよく似ており、どこで例外が発生すると期待されるかを明確にする。\n"
   ]
  },
  {
   "cell_type": "code",
   "execution_count": 7,
   "metadata": {},
   "outputs": [],
   "source": [
    "## utils_error_test.py ##\n",
    "from unittest import TestCase, main\n",
    "\n",
    "class UtilsErrorTestCase(TestCase):\n",
    "    def test_to_str_bad(self):\n",
    "        with self.assertRaises(TypeError):\n",
    "            to_str(object())\n",
    "\n",
    "    def test_to_str_bad_encoding(self):\n",
    "        with self.assertRaises(UnicodeDecodeError):\n",
    "            to_str(b'\\xfa\\xfa')\n",
    "\n",
    "# if __name__ == '__main__':\n",
    "#     main()\n"
   ]
  },
  {
   "cell_type": "markdown",
   "metadata": {},
   "source": [
    "```\n",
    "python utils_error_test.py\n",
    "----------------------------------------------------------------------\n",
    "Ran 2 tests in 0.000s\n",
    "\n",
    "OK\n",
    "```"
   ]
  },
  {
   "cell_type": "markdown",
   "metadata": {},
   "source": [
    "テストをより読みやすくするために、複雑なロジックを持つ専用のヘルパーメソッドを TestCase サブクラスで定義できる。ただし、メソッド名が test という語から始まらないようにしないと、テストケースと間違われて実行されてしまうので、その点は要確認である。こういったカスタマイズしたテストヘルパーでは、TestCase アサーションを呼び出すだけでなく、しばしば fail メソッドを使って、どこで仮定や不変条件が成り立たなくなったかを明らかにする。\n",
    "\n",
    "例えば、ジェネレータの振る舞いを検証するカスタムヘルパーメソッドを次のように定義する。"
   ]
  },
  {
   "cell_type": "code",
   "execution_count": 12,
   "metadata": {},
   "outputs": [],
   "source": [
    "## helper_test.py ##\n",
    "from unittest import TestCase, main\n",
    "\n",
    "def sum_squares(values):\n",
    "    cumulative = 0\n",
    "    for value in values:\n",
    "        cumulative += value ** 2\n",
    "        yield cumulative\n",
    "\n",
    "class HelperTestCase(TestCase):\n",
    "    def verify_complex_case(self, values, expected):\n",
    "        expect_it = iter(expected)\n",
    "        found_it = iter(sum_squares(values))\n",
    "        test_it = zip(expect_it, found_it)\n",
    "\n",
    "        for i, (expect, found) in enumerate(test_it):\n",
    "            self.assertEqual(\n",
    "                expect,\n",
    "                found,\n",
    "                f'Index {i} is wrong')\n",
    "\n",
    "        # Verify both generators are exhausted\n",
    "        try:\n",
    "            next(expect_it)\n",
    "        except StopIteration:\n",
    "            pass\n",
    "        else:\n",
    "            self.fail('Expected longer than found')\n",
    "\n",
    "        try:\n",
    "            next(found_it)\n",
    "        except StopIteration:\n",
    "            pass\n",
    "        else:\n",
    "            self.fail('Found longer than expected')\n",
    "\n",
    "    def test_wrong_lengths(self):\n",
    "        values = [1.1, 2.2, 3.3]\n",
    "        expected = [\n",
    "            1.1**2,\n",
    "        ]\n",
    "        self.verify_complex_case(values, expected)\n",
    "\n",
    "    def test_wrong_results(self):\n",
    "        values = [1.1, 2.2, 3.3]\n",
    "        expected = [\n",
    "            1.1**2,\n",
    "            1.1**2 + 2.2**2,\n",
    "            1.1**2 + 2.2**2 + 3.3**2 + 4.4**2,\n",
    "        ]\n",
    "        self.verify_complex_case(values, expected)\n",
    "\n",
    "# if __name__ == '__main__':\n",
    "#     main()\n"
   ]
  },
  {
   "cell_type": "markdown",
   "metadata": {},
   "source": [
    "ヘルパーメソッドは、テストケースを短く読みやすくし、出力されるエラーメッセージがわかりやすくしている。"
   ]
  },
  {
   "cell_type": "markdown",
   "metadata": {},
   "source": [
    "```\n",
    "python helper_test.py\n",
    "FF\n",
    "======================================================================\n",
    "FAIL: test_wrong_lengths (__main__.HelperTestCase)\n",
    "----------------------------------------------------------------------\n",
    "Traceback (most recent call last):\n",
    "  File \"c:\\Users\\su10_\\python\\effectivepython-master\\example_code\\item_76\\testing\\helper_test.py\", line 57, in test_wrong_lengths\n",
    "    self.verify_complex_case(values, expected)\n",
    "  File \"c:\\Users\\su10_\\python\\effectivepython-master\\example_code\\item_76\\testing\\helper_test.py\", line 50, in verify_complex_case\n",
    "    self.fail('Found longer than expected')\n",
    "AssertionError: Found longer than expected\n",
    "\n",
    "======================================================================\n",
    "FAIL: test_wrong_results (__main__.HelperTestCase)\n",
    "----------------------------------------------------------------------\n",
    "Traceback (most recent call last):\n",
    "  File \"c:\\Users\\su10_\\python\\effectivepython-master\\example_code\\item_76\\testing\\helper_test.py\", line 66, in test_wrong_results\n",
    "    self.verify_complex_case(values, expected)\n",
    "  File \"c:\\Users\\su10_\\python\\effectivepython-master\\example_code\\item_76\\testing\\helper_test.py\", line 32, in verify_complex_case\n",
    "    self.assertEqual(\n",
    "AssertionError: 36.3 != 16.939999999999998 : Index 2 is wrong\n",
    "\n",
    "----------------------------------------------------------------------\n",
    "Ran 2 tests in 0.001s\n",
    "\n",
    "FAILED (failures=2)\n",
    "```"
   ]
  },
  {
   "cell_type": "markdown",
   "metadata": {},
   "source": [
    "通常、関係するテストセットごとに1つの TestCase サブクラスを定義する。\n",
    "時には、多くのテストケースを持つ関数ごとに1つの TestCase サブクラスということもある。\n",
    "他のケースとしては、TestCase サブクラスが単一モジュールのすべての関数を処理することもある。各基底クラスとそのすべてのメソッドをテストする TestCase サブクラスを作ることもしばしばある。\n",
    "\n",
    "TestCase クラスは、1つのテストメソッドの中で複数のテストを定義するときに、ボイラープレート (使い回す前提で用意されたテキスト) を避けるための subTest ヘルパーメソッドも提供する。これは特に、データ駆動テストを書く場合に役立つ。これは、(多数のテストメソッドを含む TestCase の振る舞いと同様に) ケースのいずれかで失敗しても他のケースのテストを継続するテストメソッドの実行を許可する。\n",
    "\n",
    "次のデータ駆動テストの例で示す。\n"
   ]
  },
  {
   "cell_type": "code",
   "execution_count": 11,
   "metadata": {},
   "outputs": [],
   "source": [
    "## data_driven_test.py ##\n",
    "from unittest import TestCase, main\n",
    "\n",
    "class DataDrivenTestCase(TestCase):\n",
    "    def test_good(self):\n",
    "        good_cases = [\n",
    "            (b'my bytes', 'my bytes'),\n",
    "            ('no error', b'no error'),  # This one will fail\n",
    "            ('other str', 'other str'),\n",
    "        ]\n",
    "        for value, expected in good_cases:\n",
    "            with self.subTest(value):\n",
    "                self.assertEqual(expected, to_str(value))\n",
    "\n",
    "    def test_bad(self):\n",
    "        bad_cases = [\n",
    "            (object(), TypeError),\n",
    "            (b'\\xfa\\xfa', UnicodeDecodeError),\n",
    "        ]\n",
    "        for value, exception in bad_cases:\n",
    "            with self.subTest(value):\n",
    "                with self.assertRaises(exception):\n",
    "                    to_str(value)\n",
    "\n",
    "# if __name__ == '__main__':\n",
    "#     main()"
   ]
  },
  {
   "cell_type": "markdown",
   "metadata": {},
   "source": [
    "no error テストは失敗し、有用なエラーメッセージを出力するが、他のすべてのケースは引き続きテストされ、パスすることが確認された。\n"
   ]
  },
  {
   "cell_type": "markdown",
   "metadata": {},
   "source": [
    "```\n",
    "python data_driven_test.py\n",
    ".\n",
    "======================================================================\n",
    "FAIL: test_good (__main__.DataDrivenTestCase) [no error]\n",
    "----------------------------------------------------------------------\n",
    "Traceback (most recent call last):\n",
    "  File \"c:\\Users\\su10_\\python\\effectivepython-master\\example_code\\item_76\\testing\\data_driven_test.py\", line 29, in test_good\n",
    "    self.assertEqual(expected, to_str(value))\n",
    "AssertionError: b'no error' != 'no error'\n",
    "\n",
    "----------------------------------------------------------------------\n",
    "Ran 2 tests in 0.001s\n",
    "\n",
    "FAILED (failures=1)\n",
    "```"
   ]
  },
  {
   "cell_type": "markdown",
   "metadata": {},
   "source": [
    "Note:\n",
    "\n",
    "プロジェクトの複雑さとテストの要求にもよるが、 pytest (https://pytest.org/) オープン ソースパッケージとその膨大なコミュニティプラグインが特に役立つ。"
   ]
  },
  {
   "cell_type": "markdown",
   "metadata": {},
   "source": [
    "### 覚えておくこと"
   ]
  },
  {
   "cell_type": "markdown",
   "metadata": {},
   "source": [
    "- 組み込みモジュール unittest の TestCase クラスのサブクラスでテストを定義でき、テストしたい振る舞いごとにメソッドを定義できる。TestCase クラスにおけるテストメソッドは、test という語から始まらなければならない。\n",
    "- TestCase クラスで定義された assertEqual のようなさまざまなヘルパーメソッドを使い、組み込みの assert 文を使う代わりに、テストにおける期待する振る舞いを確認できる。\n",
    "- subTest ヘルパーメソッドを使い、ボイラープレートを減らしてデータ駆動テストを書くことを考える。\n"
   ]
  },
  {
   "cell_type": "markdown",
   "metadata": {},
   "source": []
  }
 ],
 "metadata": {
  "kernelspec": {
   "display_name": "develop",
   "language": "python",
   "name": "python3"
  },
  "language_info": {
   "codemirror_mode": {
    "name": "ipython",
    "version": 3
   },
   "file_extension": ".py",
   "mimetype": "text/x-python",
   "name": "python",
   "nbconvert_exporter": "python",
   "pygments_lexer": "ipython3",
   "version": "3.10.4"
  },
  "orig_nbformat": 4
 },
 "nbformat": 4,
 "nbformat_minor": 2
}
