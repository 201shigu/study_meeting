{
 "cells": [
  {
   "cell_type": "markdown",
   "metadata": {},
   "source": [
    "## 項目 76 関係する振る舞いを TestCase サブクラスで検証する"
   ]
  },
  {
   "cell_type": "markdown",
   "metadata": {},
   "source": [
    "Python でテストを書く正しい標準的な方法は、組み込みモジュール unittest を使うことである。\n",
    "\n",
    "例えば、utils.py で定義された、次のようなユーティリティ関数を、さまざまな入力に対して正しく動作するか検証しようとする。\n"
   ]
  },
  {
   "cell_type": "code",
   "execution_count": 3,
   "metadata": {},
   "outputs": [],
   "source": [
    "## utils.py ##\n",
    "def to_str(data):\n",
    "    if isinstance(data, str):\n",
    "        return data\n",
    "    elif isinstance(data, bytes):\n",
    "        return data.decode('utf-8')\n",
    "    else:\n",
    "        raise TypeError('Must supply str or bytes, '\n",
    "                        'found: %r' % data)"
   ]
  },
  {
   "cell_type": "markdown",
   "metadata": {},
   "source": [
    "テストを定義するために、 期待する各振る舞いのテストを含んだ test_utils.py または utils_test.py という名の第2のファイルを作る (ファイル名は任意) 。"
   ]
  },
  {
   "cell_type": "code",
   "execution_count": 6,
   "metadata": {},
   "outputs": [],
   "source": [
    "## utils_test.py ##\n",
    "from unittest import TestCase, main\n",
    "# from utils import to_str\n",
    "\n",
    "class UtilsTestCase(TestCase):\n",
    "    def test_to_str_bytes(self):\n",
    "        self.assertEqual('hello', to_str(b'hello'))\n",
    "\n",
    "    def test_to_str_str(self):\n",
    "        self.assertEqual('hello', to_str('hello'))\n",
    "\n",
    "    def test_failing(self):\n",
    "        self.assertEqual('incorrect', to_str('hello'))\n",
    "\n",
    "# if __name__ == '__main__':\n",
    "#     main()\n"
   ]
  },
  {
   "cell_type": "markdown",
   "metadata": {},
   "source": [
    "テストファイルを Python コマンドラインで実行する。この場合、テストメソッドの2つは無事パスするが、1つは失敗し、何がいけなかったのかを示すエラーメッセージが表示される。"
   ]
  },
  {
   "cell_type": "markdown",
   "metadata": {},
   "source": [
    "```\n",
    "utils_test.py\n",
    "F..\n",
    "======================================================================\n",
    "FAIL: test_failing (__main__.UtilsTestCase)\n",
    "----------------------------------------------------------------------\n",
    "Traceback (most recent call last):\n",
    "  File \"c:\\Users\\su10_\\python\\effectivepython-master\\example_code\\item_76\\testing\\utils_test.py\", line 28, in test_failing\n",
    "    self.assertEqual('incorrect', to_str('hello'))\n",
    "AssertionError: 'incorrect' != 'hello'\n",
    "- incorrect\n",
    "+ hello\n",
    "\n",
    "\n",
    "----------------------------------------------------------------------\n",
    "Ran 3 tests in 0.001s\n",
    "\n",
    "FAILED (failures=1)\n",
    "```"
   ]
  },
  {
   "cell_type": "markdown",
   "metadata": {},
   "source": [
    "テストは、TestCaseサブクラスで構成する (上の例では UtilsTestCase)。各テストケースは、test_ という語で始まるメソッドである。テストメソッドが何の Exception (assert 文の AssertionError も含めて) も起こさずに実行できた場合、テストは成功したと考えられる。1つのテストが失敗した場合、TestCase サブクラスは最初の問題点で停止するのではなく、継続して他のテストメソッドを実行し、テスト全体の様子がわかるようにする。\n",
    "\n",
    "もし、特定のテストで迅速にバグを修正したり、改善を反復したい場合には、コマンドラインのテストモジュールで、そのパスを指定して、そのテストメソッドだけを実行することができる。\n"
   ]
  },
  {
   "cell_type": "markdown",
   "metadata": {},
   "source": [
    "```\n",
    "$ python3 utils_test.py UtilsTestCase.test_to_str_bytes\n",
    ".\n",
    "---------------------------------------------------------\n",
    "Ran 1 test in 0.000s\n",
    "\n",
    "OK\n",
    "```"
   ]
  },
  {
   "cell_type": "markdown",
   "metadata": {},
   "source": [
    "テストメソッドの中で、特定のブレークポイントで障害の原因をより深く調べるために直接デバッガを呼び出すこともできる (どのように行うかは「項目 80 pdbで対話的にデバッグすることを考える」参照)。\n",
    "\n",
    "TestCase クラスは、テストで確認のためのアサーションを行うためのヘルパー関数を提供する。等価性を検証する assertEqual、論理式を検証する assertTrue など多数ある (他は help(TestCase) 参照)。これらは、入出力すべてを出力して、テストが失敗した理由をしっかりと理解できるため、組み込みの assert 文よりも有益である。例えば次に、ヘルパーアサーションメソッドがある場合とない場合とで同じテストケースを比較する。\n"
   ]
  },
  {
   "cell_type": "code",
   "execution_count": null,
   "metadata": {},
   "outputs": [],
   "source": [
    "from unittest import TestCase, main\n",
    "from utils import to_str\n",
    "\n",
    "class AssertTestCase(TestCase):\n",
    "    def test_assert_helper(self):\n",
    "        expected = 12\n",
    "        found = 2 * 5\n",
    "        self.assertEqual(expected, found)\n",
    "\n",
    "    def test_assert_statement(self):\n",
    "        expected = 12\n",
    "        found = 2 * 5\n",
    "        assert expected == found\n",
    "\n",
    "# if __name__ == '__main__':\n",
    "#     main()"
   ]
  },
  {
   "cell_type": "markdown",
   "metadata": {},
   "source": [
    "次の失敗メッセージを比較すると分かるよう、ヘルパー関数 assertionEqual を用いたケースの方が原因が判別しやすいだろう。"
   ]
  },
  {
   "cell_type": "markdown",
   "metadata": {},
   "source": [
    "```\n",
    "assert_test.py\n",
    "FF\n",
    "======================================================================\n",
    "FAIL: test_assert_helper (__main__.AssertTestCase)\n",
    "----------------------------------------------------------------------\n",
    "Traceback (most recent call last):\n",
    "  File \"c:\\Users\\su10_\\python\\effectivepython-master\\example_code\\item_76\\testing\\assert_test.py\", line 24, in test_assert_helper\n",
    "    self.assertEqual(expected, found)\n",
    "AssertionError: 12 != 10\n",
    "```"
   ]
  },
  {
   "cell_type": "markdown",
   "metadata": {},
   "source": [
    "```\n",
    "======================================================================\n",
    "FAIL: test_assert_statement (__main__.AssertTestCase)\n",
    "----------------------------------------------------------------------\n",
    "Traceback (most recent call last):\n",
    "  File \"c:\\Users\\su10_\\python\\effectivepython-master\\example_code\\item_76\\testing\\assert_test.py\", line 29, in test_assert_statement\n",
    "    assert expected == found\n",
    "AssertionError\n",
    "\n",
    "----------------------------------------------------------------------\n",
    "Ran 2 tests in 0.001s\n",
    "\n",
    "FAILED (failures=2)\n",
    "```"
   ]
  },
  {
   "cell_type": "markdown",
   "metadata": {},
   "source": [
    "with 文でコンテキストマネジャーとして使うことができる例外を検証する assertRaises ヘルパーメソッドもある(どのように動作するかは「項目 66 contextlib と with 文を try/finally の代わりに考える」参照)。これは、try/except 文とよく似ており、どこで例外が発生すると期待されるかを明確にする。\n"
   ]
  },
  {
   "cell_type": "code",
   "execution_count": 7,
   "metadata": {},
   "outputs": [],
   "source": [
    "## utils_error_test.py ##\n",
    "from unittest import TestCase, main\n",
    "\n",
    "class UtilsErrorTestCase(TestCase):\n",
    "    def test_to_str_bad(self):\n",
    "        with self.assertRaises(TypeError):\n",
    "            to_str(object())\n",
    "\n",
    "    def test_to_str_bad_encoding(self):\n",
    "        with self.assertRaises(UnicodeDecodeError):\n",
    "            to_str(b'\\xfa\\xfa')\n",
    "\n",
    "# if __name__ == '__main__':\n",
    "#     main()\n"
   ]
  },
  {
   "cell_type": "markdown",
   "metadata": {},
   "source": [
    "```\n",
    "python utils_error_test.py\n",
    "----------------------------------------------------------------------\n",
    "Ran 2 tests in 0.000s\n",
    "\n",
    "OK\n",
    "```"
   ]
  },
  {
   "cell_type": "markdown",
   "metadata": {},
   "source": [
    "テストをより読みやすくするために、複雑なロジックを持つ専用のヘルパーメソッドを TestCase サブクラスで定義できる。ただし、メソッド名が test という語から始まらないようにしないと、テストケースと間違われて実行されてしまうので、その点は要確認である。こういったカスタマイズしたテストヘルパーでは、TestCase アサーションを呼び出すだけでなく、しばしば fail メソッドを使って、どこで仮定や不変条件が成り立たなくなったかを明らかにする。\n",
    "\n",
    "例えば、ジェネレータの振る舞いを検証するカスタムヘルパーメソッドを次のように定義する。"
   ]
  },
  {
   "cell_type": "code",
   "execution_count": 12,
   "metadata": {},
   "outputs": [],
   "source": [
    "## helper_test.py ##\n",
    "from unittest import TestCase, main\n",
    "\n",
    "def sum_squares(values):\n",
    "    cumulative = 0\n",
    "    for value in values:\n",
    "        cumulative += value ** 2\n",
    "        yield cumulative\n",
    "\n",
    "class HelperTestCase(TestCase):\n",
    "    def verify_complex_case(self, values, expected):\n",
    "        expect_it = iter(expected)\n",
    "        found_it = iter(sum_squares(values))\n",
    "        test_it = zip(expect_it, found_it)\n",
    "\n",
    "        for i, (expect, found) in enumerate(test_it):\n",
    "            self.assertEqual(\n",
    "                expect,\n",
    "                found,\n",
    "                f'Index {i} is wrong')\n",
    "\n",
    "        # Verify both generators are exhausted\n",
    "        try:\n",
    "            next(expect_it)\n",
    "        except StopIteration:\n",
    "            pass\n",
    "        else:\n",
    "            self.fail('Expected longer than found')\n",
    "\n",
    "        try:\n",
    "            next(found_it)\n",
    "        except StopIteration:\n",
    "            pass\n",
    "        else:\n",
    "            self.fail('Found longer than expected')\n",
    "\n",
    "    def test_wrong_lengths(self):\n",
    "        values = [1.1, 2.2, 3.3]\n",
    "        expected = [\n",
    "            1.1**2,\n",
    "        ]\n",
    "        self.verify_complex_case(values, expected)\n",
    "\n",
    "    def test_wrong_results(self):\n",
    "        values = [1.1, 2.2, 3.3]\n",
    "        expected = [\n",
    "            1.1**2,\n",
    "            1.1**2 + 2.2**2,\n",
    "            1.1**2 + 2.2**2 + 3.3**2 + 4.4**2,\n",
    "        ]\n",
    "        self.verify_complex_case(values, expected)\n",
    "\n",
    "# if __name__ == '__main__':\n",
    "#     main()\n"
   ]
  },
  {
   "cell_type": "markdown",
   "metadata": {},
   "source": [
    "ヘルパーメソッドは、テストケースを短く読みやすくし、出力されるエラーメッセージがわかりやすくしている。"
   ]
  },
  {
   "cell_type": "markdown",
   "metadata": {},
   "source": [
    "```\n",
    "python helper_test.py\n",
    "FF\n",
    "======================================================================\n",
    "FAIL: test_wrong_lengths (__main__.HelperTestCase)\n",
    "----------------------------------------------------------------------\n",
    "Traceback (most recent call last):\n",
    "  File \"c:\\Users\\su10_\\python\\effectivepython-master\\example_code\\item_76\\testing\\helper_test.py\", line 57, in test_wrong_lengths\n",
    "    self.verify_complex_case(values, expected)\n",
    "  File \"c:\\Users\\su10_\\python\\effectivepython-master\\example_code\\item_76\\testing\\helper_test.py\", line 50, in verify_complex_case\n",
    "    self.fail('Found longer than expected')\n",
    "AssertionError: Found longer than expected\n",
    "\n",
    "======================================================================\n",
    "FAIL: test_wrong_results (__main__.HelperTestCase)\n",
    "----------------------------------------------------------------------\n",
    "Traceback (most recent call last):\n",
    "  File \"c:\\Users\\su10_\\python\\effectivepython-master\\example_code\\item_76\\testing\\helper_test.py\", line 66, in test_wrong_results\n",
    "    self.verify_complex_case(values, expected)\n",
    "  File \"c:\\Users\\su10_\\python\\effectivepython-master\\example_code\\item_76\\testing\\helper_test.py\", line 32, in verify_complex_case\n",
    "    self.assertEqual(\n",
    "AssertionError: 36.3 != 16.939999999999998 : Index 2 is wrong\n",
    "\n",
    "----------------------------------------------------------------------\n",
    "Ran 2 tests in 0.001s\n",
    "\n",
    "FAILED (failures=2)\n",
    "```"
   ]
  },
  {
   "cell_type": "markdown",
   "metadata": {},
   "source": [
    "通常、関係するテストセットごとに1つの TestCase サブクラスを定義する。\n",
    "時には、多くのテストケースを持つ関数ごとに1つの TestCase サブクラスということもある。\n",
    "他のケースとしては、TestCase サブクラスが単一モジュールのすべての関数を処理することもある。各基底クラスとそのすべてのメソッドをテストする TestCase サブクラスを作ることもしばしばある。\n",
    "\n",
    "TestCase クラスは、1つのテストメソッドの中で複数のテストを定義するときに、ボイラープレート (使い回す前提で用意されたテキスト) を避けるための subTest ヘルパーメソッドも提供する。これは特に、データ駆動テストを書く場合に役立つ。これは、(多数のテストメソッドを含む TestCase の振る舞いと同様に) ケースのいずれかで失敗しても他のケースのテストを継続するテストメソッドの実行を許可する。\n",
    "\n",
    "次のデータ駆動テストの例で示す。\n"
   ]
  },
  {
   "cell_type": "code",
   "execution_count": 11,
   "metadata": {},
   "outputs": [],
   "source": [
    "## data_driven_test.py ##\n",
    "from unittest import TestCase, main\n",
    "\n",
    "class DataDrivenTestCase(TestCase):\n",
    "    def test_good(self):\n",
    "        good_cases = [\n",
    "            (b'my bytes', 'my bytes'),\n",
    "            ('no error', b'no error'),  # This one will fail\n",
    "            ('other str', 'other str'),\n",
    "        ]\n",
    "        for value, expected in good_cases:\n",
    "            with self.subTest(value):\n",
    "                self.assertEqual(expected, to_str(value))\n",
    "\n",
    "    def test_bad(self):\n",
    "        bad_cases = [\n",
    "            (object(), TypeError),\n",
    "            (b'\\xfa\\xfa', UnicodeDecodeError),\n",
    "        ]\n",
    "        for value, exception in bad_cases:\n",
    "            with self.subTest(value):\n",
    "                with self.assertRaises(exception):\n",
    "                    to_str(value)\n",
    "\n",
    "# if __name__ == '__main__':\n",
    "#     main()"
   ]
  },
  {
   "cell_type": "markdown",
   "metadata": {},
   "source": [
    "no error テストは失敗し、有用なエラーメッセージを出力するが、他のすべてのケースは引き続きテストされ、パスすることが確認された。\n"
   ]
  },
  {
   "cell_type": "markdown",
   "metadata": {},
   "source": [
    "```\n",
    "python data_driven_test.py\n",
    ".\n",
    "======================================================================\n",
    "FAIL: test_good (__main__.DataDrivenTestCase) [no error]\n",
    "----------------------------------------------------------------------\n",
    "Traceback (most recent call last):\n",
    "  File \"c:\\Users\\su10_\\python\\effectivepython-master\\example_code\\item_76\\testing\\data_driven_test.py\", line 29, in test_good\n",
    "    self.assertEqual(expected, to_str(value))\n",
    "AssertionError: b'no error' != 'no error'\n",
    "\n",
    "----------------------------------------------------------------------\n",
    "Ran 2 tests in 0.001s\n",
    "\n",
    "FAILED (failures=1)\n",
    "```"
   ]
  },
  {
   "cell_type": "markdown",
   "metadata": {},
   "source": [
    "Note:\n",
    "\n",
    "プロジェクトの複雑さとテストの要求にもよるが、 pytest (https://pytest.org/) オープン ソースパッケージとその膨大なコミュニティプラグインが特に役立つ。"
   ]
  },
  {
   "cell_type": "markdown",
   "metadata": {},
   "source": [
    "### 覚えておくこと"
   ]
  },
  {
   "cell_type": "markdown",
   "metadata": {},
   "source": [
    "- 組み込みモジュール unittest の TestCase クラスのサブクラスでテストを定義でき、テストしたい振る舞いごとにメソッドを定義できる。TestCase クラスにおけるテストメソッドは、test という語から始まらなければならない。\n",
    "- TestCase クラスで定義された assertEqual のようなさまざまなヘルパーメソッドを使い、組み込みの assert 文を使う代わりに、テストにおける期待する振る舞いを確認できる。\n",
    "- subTest ヘルパーメソッドを使い、ボイラープレートを減らしてデータ駆動テストを書くことを考える。\n"
   ]
  },
  {
   "cell_type": "markdown",
   "metadata": {},
   "source": [
    "## 項目 77 setUp, tearDown, setUpModule, tearDownModule で他からテストを分離する\n"
   ]
  },
  {
   "cell_type": "markdown",
   "metadata": {},
   "source": [
    "TestCaseクラス (「項目76 関係する振る舞いを TestCase サブクラスで検証する」参照)には、テストメソッドを実行する前に、テスト環境をセットアップしなければならないことがよくある。テスト環境は「テストハーネス」とも呼ばれる。これをするために、TestCase サブクラスの setUp と tearDown メソッドをオーバーライドできる。この2つのメソッドは、各テストメソッドの前後で呼び出され、「各テスト実行が隔離されている」ことを確認できる。\n",
    "\n",
    "例えば、各テストの前に一時的なディレクトリを作成して、テストが終了後はその内容を削除する TestCase を次のように定義できる。"
   ]
  },
  {
   "cell_type": "code",
   "execution_count": 2,
   "metadata": {},
   "outputs": [],
   "source": [
    "## environment_test.py ##\n",
    "from pathlib import Path\n",
    "from tempfile import TemporaryDirectory\n",
    "from unittest import TestCase, main\n",
    "\n",
    "class EnvironmentTest(TestCase):\n",
    "    def setUp(self):\n",
    "        self.test_dir = TemporaryDirectory()\n",
    "        self.test_path = Path(self.test_dir.name)\n",
    "\n",
    "    def tearDown(self):\n",
    "        self.test_dir.cleanup()\n",
    "\n",
    "    def test_modify_file(self):\n",
    "        with open(self.test_path / 'data.bin', 'w') as f:\n",
    "            f.write('hello')\n",
    "\n",
    "# if __name__ == '__main__':\n",
    "#     main()\n"
   ]
  },
  {
   "cell_type": "code",
   "execution_count": null,
   "metadata": {},
   "outputs": [],
   "source": [
    "'''\n",
    "testing/environment_test.py\n",
    ".\n",
    "----------------------------------------------------------------------\n",
    "Ran 1 test in 0.003s\n",
    "\n",
    "OK\n",
    "'''"
   ]
  },
  {
   "cell_type": "markdown",
   "metadata": {},
   "source": [
    "プログラムが複雑になると、コードを隔離してテストするのではなく、モジュール間の相互作用を検証する追加のテストが欲しくなるだろう (モックのようなツールを使う。「項目78 モックを使って依存性が複雑なコードをテストする」参照)。これは、ユニットテストと統合テストとの違いである。Python では、両方の種類のテストが、モジュールが実際に一緒に動くかどうか確かめるまでは何の保証もないという、まったく同じ理由のために重要なのである。\n",
    "\n",
    "よくある問題は、統合テストのためのテスト環境構築が計算が高価で、かなりの時間を要することである。例えば、統合テストを実行するためには、データベースプロセスを開始して、インデックスがロードされるのを待たないといけない。この種のレイテンシーがあるために、TestCase クラスの setUp と tearDown メソッドで、すべてのテストの準備と後始末を行うことが実現的ではなくなるのである。\n",
    "\n",
    "このような状況に対応するため、unittest モジュールではモジュールレベルのテストハーネス（テスト環境）初期化をサポートしている。高価な資源を一時に構成して、全 TestCase クラスとそのテストソッドを初期化を繰り返さずに実行する。モジュールの全テストが終了したら、テストハーネスを破棄する。この振る舞いを使い、TestCase クラスを含むモジュール内で関数 setUpModule と tearDownModule を次のように定義する。\n"
   ]
  },
  {
   "cell_type": "code",
   "execution_count": 4,
   "metadata": {},
   "outputs": [],
   "source": [
    "## integration_test.py ##\n",
    "from unittest import TestCase, main\n",
    "\n",
    "def setUpModule():\n",
    "    print('* Module setup')\n",
    "\n",
    "def tearDownModule():\n",
    "    print('* Module clean-up')\n",
    "\n",
    "class IntegrationTest(TestCase):\n",
    "    def setUp(self):\n",
    "        print('* Test setup')\n",
    "\n",
    "    def tearDown(self):\n",
    "        print('* Test clean-up')\n",
    "\n",
    "    def test_end_to_end1(self):\n",
    "        print('* Test 1')\n",
    "\n",
    "    def test_end_to_end2(self):\n",
    "        print('* Test 2')\n",
    "\n",
    "# if __name__ == '__main__':\n",
    "#     main()\n"
   ]
  },
  {
   "cell_type": "code",
   "execution_count": null,
   "metadata": {},
   "outputs": [],
   "source": [
    "'''\n",
    "example_code/item_77/testing/integration_test.py\n",
    "* Module setup\n",
    "* Test setup\n",
    "* Test 1\n",
    "* Test clean-up\n",
    ".* Test setup\n",
    "* Test 2\n",
    "* Test clean-up\n",
    ".* Module clean-up\n",
    "\n",
    "----------------------------------------------------------------------\n",
    "Ran 2 tests in 0.001s\n",
    "\n",
    "OK\n",
    "'''"
   ]
  },
  {
   "cell_type": "markdown",
   "metadata": {},
   "source": [
    "setUpModule が unittest で、setUp メソッドの呼び出し前一度だけ実行されていることが分かる。同様に、tearDownModule は tearDown メソッド呼び出し後に実行されている。"
   ]
  },
  {
   "cell_type": "markdown",
   "metadata": {},
   "source": [
    "### 覚えておくこと"
   ]
  },
  {
   "cell_type": "markdown",
   "metadata": {},
   "source": [
    "- (分離された機能の) ユニットテストと (他と相互作用するモジュールの) 統合テストの両方を書くことが重要だ。\n",
    "- setUp と tearDownメソッドを用いて、テストが互いに分離され、 クリーンなテスト環境 になっていることを確かにする。\n",
    "- 統合テストでは、 setUpModule と tearDownModule モジュールレベル関数を用いて、テストモジュールのそれが含むすべての TestCase クラスに必要なテストハーネスを管理する。\n"
   ]
  },
  {
   "cell_type": "markdown",
   "metadata": {},
   "source": [
    "## 項目 78 モックを使って依存性が複雑なコードをテストする"
   ]
  },
  {
   "cell_type": "code",
   "execution_count": 10,
   "metadata": {},
   "outputs": [
    {
     "data": {
      "text/plain": [
       "<bound method TemporaryDirectory.cleanup of <TemporaryDirectory 'C:\\\\Users\\\\su10_\\\\AppData\\\\Local\\\\Temp\\\\tmpy6gekdmo'>>"
      ]
     },
     "execution_count": 10,
     "metadata": {},
     "output_type": "execute_result"
    }
   ],
   "source": [
    "# Reproduce book environment\n",
    "import random\n",
    "random.seed(1234)\n",
    "\n",
    "import logging\n",
    "from pprint import pprint\n",
    "from sys import stdout as STDOUT\n",
    "\n",
    "# Write all output to a temporary directory\n",
    "import atexit\n",
    "import gc\n",
    "import io\n",
    "import os\n",
    "import tempfile\n",
    "\n",
    "TEST_DIR = tempfile.TemporaryDirectory()\n",
    "atexit.register(TEST_DIR.cleanup)"
   ]
  },
  {
   "cell_type": "markdown",
   "metadata": {},
   "source": [
    "テストを書くときに (「項目76 関係する振る舞いを TestCase サブクラスで検証する」参照) よく使われるもう1つのやり方は、モック関数やクラスを使って、実際のものを使うのが難しすぎたり、遅すぎたりする振る舞いを模倣することである。\n",
    "\n",
    "例えば、動物園で動物に餌をやるスケジュール管理のプログラムが必要だとする。ある種類の動物すべてのデータベースにクエリを送って、直近の食餌時刻を取得する関数を次のように定義する。\n"
   ]
  },
  {
   "cell_type": "code",
   "execution_count": 8,
   "metadata": {},
   "outputs": [],
   "source": [
    "# Example 1\n",
    "class DatabaseConnection:\n",
    "    def __init__(self, host, port):\n",
    "        pass\n",
    "\n",
    "class DatabaseConnectionError(Exception):\n",
    "    pass\n",
    "\n",
    "def get_animals(database, species):\n",
    "    # Query the Database\n",
    "    raise DatabaseConnectionError('Not connected')\n",
    "    # Return a list of (name, last_mealtime) tuples"
   ]
  },
  {
   "cell_type": "markdown",
   "metadata": {},
   "source": [
    "この関数のテストのためのデータベースコネクションは、どうすればいいだろうか。試しに1つ作り、関数に渡してテストしてみる。"
   ]
  },
  {
   "cell_type": "code",
   "execution_count": 33,
   "metadata": {},
   "outputs": [
    {
     "name": "stderr",
     "output_type": "stream",
     "text": [
      "ERROR:root:Expected\n",
      "Traceback (most recent call last):\n",
      "  File \"C:\\Users\\su10_\\AppData\\Local\\Temp\\ipykernel_28368\\1029646582.py\", line 5, in <cell line: 2>\n",
      "    get_animals(database, 'Meerkat')\n",
      "  File \"C:\\Users\\su10_\\AppData\\Local\\Temp\\ipykernel_28368\\3323467131.py\", line 11, in get_animals\n",
      "    raise DatabaseConnectionError('Not connected')\n",
      "DatabaseConnectionError: Not connected\n"
     ]
    }
   ],
   "source": [
    "# Example 2\n",
    "try:\n",
    "    database = DatabaseConnection('localhost', '4444')\n",
    "    \n",
    "    get_animals(database, 'Meerkat')\n",
    "except:\n",
    "    logging.exception('Expected')\n",
    "else:\n",
    "    assert False"
   ]
  },
  {
   "cell_type": "markdown",
   "metadata": {},
   "source": [
    "データベースは実行されておらず、失敗しまっている。解決法の1つは、データベースサーバを実際に立てて、テスト用のコネクションを張ることである。しかし、データベースを始動し、スキーマを構成し、データを取得するなどという作業を完全に自動化するには、膨大な作業が必要である。そのうえ、データベースサーバのセットアップにも時間を要するため、ユニットテストのペースが落ち、保守が困難になる。\n",
    "\n",
    "より良い方式は、データベースのモックを作ることである。モックは、依存関数に期待される応答を期待される呼び出しに対して与える。ここで、モックとフェイクとを混同しないことが重要です。フェイクは、DatabaseConnection クラスのほとんどの振る舞いを提供するが、永続性を持たない基本的なインメモリ、1スレッドによるデータベースのような簡易実装のことである。\n"
   ]
  },
  {
   "cell_type": "markdown",
   "metadata": {},
   "source": [
    "Python には、モックを作成してテストに使うための組み込みモジュール unittest.mockがある。実際にデータベースにコネクションを張らずに、get_animals 関数を模倣する Mock インスタンスを次のように定義する。\n"
   ]
  },
  {
   "cell_type": "code",
   "execution_count": 34,
   "metadata": {},
   "outputs": [],
   "source": [
    "# Example 3\n",
    "from datetime import datetime\n",
    "from unittest.mock import Mock\n",
    "\n",
    "mock = Mock(spec=get_animals)\n",
    "expected = [\n",
    "    ('Spot', datetime(2019, 6, 5, 11, 15)),\n",
    "    ('Fluffy', datetime(2019, 6, 5, 12, 30)),\n",
    "    ('Jojo', datetime(2019, 6, 5, 12, 45)),\n",
    "]\n",
    "mock.return_value = expected"
   ]
  },
  {
   "cell_type": "markdown",
   "metadata": {},
   "source": [
    "Mock クラスはモック関数を作る。モックの return_value 属性は呼び出されたときに返す値である。spec 引数は、モックがそのオブジェクト（この場合は関数）のように動作し、間違った方法で使われた場合にはエラーになることを示す。\n",
    "\n",
    "例えば、モック関数を属性を備えたモックオブジェクトであるかのように扱ったとする。\n"
   ]
  },
  {
   "cell_type": "code",
   "execution_count": 35,
   "metadata": {},
   "outputs": [
    {
     "name": "stderr",
     "output_type": "stream",
     "text": [
      "ERROR:root:Expected\n",
      "Traceback (most recent call last):\n",
      "  File \"C:\\Users\\su10_\\AppData\\Local\\Temp\\ipykernel_28368\\3758337726.py\", line 3, in <cell line: 2>\n",
      "    mock.does_not_exist\n",
      "  File \"c:\\Users\\su10_\\anaconda3\\envs\\develop\\lib\\unittest\\mock.py\", line 634, in __getattr__\n",
      "    raise AttributeError(\"Mock object has no attribute %r\" % name)\n",
      "AttributeError: Mock object has no attribute 'does_not_exist'\n"
     ]
    }
   ],
   "source": [
    "# Example 4\n",
    "try:\n",
    "    mock.does_not_exist\n",
    "except:\n",
    "    logging.exception('Expected')\n",
    "else:\n",
    "    assert False"
   ]
  },
  {
   "cell_type": "markdown",
   "metadata": {},
   "source": [
    "作成した後は、モックを呼び出し、戻り値を取得し、それが期待通りか検証できる。database 引数には object を使う。モックで実際に何かするわけではなく、必要なのは、database 引数が、動作に DatabaseConnection インスタンスが必要な依存関数に正しく渡されることだけだからである (見張り object インスタンスを使った別の例は「項目55 スレッド間の協調作業にはQueue を使う」参照)。"
   ]
  },
  {
   "cell_type": "code",
   "execution_count": 36,
   "metadata": {},
   "outputs": [],
   "source": [
    "# Example 5\n",
    "database = object()\n",
    "result = mock(database, 'Meerkat')\n",
    "assert result == expected"
   ]
  },
  {
   "cell_type": "code",
   "execution_count": 37,
   "metadata": {},
   "outputs": [
    {
     "data": {
      "text/plain": [
       "[('Spot', datetime.datetime(2019, 6, 5, 11, 15)),\n",
       " ('Fluffy', datetime.datetime(2019, 6, 5, 12, 30)),\n",
       " ('Jojo', datetime.datetime(2019, 6, 5, 12, 45))]"
      ]
     },
     "execution_count": 37,
     "metadata": {},
     "output_type": "execute_result"
    }
   ],
   "source": [
    "mock(database, 'Meerkat')"
   ]
  },
  {
   "cell_type": "markdown",
   "metadata": {},
   "source": [
    "これでモックが正しく応答したことが検証できるが、モックを呼び出したコードが正しい引数を指定したかどうかはどうすればわかるだろうか。このために、Mock クラスには、assert_called_once_with メソッドがあり、正確に与えられた引数で呼び出しているか検証できる。 "
   ]
  },
  {
   "cell_type": "code",
   "execution_count": 30,
   "metadata": {},
   "outputs": [],
   "source": [
    "# Example 6\n",
    "mock.assert_called_once_with(database, 'Meerkat')"
   ]
  },
  {
   "cell_type": "markdown",
   "metadata": {},
   "source": [
    "もし、引数が間違っていれば例外が発生し、このアサーションが使われたTestCaseが失敗になる"
   ]
  },
  {
   "cell_type": "code",
   "execution_count": 15,
   "metadata": {},
   "outputs": [
    {
     "name": "stderr",
     "output_type": "stream",
     "text": [
      "ERROR:root:Expected\n",
      "Traceback (most recent call last):\n",
      "  File \"C:\\Users\\su10_\\AppData\\Local\\Temp\\ipykernel_28368\\851613133.py\", line 3, in <cell line: 2>\n",
      "    mock.assert_called_once_with(database, 'Giraffe')\n",
      "  File \"c:\\Users\\su10_\\anaconda3\\envs\\develop\\lib\\unittest\\mock.py\", line 931, in assert_called_once_with\n",
      "    return self.assert_called_with(*args, **kwargs)\n",
      "  File \"c:\\Users\\su10_\\anaconda3\\envs\\develop\\lib\\unittest\\mock.py\", line 919, in assert_called_with\n",
      "    raise AssertionError(_error_message()) from cause\n",
      "AssertionError: expected call not found.\n",
      "Expected: mock(<object object at 0x000001E50F8C4190>, 'Giraffe')\n",
      "Actual: mock(<object object at 0x000001E50F8C4190>, 'Meerkat')\n"
     ]
    }
   ],
   "source": [
    "# Example 7\n",
    "try:\n",
    "    mock.assert_called_once_with(database, 'Giraffe')\n",
    "except:\n",
    "    logging.exception('Expected')\n",
    "else:\n",
    "    assert False\n"
   ]
  },
  {
   "cell_type": "markdown",
   "metadata": {},
   "source": [
    "厳密には、 どの database オブジェクトでも使えるように、 一部の引数が使えるのであれば、定数 unittest.mock.ANY を、どんな引数でも取れることを示す値として使う。Mock の assert_called_with メソッドを使い、モックへの直前の呼び出し (この場合には複数回呼び出されている) が期待通りか検証する。\n"
   ]
  },
  {
   "cell_type": "code",
   "execution_count": 16,
   "metadata": {},
   "outputs": [],
   "source": [
    "# Example 8\n",
    "from unittest.mock import ANY\n",
    "\n",
    "mock = Mock(spec=get_animals)\n",
    "mock('database 1', 'Rabbit')\n",
    "mock('database 2', 'Bison')\n",
    "mock('database 3', 'Meerkat')\n",
    "\n",
    "mock.assert_called_with(ANY, 'Meerkat')"
   ]
  },
  {
   "cell_type": "markdown",
   "metadata": {},
   "source": [
    "テスト対象の振る舞いで、引数がそれほど問題にならない場合には、ANYが便利である。指定が多すぎるテストで、引数に対する期待値をいろいろと調べる場合よりは、指定の少ないテストで、ANY をもっと自由に使って、エラーを検出することが役立つ場合がよくある。\n",
    "\n",
    "Mock クラスでは、例外をモックで送出することも簡単である。\n"
   ]
  },
  {
   "cell_type": "code",
   "execution_count": 17,
   "metadata": {},
   "outputs": [
    {
     "name": "stderr",
     "output_type": "stream",
     "text": [
      "ERROR:root:Expected\n",
      "Traceback (most recent call last):\n",
      "  File \"C:\\Users\\su10_\\AppData\\Local\\Temp\\ipykernel_28368\\2499428456.py\", line 8, in <cell line: 2>\n",
      "    result = mock(database, 'Meerkat')\n",
      "  File \"c:\\Users\\su10_\\anaconda3\\envs\\develop\\lib\\unittest\\mock.py\", line 1104, in __call__\n",
      "    return self._mock_call(*args, **kwargs)\n",
      "  File \"c:\\Users\\su10_\\anaconda3\\envs\\develop\\lib\\unittest\\mock.py\", line 1108, in _mock_call\n",
      "    return self._execute_mock_call(*args, **kwargs)\n",
      "  File \"c:\\Users\\su10_\\anaconda3\\envs\\develop\\lib\\unittest\\mock.py\", line 1163, in _execute_mock_call\n",
      "    raise effect\n",
      "MyError: Whoops! Big problem\n"
     ]
    }
   ],
   "source": [
    "# Example 9\n",
    "try:\n",
    "    class MyError(Exception):\n",
    "        pass\n",
    "    \n",
    "    mock = Mock(spec=get_animals)\n",
    "    mock.side_effect = MyError('Whoops! Big problem')\n",
    "    result = mock(database, 'Meerkat')\n",
    "except:\n",
    "    logging.exception('Expected')\n",
    "else:\n",
    "    assert False"
   ]
  },
  {
   "cell_type": "markdown",
   "metadata": {},
   "source": [
    "他にも多くの機能については、help (unittest.mock.Mock) を参照。\n",
    "\n",
    "Mock の動作する仕組みを述べたので、実際にテストする状況で、どう使えばユニットテストを効果的に書くことができるかを示す。一連のデータベース関数が与えられたとして、動物園で動物たちに餌を与える関数を定義する。"
   ]
  },
  {
   "cell_type": "code",
   "execution_count": 18,
   "metadata": {},
   "outputs": [],
   "source": [
    "# Example 10\n",
    "def get_food_period(database, species):\n",
    "    # Query the Database\n",
    "    pass\n",
    "    # Return a time delta\n",
    "\n",
    "def feed_animal(database, name, when):\n",
    "    # Write to the Database\n",
    "    pass\n",
    "\n",
    "def do_rounds(database, species):\n",
    "    now = datetime.datetime.utcnow()\n",
    "    feeding_timedelta = get_food_period(database, species)\n",
    "    animals = get_animals(database, species)\n",
    "    fed = 0\n",
    "\n",
    "    for name, last_mealtime in animals:\n",
    "        if (now - last_mealtime) > feeding_timedelta:\n",
    "            feed_animal(database, name, now)\n",
    "            fed += 1\n",
    "\n",
    "    return fed"
   ]
  },
  {
   "cell_type": "markdown",
   "metadata": {},
   "source": [
    "テストの目的は、do_rounds の実行において、餌を与える動物を間違えていないか、直近の食餌時刻をデータベースに記録したか、関数が返す餌を与えた動物の総数が正しいかを検証することである。これらすべてを行うために、datetime.utcnow のモックを作り、夏時間やその他一時的な変更の影響を受けない安定した時刻を得る必要がある。get_food_period と get_animals のモックを作り、データベースから得る値を返す必要もある。feed_animal のモックを作り、データベースに書き戻す値を受け取る必要もある。\n",
    "\n",
    "ここでの問題は、これらの関数のモックを作り、期待する動作を設定するやり方がわかったとしても、実際の代わりのモック依存関数を使ってテストされる do_rounds 関数はどうすればいいのか、ということである。解決策の1つは、すべてをキーワード専用引数で与えるというものである (項目25 キー ワード専用引数と位置専用引数で明確さを高める」参照)。\n"
   ]
  },
  {
   "cell_type": "code",
   "execution_count": 19,
   "metadata": {},
   "outputs": [],
   "source": [
    "# Example 11\n",
    "def do_rounds(database, species, *,\n",
    "              now_func=datetime.utcnow,\n",
    "              food_func=get_food_period,\n",
    "              animals_func=get_animals,\n",
    "              feed_func=feed_animal):\n",
    "    now = now_func()\n",
    "    feeding_timedelta = food_func(database, species)\n",
    "    animals = animals_func(database, species)\n",
    "    fed = 0\n",
    "\n",
    "    for name, last_mealtime in animals:\n",
    "        if (now - last_mealtime) > feeding_timedelta:\n",
    "            feed_func(database, name, now)\n",
    "            fed += 1\n",
    "\n",
    "    return fed"
   ]
  },
  {
   "cell_type": "markdown",
   "metadata": {},
   "source": [
    "この関数をテストするには、Mock インスタンスをすべて前もって作成しておき、期待を設定する必要がある。\n"
   ]
  },
  {
   "cell_type": "code",
   "execution_count": 20,
   "metadata": {},
   "outputs": [],
   "source": [
    "# Example 12\n",
    "from datetime import timedelta\n",
    "\n",
    "now_func = Mock(spec=datetime.utcnow)\n",
    "now_func.return_value = datetime(2019, 6, 5, 15, 45)\n",
    "\n",
    "food_func = Mock(spec=get_food_period)\n",
    "food_func.return_value = timedelta(hours=3)\n",
    "\n",
    "animals_func = Mock(spec=get_animals)\n",
    "animals_func.return_value = [\n",
    "    ('Spot', datetime(2019, 6, 5, 11, 15)),\n",
    "    ('Fluffy', datetime(2019, 6, 5, 12, 30)),\n",
    "    ('Jojo', datetime(2019, 6, 5, 12, 45)),\n",
    "]\n",
    "\n",
    "feed_func = Mock(spec=feed_animal)"
   ]
  },
  {
   "cell_type": "markdown",
   "metadata": {},
   "source": [
    "それから、モックを do_rounds 関数に渡し、デフォルト値をオーバーライドする。"
   ]
  },
  {
   "cell_type": "code",
   "execution_count": 21,
   "metadata": {},
   "outputs": [],
   "source": [
    "# Example 13\n",
    "result = do_rounds(\n",
    "    database,\n",
    "    'Meerkat',\n",
    "    now_func=now_func,\n",
    "    food_func=food_func,\n",
    "    animals_func=animals_func,\n",
    "    feed_func=feed_func)\n",
    "\n",
    "assert result == 2"
   ]
  },
  {
   "cell_type": "markdown",
   "metadata": {},
   "source": [
    "最後に、依存関数へのすべての呼び出しが期待通りだったか検証する。"
   ]
  },
  {
   "cell_type": "code",
   "execution_count": 22,
   "metadata": {},
   "outputs": [],
   "source": [
    "# Example 14\n",
    "from unittest.mock import call\n",
    "\n",
    "food_func.assert_called_once_with(database, 'Meerkat')\n",
    "\n",
    "animals_func.assert_called_once_with(database, 'Meerkat')\n",
    "\n",
    "feed_func.assert_has_calls(\n",
    "    [\n",
    "        call(database, 'Spot', now_func.return_value),\n",
    "        call(database, 'Fluffy', now_func.return_value),\n",
    "    ],\n",
    "    any_order=True)"
   ]
  },
  {
   "cell_type": "markdown",
   "metadata": {},
   "source": [
    "datetime.utcnowモックの引数やそれが何回呼び出されたかは、関数の戻り値で間接的に検証されるため、検証しない。get_food_period と get_animals については、assert_called_once_with で引数を検証する。\n",
    "\n",
    "feed_animal 関数では、unittest.mock.call ヘルパーと assert_has_calls メソッドを使っ て、データベースに書き出す呼び出しが2回、順序は関係なし、あったことを検証する。\n",
    "\n",
    "モックをキーワード専用引数を使って与えるこの方式はうまくいくが、出力が多くテストする関数すべてに変更を加える必要がある。unittest.mock.patch 関数族では、モックを与えるのがより簡単になる。上に定義したデータベースアクセス関数のようなモジュールやクラスの属性を一時的に再割り付けする。例えば、patch を使うと get_animals をモックでオーバーライドする。\n"
   ]
  },
  {
   "cell_type": "code",
   "execution_count": 23,
   "metadata": {},
   "outputs": [
    {
     "name": "stdout",
     "output_type": "stream",
     "text": [
      "Outside patch: <function get_animals at 0x000001E50F948A60>\n",
      "Inside patch:  <MagicMock name='get_animals' id='2083320455392'>\n",
      "Outside again: <function get_animals at 0x000001E50F948A60>\n"
     ]
    }
   ],
   "source": [
    "# Example 15\n",
    "from unittest.mock import patch\n",
    "\n",
    "print('Outside patch:', get_animals)\n",
    "\n",
    "with patch('__main__.get_animals'):\n",
    "    print('Inside patch: ', get_animals)\n",
    "\n",
    "print('Outside again:', get_animals)"
   ]
  },
  {
   "cell_type": "markdown",
   "metadata": {},
   "source": [
    "patchは、多くのモジュール、クラス、属性に使える。with 文 (項目 66 contextlib と with文 をtry/finally の代わりに考える」参照) の中や関数デコレータ (「項目26 functools.wraps を使って関数デコレータを定義する」参照) として、あるいは TestCase クラスの setUpと tearDown メソッド (「項目76 関係する振る舞いをTestCase サブクラスで検証する」参照) の中で使えます。他のオプションについては、help(unittest.mock patch) を参照してください。 "
   ]
  },
  {
   "cell_type": "markdown",
   "metadata": {},
   "source": [
    "ただし、あらゆる場合に patch がうまくいくわけではない。例えば、do_rounds をテス\n",
    "トするには、datetime.utcnow クラスメソッドで返される現在時刻をモックする必要がある。\n",
    "datetimeクラスがC拡張モジュールで定義されているので、Python ではこのような方式では変更できない。\n"
   ]
  },
  {
   "cell_type": "code",
   "execution_count": 24,
   "metadata": {},
   "outputs": [
    {
     "name": "stderr",
     "output_type": "stream",
     "text": [
      "ERROR:root:Expected\n",
      "Traceback (most recent call last):\n",
      "  File \"c:\\Users\\su10_\\anaconda3\\envs\\develop\\lib\\unittest\\mock.py\", line 1546, in __enter__\n",
      "    setattr(self.target, self.attribute, new_attr)\n",
      "TypeError: cannot set 'utcnow' attribute of immutable type 'datetime.datetime'\n",
      "\n",
      "During handling of the above exception, another exception occurred:\n",
      "\n",
      "Traceback (most recent call last):\n",
      "  File \"C:\\Users\\su10_\\AppData\\Local\\Temp\\ipykernel_28368\\3056307278.py\", line 5, in <cell line: 2>\n",
      "    with patch('datetime.datetime.utcnow'):\n",
      "  File \"c:\\Users\\su10_\\anaconda3\\envs\\develop\\lib\\unittest\\mock.py\", line 1559, in __enter__\n",
      "    if not self.__exit__(*sys.exc_info()):\n",
      "  File \"c:\\Users\\su10_\\anaconda3\\envs\\develop\\lib\\unittest\\mock.py\", line 1565, in __exit__\n",
      "    setattr(self.target, self.attribute, self.temp_original)\n",
      "TypeError: cannot set 'utcnow' attribute of immutable type 'datetime.datetime'\n"
     ]
    }
   ],
   "source": [
    "# Example 16\n",
    "try:\n",
    "    fake_now = datetime(2019, 6, 5, 15, 45)\n",
    "    \n",
    "    with patch('datetime.datetime.utcnow'):\n",
    "        datetime.utcnow.return_value = fake_now\n",
    "except:\n",
    "    logging.exception('Expected')\n",
    "else:\n",
    "    assert False"
   ]
  },
  {
   "cell_type": "markdown",
   "metadata": {},
   "source": [
    "この問題を回避するためには、patch 可能な時刻を取得するヘルパー関数を作成して対処する。"
   ]
  },
  {
   "cell_type": "code",
   "execution_count": 25,
   "metadata": {},
   "outputs": [],
   "source": [
    "# Example 17\n",
    "def get_do_rounds_time():\n",
    "    return datetime.datetime.utcnow()\n",
    "\n",
    "def do_rounds(database, species):\n",
    "    now = get_do_rounds_time()\n",
    "\n",
    "with patch('__main__.get_do_rounds_time'):\n",
    "    pass"
   ]
  },
  {
   "cell_type": "markdown",
   "metadata": {},
   "source": [
    "別の方式としては、datetime.utcnow モックにはキーワード専用引数を使い、他のモックすべてにpatchを使うこともできる。"
   ]
  },
  {
   "cell_type": "code",
   "execution_count": 26,
   "metadata": {},
   "outputs": [],
   "source": [
    "# Example 18\n",
    "def do_rounds(database, species, *, utcnow=datetime.utcnow):\n",
    "    now = utcnow()\n",
    "    feeding_timedelta = get_food_period(database, species)\n",
    "    animals = get_animals(database, species)\n",
    "    fed = 0\n",
    "\n",
    "    for name, last_mealtime in animals:\n",
    "        if (now - last_mealtime) > feeding_timedelta:\n",
    "            feed_animal(database, name, now)\n",
    "            fed += 1\n",
    "\n",
    "    return fed"
   ]
  },
  {
   "cell_type": "markdown",
   "metadata": {},
   "source": [
    "- 19\n",
    "\n",
    "最後の方式を使うことにする。patch.multiple関数を使って多数のモックを作り期待を設定する。\n",
    "\n",
    "- 20\n",
    "  \n",
    "セットアップができたので、テストを実行して、patch.multiple を使った with文の中で呼び出しが正しいか検証する。\n"
   ]
  },
  {
   "cell_type": "code",
   "execution_count": 29,
   "metadata": {},
   "outputs": [],
   "source": [
    "# Example 19\n",
    "from unittest.mock import DEFAULT\n",
    "\n",
    "with patch.multiple('__main__',\n",
    "                    autospec=True,\n",
    "                    get_food_period=DEFAULT,\n",
    "                    get_animals=DEFAULT,\n",
    "                    feed_animal=DEFAULT):\n",
    "    now_func = Mock(spec=datetime.utcnow)\n",
    "    now_func.return_value = datetime(2019, 6, 5, 15, 45)\n",
    "    get_food_period.return_value = timedelta(hours=3)\n",
    "    get_animals.return_value = [\n",
    "        ('Spot', datetime(2019, 6, 5, 11, 15)),\n",
    "        ('Fluffy', datetime(2019, 6, 5, 12, 30)),\n",
    "        ('Jojo', datetime(2019, 6, 5, 12, 45))\n",
    "    ]\n",
    "\n",
    "# Example 20\n",
    "    result = do_rounds(database, 'Meerkat', utcnow=now_func)\n",
    "    assert result == 2\n",
    "\n",
    "    get_food_period.assert_called_once_with(database, 'Meerkat')\n",
    "    get_animals.assert_called_once_with(database, 'Meerkat')\n",
    "    feed_animal.assert_has_calls(\n",
    "        [\n",
    "            call(database, 'Spot', now_func.return_value),\n",
    "            call(database, 'Fluffy', now_func.return_value),\n",
    "        ],\n",
    "        any_order=True)"
   ]
  },
  {
   "cell_type": "markdown",
   "metadata": {},
   "source": [
    "patch.multipleのキーワード引数は、テスト中にオーバーライドする__main__モジュールでの 名前に対応する。DEFAULT値は、その名前に対しては標準Mockインスタンス作成を要求すること\n",
    "を示す。生成されたモックすべては、引数 autospec=True により、模倣するオブジェクトの仕様に従う。\n",
    "\n",
    "これらのモックは期待通りに動作するが、テストの可読性をさらに改善して、コードをリファクタリングし、余分なボイラープレートを減らし、よりテストしやすくすることが可能なことを理解しておくことが重要である (「項目79 モックとテストを活用して依存性をカプセル化する」参照)。\n"
   ]
  },
  {
   "cell_type": "markdown",
   "metadata": {},
   "source": [
    "### 覚えておくこと"
   ]
  },
  {
   "cell_type": "markdown",
   "metadata": {},
   "source": [
    "- unittest.mockモジュールは、Mock クラスを使ってインタフェースの振る舞いを模倣する方法を提供する。テストするコードで要求される依存性をセットアップするのが困難な場合に、モックがテストに役立つ。\n",
    "- モックを使う場合、テストするコードの振る舞いとそのコードで呼び出される依存関数の呼び出し方の両方を、Mock.assert_called_once_withメソッド群を使って検証することが重要だ。\n",
    "- キーワード専用引数と unittest.mock.patch 関数族を使って、テストするコードにモックを投入できる。"
   ]
  }
 ],
 "metadata": {
  "kernelspec": {
   "display_name": "develop",
   "language": "python",
   "name": "python3"
  },
  "language_info": {
   "codemirror_mode": {
    "name": "ipython",
    "version": 3
   },
   "file_extension": ".py",
   "mimetype": "text/x-python",
   "name": "python",
   "nbconvert_exporter": "python",
   "pygments_lexer": "ipython3",
   "version": "3.10.4"
  },
  "orig_nbformat": 4
 },
 "nbformat": 4,
 "nbformat_minor": 2
}
