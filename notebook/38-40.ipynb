{
 "cells": [
  {
   "attachments": {},
   "cell_type": "markdown",
   "metadata": {},
   "source": [
    "# 5章 クラスと継承 項目38-40\n",
    "2023/3/15\n",
    "\n",
    "担当：須藤"
   ]
  },
  {
   "attachments": {},
   "cell_type": "markdown",
   "metadata": {},
   "source": [
    "#### 必要なモジュールの `import`"
   ]
  },
  {
   "cell_type": "code",
   "execution_count": 2,
   "metadata": {},
   "outputs": [
    {
     "data": {
      "text/plain": [
       "<function __main__.close_open_files()>"
      ]
     },
     "execution_count": 2,
     "metadata": {},
     "output_type": "execute_result"
    }
   ],
   "source": [
    "# Reproduce book environment\n",
    "import random\n",
    "random.seed(1234)\n",
    "\n",
    "import logging\n",
    "from pprint import pprint\n",
    "from sys import stdout as STDOUT\n",
    "\n",
    "# Write all output to a temporary directory\n",
    "import atexit\n",
    "import gc\n",
    "import io\n",
    "import os\n",
    "import tempfile\n",
    "\n",
    "TEST_DIR = tempfile.TemporaryDirectory()\n",
    "atexit.register(TEST_DIR.cleanup)\n",
    "\n",
    "# Make sure Windows processes exit cleanly\n",
    "OLD_CWD = os.getcwd()\n",
    "atexit.register(lambda: os.chdir(OLD_CWD))\n",
    "os.chdir(TEST_DIR.name)\n",
    "\n",
    "def close_open_files():\n",
    "    everything = gc.get_objects()\n",
    "    for obj in everything:\n",
    "        if isinstance(obj, io.IOBase):\n",
    "            obj.close()\n",
    "\n",
    "atexit.register(close_open_files)"
   ]
  },
  {
   "attachments": {},
   "cell_type": "markdown",
   "metadata": {},
   "source": [
    "## 項目38 単純なインタフェースにはクラスの代わりに関数を使う"
   ]
  },
  {
   "attachments": {},
   "cell_type": "markdown",
   "metadata": {},
   "source": [
    "### フックと defaultdict クラス"
   ]
  },
  {
   "attachments": {},
   "cell_type": "markdown",
   "metadata": {},
   "source": [
    "Python には、関数を渡すことによって振る舞いをカスタマイズできる組み込み API が多くある。このような仕組みをフックと呼び、API は、実行中にそのコードをコールバックします。例えば、`list` 型の `sort` メソッドは、オプションとして `key` 引数を取り、各要素のソート値を決定するのに使います（`key` 引数の詳細は「項目14 `key` 引数を使い複雑な基準でソートする」参照）。`key` フックとして組み込み関数 `len` を指定し、名前のリストを長さによってソートするコードを次に示します。"
   ]
  },
  {
   "cell_type": "code",
   "execution_count": 3,
   "metadata": {},
   "outputs": [
    {
     "name": "stdout",
     "output_type": "stream",
     "text": [
      "['Plato', 'Socrates', 'Aristotle', 'Archimedes']\n"
     ]
    }
   ],
   "source": [
    "# Example 1\n",
    "names = ['Socrates', 'Archimedes', 'Plato', 'Aristotle']\n",
    "names.sort(key=len)\n",
    "print(names)"
   ]
  },
  {
   "attachments": {},
   "cell_type": "markdown",
   "metadata": {},
   "source": [
    "他の言語だと、フックが抽象クラスで定義される。Python では、フックの多くは、きちんと定義された引数と戻り値を持ち、状態のない関数です。関数は記述が容易で、クラスよりも定義が単純な ので、フックには理想的です。関数がフックとして機能するのは、Python が関数をファーストクラスとしているからです。すなわち、Python 言語では、関数とメソッドが他の値と同様に渡され参照できるからです。\n",
    "例えば、`defaultdict` クラス（背景については「項目17 内部状態の欠損要素を扱うには `setdefault` ではなく `defaultdict` を使う」参照）の振る舞いをカスタマイズしたいとします。このデータ 構造では、キーが見つからなかったら、そのたびに呼ばれる引数なしの関数を指定することができます。その関数は、見つからなかったキーが辞書で持っているべきデフォルト値を返さねばなりません。キーが見つからないとログを取り、デフォルト値として0を返すフックを次のように定義します。"
   ]
  },
  {
   "attachments": {},
   "cell_type": "markdown",
   "metadata": {},
   "source": [
    "例えば、`defaultdict` クラス（背景については「項目17 内部状態の欠損要素を扱うには `setdefault` ではなく `defaultdict` を使う」参照）の振る舞いをカスタマイズしたいとする。\n",
    "\n",
    "`defaultdict`は、[Pythonのドキュメント](https://docs.python.org/3/library/collections.html)で以下のように説明されている\n",
    "\n",
    "- `class collections.defaultdict(default_factory=None, /[, ...])`\n",
    "\n",
    "`defaultdict`は`default_factory`という引数を持ち、これが`None`であるとき`KeyError`例外を発生させる。"
   ]
  },
  {
   "cell_type": "code",
   "execution_count": 63,
   "metadata": {},
   "outputs": [
    {
     "ename": "KeyError",
     "evalue": "'key1'",
     "output_type": "error",
     "traceback": [
      "\u001b[1;31m---------------------------------------------------------------------------\u001b[0m",
      "\u001b[1;31mKeyError\u001b[0m                                  Traceback (most recent call last)",
      "\u001b[1;32mc:\\Users\\su10_\\python\\effectivepython-master\\notebook\\38-40.ipynb セル 9\u001b[0m in \u001b[0;36m<cell line: 4>\u001b[1;34m()\u001b[0m\n\u001b[0;32m      <a href='vscode-notebook-cell:/c%3A/Users/su10_/python/effectivepython-master/notebook/38-40.ipynb#Y162sZmlsZQ%3D%3D?line=0'>1</a>\u001b[0m \u001b[39mfrom\u001b[39;00m \u001b[39mcollections\u001b[39;00m \u001b[39mimport\u001b[39;00m defaultdict\n\u001b[0;32m      <a href='vscode-notebook-cell:/c%3A/Users/su10_/python/effectivepython-master/notebook/38-40.ipynb#Y162sZmlsZQ%3D%3D?line=2'>3</a>\u001b[0m dd_error \u001b[39m=\u001b[39m defaultdict()\n\u001b[1;32m----> <a href='vscode-notebook-cell:/c%3A/Users/su10_/python/effectivepython-master/notebook/38-40.ipynb#Y162sZmlsZQ%3D%3D?line=3'>4</a>\u001b[0m dd_error[\u001b[39m\"\u001b[39;49m\u001b[39mkey1\u001b[39;49m\u001b[39m\"\u001b[39;49m]\u001b[39m.\u001b[39mappend(\u001b[39m1\u001b[39m)\n",
      "\u001b[1;31mKeyError\u001b[0m: 'key1'"
     ]
    }
   ],
   "source": [
    "from collections import defaultdict\n",
    "\n",
    "dd_error = defaultdict()\n",
    "dd_error[\"key1\"].append(1)"
   ]
  },
  {
   "attachments": {},
   "cell_type": "markdown",
   "metadata": {},
   "source": [
    "`default_factory`には引数を持たない関数を与えることが出来、その関数に応じて新たな値の格納の仕様を指定できる。\n",
    "\n",
    "例えば、`defaultdict` `dd` に新たなキーを追加するとき、リストに格納して要素を与えたいとすれば次のように`list`を渡せばよい。"
   ]
  },
  {
   "cell_type": "code",
   "execution_count": 74,
   "metadata": {},
   "outputs": [
    {
     "name": "stdout",
     "output_type": "stream",
     "text": [
      "defaultdict(<class 'list'>, {'key1': [1], 'key2': [2, 'two']})\n",
      "{'key1': [1], 'key2': [2, 'two']}\n"
     ]
    }
   ],
   "source": [
    "dd_list = defaultdict(list)\n",
    "dd_list[\"key1\"] += [1]\n",
    "dd_list[\"key2\"] += [2,\"two\"]\n",
    "print(dd_list)\n",
    "print(dict(dd_list))"
   ]
  },
  {
   "attachments": {},
   "cell_type": "markdown",
   "metadata": {},
   "source": [
    "結果を見ると分かるように、`defaultdict`そのものを`print`すると、初期値を指定する関数と辞書と二つの情報を`defaultdict`型として表示される。\n",
    "\n",
    "辞書のみを表示したい場合は`dict()`でラップすればよい。"
   ]
  },
  {
   "attachments": {},
   "cell_type": "markdown",
   "metadata": {},
   "source": [
    "`defaultdict`の引数`default_factory`に自身で作った以下の性質を満たす関数を指定することで仕様をカスタマイズできる：\n",
    "- 引数を取らない\n",
    "- 初期値を`return`として返す\n",
    " \n",
    "例えば次のような関数を指定することができる。"
   ]
  },
  {
   "cell_type": "code",
   "execution_count": 77,
   "metadata": {},
   "outputs": [
    {
     "name": "stdout",
     "output_type": "stream",
     "text": [
      "Key added\n",
      "Key added\n",
      "{'key1': 4, 'key2': 5}\n"
     ]
    }
   ],
   "source": [
    "# Example 2\n",
    "def log_missing():\n",
    "    print('Key added')\n",
    "    return 3\n",
    "\n",
    "dd_lm = defaultdict(log_missing)\n",
    "dd_lm[\"key1\"] += 1\n",
    "dd_lm[\"key2\"] += 2\n",
    "print(dict(dd_lm))"
   ]
  },
  {
   "attachments": {},
   "cell_type": "markdown",
   "metadata": {},
   "source": [
    "ここの挙動としては、\n",
    "1. `defaultdict` `dd_lm`に新たなキー`key1`を追加しようとする\n",
    "2. `dd_lm`にキー`key1`は存在しないため、初期化のため`log_missing()`を実行する\n",
    "3. `log_missing()`を実行するため、`print('Key added')`が実行され、デフォルト値として`3`が与えられる\n",
    "4. `3 + 1 = 4`が`key1`の値として格納される"
   ]
  },
  {
   "attachments": {},
   "cell_type": "markdown",
   "metadata": {},
   "source": [
    "以下のサンプルコード Example 3 でも同様の挙動を確認することができる。"
   ]
  },
  {
   "cell_type": "code",
   "execution_count": 5,
   "metadata": {},
   "outputs": [
    {
     "name": "stdout",
     "output_type": "stream",
     "text": [
      "Before: {'green': 12, 'blue': 3}\n",
      "Key added\n",
      "Key added\n",
      "After:  {'green': 12, 'blue': 20, 'red': 5, 'orange': 9}\n"
     ]
    }
   ],
   "source": [
    "# Example 3\n",
    "from collections import defaultdict\n",
    "\n",
    "current = {'green': 12, 'blue': 3}\n",
    "increments = [\n",
    "    ('red', 5),\n",
    "    ('blue', 17),\n",
    "    ('orange', 9),\n",
    "]\n",
    "result = defaultdict(log_missing, current)\n",
    "print('Before:', dict(result))\n",
    "for key, amount in increments:\n",
    "    result[key] += amount\n",
    "print('After: ', dict(result))"
   ]
  },
  {
   "attachments": {},
   "cell_type": "markdown",
   "metadata": {},
   "source": [
    "このように`defaultdict`は、引数に`log_missing` のような関数を与えることで、新しいキーが追加される度にログを表示するといった機能を付与することができ、API の構築とテストが容易になる。"
   ]
  },
  {
   "attachments": {},
   "cell_type": "markdown",
   "metadata": {},
   "source": [
    "### defaultdict と `__call__`"
   ]
  },
  {
   "attachments": {},
   "cell_type": "markdown",
   "metadata": {},
   "source": [
    "次に`defaultdict` に渡すデフォルト値のフックで、見つからないキーの総数を数えることを考える。一つ目の方法として、状態を持つクロージャを使うことが考えられる（詳細は「項目21 クロージャが変数スコープとどう関わるかを把握しておく」参照）。このようなクロージャをデフォルト値のフックとして用いるヘルパー関数を次のように定義する。"
   ]
  },
  {
   "cell_type": "code",
   "execution_count": 6,
   "metadata": {},
   "outputs": [],
   "source": [
    "# Example 4\n",
    "def increment_with_report(current, increments):\n",
    "    added_count = 0\n",
    "\n",
    "    def missing():\n",
    "        nonlocal added_count  # Stateful closure\n",
    "        added_count += 1\n",
    "        return 0\n",
    "\n",
    "    result = defaultdict(missing, current)\n",
    "    for key, amount in increments:\n",
    "        result[key] += amount\n",
    "\n",
    "    return result, added_count"
   ]
  },
  {
   "attachments": {},
   "cell_type": "markdown",
   "metadata": {},
   "source": [
    "この関数を実行すると、`defaultdict` 自体は `missing` というフックが状態（カウント数）を保持していることを知らずとも、期待された結果である`2`が得られる。"
   ]
  },
  {
   "cell_type": "code",
   "execution_count": 7,
   "metadata": {},
   "outputs": [
    {
     "name": "stdout",
     "output_type": "stream",
     "text": [
      "defaultdict(<function increment_with_report.<locals>.missing at 0x0000027B8C4A7010>, {'green': 12, 'blue': 20, 'red': 5, 'orange': 9})\n"
     ]
    }
   ],
   "source": [
    "current = {'green': 12, 'blue': 3}\n",
    "increments = [\n",
    "    ('red', 5),\n",
    "    ('blue', 17),\n",
    "    ('orange', 9),\n",
    "]\n",
    "\n",
    "# Example 5\n",
    "result, count = increment_with_report(current, increments)\n",
    "assert count == 2\n",
    "print(result)"
   ]
  },
  {
   "attachments": {},
   "cell_type": "markdown",
   "metadata": {},
   "source": [
    "このような状態を保持する関数をクロージャとして実装しているだけなので、機能を自由に追加できるメリットがある。\n",
    "\n",
    "このように「状態をクロージャをフックとして実装する」際の問題点は、状態を持たない関数の例に比べてかなり読みにくい点である。\n",
    "\n",
    "この点を解消する方法として、次のように、追跡したい状態をカプセル化した軽量なクラスを定義する方法が考えられる。"
   ]
  },
  {
   "cell_type": "code",
   "execution_count": 8,
   "metadata": {},
   "outputs": [],
   "source": [
    "# Example 6\n",
    "class CountMissing:\n",
    "    def __init__(self):\n",
    "        self.added = 0\n",
    "\n",
    "    def missing(self):\n",
    "        self.added += 1\n",
    "        return 0"
   ]
  },
  {
   "attachments": {},
   "cell_type": "markdown",
   "metadata": {},
   "source": [
    "他言語の場合、`defaultdict` を修正して、`CountMissing` を受け入れられるインタフェースにする必要があることが多い。一方、Python では、関数がファーストクラス（変数として代入等が可能）なため、オブジェクトで直接 `CountMissing.missing` メソッドを参照して、それをデフォルト値フックとして `defaultdict` に渡すことができる。"
   ]
  },
  {
   "cell_type": "code",
   "execution_count": 9,
   "metadata": {},
   "outputs": [
    {
     "name": "stdout",
     "output_type": "stream",
     "text": [
      "defaultdict(<bound method CountMissing.missing of <__main__.CountMissing object at 0x0000027B8D7EFD90>>, {'green': 12, 'blue': 20, 'red': 5, 'orange': 9})\n"
     ]
    }
   ],
   "source": [
    "current = {'green': 12, 'blue': 3}\n",
    "increments = [\n",
    "    ('red', 5),\n",
    "    ('blue', 17),\n",
    "    ('orange', 9),\n",
    "]\n",
    "\n",
    "# Example 7\n",
    "counter = CountMissing()\n",
    "result = defaultdict(counter.missing, current)  # Method ref\n",
    "for key, amount in increments:\n",
    "    result[key] += amount\n",
    "assert counter.added == 2\n",
    "print(result)"
   ]
  },
  {
   "attachments": {},
   "cell_type": "markdown",
   "metadata": {},
   "source": [
    "このようなヘルパークラスを使って、状態を持つクロージャの振る舞いを提供することは、先ほどの `increment_with_report` 関数よりもコードが明確になります。しかし、`CountMissing` クラス 単独で見ると、このクラスの目的が何であるかがすぐにはわかりません。誰が、`CountMissing` オブジェクトを作るのでしょうか。 誰が `missing` メソッドを呼ぶのでしょうか。 クラスには、将来他のパブリックメソッドが必要となるのでしょうか。`defaultdict` でどのように使われるのかを確かめるまでは、このクラスは謎のままです。\n",
    "\n",
    "このような状況を切り抜けるために、Python はクラスで特殊メソッド `__call__` を定義できます。`__call__` では、関数のようにオブジェクトを呼び出すことができます。これは、そのようなインスタ ンスに対して、組み込み関数 `callable`が `True` を返すようにします。このように実行できるオブジェクトはすべて、「呼び出し可能」と呼ばれます。\n"
   ]
  },
  {
   "cell_type": "code",
   "execution_count": 10,
   "metadata": {},
   "outputs": [],
   "source": [
    "# Example 8\n",
    "class BetterCountMissing:\n",
    "    def __init__(self):\n",
    "        self.added = 0\n",
    "\n",
    "    def __call__(self):\n",
    "        self.added += 1\n",
    "        return 0\n",
    "\n",
    "counter = BetterCountMissing()\n",
    "assert counter() == 0\n",
    "assert callable(counter)"
   ]
  },
  {
   "attachments": {},
   "cell_type": "markdown",
   "metadata": {},
   "source": [
    "次のように、`BetterCountMissing` インスタンスを `defaultdict` のデフォルト値フックとして使って、追加された中で、キーがなかったものの個数を追跡します。"
   ]
  },
  {
   "cell_type": "code",
   "execution_count": 11,
   "metadata": {},
   "outputs": [
    {
     "name": "stdout",
     "output_type": "stream",
     "text": [
      "defaultdict(<__main__.BetterCountMissing object at 0x0000027B8C523910>, {'green': 12, 'blue': 20, 'red': 5, 'orange': 9})\n"
     ]
    }
   ],
   "source": [
    "# Example 9\n",
    "counter = BetterCountMissing()\n",
    "result = defaultdict(counter, current)  # Relies on __call__\n",
    "for key, amount in increments:\n",
    "    result[key] += amount\n",
    "assert counter.added == 2\n",
    "print(result)"
   ]
  },
  {
   "attachments": {},
   "cell_type": "markdown",
   "metadata": {},
   "source": [
    "これは、`CountMissing.missing` の例よりもずっとわかりやすくなっています。`__call__` メソッドは、クラスのインスタンスがどこかで（API フックのように）関数引数として使われてもよいことを示唆します。これは、新たにコードを読んだ人に、クラスの基本的な振る舞いに対する責任のありかを示します。クラスの目的が状態を持つクロージャとして働くことであるという強い手がかりを与えます。\n",
    "何よりも良いことは、`__call__` を使っても、何が起こっているかについて `defaultdict` が何も 知らなくて良いことです。`defaultdict` に必要なことは、デフォルト値をフックする関数だけです。Python は、何を行いたいかに応じて、単純な関数インタフェースを満たすさまざまな方法をたくさん用意しています。\n"
   ]
  },
  {
   "attachments": {},
   "cell_type": "markdown",
   "metadata": {},
   "source": [
    "### 覚えておくこと"
   ]
  },
  {
   "attachments": {},
   "cell_type": "markdown",
   "metadata": {},
   "source": [
    "- Python のコンポーネント間の単純なインタフェースは、クラスを定義してインスタンス化しなくても、たいてい関数で済ませられる。\n",
    "- Python では関数とメソッドの参照はファーストクラスなので、他の型同様、式中で使うことができる。\n",
    "- 特殊メソッド `__call__` を使用すると、クラスのインスタンスを Python の普通の関数として呼び出すことが可能になる。\n",
    "- 状態を保守するために関数が必要な場合、状態を持つクロージャを定義する代わりに、`__call__` メソッドを提供するクラスを定義することを考える。"
   ]
  },
  {
   "attachments": {},
   "cell_type": "markdown",
   "metadata": {},
   "source": [
    "## 項目39 @classmethod ポリモルフィズムを使ってオブジェクトをジェネリックに構築する"
   ]
  },
  {
   "attachments": {},
   "cell_type": "markdown",
   "metadata": {},
   "source": [
    "Python では、オブジェクトだけでなくクラスもポリモルフィズムをサポートします。それは、どういう意味で、どんな利点があるのでしょうか。\n",
    "\n",
    "ポリモルフィズムを使用すると、階層を成す複数のクラスでそれぞれ独自のバージョンのメソッドを実装できるようになります。この方式では、多くのクラスが同じインタフェース、あるいは、抽象基底クラスを実現しながら、異なった機能を提供します（例えば、「項目43 カスタムコンテナ型は `collections.abc` を継承する」参照）。\n",
    "\n",
    "例えば、`MapReduce` の実装を書いていて、入力データを表す共通クラスが欲しいとします。サブクラスで定義する必要のある `read` メソッドを持つクラスを次のように定義します。"
   ]
  },
  {
   "cell_type": "code",
   "execution_count": 12,
   "metadata": {},
   "outputs": [],
   "source": [
    "# Example 1\n",
    "class InputData:\n",
    "    def read(self):\n",
    "        raise NotImplementedError"
   ]
  },
  {
   "attachments": {},
   "cell_type": "markdown",
   "metadata": {},
   "source": [
    "データをディスクのファイルから読み込む、`InputData` の具象サブクラスもあります。"
   ]
  },
  {
   "cell_type": "code",
   "execution_count": 13,
   "metadata": {},
   "outputs": [],
   "source": [
    "# Example 2\n",
    "class PathInputData(InputData):\n",
    "    def __init__(self, path):\n",
    "        super().__init__()\n",
    "        self.path = path\n",
    "\n",
    "    def read(self):\n",
    "        with open(self.path) as f:\n",
    "            return f.read()"
   ]
  },
  {
   "attachments": {},
   "cell_type": "markdown",
   "metadata": {},
   "source": [
    "`PathInputData` のような `InputData` のサブクラスをいくつでも作ることができ、それぞれが処理するデータを返すための標準的な読み込みインタフェースを実装することができます。他の `InputData` のサブクラスでは、ネットワークから読み込んだり、データを透過的に解凍したりすることなどができます。\n",
    "\n",
    "入力データを標準的に消費する `MapReduce` の `Worker` にも同様の抽象インタフェースが欲しくなったとしましょう。\n"
   ]
  },
  {
   "cell_type": "code",
   "execution_count": 14,
   "metadata": {},
   "outputs": [],
   "source": [
    "# Example 3\n",
    "class Worker:\n",
    "    def __init__(self, input_data):\n",
    "        self.input_data = input_data\n",
    "        self.result = None\n",
    "\n",
    "    def map(self):\n",
    "        raise NotImplementedError\n",
    "\n",
    "    def reduce(self, other):\n",
    "        raise NotImplementedError"
   ]
  },
  {
   "attachments": {},
   "cell_type": "markdown",
   "metadata": {},
   "source": [
    "具体的な `Worker` サブクラスとして、単純な改行のカウンタを適用したい `MapReduce` 関数として定義します。"
   ]
  },
  {
   "cell_type": "code",
   "execution_count": 15,
   "metadata": {},
   "outputs": [],
   "source": [
    "# Example 4\n",
    "class LineCountWorker(Worker):\n",
    "    def map(self):\n",
    "        data = self.input_data.read()\n",
    "        self.result = data.count('\\n')\n",
    "\n",
    "    def reduce(self, other):\n",
    "        self.result += other.result"
   ]
  },
  {
   "attachments": {},
   "cell_type": "markdown",
   "metadata": {},
   "source": [
    "この実装は取り組み甲斐がありますが、一番大きな難関でもあります。これらの部品すべてを連結するのは何でしょうか。妥当なインタフェースと抽象化を備えた良いクラスの集合があっても、オブジェクトが作られて初めて役に立つものです。オブジェクトを構築して、`MapReduce` を統合する責任は誰が負うのでしょうか。\n",
    "\n",
    "最も単純な方式は、ヘルパー関数を使って、オブジェクトを構築して連携する作業を自分の手で行うことです。ディレクトリの内容をリストして、そこに含まれる各ファイルに対する `PathInputData` インスタンスを作ります。\n"
   ]
  },
  {
   "cell_type": "code",
   "execution_count": 16,
   "metadata": {},
   "outputs": [],
   "source": [
    "# Example 5\n",
    "import os\n",
    "\n",
    "def generate_inputs(data_dir):\n",
    "    for name in os.listdir(data_dir):\n",
    "        yield PathInputData(os.path.join(data_dir, name))"
   ]
  },
  {
   "attachments": {},
   "cell_type": "markdown",
   "metadata": {},
   "source": [
    "次に、`generate_inputs` で返された `InputData` インスタンスを作ります。"
   ]
  },
  {
   "cell_type": "code",
   "execution_count": 17,
   "metadata": {},
   "outputs": [],
   "source": [
    "# Example 6\n",
    "def create_workers(input_list):\n",
    "    workers = []\n",
    "    for input_data in input_list:\n",
    "        workers.append(LineCountWorker(input_data))\n",
    "    return workers"
   ]
  },
  {
   "attachments": {},
   "cell_type": "markdown",
   "metadata": {},
   "source": [
    "複数のスレッドに実行ステップを `map` することによって、これらの `Worker` インスタンスを並列に実行します（「項目53 スレッドはブロッキングI/O に使い、並列性に使うのは避ける」）。そして、`reduce` を繰り返し呼び出して、結果を1つの最終的な値にまとめます。"
   ]
  },
  {
   "cell_type": "code",
   "execution_count": 18,
   "metadata": {},
   "outputs": [],
   "source": [
    "# Example 7\n",
    "from threading import Thread\n",
    "\n",
    "def execute(workers):\n",
    "    threads = [Thread(target=w.map) for w in workers]\n",
    "    for thread in threads: thread.start()\n",
    "    for thread in threads: thread.join()\n",
    "\n",
    "    first, *rest = workers\n",
    "    for worker in rest:\n",
    "        first.reduce(worker)\n",
    "    return first.result"
   ]
  },
  {
   "attachments": {},
   "cell_type": "markdown",
   "metadata": {},
   "source": [
    "最後に、これらの部品をまとめて、各ステップを実行する関数にします。"
   ]
  },
  {
   "cell_type": "code",
   "execution_count": 19,
   "metadata": {},
   "outputs": [],
   "source": [
    "# Example 8\n",
    "def mapreduce(data_dir):\n",
    "    inputs = generate_inputs(data_dir)\n",
    "    workers = create_workers(inputs)\n",
    "    return execute(workers)"
   ]
  },
  {
   "attachments": {},
   "cell_type": "markdown",
   "metadata": {},
   "source": [
    "テスト用の入力ファイルにこの関数を実行した結果は素晴らしいものでした。"
   ]
  },
  {
   "cell_type": "code",
   "execution_count": 20,
   "metadata": {},
   "outputs": [
    {
     "name": "stdout",
     "output_type": "stream",
     "text": [
      "There are 4360 lines\n"
     ]
    }
   ],
   "source": [
    "# Example 9\n",
    "import os\n",
    "import random\n",
    "\n",
    "def write_test_files(tmpdir):\n",
    "    os.makedirs(tmpdir)\n",
    "    for i in range(100):\n",
    "        with open(os.path.join(tmpdir, str(i)), 'w') as f:\n",
    "            f.write('\\n' * random.randint(0, 100))\n",
    "\n",
    "tmpdir = 'test_inputs'\n",
    "write_test_files(tmpdir)\n",
    "\n",
    "result = mapreduce(tmpdir)\n",
    "print(f'There are {result} lines')"
   ]
  },
  {
   "attachments": {},
   "cell_type": "markdown",
   "metadata": {},
   "source": [
    "何が問題でしょうか。大きな問題は、この `mapreduce` 関数がまったく（ジェネリックプログラミングの意味での）ジェネリックではないことです。別の `InputData` や `Worker` といったサブクラスを書いたなら、`generate_inputs` や `create_workers` を書き直して、 `mapreduce` 関数でも対応しなければいけません。\n",
    "\n",
    "この問題を突き詰めると、オブジェクトを構築するジェネリックな方式が必要だということになります。他の言語では、コンストラクタポリモルフィズムを使って、各 `InputData` サブクラスが専用のコンストラクタを提供し、`MapReduce` を統合するヘルパーメソッドからジェネリックに利用すれば解決できます。しかし、`Python` では、`__init__` という単一のコンストラクタメソッドしか使えません。すべての `InputData` サブクラスが、同じコンストラクタのみ使うようにするのは現実的ではありません。\n",
    "\n",
    "この問題を解く最良の方法は、クラスメソッドポリモルフィズムを使うものです。これは、 `InputData.read` で用いたインスタンスメソッドポリモルフィズムと本質的に同じですが、構築されたオブジェクトにではなく、クラス全体について適用される点が異なります。\n",
    "\n",
    "この方式を `MapReduce` クラスに適用しましょう。`InputData` クラスを拡張して、共通のイ ンタフェースを用いる、新たな `InputData` インスタンスを作る責任を負う、ジェネリックな `@classmethod` を追加します。\n"
   ]
  },
  {
   "cell_type": "code",
   "execution_count": 21,
   "metadata": {},
   "outputs": [],
   "source": [
    "# Example 10\n",
    "class GenericInputData:\n",
    "    def read(self):\n",
    "        raise NotImplementedError\n",
    "\n",
    "    @classmethod\n",
    "    def generate_inputs(cls, config):\n",
    "        raise NotImplementedError"
   ]
  },
  {
   "attachments": {},
   "cell_type": "markdown",
   "metadata": {},
   "source": [
    "`generate_inputs` は、`GenricInputData` の具象サブクラスが解釈する必要がある設定パラメータの辞書を取ります。次のように、`config` を使って入力ファイルを探すディレクトリを指定します。"
   ]
  },
  {
   "cell_type": "code",
   "execution_count": 22,
   "metadata": {},
   "outputs": [],
   "source": [
    "# Example 11\n",
    "class PathInputData(GenericInputData):\n",
    "    def __init__(self, path):\n",
    "        super().__init__()\n",
    "        self.path = path\n",
    "\n",
    "    def read(self):\n",
    "        with open(self.path) as f:\n",
    "            return f.read()\n",
    "\n",
    "    @classmethod\n",
    "    def generate_inputs(cls, config):\n",
    "        data_dir = config['data_dir']\n",
    "        for name in os.listdir(data_dir):\n",
    "            yield cls(os.path.join(data_dir, name))"
   ]
  },
  {
   "attachments": {},
   "cell_type": "markdown",
   "metadata": {},
   "source": [
    "同様にして、`create_workers` ヘルパー関数を `GenericWorker` クラスの一部として作ることができます。パラメータ `input_class` に `GenericInputData` のサブクラスを渡して、必要な入力を生成することにします。`GenericWorker` の具象サブクラスのインスタンスを、`cls()` をジェネリックなコンストラクタとして呼び出し、作成します。"
   ]
  },
  {
   "cell_type": "code",
   "execution_count": 23,
   "metadata": {},
   "outputs": [],
   "source": [
    "# Example 12\n",
    "class GenericWorker:\n",
    "    def __init__(self, input_data):\n",
    "        self.input_data = input_data\n",
    "        self.result = None\n",
    "\n",
    "    def map(self):\n",
    "        raise NotImplementedError\n",
    "\n",
    "    def reduce(self, other):\n",
    "        raise NotImplementedError\n",
    "\n",
    "    @classmethod\n",
    "    def create_workers(cls, input_class, config):\n",
    "        workers = []\n",
    "        for input_data in input_class.generate_inputs(config):\n",
    "            workers.append(cls(input_data))\n",
    "        return workers"
   ]
  },
  {
   "attachments": {},
   "cell_type": "markdown",
   "metadata": {},
   "source": [
    "上の `input_class.generate_inputs` という呼び出しが、示したいクラスポリモルフィズムであることに注意してください。`create_workers` が `cls` を呼び出すという方式が、`__init__` メソッドを直接使って `GenericWorker` オブジェクトを構築する方式に替わるものであることもわかるでしょう。\n",
    "\n",
    "`GenericWorker` の具象サブクラスへの影響は、スーパークラスを変更することだけです。"
   ]
  },
  {
   "cell_type": "code",
   "execution_count": 24,
   "metadata": {},
   "outputs": [],
   "source": [
    "# Example 13\n",
    "class LineCountWorker(GenericWorker):\n",
    "    def map(self):\n",
    "        data = self.input_data.read()\n",
    "        self.result = data.count('\\n')\n",
    "\n",
    "    def reduce(self, other):\n",
    "        self.result += other.result"
   ]
  },
  {
   "attachments": {},
   "cell_type": "markdown",
   "metadata": {},
   "source": [
    "最後に、`mapreduce` 関数を書き直して、`create_workers` を呼び出して完全にジェネリックにします。"
   ]
  },
  {
   "cell_type": "code",
   "execution_count": 25,
   "metadata": {},
   "outputs": [],
   "source": [
    "# Example 14\n",
    "def mapreduce(worker_class, input_class, config):\n",
    "    workers = worker_class.create_workers(input_class, config)\n",
    "    return execute(workers)"
   ]
  },
  {
   "attachments": {},
   "cell_type": "markdown",
   "metadata": {},
   "source": [
    "新しい `Worker` を試験用のファイルに実行すると、前の実装のときと同じ結果が生成されます。ただし、`mapreduce` 関数がジェネリックになったことで、より多くの引数が必要であることが異なります。"
   ]
  },
  {
   "cell_type": "code",
   "execution_count": 26,
   "metadata": {},
   "outputs": [
    {
     "name": "stdout",
     "output_type": "stream",
     "text": [
      "There are 4360 lines\n"
     ]
    }
   ],
   "source": [
    "# Example 15\n",
    "config = {'data_dir': tmpdir}\n",
    "result = mapreduce(LineCountWorker, PathInputData, config)\n",
    "print(f'There are {result} lines')"
   ]
  },
  {
   "attachments": {},
   "cell_type": "markdown",
   "metadata": {},
   "source": [
    "今度は、`GenericInputData` や `GenericWorker` サブクラスを他に好きなように書くことができます。関係するコードを書き直す必要はありません。"
   ]
  },
  {
   "attachments": {},
   "cell_type": "markdown",
   "metadata": {},
   "source": [
    "### 覚えておくこと"
   ]
  },
  {
   "attachments": {},
   "cell_type": "markdown",
   "metadata": {},
   "source": [
    "- Python は、クラスに対して、`__init__` メソッドという1つのコンストラクタしかサポートしていない。\n",
    "- クラスに対して、代わりのコンストラクタを定義するために `@classmethod` を使う。\n",
    "- 具象サブクラスを作成して連携するジェネリックな方式を提供するには、クラスメソッドポリモルフィズムを使う。"
   ]
  },
  {
   "attachments": {},
   "cell_type": "markdown",
   "metadata": {},
   "source": [
    "## 項目 40 super を使ってスーパークラスを初期化する"
   ]
  },
  {
   "attachments": {},
   "cell_type": "markdown",
   "metadata": {},
   "source": [
    "サブクラスからスーパークラスを初期化する古いやり方は、スーパークラスの `__init__` メソッドをサブクラスのインスタンスで直接呼び出すことでした。"
   ]
  },
  {
   "cell_type": "code",
   "execution_count": 27,
   "metadata": {},
   "outputs": [],
   "source": [
    "# Example 1\n",
    "class MyBaseClass:\n",
    "    def __init__(self, value):\n",
    "        self.value = value\n",
    "\n",
    "class MyChildClass(MyBaseClass):\n",
    "    def __init__(self):\n",
    "        MyBaseClass.__init__(self, 5)\n",
    "\n",
    "    def times_two(self):\n",
    "        return self.value * 2\n",
    "\n",
    "foo = MyChildClass()\n",
    "assert foo.times_two() == 10"
   ]
  },
  {
   "attachments": {},
   "cell_type": "markdown",
   "metadata": {},
   "source": [
    "この方式は、単純な階層では問題ありませんが、多くの場合にうまくいきません。\n",
    "\n",
    "クラスが、多重継承（一般には避けるべきことです。「項目41 `Mix-in` クラスで機能合成を考える」参照）によって影響を受けているとき、スーパークラスの `__init__` メソッドを直接呼び出すと、予期せぬ振る舞いに遭遇することがあります。\n",
    "\n",
    "問題は、`__init__` メソッドの呼び出し順序がすべてのサブクラス間で規定されてはいないことです。例えば、インスタンスの `value` フィールドを操作する2つのスーパークラスを次のように定義したとします。"
   ]
  },
  {
   "cell_type": "code",
   "execution_count": 28,
   "metadata": {},
   "outputs": [],
   "source": [
    "# Example 2\n",
    "class TimesTwo:\n",
    "    def __init__(self):\n",
    "        self.value *= 2\n",
    "\n",
    "class PlusFive:\n",
    "    def __init__(self):\n",
    "        self.value += 5"
   ]
  },
  {
   "attachments": {},
   "cell_type": "markdown",
   "metadata": {},
   "source": [
    "スーパークラスを次に示すような順序で定義します。"
   ]
  },
  {
   "cell_type": "code",
   "execution_count": 29,
   "metadata": {},
   "outputs": [],
   "source": [
    "# Example 3\n",
    "class OneWay(MyBaseClass, TimesTwo, PlusFive):\n",
    "    def __init__(self, value):\n",
    "        MyBaseClass.__init__(self, value)\n",
    "        TimesTwo.__init__(self)\n",
    "        PlusFive.__init__(self)"
   ]
  },
  {
   "attachments": {},
   "cell_type": "markdown",
   "metadata": {},
   "source": [
    "このオブジェクトを構築すると、 スーパークラスの順序に合致するような結果を出します。"
   ]
  },
  {
   "cell_type": "code",
   "execution_count": 30,
   "metadata": {},
   "outputs": [
    {
     "name": "stdout",
     "output_type": "stream",
     "text": [
      "First ordering value is (5 * 2) + 5 = 15\n"
     ]
    }
   ],
   "source": [
    "# Example 4\n",
    "foo = OneWay(5)\n",
    "print('First ordering value is (5 * 2) + 5 =', foo.value)"
   ]
  },
  {
   "attachments": {},
   "cell_type": "markdown",
   "metadata": {},
   "source": [
    "次に、同じスーパークラスで、 ただし順序が異なるクラスを定義します（`PlusFive` の後に\n",
    "`TimesTwo` が来る)。"
   ]
  },
  {
   "cell_type": "code",
   "execution_count": 31,
   "metadata": {},
   "outputs": [],
   "source": [
    "# Example 5\n",
    "class AnotherWay(MyBaseClass, PlusFive, TimesTwo):\n",
    "    def __init__(self, value):\n",
    "        MyBaseClass.__init__(self, value)\n",
    "        TimesTwo.__init__(self)\n",
    "        PlusFive.__init__(self)"
   ]
  },
  {
   "attachments": {},
   "cell_type": "markdown",
   "metadata": {},
   "source": [
    "しかし、スーパークラスのコンストラクタへの呼び出しの `TimesTwo.__init__` と `PlusFive.__init__` を `Oneway` クラスと同じ順序にしたので、このクラスの振る舞いは、その定義でのスーパークラスの順序に対応しません。 継承基底クラスと `__init__` 呼び出しとの食い違いというこの問題は、同定が難しく、コードを初めて見る人には、特に理解が難しいでしょう。"
   ]
  },
  {
   "cell_type": "code",
   "execution_count": 32,
   "metadata": {},
   "outputs": [
    {
     "name": "stdout",
     "output_type": "stream",
     "text": [
      "Second ordering value is 15\n"
     ]
    }
   ],
   "source": [
    "# Example 6\n",
    "bar = AnotherWay(5)\n",
    "print('Second ordering value is', bar.value)"
   ]
  },
  {
   "attachments": {},
   "cell_type": "markdown",
   "metadata": {},
   "source": [
    "別の問題がダイヤモンド継承で生じます。ダイヤモンド継承とは、2つの異なるサブクラスから継承したサブクラスがあり、かつその2つのクラスが継承階層で同じスーパークラスを持っている場合に生じます。ダイヤモンド継承では、共通のスーパークラスの `__init__` メソッドが何回も実行され、予期せぬ振る舞いを引き起こします。例えば、`MyBaseClass` を継承する2つのサブクラスを次のように定義します。"
   ]
  },
  {
   "cell_type": "code",
   "execution_count": 33,
   "metadata": {},
   "outputs": [],
   "source": [
    "# Example 7\n",
    "class TimesSeven(MyBaseClass):\n",
    "    def __init__(self, value):\n",
    "        MyBaseClass.__init__(self, value)\n",
    "        self.value *= 7\n",
    "\n",
    "class PlusNine(MyBaseClass):\n",
    "    def __init__(self, value):\n",
    "        MyBaseClass.__init__(self, value)\n",
    "        self.value += 9"
   ]
  },
  {
   "attachments": {},
   "cell_type": "markdown",
   "metadata": {},
   "source": [
    "そして、これら2つのクラスを継承するサブクラスを定義して、`MyBaseClass` をダイヤモンドの頂点にします。"
   ]
  },
  {
   "cell_type": "code",
   "execution_count": 34,
   "metadata": {},
   "outputs": [
    {
     "name": "stdout",
     "output_type": "stream",
     "text": [
      "Should be (5 * 7) + 9 = 44 but is 14\n"
     ]
    }
   ],
   "source": [
    "# Example 8\n",
    "class ThisWay(TimesSeven, PlusNine):\n",
    "    def __init__(self, value):\n",
    "        TimesSeven.__init__(self, value)\n",
    "        PlusNine.__init__(self, value)\n",
    "\n",
    "foo = ThisWay(5)\n",
    "print('Should be (5 * 7) + 9 = 44 but is', foo.value)"
   ]
  },
  {
   "attachments": {},
   "cell_type": "markdown",
   "metadata": {},
   "source": [
    "2番目のスーパークラスのコンストラクタ `PlusNine.__init__` の呼び出しでは、`MyBaseClass.___init__` が2回目に呼び出されたところで、`self.value` が5にリセットされるのです。その結果、`TimesSeven.__init__` コンストラクタの効果がまったく無視され、`self.value` の計算は5 + 9 = 14となります。この振る舞いは驚くべきもので、より複雑な場合にはデバッグが困難です。\n",
    "\n",
    "この問題を解決するために、Python は組み込み関数 `super` と標準メソッド解決順序（Method Resolution Order : MRO）を用意しました。`super` は、ダイヤモンド階層の共通スーパークラスが一度しか実行されないことを保証します（別の例は「項目48 サブクラスを`__init_subclass__` で検証する」参照）。MRO は、C3 線形化と呼ばれるアルゴリズムに従ってスーパークラスの初期化順を定義しました。\n",
    "\n",
    "もう一度、次のようにダイヤモンド型の階層を作りますが、今度は `super` を使ってスーパークラスを初期化します。"
   ]
  },
  {
   "cell_type": "code",
   "execution_count": 35,
   "metadata": {},
   "outputs": [],
   "source": [
    "# Example 9\n",
    "class MyBaseClass:\n",
    "    def __init__(self, value):\n",
    "        self.value = value\n",
    "\n",
    "class TimesSevenCorrect(MyBaseClass):\n",
    "    def __init__(self, value):\n",
    "        super().__init__(value)\n",
    "        self.value *= 7\n",
    "\n",
    "class PlusNineCorrect(MyBaseClass):\n",
    "    def __init__(self, value):\n",
    "        super().__init__(value)\n",
    "        self.value += 9"
   ]
  },
  {
   "attachments": {},
   "cell_type": "markdown",
   "metadata": {},
   "source": [
    "ダイヤモンドの頂点のコンストラクタ `MyBaseClass.__init__` は、今度は1回しか実行されません。他のスーパークラスは、`class` 文で規定された順序で実行されます。"
   ]
  },
  {
   "cell_type": "code",
   "execution_count": 36,
   "metadata": {},
   "outputs": [
    {
     "name": "stdout",
     "output_type": "stream",
     "text": [
      "Should be 7 * (5 + 9) = 98 and is 98\n"
     ]
    }
   ],
   "source": [
    "# Example 10\n",
    "class GoodWay(TimesSevenCorrect, PlusNineCorrect):\n",
    "    def __init__(self, value):\n",
    "        super().__init__(value)\n",
    "\n",
    "foo = GoodWay(5)\n",
    "print('Should be 7 * (5 + 9) = 98 and is', foo.value)"
   ]
  },
  {
   "attachments": {},
   "cell_type": "markdown",
   "metadata": {},
   "source": [
    "この順序は、最初は逆に見えるかもしれません。`TimesSevenCorrect.__init_` _が最初に実行 されるべきじゃなかったのか？結果は、(57) +9 = 44のはずではなかったか？答えは「いいえ」 です。この順序が、MRO がこのクラスで定義された順番と一致しています。MRO 順序は、`mro` と呼ばれるクラスメソッドで得られます。"
   ]
  },
  {
   "cell_type": "code",
   "execution_count": 37,
   "metadata": {},
   "outputs": [
    {
     "name": "stdout",
     "output_type": "stream",
     "text": [
      "<class '__main__.GoodWay'>\n",
      "<class '__main__.TimesSevenCorrect'>\n",
      "<class '__main__.PlusNineCorrect'>\n",
      "<class '__main__.MyBaseClass'>\n",
      "<class 'object'>\n"
     ]
    }
   ],
   "source": [
    "# Example 11\n",
    "mro_str = '\\n'.join(repr(cls) for cls in GoodWay.mro())\n",
    "print(mro_str)"
   ]
  },
  {
   "attachments": {},
   "cell_type": "markdown",
   "metadata": {},
   "source": [
    "`GoodWay(5)` を呼び出すと、`TimesSevenCorrect.__init__` が呼ばれ、それが `PlusNineCorrect.__init__` を呼び出し、それが `MyBaseClass.__init__` を呼び出します。ダイヤモンドの頂点に達すると、初期化メソッドのすべては、その `__init__` 関数が呼ばれたのと逆順で作業をします。`MyBaseClass.__init__` は、`value` に5を代入します。`PlusNineCorrect.__init__` は9を足して、`value` を14にします。`TimesSevenCorrect.__init__` が7を掛けて `value` を98にします。`super().__init__` の呼び出しは、多重継承を頑健にするだけでなく、`MyBaseClass.__init__` をサブクラスの中から呼び出すよりも保守性が大幅に良くなります。後で、`MyBaseClass` の名前を変えたり、`TimesSevenCorrect` と `PlusNineCorrect` の `__init__` メソッドを変更しなくても他のスーパークラスから継承するようにできます。\n",
    "\n",
    "関数 `super` にはオプションの引数が2つあります。アクセスしようとする MRO でのスーパークラスから見たクラスの型と、そのインスタンスです。これらの引数をコンストラクタで使うと次のようになります。"
   ]
  },
  {
   "cell_type": "code",
   "execution_count": 38,
   "metadata": {},
   "outputs": [],
   "source": [
    "# Example 12\n",
    "class ExplicitTrisect(MyBaseClass):\n",
    "    def __init__(self, value):\n",
    "        super(ExplicitTrisect, self).__init__(value)\n",
    "        self.value /= 3\n",
    "assert ExplicitTrisect(9).value == 3"
   ]
  },
  {
   "attachments": {},
   "cell_type": "markdown",
   "metadata": {},
   "source": [
    "しかし、これらの引数はインスタンスの初期化に必須ではありません。Python コンパイラは自動的に正しい引数（`__class__` と `self`）をクラス定義中に `super` が引数なしで呼ばれた場合に補います。これは、次の3つが等価なことを意味します。"
   ]
  },
  {
   "cell_type": "code",
   "execution_count": 39,
   "metadata": {},
   "outputs": [],
   "source": [
    "# Example 13\n",
    "class AutomaticTrisect(MyBaseClass):\n",
    "    def __init__(self, value):\n",
    "        super(__class__, self).__init__(value)\n",
    "        self.value /= 3\n",
    "\n",
    "class ImplicitTrisect(MyBaseClass):\n",
    "    def __init__(self, value):\n",
    "        super().__init__(value)\n",
    "        self.value /= 3\n",
    "\n",
    "assert ExplicitTrisect(9).value == 3\n",
    "assert AutomaticTrisect(9).value == 3\n",
    "assert ImplicitTrisect(9).value == 3"
   ]
  },
  {
   "attachments": {},
   "cell_type": "markdown",
   "metadata": {},
   "source": [
    "`super` に引数を渡さないといけないのは、スーパークラスの実装の特定の機能にサブクラスからアクセスしなければいけない場合だけです（例：機能をラップしたり再利用する場合）。"
   ]
  },
  {
   "attachments": {},
   "cell_type": "markdown",
   "metadata": {},
   "source": [
    "### 覚えておくこと"
   ]
  },
  {
   "attachments": {},
   "cell_type": "markdown",
   "metadata": {},
   "source": [
    "- Python の標準メソッド解決順序 (MRO) は、スーパークラスの初期化順序とダイヤモンド継承の問題を解消する。\n",
    "- スーパークラスを初期化するには、組み込み関数 `super` を引数なしで使う。\n"
   ]
  }
 ],
 "metadata": {
  "kernelspec": {
   "display_name": "develop",
   "language": "python",
   "name": "python3"
  },
  "language_info": {
   "codemirror_mode": {
    "name": "ipython",
    "version": 3
   },
   "file_extension": ".py",
   "mimetype": "text/x-python",
   "name": "python",
   "nbconvert_exporter": "python",
   "pygments_lexer": "ipython3",
   "version": "3.10.4"
  },
  "orig_nbformat": 4,
  "vscode": {
   "interpreter": {
    "hash": "e44055ce3e952bd426b5fb3f107ba07a260ee6f4ce0ddea34f4e7c6cc81b9081"
   }
  }
 },
 "nbformat": 4,
 "nbformat_minor": 2
}
