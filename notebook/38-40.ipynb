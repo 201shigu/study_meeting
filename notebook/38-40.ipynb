{
 "cells": [
  {
   "attachments": {},
   "cell_type": "markdown",
   "metadata": {},
   "source": [
    "# 5章 クラスと継承 項目38-40\n",
    "2023/3/15\n",
    "\n",
    "担当：須藤"
   ]
  },
  {
   "attachments": {},
   "cell_type": "markdown",
   "metadata": {},
   "source": [
    "#### 必要なモジュールの `import`"
   ]
  },
  {
   "cell_type": "code",
   "execution_count": null,
   "metadata": {},
   "outputs": [],
   "source": [
    "# Reproduce book environment\n",
    "import random\n",
    "random.seed(1234)\n",
    "\n",
    "import logging\n",
    "from pprint import pprint\n",
    "from sys import stdout as STDOUT\n",
    "\n",
    "# Write all output to a temporary directory\n",
    "import atexit\n",
    "import gc\n",
    "import io\n",
    "import os\n",
    "import tempfile\n",
    "\n",
    "TEST_DIR = tempfile.TemporaryDirectory()\n",
    "atexit.register(TEST_DIR.cleanup)\n",
    "\n",
    "# Make sure Windows processes exit cleanly\n",
    "OLD_CWD = os.getcwd()\n",
    "atexit.register(lambda: os.chdir(OLD_CWD))\n",
    "os.chdir(TEST_DIR.name)\n",
    "\n",
    "def close_open_files():\n",
    "    everything = gc.get_objects()\n",
    "    for obj in everything:\n",
    "        if isinstance(obj, io.IOBase):\n",
    "            obj.close()\n",
    "\n",
    "atexit.register(close_open_files)"
   ]
  },
  {
   "attachments": {},
   "cell_type": "markdown",
   "metadata": {},
   "source": [
    "## 項目38 単純なインタフェースにはクラスの代わりに関数を使う"
   ]
  },
  {
   "attachments": {},
   "cell_type": "markdown",
   "metadata": {},
   "source": [
    "Python には、関数を渡すことによって振る舞いをカスタマイズできる組み込み API が多くあります。このような仕組みをフックと呼び、API は、実行中にそのコードをコールバックします。例えば、`list` 型の `sort` メソッドは、オプションとして `key` 引数を取り、各要素のソート値を決定するのに使います（`key` 引数の詳細は「項目14 `key` 引数を使い複雑な基準でソートする」参照）。`key` フックとして組み込み関数 `len` を指定し、名前のリストを長さによってソートするコードを次に示します。"
   ]
  },
  {
   "cell_type": "code",
   "execution_count": 18,
   "metadata": {},
   "outputs": [
    {
     "name": "stdout",
     "output_type": "stream",
     "text": [
      "['Plato', 'Socrates', 'Aristotle', 'Archimedes']\n"
     ]
    }
   ],
   "source": [
    "# Example 1\n",
    "names = ['Socrates', 'Archimedes', 'Plato', 'Aristotle']\n",
    "names.sort(key=len)\n",
    "print(names)"
   ]
  },
  {
   "attachments": {},
   "cell_type": "markdown",
   "metadata": {},
   "source": [
    "他の言語だと、フックが抽象クラスで定義されます。Python では、フックの多くは、きちんと定義された引数と戻り値を持ち、状態のない関数です。関数は記述が容易で、クラスよりも定義が単純な ので、フックには理想的です。関数がフックとして機能するのは、Python が関数をファーストクラスとしているからです。すなわち、Python 言語では、関数とメソッドが他の値と同様に渡され参照できるからです。\n",
    "例えば、`defaultdict` クラス（背景については「項目17 内部状態の欠損要素を扱うには `setdefault` ではなく `defaultdict` を使う」参照）の振る舞いをカスタマイズしたいとします。このデータ 構造では、キーが見つからなかったら、そのたびに呼ばれる引数なしの関数を指定することができます。その関数は、見つからなかったキーが辞書で持っているべきデフォルト値を返さねばなりません。キーが見つからないとログを取り、デフォルト値として0を返すフックを次のように定義します。\n",
    "\n",
    "例えば、`defaultdict` クラス（背景については「項目17 内部状態の欠損要素を扱うには `setdefault` ではなく `defaultdict` を使う」参照）の振る舞いをカスタマイズしたいとします。このデータ構造では、キーが見つからなかったら、そのたびに呼ばれる引数なしの関数を指定することができます。その関数は、見つからなかったキーが辞書で持っているべきデフォルト値を返さねばなりません。キーが見つからないとログを取り、デフォルト値として0を返すフックを次のように定義します。"
   ]
  },
  {
   "cell_type": "code",
   "execution_count": 19,
   "metadata": {},
   "outputs": [],
   "source": [
    "# Example 2\n",
    "def log_missing():\n",
    "    print('Key added')\n",
    "    return 0"
   ]
  },
  {
   "attachments": {},
   "cell_type": "markdown",
   "metadata": {},
   "source": [
    "初期状態の辞書と追加データ集合を指定すると、この `log_missing` 関数が実行されます。次に示すように2回（`'red'` に対して1回と `'orange'` に対して1回）実行され、「`Key added`」を出力します。"
   ]
  },
  {
   "cell_type": "code",
   "execution_count": 20,
   "metadata": {},
   "outputs": [
    {
     "name": "stdout",
     "output_type": "stream",
     "text": [
      "Before: {'green': 12, 'blue': 3}\n",
      "Key added\n",
      "Key added\n",
      "After:  {'green': 12, 'blue': 20, 'red': 5, 'orange': 9}\n"
     ]
    }
   ],
   "source": [
    "# Example 3\n",
    "from collections import defaultdict\n",
    "\n",
    "current = {'green': 12, 'blue': 3}\n",
    "increments = [\n",
    "    ('red', 5),\n",
    "    ('blue', 17),\n",
    "    ('orange', 9),\n",
    "]\n",
    "result = defaultdict(log_missing, current)\n",
    "print('Before:', dict(result))\n",
    "for key, amount in increments:\n",
    "    result[key] += amount\n",
    "print('After: ', dict(result))"
   ]
  },
  {
   "attachments": {},
   "cell_type": "markdown",
   "metadata": {},
   "source": [
    "`log_missing` のような関数を与えることで、副作用と参照透過性のある決定的な部分を切り離すことができるので、API の構築とテストが容易になります。 例えば、`defaultdict` に渡すデフォルト値のフックで、見つからないキーの総数を数えるようにしたいとします。これを行う方法の1つは、状態を持つクロージャを使うことです（詳細は「項目21 クロージャが変数スコープとどう関わるかを把握しておく」参照）。そのようなクロージャをデフォルト値のフックとして用いるヘルパー関数を次のように定義します。"
   ]
  },
  {
   "cell_type": "code",
   "execution_count": 21,
   "metadata": {},
   "outputs": [],
   "source": [
    "# Example 4\n",
    "def increment_with_report(current, increments):\n",
    "    added_count = 0\n",
    "\n",
    "    def missing():\n",
    "        nonlocal added_count  # Stateful closure\n",
    "        added_count += 1\n",
    "        return 0\n",
    "\n",
    "    result = defaultdict(missing, current)\n",
    "    for key, amount in increments:\n",
    "        result[key] += amount\n",
    "\n",
    "    return result, added_count"
   ]
  },
  {
   "attachments": {},
   "cell_type": "markdown",
   "metadata": {},
   "source": [
    "この関数を実行すると、`defaultdict` は `missing` というフックが状態を保持していることをまったく関知しないにもかかわらず、期待された結果の2が得られます。インタフェースに単純な関数を使うもう1つの利点は、クロージャで状態を隠しながら、後で機能を追加することが容易なことです。"
   ]
  },
  {
   "cell_type": "code",
   "execution_count": 22,
   "metadata": {},
   "outputs": [
    {
     "name": "stdout",
     "output_type": "stream",
     "text": [
      "defaultdict(<function increment_with_report.<locals>.missing at 0x000002A8CF3F7E20>, {'green': 12, 'blue': 20, 'red': 5, 'orange': 9})\n"
     ]
    }
   ],
   "source": [
    "# Example 5\n",
    "result, count = increment_with_report(current, increments)\n",
    "assert count == 2\n",
    "print(result)"
   ]
  },
  {
   "attachments": {},
   "cell_type": "markdown",
   "metadata": {},
   "source": [
    "クロージャが状態を持つフックとすることの問題は、状態を持たない関数の例に比べて、読みにくいことです。別の方式として、追跡したい状態をカプセル化した軽量なクラスを定義する方法があります。"
   ]
  },
  {
   "cell_type": "code",
   "execution_count": 23,
   "metadata": {},
   "outputs": [],
   "source": [
    "# Example 6\n",
    "class CountMissing:\n",
    "    def __init__(self):\n",
    "        self.added = 0\n",
    "\n",
    "    def missing(self):\n",
    "        self.added += 1\n",
    "        return 0"
   ]
  },
  {
   "attachments": {},
   "cell_type": "markdown",
   "metadata": {},
   "source": [
    "他の言語なら、`defaultdict` を修正して、`CountMissing` を受け入れられるインタフェースにす る必要があるでしょう。しかし、Python では、関数がファーストクラスなので、オブジェクトで直接 `CountMissing.missing` メソッドを参照して、それをデフォルト値フックとして `defaultdict` に渡すことができます。オブジェクトインスタンスのメソッドが関数インタフェースに合わせるのは簡単なことです。"
   ]
  },
  {
   "cell_type": "code",
   "execution_count": 24,
   "metadata": {},
   "outputs": [
    {
     "name": "stdout",
     "output_type": "stream",
     "text": [
      "defaultdict(<bound method CountMissing.missing of <__main__.CountMissing object at 0x000002A8CF593520>>, {'green': 12, 'blue': 20, 'red': 5, 'orange': 9})\n"
     ]
    }
   ],
   "source": [
    "# Example 7\n",
    "counter = CountMissing()\n",
    "result = defaultdict(counter.missing, current)  # Method ref\n",
    "for key, amount in increments:\n",
    "    result[key] += amount\n",
    "assert counter.added == 2\n",
    "print(result)"
   ]
  },
  {
   "attachments": {},
   "cell_type": "markdown",
   "metadata": {},
   "source": [
    "このようなヘルパークラスを使って、状態を持つクロージャの振る舞いを提供することは、先ほどの `increment_with_report` 関数よりもコードが明確になります。しかし、`CountMissing` クラス 単独で見ると、このクラスの目的が何であるかがすぐにはわかりません。誰が、`CountMissing` オブジェクトを作るのでしょうか。 誰が `missing` メソッドを呼ぶのでしょうか。 クラスには、将来他のパブリックメソッドが必要となるのでしょうか。`defaultdict` でどのように使われるのかを確かめるまでは、このクラスは謎のままです。\n",
    "\n",
    "このような状況を切り抜けるために、Python はクラスで特殊メソッド `__call__` を定義できます。`__call__` では、関数のようにオブジェクトを呼び出すことができます。これは、そのようなインスタ ンスに対して、組み込み関数 `callable`が `True` を返すようにします。このように実行できるオブジェクトはすべて、「呼び出し可能」と呼ばれます。\n"
   ]
  },
  {
   "cell_type": "code",
   "execution_count": 25,
   "metadata": {},
   "outputs": [],
   "source": [
    "# Example 8\n",
    "class BetterCountMissing:\n",
    "    def __init__(self):\n",
    "        self.added = 0\n",
    "\n",
    "    def __call__(self):\n",
    "        self.added += 1\n",
    "        return 0\n",
    "\n",
    "counter = BetterCountMissing()\n",
    "assert counter() == 0\n",
    "assert callable(counter)"
   ]
  },
  {
   "attachments": {},
   "cell_type": "markdown",
   "metadata": {},
   "source": [
    "次のように、`BetterCountMissing` インスタンスを `defaultdict` のデフォルト値フックとして使って、追加された中で、キーがなかったものの個数を追跡します。"
   ]
  },
  {
   "cell_type": "code",
   "execution_count": 26,
   "metadata": {},
   "outputs": [
    {
     "name": "stdout",
     "output_type": "stream",
     "text": [
      "defaultdict(<__main__.BetterCountMissing object at 0x000002A8CF591390>, {'green': 12, 'blue': 20, 'red': 5, 'orange': 9})\n"
     ]
    }
   ],
   "source": [
    "# Example 9\n",
    "counter = BetterCountMissing()\n",
    "result = defaultdict(counter, current)  # Relies on __call__\n",
    "for key, amount in increments:\n",
    "    result[key] += amount\n",
    "assert counter.added == 2\n",
    "print(result)"
   ]
  },
  {
   "attachments": {},
   "cell_type": "markdown",
   "metadata": {},
   "source": [
    "これは、`CountMissing.missing` の例よりもずっとわかりやすくなっています。`__call__` メソッドは、クラスのインスタンスがどこかで（API フックのように）関数引数として使われてもよいことを示唆します。これは、新たにコードを読んだ人に、クラスの基本的な振る舞いに対する責任のありかを示します。クラスの目的が状態を持つクロージャとして働くことであるという強い手がかりを与えます。\n",
    "何よりも良いことは、`__call__` を使っても、何が起こっているかについて `defaultdict` が何も 知らなくて良いことです。`defaultdict` に必要なことは、デフォルト値をフックする関数だけです。Python は、何を行いたいかに応じて、単純な関数インタフェースを満たすさまざまな方法をたくさん用意しています。\n"
   ]
  },
  {
   "attachments": {},
   "cell_type": "markdown",
   "metadata": {},
   "source": [
    "### 覚えておくこと"
   ]
  },
  {
   "attachments": {},
   "cell_type": "markdown",
   "metadata": {},
   "source": [
    "- Python のコンポーネント間の単純なインタフェースは、クラスを定義してインスタンス化しなくても、たいてい関数で済ませられる。\n",
    "- Python では関数とメソッドの参照はファーストクラスなので、他の型同様、式中で使うことができる。\n",
    "- 特殊メソッド `__call__` を使用すると、クラスのインスタンスを Python の普通の関数として呼び出すことが可能になる。\n",
    "- 状態を保守するために関数が必要な場合、状態を持つクロージャを定義する代わりに、`__call__` メソッドを提供するクラスを定義することを考える。"
   ]
  },
  {
   "attachments": {},
   "cell_type": "markdown",
   "metadata": {},
   "source": [
    "## 項目39 @classmethod ポリモルフィズムを使ってオブジェクトをジェネリックに構築する"
   ]
  },
  {
   "attachments": {},
   "cell_type": "markdown",
   "metadata": {},
   "source": [
    "Python では、オブジェクトだけでなくクラスもポリモルフィズムをサポートします。それは、どういう意味で、どんな利点があるのでしょうか。\n",
    "\n",
    "ポリモルフィズムを使用すると、階層を成す複数のクラスでそれぞれ独自のバージョンのメソッドを実装できるようになります。この方式では、多くのクラスが同じインタフェース、あるいは、抽象基底クラスを実現しながら、異なった機能を提供します（例えば、「項目43 カスタムコンテナ型は `collections.abc` を継承する」参照）。\n",
    "\n",
    "例えば、`MapReduce` の実装を書いていて、入力データを表す共通クラスが欲しいとします。サブクラスで定義する必要のある `read` メソッドを持つクラスを次のように定義します。"
   ]
  },
  {
   "cell_type": "code",
   "execution_count": 27,
   "metadata": {},
   "outputs": [],
   "source": [
    "# Example 1\n",
    "class InputData:\n",
    "    def read(self):\n",
    "        raise NotImplementedError"
   ]
  },
  {
   "attachments": {},
   "cell_type": "markdown",
   "metadata": {},
   "source": [
    "データをディスクのファイルから読み込む、`InputData` の具象サブクラスもあります。"
   ]
  },
  {
   "cell_type": "code",
   "execution_count": 28,
   "metadata": {},
   "outputs": [],
   "source": [
    "# Example 2\n",
    "class PathInputData(InputData):\n",
    "    def __init__(self, path):\n",
    "        super().__init__()\n",
    "        self.path = path\n",
    "\n",
    "    def read(self):\n",
    "        with open(self.path) as f:\n",
    "            return f.read()"
   ]
  },
  {
   "attachments": {},
   "cell_type": "markdown",
   "metadata": {},
   "source": [
    "`PathInputData` のような `InputData` のサブクラスをいくつでも作ることができ、それぞれが処理するデータを返すための標準的な読み込みインタフェースを実装することができます。他の `InputData` のサブクラスでは、ネットワークから読み込んだり、データを透過的に解凍したりすることなどができます。\n",
    "\n",
    "入力データを標準的に消費する `MapReduce` の `Worker` にも同様の抽象インタフェースが欲しくなったとしましょう。\n"
   ]
  },
  {
   "cell_type": "code",
   "execution_count": 29,
   "metadata": {},
   "outputs": [],
   "source": [
    "# Example 3\n",
    "class Worker:\n",
    "    def __init__(self, input_data):\n",
    "        self.input_data = input_data\n",
    "        self.result = None\n",
    "\n",
    "    def map(self):\n",
    "        raise NotImplementedError\n",
    "\n",
    "    def reduce(self, other):\n",
    "        raise NotImplementedError"
   ]
  },
  {
   "attachments": {},
   "cell_type": "markdown",
   "metadata": {},
   "source": [
    "具体的な `Worker` サブクラスとして、単純な改行のカウンタを適用したい `MapReduce` 関数として定義します。"
   ]
  },
  {
   "cell_type": "code",
   "execution_count": 30,
   "metadata": {},
   "outputs": [],
   "source": [
    "# Example 4\n",
    "class LineCountWorker(Worker):\n",
    "    def map(self):\n",
    "        data = self.input_data.read()\n",
    "        self.result = data.count('\\n')\n",
    "\n",
    "    def reduce(self, other):\n",
    "        self.result += other.result"
   ]
  },
  {
   "attachments": {},
   "cell_type": "markdown",
   "metadata": {},
   "source": [
    "この実装は取り組み甲斐がありますが、一番大きな難関でもあります。これらの部品すべてを連結するのは何でしょうか。妥当なインタフェースと抽象化を備えた良いクラスの集合があっても、オブジェクトが作られて初めて役に立つものです。オブジェクトを構築して、`MapReduce` を統合する責任は誰が負うのでしょうか。\n",
    "\n",
    "最も単純な方式は、ヘルパー関数を使って、オブジェクトを構築して連携する作業を自分の手で行うことです。ディレクトリの内容をリストして、そこに含まれる各ファイルに対する `PathInputData` インスタンスを作ります。\n"
   ]
  },
  {
   "cell_type": "code",
   "execution_count": 31,
   "metadata": {},
   "outputs": [],
   "source": [
    "# Example 5\n",
    "import os\n",
    "\n",
    "def generate_inputs(data_dir):\n",
    "    for name in os.listdir(data_dir):\n",
    "        yield PathInputData(os.path.join(data_dir, name))"
   ]
  },
  {
   "attachments": {},
   "cell_type": "markdown",
   "metadata": {},
   "source": [
    "次に、`generate_inputs` で返された `InputData` インスタンスを作ります。"
   ]
  },
  {
   "cell_type": "code",
   "execution_count": 32,
   "metadata": {},
   "outputs": [],
   "source": [
    "# Example 6\n",
    "def create_workers(input_list):\n",
    "    workers = []\n",
    "    for input_data in input_list:\n",
    "        workers.append(LineCountWorker(input_data))\n",
    "    return workers"
   ]
  },
  {
   "attachments": {},
   "cell_type": "markdown",
   "metadata": {},
   "source": [
    "複数のスレッドに実行ステップを `map` することによって、これらの `Worker` インスタンスを並列に実行します（「項目53 スレッドはブロッキングI/O に使い、並列性に使うのは避ける」）。そして、`reduce` を繰り返し呼び出して、結果を1つの最終的な値にまとめます。"
   ]
  },
  {
   "cell_type": "code",
   "execution_count": 33,
   "metadata": {},
   "outputs": [],
   "source": [
    "# Example 7\n",
    "from threading import Thread\n",
    "\n",
    "def execute(workers):\n",
    "    threads = [Thread(target=w.map) for w in workers]\n",
    "    for thread in threads: thread.start()\n",
    "    for thread in threads: thread.join()\n",
    "\n",
    "    first, *rest = workers\n",
    "    for worker in rest:\n",
    "        first.reduce(worker)\n",
    "    return first.result"
   ]
  },
  {
   "attachments": {},
   "cell_type": "markdown",
   "metadata": {},
   "source": [
    "最後に、これらの部品をまとめて、各ステップを実行する関数にします。"
   ]
  },
  {
   "cell_type": "code",
   "execution_count": 34,
   "metadata": {},
   "outputs": [],
   "source": [
    "# Example 8\n",
    "def mapreduce(data_dir):\n",
    "    inputs = generate_inputs(data_dir)\n",
    "    workers = create_workers(inputs)\n",
    "    return execute(workers)"
   ]
  },
  {
   "attachments": {},
   "cell_type": "markdown",
   "metadata": {},
   "source": [
    "テスト用の入力ファイルにこの関数を実行した結果は素晴らしいものでした。"
   ]
  },
  {
   "cell_type": "code",
   "execution_count": 37,
   "metadata": {},
   "outputs": [
    {
     "name": "stdout",
     "output_type": "stream",
     "text": [
      "There are 4360 lines\n"
     ]
    }
   ],
   "source": [
    "# Example 9\n",
    "import os\n",
    "import random\n",
    "\n",
    "def write_test_files(tmpdir):\n",
    "    os.makedirs(tmpdir)\n",
    "    for i in range(100):\n",
    "        with open(os.path.join(tmpdir, str(i)), 'w') as f:\n",
    "            f.write('\\n' * random.randint(0, 100))\n",
    "\n",
    "tmpdir = 'test_inputs'\n",
    "write_test_files(tmpdir)\n",
    "\n",
    "result = mapreduce(tmpdir)\n",
    "print(f'There are {result} lines')"
   ]
  },
  {
   "attachments": {},
   "cell_type": "markdown",
   "metadata": {},
   "source": [
    "何が問題でしょうか。大きな問題は、この `mapreduce` 関数がまったく（ジェネリックプログラミングの意味での）ジェネリックではないことです。別の `InputData` や `Worker` といったサブクラスを書いたなら、`generate_inputs` や `create_workers` を書き直して、 `mapreduce` 関数でも対応しなければいけません。\n",
    "\n",
    "この問題を突き詰めると、オブジェクトを構築するジェネリックな方式が必要だということになります。他の言語では、コンストラクタポリモルフィズムを使って、各 `InputData` サブクラスが専用のコンストラクタを提供し、`MapReduce` を統合するヘルパーメソッドからジェネリックに利用すれば解決できます。しかし、`Python` では、`__init__` という単一のコンストラクタメソッドしか使えません。すべての `InputData` サブクラスが、同じコンストラクタのみ使うようにするのは現実的ではありません。\n",
    "\n",
    "この問題を解く最良の方法は、クラスメソッドポリモルフィズムを使うものです。これは、 `InputData.read` で用いたインスタンスメソッドポリモルフィズムと本質的に同じですが、構築されたオブジェクトにではなく、クラス全体について適用される点が異なります。\n",
    "\n",
    "この方式を `MapReduce` クラスに適用しましょう。`InputData` クラスを拡張して、共通のイ ンタフェースを用いる、新たな `InputData` インスタンスを作る責任を負う、ジェネリックな `@classmethod` を追加します。\n"
   ]
  },
  {
   "cell_type": "code",
   "execution_count": 38,
   "metadata": {},
   "outputs": [],
   "source": [
    "# Example 10\n",
    "class GenericInputData:\n",
    "    def read(self):\n",
    "        raise NotImplementedError\n",
    "\n",
    "    @classmethod\n",
    "    def generate_inputs(cls, config):\n",
    "        raise NotImplementedError"
   ]
  },
  {
   "attachments": {},
   "cell_type": "markdown",
   "metadata": {},
   "source": [
    "`generate_inputs` は、`GenricInputData` の具象サブクラスが解釈する必要がある設定パラメータの辞書を取ります。次のように、`config` を使って入力ファイルを探すディレクトリを指定します。"
   ]
  },
  {
   "cell_type": "code",
   "execution_count": 39,
   "metadata": {},
   "outputs": [],
   "source": [
    "# Example 11\n",
    "class PathInputData(GenericInputData):\n",
    "    def __init__(self, path):\n",
    "        super().__init__()\n",
    "        self.path = path\n",
    "\n",
    "    def read(self):\n",
    "        with open(self.path) as f:\n",
    "            return f.read()\n",
    "\n",
    "    @classmethod\n",
    "    def generate_inputs(cls, config):\n",
    "        data_dir = config['data_dir']\n",
    "        for name in os.listdir(data_dir):\n",
    "            yield cls(os.path.join(data_dir, name))"
   ]
  },
  {
   "attachments": {},
   "cell_type": "markdown",
   "metadata": {},
   "source": [
    "同様にして、`create_workers` ヘルパー関数を `GenericWorker` クラスの一部として作ることができます。パラメータ `input_class` に `GenericInputData` のサブクラスを渡して、必要な入力を生成することにします。`GenericWorker` の具象サブクラスのインスタンスを、`cls()` をジェネリックなコンストラクタとして呼び出し、作成します。"
   ]
  },
  {
   "cell_type": "code",
   "execution_count": 40,
   "metadata": {},
   "outputs": [],
   "source": [
    "# Example 12\n",
    "class GenericWorker:\n",
    "    def __init__(self, input_data):\n",
    "        self.input_data = input_data\n",
    "        self.result = None\n",
    "\n",
    "    def map(self):\n",
    "        raise NotImplementedError\n",
    "\n",
    "    def reduce(self, other):\n",
    "        raise NotImplementedError\n",
    "\n",
    "    @classmethod\n",
    "    def create_workers(cls, input_class, config):\n",
    "        workers = []\n",
    "        for input_data in input_class.generate_inputs(config):\n",
    "            workers.append(cls(input_data))\n",
    "        return workers"
   ]
  },
  {
   "attachments": {},
   "cell_type": "markdown",
   "metadata": {},
   "source": [
    "上の `input_class.generate_inputs` という呼び出しが、示したいクラスポリモルフィズムであることに注意してください。`create_workers` が `cls` を呼び出すという方式が、`__init__` メソッドを直接使って `GenericWorker` オブジェクトを構築する方式に替わるものであることもわかるでしょう。\n",
    "\n",
    "`GenericWorker` の具象サブクラスへの影響は、スーパークラスを変更することだけです。"
   ]
  },
  {
   "cell_type": "code",
   "execution_count": 41,
   "metadata": {},
   "outputs": [],
   "source": [
    "# Example 13\n",
    "class LineCountWorker(GenericWorker):\n",
    "    def map(self):\n",
    "        data = self.input_data.read()\n",
    "        self.result = data.count('\\n')\n",
    "\n",
    "    def reduce(self, other):\n",
    "        self.result += other.result"
   ]
  },
  {
   "attachments": {},
   "cell_type": "markdown",
   "metadata": {},
   "source": [
    "最後に、`mapreduce` 関数を書き直して、`create_workers` を呼び出して完全にジェネリックにします。"
   ]
  },
  {
   "cell_type": "code",
   "execution_count": 42,
   "metadata": {},
   "outputs": [],
   "source": [
    "# Example 14\n",
    "def mapreduce(worker_class, input_class, config):\n",
    "    workers = worker_class.create_workers(input_class, config)\n",
    "    return execute(workers)"
   ]
  },
  {
   "attachments": {},
   "cell_type": "markdown",
   "metadata": {},
   "source": [
    "新しい `Worker` を試験用のファイルに実行すると、前の実装のときと同じ結果が生成されます。ただし、`mapreduce` 関数がジェネリックになったことで、より多くの引数が必要であることが異なります。"
   ]
  },
  {
   "cell_type": "code",
   "execution_count": 43,
   "metadata": {},
   "outputs": [
    {
     "name": "stdout",
     "output_type": "stream",
     "text": [
      "There are 4360 lines\n"
     ]
    }
   ],
   "source": [
    "# Example 15\n",
    "config = {'data_dir': tmpdir}\n",
    "result = mapreduce(LineCountWorker, PathInputData, config)\n",
    "print(f'There are {result} lines')"
   ]
  },
  {
   "attachments": {},
   "cell_type": "markdown",
   "metadata": {},
   "source": [
    "今度は、`GenericInputData` や `GenericWorker` サブクラスを他に好きなように書くことができます。関係するコードを書き直す必要はありません。"
   ]
  },
  {
   "attachments": {},
   "cell_type": "markdown",
   "metadata": {},
   "source": [
    "### 覚えておくこと"
   ]
  },
  {
   "attachments": {},
   "cell_type": "markdown",
   "metadata": {},
   "source": [
    "- Python は、クラスに対して、`__init__` メソッドという1つのコンストラクタしかサポートしていない。\n",
    "- クラスに対して、代わりのコンストラクタを定義するために `@classmethod` を使う。\n",
    "- 具象サブクラスを作成して連携するジェネリックな方式を提供するには、クラスメソッドポリモルフィズムを使う。"
   ]
  },
  {
   "attachments": {},
   "cell_type": "markdown",
   "metadata": {},
   "source": [
    "## 項目 40 super を使ってスーパークラスを初期化する"
   ]
  },
  {
   "attachments": {},
   "cell_type": "markdown",
   "metadata": {},
   "source": [
    "サブクラスからスーパークラスを初期化する古いやり方は、スーパークラスの `__init__` メソッドをサブクラスのインスタンスで直接呼び出すことでした。"
   ]
  },
  {
   "cell_type": "code",
   "execution_count": 45,
   "metadata": {},
   "outputs": [],
   "source": [
    "# Example 1\n",
    "class MyBaseClass:\n",
    "    def __init__(self, value):\n",
    "        self.value = value\n",
    "\n",
    "class MyChildClass(MyBaseClass):\n",
    "    def __init__(self):\n",
    "        MyBaseClass.__init__(self, 5)\n",
    "\n",
    "    def times_two(self):\n",
    "        return self.value * 2\n",
    "\n",
    "foo = MyChildClass()\n",
    "assert foo.times_two() == 10"
   ]
  },
  {
   "attachments": {},
   "cell_type": "markdown",
   "metadata": {},
   "source": [
    "この方式は、単純な階層では問題ありませんが、多くの場合にうまくいきません。\n",
    "\n",
    "クラスが、多重継承（一般には避けるべきことです。「項目41 `Mix-in` クラスで機能合成を考える」参照）によって影響を受けているとき、スーパークラスの `__init__` メソッドを直接呼び出すと、予期せぬ振る舞いに遭遇することがあります。\n",
    "\n",
    "問題は、`__init__` メソッドの呼び出し順序がすべてのサブクラス間で規定されてはいないことです。例えば、インスタンスの `value` フィールドを操作する2つのスーパークラスを次のように定義したとします。"
   ]
  },
  {
   "cell_type": "code",
   "execution_count": 46,
   "metadata": {},
   "outputs": [],
   "source": [
    "# Example 2\n",
    "class TimesTwo:\n",
    "    def __init__(self):\n",
    "        self.value *= 2\n",
    "\n",
    "class PlusFive:\n",
    "    def __init__(self):\n",
    "        self.value += 5"
   ]
  },
  {
   "attachments": {},
   "cell_type": "markdown",
   "metadata": {},
   "source": [
    "スーパークラスを次に示すような順序で定義します。"
   ]
  },
  {
   "cell_type": "code",
   "execution_count": 47,
   "metadata": {},
   "outputs": [],
   "source": [
    "# Example 3\n",
    "class OneWay(MyBaseClass, TimesTwo, PlusFive):\n",
    "    def __init__(self, value):\n",
    "        MyBaseClass.__init__(self, value)\n",
    "        TimesTwo.__init__(self)\n",
    "        PlusFive.__init__(self)"
   ]
  },
  {
   "attachments": {},
   "cell_type": "markdown",
   "metadata": {},
   "source": [
    "このオブジェクトを構築すると、 スーパークラスの順序に合致するような結果を出します。"
   ]
  },
  {
   "cell_type": "code",
   "execution_count": 48,
   "metadata": {},
   "outputs": [
    {
     "name": "stdout",
     "output_type": "stream",
     "text": [
      "First ordering value is (5 * 2) + 5 = 15\n"
     ]
    }
   ],
   "source": [
    "# Example 4\n",
    "foo = OneWay(5)\n",
    "print('First ordering value is (5 * 2) + 5 =', foo.value)"
   ]
  },
  {
   "attachments": {},
   "cell_type": "markdown",
   "metadata": {},
   "source": [
    "次に、同じスーパークラスで、 ただし順序が異なるクラスを定義します（`PlusFive` の後に\n",
    "`TimesTwo` が来る)。"
   ]
  },
  {
   "cell_type": "code",
   "execution_count": 49,
   "metadata": {},
   "outputs": [],
   "source": [
    "# Example 5\n",
    "class AnotherWay(MyBaseClass, PlusFive, TimesTwo):\n",
    "    def __init__(self, value):\n",
    "        MyBaseClass.__init__(self, value)\n",
    "        TimesTwo.__init__(self)\n",
    "        PlusFive.__init__(self)"
   ]
  },
  {
   "attachments": {},
   "cell_type": "markdown",
   "metadata": {},
   "source": [
    "しかし、スーパークラスのコンストラクタへの呼び出しの `TimesTwo.__init__` と `PlusFive.__init__` を `Oneway` クラスと同じ順序にしたので、このクラスの振る舞いは、その定義でのスーパークラスの順序に対応しません。 継承基底クラスと `__init__` 呼び出しとの食い違いというこの問題は、同定が難しく、コードを初めて見る人には、特に理解が難しいでしょう。"
   ]
  },
  {
   "cell_type": "code",
   "execution_count": 50,
   "metadata": {},
   "outputs": [
    {
     "name": "stdout",
     "output_type": "stream",
     "text": [
      "Second ordering value is 15\n"
     ]
    }
   ],
   "source": [
    "# Example 6\n",
    "bar = AnotherWay(5)\n",
    "print('Second ordering value is', bar.value)"
   ]
  },
  {
   "attachments": {},
   "cell_type": "markdown",
   "metadata": {},
   "source": [
    "別の問題がダイヤモンド継承で生じます。ダイヤモンド継承とは、2つの異なるサブクラスから継承したサブクラスがあり、かつその2つのクラスが継承階層で同じスーパークラスを持っている場合に生じます。ダイヤモンド継承では、共通のスーパークラスの `__init__` メソッドが何回も実行され、予期せぬ振る舞いを引き起こします。例えば、`MyBaseClass` を継承する2つのサブクラスを次のように定義します。"
   ]
  },
  {
   "cell_type": "code",
   "execution_count": 51,
   "metadata": {},
   "outputs": [],
   "source": [
    "# Example 7\n",
    "class TimesSeven(MyBaseClass):\n",
    "    def __init__(self, value):\n",
    "        MyBaseClass.__init__(self, value)\n",
    "        self.value *= 7\n",
    "\n",
    "class PlusNine(MyBaseClass):\n",
    "    def __init__(self, value):\n",
    "        MyBaseClass.__init__(self, value)\n",
    "        self.value += 9"
   ]
  },
  {
   "attachments": {},
   "cell_type": "markdown",
   "metadata": {},
   "source": [
    "そして、これら2つのクラスを継承するサブクラスを定義して、`MyBaseClass` をダイヤモンドの頂点にします。"
   ]
  },
  {
   "cell_type": "code",
   "execution_count": 52,
   "metadata": {},
   "outputs": [
    {
     "name": "stdout",
     "output_type": "stream",
     "text": [
      "Should be (5 * 7) + 9 = 44 but is 14\n"
     ]
    }
   ],
   "source": [
    "# Example 8\n",
    "class ThisWay(TimesSeven, PlusNine):\n",
    "    def __init__(self, value):\n",
    "        TimesSeven.__init__(self, value)\n",
    "        PlusNine.__init__(self, value)\n",
    "\n",
    "foo = ThisWay(5)\n",
    "print('Should be (5 * 7) + 9 = 44 but is', foo.value)"
   ]
  },
  {
   "attachments": {},
   "cell_type": "markdown",
   "metadata": {},
   "source": [
    "2番目のスーパークラスのコンストラクタ `PlusNine.__init__` の呼び出しでは、`MyBaseClass.___init__` が2回目に呼び出されたところで、`self.value` が5にリセットされるのです。その結果、`TimesSeven.__init__` コンストラクタの効果がまったく無視され、`self.value` の計算は5 + 9 = 14となります。この振る舞いは驚くべきもので、より複雑な場合にはデバッグが困難です。\n",
    "\n",
    "この問題を解決するために、Python は組み込み関数 `super` と標準メソッド解決順序（Method Resolution Order : MRO）を用意しました。`super` は、ダイヤモンド階層の共通スーパークラスが一度しか実行されないことを保証します（別の例は「項目48 サブクラスを`__init_subclass__` で検証する」参照）。MRO は、C3 線形化と呼ばれるアルゴリズムに従ってスーパークラスの初期化順を定義しました。\n",
    "\n",
    "もう一度、次のようにダイヤモンド型の階層を作りますが、今度は `super` を使ってスーパークラスを初期化します。"
   ]
  },
  {
   "cell_type": "code",
   "execution_count": 53,
   "metadata": {},
   "outputs": [],
   "source": [
    "# Example 9\n",
    "class MyBaseClass:\n",
    "    def __init__(self, value):\n",
    "        self.value = value\n",
    "\n",
    "class TimesSevenCorrect(MyBaseClass):\n",
    "    def __init__(self, value):\n",
    "        super().__init__(value)\n",
    "        self.value *= 7\n",
    "\n",
    "class PlusNineCorrect(MyBaseClass):\n",
    "    def __init__(self, value):\n",
    "        super().__init__(value)\n",
    "        self.value += 9"
   ]
  },
  {
   "attachments": {},
   "cell_type": "markdown",
   "metadata": {},
   "source": [
    "ダイヤモンドの頂点のコンストラクタ `MyBaseClass.__init__` は、今度は1回しか実行されません。他のスーパークラスは、`class` 文で規定された順序で実行されます。"
   ]
  },
  {
   "cell_type": "code",
   "execution_count": 54,
   "metadata": {},
   "outputs": [
    {
     "name": "stdout",
     "output_type": "stream",
     "text": [
      "Should be 7 * (5 + 9) = 98 and is 98\n"
     ]
    }
   ],
   "source": [
    "# Example 10\n",
    "class GoodWay(TimesSevenCorrect, PlusNineCorrect):\n",
    "    def __init__(self, value):\n",
    "        super().__init__(value)\n",
    "\n",
    "foo = GoodWay(5)\n",
    "print('Should be 7 * (5 + 9) = 98 and is', foo.value)"
   ]
  },
  {
   "attachments": {},
   "cell_type": "markdown",
   "metadata": {},
   "source": [
    "この順序は、最初は逆に見えるかもしれません。`TimesSevenCorrect.__init_` _が最初に実行 されるべきじゃなかったのか？結果は、(57) +9 = 44のはずではなかったか？答えは「いいえ」 です。この順序が、MRO がこのクラスで定義された順番と一致しています。MRO 順序は、`mro` と呼ばれるクラスメソッドで得られます。"
   ]
  },
  {
   "cell_type": "code",
   "execution_count": 55,
   "metadata": {},
   "outputs": [
    {
     "name": "stdout",
     "output_type": "stream",
     "text": [
      "<class '__main__.GoodWay'>\n",
      "<class '__main__.TimesSevenCorrect'>\n",
      "<class '__main__.PlusNineCorrect'>\n",
      "<class '__main__.MyBaseClass'>\n",
      "<class 'object'>\n"
     ]
    }
   ],
   "source": [
    "# Example 11\n",
    "mro_str = '\\n'.join(repr(cls) for cls in GoodWay.mro())\n",
    "print(mro_str)"
   ]
  },
  {
   "attachments": {},
   "cell_type": "markdown",
   "metadata": {},
   "source": [
    "`GoodWay(5)` を呼び出すと、`TimesSevenCorrect.__init__` が呼ばれ、それが `PlusNineCorrect.__init__` を呼び出し、それが `MyBaseClass.__init__` を呼び出します。ダイヤモンドの頂点に達すると、初期化メソッドのすべては、その `__init__` 関数が呼ばれたのと逆順で作業をします。`MyBaseClass.__init__` は、`value` に5を代入します。`PlusNineCorrect.__init__` は9を足して、`value` を14にします。`TimesSevenCorrect.__init__` が7を掛けて `value` を98にします。`super().__init__` の呼び出しは、多重継承を頑健にするだけでなく、`MyBaseClass.__init__` をサブクラスの中から呼び出すよりも保守性が大幅に良くなります。後で、`MyBaseClass` の名前を変えたり、`TimesSevenCorrect` と `PlusNineCorrect` の `__init__` メソッドを変更しなくても他のスーパークラスから継承するようにできます。\n",
    "\n",
    "関数 `super` にはオプションの引数が2つあります。アクセスしようとする MRO でのスーパークラスから見たクラスの型と、そのインスタンスです。これらの引数をコンストラクタで使うと次のようになります。"
   ]
  },
  {
   "cell_type": "code",
   "execution_count": 56,
   "metadata": {},
   "outputs": [],
   "source": [
    "# Example 12\n",
    "class ExplicitTrisect(MyBaseClass):\n",
    "    def __init__(self, value):\n",
    "        super(ExplicitTrisect, self).__init__(value)\n",
    "        self.value /= 3\n",
    "assert ExplicitTrisect(9).value == 3"
   ]
  },
  {
   "attachments": {},
   "cell_type": "markdown",
   "metadata": {},
   "source": [
    "しかし、これらの引数はインスタンスの初期化に必須ではありません。Python コンパイラは自動的に正しい引数（`__class__` と `self`）をクラス定義中に `super` が引数なしで呼ばれた場合に補います。これは、次の3つが等価なことを意味します。"
   ]
  },
  {
   "cell_type": "code",
   "execution_count": 57,
   "metadata": {},
   "outputs": [],
   "source": [
    "# Example 13\n",
    "class AutomaticTrisect(MyBaseClass):\n",
    "    def __init__(self, value):\n",
    "        super(__class__, self).__init__(value)\n",
    "        self.value /= 3\n",
    "\n",
    "class ImplicitTrisect(MyBaseClass):\n",
    "    def __init__(self, value):\n",
    "        super().__init__(value)\n",
    "        self.value /= 3\n",
    "\n",
    "assert ExplicitTrisect(9).value == 3\n",
    "assert AutomaticTrisect(9).value == 3\n",
    "assert ImplicitTrisect(9).value == 3"
   ]
  },
  {
   "attachments": {},
   "cell_type": "markdown",
   "metadata": {},
   "source": [
    "`super` に引数を渡さないといけないのは、スーパークラスの実装の特定の機能にサブクラスからアクセスしなければいけない場合だけです（例：機能をラップしたり再利用する場合）。"
   ]
  },
  {
   "attachments": {},
   "cell_type": "markdown",
   "metadata": {},
   "source": [
    "### 覚えておくこと"
   ]
  },
  {
   "attachments": {},
   "cell_type": "markdown",
   "metadata": {},
   "source": [
    "- Python の標準メソッド解決順序 (MRO) は、スーパークラスの初期化順序とダイヤモンド継承の問題を解消する。\n",
    "- スーパークラスを初期化するには、組み込み関数 `super` を引数なしで使う。\n"
   ]
  }
 ],
 "metadata": {
  "kernelspec": {
   "display_name": "develop",
   "language": "python",
   "name": "python3"
  },
  "language_info": {
   "codemirror_mode": {
    "name": "ipython",
    "version": 3
   },
   "file_extension": ".py",
   "mimetype": "text/x-python",
   "name": "python",
   "nbconvert_exporter": "python",
   "pygments_lexer": "ipython3",
   "version": "3.10.4"
  },
  "orig_nbformat": 4,
  "vscode": {
   "interpreter": {
    "hash": "e44055ce3e952bd426b5fb3f107ba07a260ee6f4ce0ddea34f4e7c6cc81b9081"
   }
  }
 },
 "nbformat": 4,
 "nbformat_minor": 2
}
