{
 "cells": [
  {
   "cell_type": "code",
   "execution_count": 2,
   "metadata": {},
   "outputs": [
    {
     "name": "stderr",
     "output_type": "stream",
     "text": [
      "Exception in Tkinter callback\n",
      "Traceback (most recent call last):\n",
      "  File \"c:\\Users\\su10_\\anaconda3\\envs\\develop\\lib\\tkinter\\__init__.py\", line 1921, in __call__\n",
      "    return self.func(*args)\n",
      "TypeError: post_to_timeline() takes 0 positional arguments but 1 was given\n",
      "Exception in Tkinter callback\n",
      "Traceback (most recent call last):\n",
      "  File \"c:\\Users\\su10_\\anaconda3\\envs\\develop\\lib\\tkinter\\__init__.py\", line 1921, in __call__\n",
      "    return self.func(*args)\n",
      "TypeError: post_to_timeline() takes 0 positional arguments but 1 was given\n"
     ]
    }
   ],
   "source": [
    "import tkinter as tk\n",
    "\n",
    "# Tkinterのウィンドウを作成する\n",
    "root = tk.Tk()\n",
    "\n",
    "# テキストボックスを作成する\n",
    "textbox = tk.Entry(root)\n",
    "textbox.pack()\n",
    "\n",
    "# 投稿ボタンを作成する\n",
    "button = tk.Button(root, text=\"投稿\")\n",
    "button.pack()\n",
    "\n",
    "# タイムラインを表示するテキストボックスを作成する\n",
    "timeline = tk.Text(root)\n",
    "timeline.pack()\n",
    "\n",
    "# ボタンを押したときの処理\n",
    "def post_to_timeline():\n",
    "    # テキストボックスから入力された内容を取得する\n",
    "    text = textbox.get()\n",
    "    # 入力された内容をタイムラインに追加する\n",
    "    timeline.insert(tk.END, text + \"\\n\")\n",
    "\n",
    "# ボタンにイベントを登録する\n",
    "button.bind(\"<Button-1>\", post_to_timeline)\n",
    "\n",
    "# ウィンドウを表示する\n",
    "root.mainloop()\n"
   ]
  }
 ],
 "metadata": {
  "kernelspec": {
   "display_name": "Python 3.10.4 ('develop')",
   "language": "python",
   "name": "python3"
  },
  "language_info": {
   "codemirror_mode": {
    "name": "ipython",
    "version": 3
   },
   "file_extension": ".py",
   "mimetype": "text/x-python",
   "name": "python",
   "nbconvert_exporter": "python",
   "pygments_lexer": "ipython3",
   "version": "3.10.4 | packaged by conda-forge | (main, Mar 30 2022, 08:38:02) [MSC v.1916 64 bit (AMD64)]"
  },
  "orig_nbformat": 4,
  "vscode": {
   "interpreter": {
    "hash": "e44055ce3e952bd426b5fb3f107ba07a260ee6f4ce0ddea34f4e7c6cc81b9081"
   }
  }
 },
 "nbformat": 4,
 "nbformat_minor": 2
}
