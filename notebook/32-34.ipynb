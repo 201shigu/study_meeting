{
 "cells": [
  {
   "attachments": {},
   "cell_type": "markdown",
   "metadata": {},
   "source": [
    "# 項目32-34"
   ]
  },
  {
   "attachments": {},
   "cell_type": "markdown",
   "metadata": {},
   "source": [
    "担当者：須藤"
   ]
  },
  {
   "attachments": {},
   "cell_type": "markdown",
   "metadata": {},
   "source": [
    "## 項目32 大きなリスト内包表記にはジェネレータ式を考える"
   ]
  },
  {
   "attachments": {},
   "cell_type": "markdown",
   "metadata": {},
   "source": [
    "リスト内包表記 （「項目27 `map` や `filter` の代わりにリスト内包表記を使う」参照）の問題は、入力シーケンスの各値に対してそれぞれまったく新しいリストを作りかねないことである。入力が小さければ問題ないが、入力が大きい場合、膨大な量のメモリを消費し、プログラムのクラッシュを引き起こしかねない。"
   ]
  },
  {
   "attachments": {},
   "cell_type": "markdown",
   "metadata": {},
   "source": [
    "例えば、ファイルを読み込んで、各行の文字数を返すとする。これをリスト内包表記で行うと、メモリにファイルの各行の長さを保持する必要がある。ファイルが非常に大きかったり、決して終わりのないネットワークソケットである場合、リスト内包表記を使うのは問題となる。次のコードは、小さな入力値だけ扱うことのできるリスト内包表記の使い方である。"
   ]
  },
  {
   "cell_type": "code",
   "execution_count": 7,
   "metadata": {},
   "outputs": [
    {
     "name": "stdout",
     "output_type": "stream",
     "text": [
      "[16, 100, 42, 30, 36, 28, 33, 14, 69, 47]\n"
     ]
    }
   ],
   "source": [
    "# Example 1\n",
    "import random\n",
    "\n",
    "with open('my_file.txt', 'w') as f:\n",
    "    for _ in range(10):\n",
    "        f.write('a' * random.randint(0, 100))\n",
    "        f.write('\\n')\n",
    "\n",
    "value = [len(x) for x in open('my_file.txt')]\n",
    "print(value)"
   ]
  },
  {
   "attachments": {},
   "cell_type": "markdown",
   "metadata": {},
   "source": [
    "この問題を解くために、Python は、リスト内包表記とジェネレータを組み合わせたジェネレータ式を提供している。ジェネレータ式はリスト内包表記と似通った構文であり、下記のように前後を `()` で括る。\n",
    "ジェネレータ式はリスト内包表記と異なり、実行時に出力シーケンス全体を実際に生成することはない。ジェネレータ式の評価値はイテレータで、式から1つずつ要素を `yield` で出すことができる。\n",
    "先ほど示したコードと等価なジェネレータ式を使ったものを次に示す（ただし、ジェネレータ式は直ちにイテレータとなり、単体ではそれ以上何も行わない）。\n"
   ]
  },
  {
   "cell_type": "code",
   "execution_count": 8,
   "metadata": {},
   "outputs": [
    {
     "name": "stdout",
     "output_type": "stream",
     "text": [
      "<generator object <genexpr> at 0x0000021046A505F0>\n"
     ]
    }
   ],
   "source": [
    "# Example 2\n",
    "it = (len(x) for x in open('my_file.txt'))\n",
    "print(it)"
   ]
  },
  {
   "attachments": {},
   "cell_type": "markdown",
   "metadata": {},
   "source": [
    "返されたイテレータは、必要に応じて (組み込み関数 `next` を用いて) ジェネレータ式から次の出力を生成するように、1ステップずつ進めることができる。次のコードでは、メモリ使用量が爆発する危険を冒さず、必要な分だけをジェネレータ式から取り出すように記述している。\n"
   ]
  },
  {
   "cell_type": "code",
   "execution_count": 9,
   "metadata": {},
   "outputs": [
    {
     "name": "stdout",
     "output_type": "stream",
     "text": [
      "16\n",
      "100\n"
     ]
    }
   ],
   "source": [
    "# Example 3\n",
    "print(next(it))\n",
    "print(next(it))"
   ]
  },
  {
   "attachments": {},
   "cell_type": "markdown",
   "metadata": {},
   "source": [
    "ジェネレータ式のもう1つの強力な機能は組み合わせられることである。上のジェネレータ式から返されたイテレータを使って、別のジェネレータ式への入力とするコードを次に示す。"
   ]
  },
  {
   "cell_type": "code",
   "execution_count": 10,
   "metadata": {},
   "outputs": [],
   "source": [
    "# Example 4\n",
    "it = (len(x) for x in open('my_file.txt'))  # [77, 59, 80, 45, 57, 47, 47, 77, 2, 48]\n",
    "roots = ((x, x**0.5) for x in it)"
   ]
  },
  {
   "attachments": {},
   "cell_type": "markdown",
   "metadata": {},
   "source": [
    "このイテレータを1つ進めるごとに、内部のイテレータも1つ進み、ループし、条件式を評価し、入力と出力を渡していくというように、あたかもドミノ倒しのような効果を生成する。\n"
   ]
  },
  {
   "cell_type": "code",
   "execution_count": 11,
   "metadata": {},
   "outputs": [
    {
     "name": "stdout",
     "output_type": "stream",
     "text": [
      "(16, 4.0)\n",
      "(100, 10.0)\n"
     ]
    }
   ],
   "source": [
    "# Example 5\n",
    "print(next(roots))\n",
    "print(next(roots))"
   ]
  },
  {
   "attachments": {},
   "cell_type": "markdown",
   "metadata": {},
   "source": [
    "このような連鎖ジェネレータは、Python では極めて高速に実行される。膨大な入力ストリームを操作する機能を構成する方法として、ジェネレータ式は最適なツールである。ただし、ジェネレータ式が返すイテレータがステートフルであることを理解し、繰り返して使わないようにしなければならない（項目31 引数に対してイテレータを使うときには確実さを優先する」参照）。\n"
   ]
  },
  {
   "attachments": {},
   "cell_type": "markdown",
   "metadata": {},
   "source": [
    "### 覚えておくこと"
   ]
  },
  {
   "attachments": {},
   "cell_type": "markdown",
   "metadata": {},
   "source": [
    "- リスト内包表記は、大量の入力に対してはメモリを使いすぎるという問題を引き起こす。\n",
    "- ジェネレータ式は、イテレータとして出力を1つずつ生成するので、メモリ問題を回避することができる。\n",
    "- ジェネレータ式は、ジェネレータ式から得られたイテレータを他のジェネレータの for 部分 式に渡すことによって、 組み合わせることができる。\n",
    "- ジェネレータ式は、連鎖的に組み合わせると非常に速く動作する。"
   ]
  },
  {
   "attachments": {},
   "cell_type": "markdown",
   "metadata": {},
   "source": [
    "## 項目33 yield from で複数のジェネレータを作る"
   ]
  },
  {
   "attachments": {},
   "cell_type": "markdown",
   "metadata": {},
   "source": [
    "ジェネレータにはさまざまな利点があり（項目30 リストを返さずにジェネレータを返すことを考える」参照）、多くの問題を解決できる（項目31 引数に対してイテレータを使うときには確実さを優先する」参照）。ジェネレータは非常に便利であり、多くのプログラムでジェネレータがシーケンスになった層が作られるようになっている。"
   ]
  },
  {
   "attachments": {},
   "cell_type": "markdown",
   "metadata": {},
   "source": [
    "例えば、画面表示プログラムでジェネレータを使ってイメージの動きをアニメーションで示すことを考える。視覚効果を考慮して、イメージが最初は素早く動き、少し止まって、それからゆっくりと動き続けるようにすることを考える。次のコードでは、このアニメーションの各部分のスクリーン上での動きを示す動き幅を `yield` する2つのジェネレータを定義している。\n"
   ]
  },
  {
   "cell_type": "code",
   "execution_count": 12,
   "metadata": {},
   "outputs": [],
   "source": [
    "# Example 1\n",
    "def move(period, speed):\n",
    "    for _ in range(period):\n",
    "        yield speed\n",
    "\n",
    "def pause(delay):\n",
    "    for _ in range(delay):\n",
    "        yield 0"
   ]
  },
  {
   "attachments": {},
   "cell_type": "markdown",
   "metadata": {},
   "source": [
    "最終的なアニメーションのために、`move` と `pause` を組み合わせて、スクリーン上の移動幅のシーケンスを作る。次のコードでは、アニメーションのフェーズごとにジェネレータを呼び出し、それぞれで繰り返し、すべての移動幅を順次 `yield` していく。"
   ]
  },
  {
   "cell_type": "code",
   "execution_count": 13,
   "metadata": {},
   "outputs": [],
   "source": [
    "# Example 2\n",
    "def animate():\n",
    "    for delta in move(4, 5.0):\n",
    "        yield delta\n",
    "    for delta in pause(3):\n",
    "        yield delta\n",
    "    for delta in move(2, 3.0):\n",
    "        yield delta"
   ]
  },
  {
   "attachments": {},
   "cell_type": "markdown",
   "metadata": {},
   "source": [
    "上のコードでは、`move` 関数は、`period` 回数だけ、`speed` の値をジェネレーターを使って `yield` している。\n",
    "\n",
    "1つのアニメーションジェネレータで作られているため、これらをスクリーン上で動かすことができる。"
   ]
  },
  {
   "cell_type": "code",
   "execution_count": 14,
   "metadata": {},
   "outputs": [
    {
     "name": "stdout",
     "output_type": "stream",
     "text": [
      "Delta: 5.0\n",
      "Delta: 5.0\n",
      "Delta: 5.0\n",
      "Delta: 5.0\n",
      "Delta: 0.0\n",
      "Delta: 0.0\n",
      "Delta: 0.0\n",
      "Delta: 3.0\n",
      "Delta: 3.0\n"
     ]
    }
   ],
   "source": [
    "# Example 3\n",
    "def render(delta):\n",
    "    print(f'Delta: {delta:.1f}')\n",
    "    # Move the images onscreen\n",
    "\n",
    "def run(func):\n",
    "    for delta in func():\n",
    "        render(delta)\n",
    "\n",
    "run(animate)"
   ]
  },
  {
   "attachments": {},
   "cell_type": "markdown",
   "metadata": {},
   "source": [
    "しかしこのコードは、ジェネレータの同じような `for` 文と `yield` 式が目障りで読みづらくなっている。これはまだ3つの入れ子でしかないが、フェーズが何十にもなる複雑なアニメーションであれば理解が非常に困難となるだろう。\n",
    "\n",
    "この問題は `yield from` 式を用いることで解決できる。ジェネレータのこの機能により、入れ子になったジェネレータが親のジェネレータに制御を戻す前に、入れ子になった子ジェネレータからすべての値を生成することができる。`yield from` を用いてアニメーション関数を書き直す。"
   ]
  },
  {
   "cell_type": "code",
   "execution_count": 15,
   "metadata": {},
   "outputs": [
    {
     "name": "stdout",
     "output_type": "stream",
     "text": [
      "Delta: 5.0\n",
      "Delta: 5.0\n",
      "Delta: 5.0\n",
      "Delta: 5.0\n",
      "Delta: 0.0\n",
      "Delta: 0.0\n",
      "Delta: 0.0\n",
      "Delta: 3.0\n",
      "Delta: 3.0\n"
     ]
    }
   ],
   "source": [
    "# Example 4\n",
    "def animate_composed():\n",
    "    yield from move(4, 5.0)\n",
    "    yield from pause(3)\n",
    "    yield from move(2, 3.0)\n",
    "\n",
    "run(animate_composed)"
   ]
  },
  {
   "attachments": {},
   "cell_type": "markdown",
   "metadata": {},
   "source": [
    "`yield from` 文は、内側のジェネレーターからの値を直接外側のジェネレーターに渡す。このため、`animate_composed` 関数の挙動は、`animate` 関数と同じアニメーションを生成する。`yield from` 文を使用することで、より簡潔にコードを記述できる。また、内側のジェネレーターがエラーを出す場合には、外側のジェネレーターにエラーを渡すことができる。"
   ]
  },
  {
   "attachments": {},
   "cell_type": "markdown",
   "metadata": {},
   "source": [
    "`yield from` は入れ子のループと `yield` 式を Python インタプリタで使うボイラープレート（決まり文句）であり、性能も上がる。組み込みモジュール `timeit` を用いて小さなベンチマークを計測し、速度が向上したかを確認してみる。\n"
   ]
  },
  {
   "cell_type": "code",
   "execution_count": 16,
   "metadata": {},
   "outputs": [
    {
     "name": "stdout",
     "output_type": "stream",
     "text": [
      "Manual nesting 2.51s\n",
      "Composed nesting 2.26s\n",
      "9.9% less time\n"
     ]
    }
   ],
   "source": [
    "# Example 5\n",
    "import timeit\n",
    "\n",
    "def child():\n",
    "    for i in range(1_000_000):\n",
    "        yield i\n",
    "\n",
    "def slow():\n",
    "    for i in child():\n",
    "        yield i\n",
    "\n",
    "def fast():\n",
    "    yield from child()\n",
    "\n",
    "baseline = timeit.timeit(\n",
    "    stmt='for _ in slow(): pass',\n",
    "    globals=globals(),\n",
    "    number=50)\n",
    "print(f'Manual nesting {baseline:.2f}s')\n",
    "\n",
    "comparison = timeit.timeit(\n",
    "    stmt='for _ in fast(): pass',\n",
    "    globals=globals(),\n",
    "    number=50)\n",
    "print(f'Composed nesting {comparison:.2f}s')\n",
    "\n",
    "reduction = -(comparison - baseline) / baseline\n",
    "print(f'{reduction:.1%} less time')\n"
   ]
  },
  {
   "attachments": {},
   "cell_type": "markdown",
   "metadata": {},
   "source": [
    "ジェネレータを使う場合、可能な限り `yield from` 式を用いるのがよい。"
   ]
  },
  {
   "attachments": {},
   "cell_type": "markdown",
   "metadata": {},
   "source": [
    "### 覚えておくこと"
   ]
  },
  {
   "attachments": {},
   "cell_type": "markdown",
   "metadata": {},
   "source": [
    "- `yield from` 式により、複数の入れ子になったジェネレータを組み合わせて1つのジェネレータにできる。\n",
    "- `yield from` 式により、複数の入れ子ジェネレータを使うよりも性能の良い出力ができる。"
   ]
  },
  {
   "attachments": {},
   "cell_type": "markdown",
   "metadata": {},
   "source": [
    "## 項目34 sendでジェネレータにデータを注入するのは避ける"
   ]
  },
  {
   "attachments": {},
   "cell_type": "markdown",
   "metadata": {},
   "source": [
    "`yield` 式は、イテラブルな出力値のシーケンスを生成するジェネレータ関数を提供する（「項目30 リストを返さずにジェネレータを返すことを考える」参照）。しかし、この方式は一方通行で、ジェネレータを実行時に同時にデータを入出力双方向に処理することは一見できないように見える。このような双方向処理は、さまざまなユースケースで価値がある。 \n",
    "\n",
    "例えば、ソフトウェアラジオを使って信号を送出するプログラムを書くとしよう。与えられた点で正弦波の近似を描く関数を使うことにする。"
   ]
  },
  {
   "cell_type": "code",
   "execution_count": 17,
   "metadata": {},
   "outputs": [],
   "source": [
    "# Example 1\n",
    "import math\n",
    "\n",
    "def wave(amplitude, steps):\n",
    "    step_size = 2 * math.pi / steps\n",
    "    for step in range(steps):\n",
    "        radians = step * step_size\n",
    "        fraction = math.sin(radians)\n",
    "        output = amplitude * fraction\n",
    "        yield output"
   ]
  },
  {
   "attachments": {},
   "cell_type": "markdown",
   "metadata": {},
   "source": [
    "波形のジェネレータでイテレーションして、指定された振幅の電波信号を送ることができる。"
   ]
  },
  {
   "cell_type": "code",
   "execution_count": 18,
   "metadata": {},
   "outputs": [
    {
     "name": "stdout",
     "output_type": "stream",
     "text": [
      "Output:   0.0\n",
      "Output:   2.1\n",
      "Output:   3.0\n",
      "Output:   2.1\n",
      "Output:   0.0\n",
      "Output:  -2.1\n",
      "Output:  -3.0\n",
      "Output:  -2.1\n"
     ]
    }
   ],
   "source": [
    "# Example 2\n",
    "def transmit(output):\n",
    "    if output is None:\n",
    "        print(f'Output is None')\n",
    "    else:\n",
    "        print(f'Output: {output:>5.1f}')\n",
    "\n",
    "def run(it):\n",
    "    for output in it:\n",
    "        transmit(output)\n",
    "\n",
    "run(wave(3.0, 8))\n"
   ]
  },
  {
   "cell_type": "code",
   "execution_count": 19,
   "metadata": {},
   "outputs": [
    {
     "data": {
      "image/png": "[encoded data removed]",
      "text/plain": [
       "<Figure size 432x288 with 1 Axes>"
      ]
     },
     "metadata": {
      "needs_background": "light"
     },
     "output_type": "display_data"
    }
   ],
   "source": [
    "import matplotlib.pyplot as plt\n",
    "\n",
    "def plot(it):\n",
    "    outputs = list(it)\n",
    "    plt.plot(outputs, linestyle='--', marker='o')\n",
    "    plt.show()\n",
    "\n",
    "plot(wave(3.0, 8))"
   ]
  },
  {
   "attachments": {},
   "cell_type": "markdown",
   "metadata": {},
   "source": [
    "基本的な波形を作るにはこれで十分だが、別の入力に基づいた波形で常に振幅を変動させること（例えば AM ラジオ信号の生成）はできない。ジェネレータのイテレーションのたびに、振幅を変調する仕組みが必要である。\n",
    "\n",
    "Python のジェネレータには `yield` 式を双方向に使えるようにした `send` メソッドがある。`send` メソッドでは、ジェネレータが出力を `yield` しながら、ストリーム入力を受け入れられる。通常、ジェネレータをイテレーションするとき、`yield` 式の値は `None` である。\n"
   ]
  },
  {
   "cell_type": "code",
   "execution_count": 20,
   "metadata": {},
   "outputs": [
    {
     "name": "stdout",
     "output_type": "stream",
     "text": [
      "output = 1\n",
      "received = None\n"
     ]
    }
   ],
   "source": [
    "# Example 3\n",
    "def my_generator():\n",
    "    received = yield 1\n",
    "    print(f'received = {received}')\n",
    "\n",
    "it = my_generator()\n",
    "output = next(it)       # Get first generator output\n",
    "print(f'output = {output}')\n",
    "\n",
    "try:\n",
    "    next(it)            # Run generator until it exits\n",
    "except StopIteration:\n",
    "    pass\n",
    "else:\n",
    "    assert False"
   ]
  },
  {
   "attachments": {},
   "cell_type": "markdown",
   "metadata": {},
   "source": [
    "1. `next(it)` は、ジェネレーターを開始し、最初の `yield` 文で一時停止する。1が生成される。\n",
    "2. `output` に1が代入される。\n",
    "3. `next(it)` は、`received` に渡す値がないため、`None` を渡す。渡された値は `yield` 文の左側に代入され、`received` に代入される。\n",
    "4. `print` 文で `received` が` None` であることが確認できる。\n",
    "5. ジェネレーターが終了する"
   ]
  },
  {
   "attachments": {},
   "cell_type": "markdown",
   "metadata": {},
   "source": [
    "`for` ループや組み込み関数 `next` でイテレーションする代わりに `send` メソッドを呼び出すと、指定した引数がジェネレータを再度呼び出したときの値になる。しかし、初めてのジェネレータでは、`yield` 式がまだないため、最初に `send` を呼び出すときに指定できるのは `None` だけである（それ以外の引数は実行時に例外が送出される）。"
   ]
  },
  {
   "cell_type": "code",
   "execution_count": 21,
   "metadata": {},
   "outputs": [
    {
     "name": "stdout",
     "output_type": "stream",
     "text": [
      "output = 1\n",
      "received = hello!\n"
     ]
    }
   ],
   "source": [
    "# Example 4\n",
    "it = my_generator()\n",
    "output = it.send(None)  # Get first generator output\n",
    "print(f'output = {output}')\n",
    "\n",
    "try:\n",
    "    it.send('hello!')   # Send value into the generator\n",
    "except StopIteration:\n",
    "    pass\n",
    "else:\n",
    "    assert False"
   ]
  },
  {
   "attachments": {},
   "cell_type": "markdown",
   "metadata": {},
   "source": [
    "1. `it.send(None)` は、ジェネレーターを開始し、最初の `yield` 文で一時停止する。1が生成される。\n",
    "2. `output` に1が代入される。\n",
    "3. `it.send('hello!')` は、`'hello!'` という値をジェネレーターに送信する。渡された値は `yield` 文の左側に代入され、`received` に代入される。\n",
    "4. `print` 文で `received` に `'hello!'` が代入されていることが確認できる。\n",
    "5. ジェネレーターが終了する。"
   ]
  },
  {
   "attachments": {},
   "cell_type": "markdown",
   "metadata": {},
   "source": [
    "この振る舞いを利用し、入力信号に基づいて正弦波の振幅を変調する。まず、ラジオ波のジェネ レータを `yield` 式で返された振幅を保存し、それを用いて次の出力を生成するように変更する。"
   ]
  },
  {
   "cell_type": "code",
   "execution_count": 22,
   "metadata": {},
   "outputs": [],
   "source": [
    "# Example 5\n",
    "def wave_modulating(steps):\n",
    "    step_size = 2 * math.pi / steps\n",
    "    amplitude = yield             # Receive initial amplitude\n",
    "    for step in range(steps):\n",
    "        radians = step * step_size\n",
    "        fraction = math.sin(radians)\n",
    "        output = amplitude * fraction\n",
    "        amplitude = yield output  # Receive next amplitude"
   ]
  },
  {
   "attachments": {},
   "cell_type": "markdown",
   "metadata": {},
   "source": [
    "振幅を変調し `wave_modulating` のジェネレータにイテレーションのたびにストリーム入力するよう関数 `run` を更新する必要がある。`send` への最初の入力は、ジェネレータ内で `yield` 式が呼ばれていないので `None` でなければならない。"
   ]
  },
  {
   "cell_type": "code",
   "execution_count": 23,
   "metadata": {},
   "outputs": [
    {
     "name": "stdout",
     "output_type": "stream",
     "text": [
      "Output is None\n",
      "Output:   0.0\n",
      "Output:   3.5\n",
      "Output:   6.1\n",
      "Output:   2.0\n",
      "Output:   1.7\n",
      "Output:   1.0\n",
      "Output:   0.0\n",
      "Output:  -5.0\n",
      "Output:  -8.7\n",
      "Output: -10.0\n",
      "Output:  -8.7\n",
      "Output:  -5.0\n"
     ]
    }
   ],
   "source": [
    "# Example 6\n",
    "def run_modulating(it):\n",
    "    amplitudes = [\n",
    "        None, 7, 7, 7, 2, 2, 2, 2, 10, 10, 10, 10, 10]\n",
    "    for amplitude in amplitudes:\n",
    "        output = it.send(amplitude)\n",
    "        transmit(output)\n",
    "\n",
    "run_modulating(wave_modulating(12))"
   ]
  },
  {
   "attachments": {},
   "cell_type": "markdown",
   "metadata": {},
   "source": [
    "1. `wave_modulating(12)` を呼び出すと、`amplitude` の値を受け取るためにジェネレーターが生成される。\n",
    "2. `run_modulating` 関数は、`amplitudes` リストから `amplitude値` を取り出して、`it.send(amplitude)` を使用して `wave_modulating` ジェネレーターに送信する。\n",
    "3. `wave_modulating` ジェネレーターは、受け取った `amplitude` 値を使用して、12回のループを実行し、それぞれのループで `output` 値を計算する。\n",
    "4. `amplitude = yield output` の行では、`output` を `run_modulating` 関数に返し、次の `amplitude` の値を受け取るためにジェネレーターが一時停止する。\n",
    "5. `run_modulating` 関数は次の `amplitude` 値を取り出し、再び `it.send(amplitude)` を使用してジェネレーターに送信する。\n",
    "6. 2から5までのプロセスが繰り返され、`amplitudes` リストの最後の値を送信した後に `wave_modulating` ジェネレーターは終了する。"
   ]
  },
  {
   "attachments": {},
   "cell_type": "markdown",
   "metadata": {},
   "source": [
    "`amplitude = yield` は、最初の `yield` 文までのコードを実行するときに `yield` するということを意味している。この `yield` 文により、`run_modulating` 関数からジェネレーターに最初の値が送られ、`amplitude` 変数にその値が代入される。"
   ]
  },
  {
   "attachments": {},
   "cell_type": "markdown",
   "metadata": {},
   "source": [
    "出力の振幅を入力信号に基づいて変更できるようになっている。※最初の `yield` 式まではジェネレータが振幅の値を受け取っていないため、最初の出力は `None` となっている。\n",
    "\n",
    "しかし、初めてこのコードを読む人にはかなり不適切なコードとなっている。代入文の右辺にある `yield` は直感的に理解できず、この高度なジェネレータ機能の詳細を知っていなければ、 `yield` と `send` の連携は分かりづらい。\n",
    "\n",
    "さらに、プログラムの要求がもっと複雑になったとする。搬送波が単純な正弦波ではなく、一連の信号からなる複雑な波形を使う必要になったとしよう。これを実装する1つの方法は、`yield from` 式（項目33 `yield from` で複数のジェネレータを作る」参照）を用いて複数のジェネレータから構成される振る舞いを実装する方法である。ここでは、振幅が固定幅である単純なケースで期待通り動作することを確認する。\n"
   ]
  },
  {
   "cell_type": "code",
   "execution_count": 24,
   "metadata": {},
   "outputs": [
    {
     "name": "stdout",
     "output_type": "stream",
     "text": [
      "Output:   0.0\n",
      "Output:   6.1\n",
      "Output:  -6.1\n",
      "Output:   0.0\n",
      "Output:   2.0\n",
      "Output:   0.0\n",
      "Output:  -2.0\n",
      "Output:   0.0\n",
      "Output:   9.5\n",
      "Output:   5.9\n",
      "Output:  -5.9\n",
      "Output:  -9.5\n"
     ]
    }
   ],
   "source": [
    "# Example 7\n",
    "def complex_wave():\n",
    "    yield from wave(7.0, 3)\n",
    "    yield from wave(2.0, 4)\n",
    "    yield from wave(10.0, 5)\n",
    "\n",
    "run(complex_wave())"
   ]
  },
  {
   "attachments": {},
   "cell_type": "markdown",
   "metadata": {},
   "source": [
    "`yield from` 式が簡単な場合を扱えたので、ジェネレータの `send` メソッドでもうまくいくと思われるかもしれない。\n",
    "\n",
    "次のコードでは、`wave_modulating` ジェネレータを複数呼び出すよう実装したものである。"
   ]
  },
  {
   "cell_type": "code",
   "execution_count": 25,
   "metadata": {},
   "outputs": [
    {
     "name": "stdout",
     "output_type": "stream",
     "text": [
      "Output is None\n",
      "Output:   0.0\n",
      "Output:   6.1\n",
      "Output:  -6.1\n",
      "Output is None\n",
      "Output:   0.0\n",
      "Output:   2.0\n",
      "Output:   0.0\n",
      "Output: -10.0\n",
      "Output is None\n",
      "Output:   0.0\n",
      "Output:   9.5\n",
      "Output:   5.9\n"
     ]
    }
   ],
   "source": [
    "# Example 5\n",
    "def wave_modulating(steps):\n",
    "    step_size = 2 * math.pi / steps\n",
    "    amplitude = yield             # Receive initial amplitude\n",
    "    for step in range(steps):\n",
    "        radians = step * step_size\n",
    "        fraction = math.sin(radians)\n",
    "        output = amplitude * fraction\n",
    "        amplitude = yield output  # Receive next amplitude\n",
    "\n",
    "# Example 6\n",
    "def run_modulating(it):\n",
    "    amplitudes = [\n",
    "        None, 7, 7, 7, 2, 2, 2, 2, 10, 10, 10, 10, 10]\n",
    "    for amplitude in amplitudes:\n",
    "        output = it.send(amplitude)\n",
    "        transmit(output)\n",
    "\n",
    "# Example 8\n",
    "def complex_wave_modulating():\n",
    "    yield from wave_modulating(3)\n",
    "    yield from wave_modulating(4)\n",
    "    yield from wave_modulating(5)\n",
    "\n",
    "run_modulating(complex_wave_modulating())"
   ]
  },
  {
   "attachments": {},
   "cell_type": "markdown",
   "metadata": {},
   "source": [
    "これはある程度動作するが、結果には大きな問題がある。出力に多数の `None` が現れてしまっている。どうしてこうなってしまったのか。\n",
    "\n",
    "子（`wave_modulating`）ジェネレータで `yield from` 式が終了するたびに、親（`complex_wave_modulating`）では次の`wave_modulating` ジェネレータに移る。ジェネレータの `send` メソッド呼び出しから最初の振幅を受け取るため、元の値のない `yield` 式から開始する。これにより、親ジェネレータは子のジェネレータの遷移のたびに  `None` を出力する。\n",
    "\n",
    "これは、`yield from` と `send` を一緒に使おうとすると、それぞれの振る舞いについての仮定がうまくいかなくなることを意味している。この `None` 問題を回避するために `run_modulating` 関数を修正することはできるが、複雑であり手間がかかってしまう。また、初めてコードを読む人には `send` の動作が理解困難になっている。`yield from` によるこの状況は、それに拍車をかけてしまっている。そこで「`send` メソッドをあきらめ、より単純な方式にすること」にする。"
   ]
  },
  {
   "attachments": {},
   "cell_type": "markdown",
   "metadata": {},
   "source": [
    "最も簡単な解は、ラジオ波の関数にイテレータを渡すことである。組み込み関数 `next` が呼ばれるたびにイテレータは入力の振幅を返す。このようにすると、ジェネレータは入力と出力を処理しながらカスケードする（別の例は「項目32 大きなリスト内包表記にはジェネレータ式を考える」参照）。\n"
   ]
  },
  {
   "cell_type": "code",
   "execution_count": 26,
   "metadata": {},
   "outputs": [],
   "source": [
    "# Example 9\n",
    "def wave_cascading(amplitude_it, steps):\n",
    "    step_size = 2 * math.pi / steps\n",
    "    for step in range(steps):\n",
    "        radians = step * step_size\n",
    "        fraction = math.sin(radians)\n",
    "        amplitude = next(amplitude_it)  # Get next input\n",
    "        output = amplitude * fraction\n",
    "        yield output"
   ]
  },
  {
   "attachments": {},
   "cell_type": "markdown",
   "metadata": {},
   "source": [
    "同じイテレータを、一緒に構成する子ジェネレータのそれぞれに渡すことができる。 イテレータはステートフルなため（項目31 引数に対してイテレータを使うときには確実さを優先する」参照）入れ子になったジェネレータは、前のジェネレータが終わったところから引き継がれる。"
   ]
  },
  {
   "cell_type": "code",
   "execution_count": 27,
   "metadata": {},
   "outputs": [],
   "source": [
    "# Example 10\n",
    "def complex_wave_cascading(amplitude_it):\n",
    "    yield from wave_cascading(amplitude_it, 3)\n",
    "    yield from wave_cascading(amplitude_it, 4)\n",
    "    yield from wave_cascading(amplitude_it, 5)"
   ]
  },
  {
   "attachments": {},
   "cell_type": "markdown",
   "metadata": {},
   "source": [
    "振幅のリストでイテレータを渡すだけで組み合わせたジェネレータを実行できる。"
   ]
  },
  {
   "cell_type": "code",
   "execution_count": 28,
   "metadata": {},
   "outputs": [
    {
     "name": "stdout",
     "output_type": "stream",
     "text": [
      "Output:   0.0\n",
      "Output:   6.1\n",
      "Output:  -6.1\n",
      "Output:   0.0\n",
      "Output:   2.0\n",
      "Output:   0.0\n",
      "Output:  -2.0\n",
      "Output:   0.0\n",
      "Output:   9.5\n",
      "Output:   5.9\n",
      "Output:  -5.9\n",
      "Output:  -9.5\n"
     ]
    }
   ],
   "source": [
    "# Example 11\n",
    "def run_cascading():\n",
    "    amplitudes = [7, 7, 7, 2, 2, 2, 2, 10, 10, 10, 10, 10]\n",
    "    it = complex_wave_cascading(iter(amplitudes))\n",
    "    for amplitude in amplitudes:\n",
    "        output = next(it)\n",
    "        transmit(output)\n",
    "\n",
    "run_cascading()"
   ]
  },
  {
   "attachments": {},
   "cell_type": "markdown",
   "metadata": {},
   "source": [
    "この方式で最も良いのは、イテレータはどこからでもよく、完全に動的（例えば、ジェネレータ関数を使って実装）で構わない点である。唯一の欠点は、このコードでは入力ジェネレータが完全にスレッドセーフと仮定していることで、その仮定が成り立たないことがある点である。スレッド境界を超える必要がある場合、`async` 関数を用いる方が良いかもしれない（「項目62 スレッドとコルーチンを組み合わせて `asyncio` への移行を楽にする」参照）。"
   ]
  },
  {
   "attachments": {},
   "cell_type": "markdown",
   "metadata": {},
   "source": [
    "### 覚えておくこと"
   ]
  },
  {
   "attachments": {},
   "cell_type": "markdown",
   "metadata": {},
   "source": [
    "- `send` メソッドを使うと、`yield` 式に与えた値を変数に代入できるようジェネレータにデータを入力できる\n",
    "- `send` と `yield from` 式を一緒に使うと、ジェネレータの出力に `None` 値が思いがけない場所に出現するようなこもった振る舞いになる\n",
    "- 組み合わせたジェネレータに入力イテレータを与えるほうが、`send` メソッドを使う方式よりもよい。\n"
   ]
  }
 ],
 "metadata": {
  "kernelspec": {
   "display_name": "develop",
   "language": "python",
   "name": "python3"
  },
  "language_info": {
   "codemirror_mode": {
    "name": "ipython",
    "version": 3
   },
   "file_extension": ".py",
   "mimetype": "text/x-python",
   "name": "python",
   "nbconvert_exporter": "python",
   "pygments_lexer": "ipython3",
   "version": "3.10.4"
  },
  "orig_nbformat": 4,
  "vscode": {
   "interpreter": {
    "hash": "e44055ce3e952bd426b5fb3f107ba07a260ee6f4ce0ddea34f4e7c6cc81b9081"
   }
  }
 },
 "nbformat": 4,
 "nbformat_minor": 2
}
