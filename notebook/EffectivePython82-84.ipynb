{
 "cells": [
  {
   "cell_type": "markdown",
   "metadata": {},
   "source": [
    "2023/9/21 須藤"
   ]
  },
  {
   "cell_type": "markdown",
   "metadata": {},
   "source": [
    "# 10章 協働作業(コラボレーション)"
   ]
  },
  {
   "cell_type": "markdown",
   "metadata": {},
   "source": [
    "Pythonには、明確なインタフェースを持ち、きちんと定義されたAPIの作成を助けてくれる言語機能があります。Python コミュニティは、時間をかけて保守性を最大化できるベスト・プラクティスを確立してきました。さまざまな環境にまたがった大人数のチームで一緒に作業するのを可能にする標 準的なツールも Python とともに使えるようになっています。\n",
    "\n",
    "Pythonプログラムで他の人と協働するには、コードの書き方に注意する必要があります。自分だけで作業していたとしても、標準ライブラリやオープンソースパッケージを介して誰かが書いたコードを使っていることが多いでしょう。他の Python プログラマと協働するのが容易になる仕組みを理解することが必要です。\n"
   ]
  },
  {
   "cell_type": "markdown",
   "metadata": {},
   "source": [
    "## 項目 82 コミュニティのモジュールをどこで見つけられるかを 知っておく"
   ]
  },
  {
   "cell_type": "markdown",
   "metadata": {},
   "source": [
    "Python には、プログラムにインストールして利用するモジュールのためのセントラルリポジトリ (https://pypi.org) があります。ここにあるモジュールは、読者のような人々、つまり Python コミュニ ティによって作成され保守されています。 よく知らない課題に挑戦している場合、 Python パッケージインデックス (PyPI) は、目的に近づけるコードを探すために最適な場所です。\n",
    "\n",
    "パッケージインデックスを使うには、 pip という名 (pip installs package の再帰的な頭字語とされていた)　のコマンドラインツールを使う必要があります。pip は、python3 -m pip で実行でき、パッケージがシステムの正しいPythonに確実に対応するようにします(「項目1 使用するPython のバージョンを知っておく」 参照)。 pip を使って新たなモジュールをインストールするのは簡単です。例えば、次に示すのは、別の項目で（「項目67 ローカルクロックにはtime ではなく datetime を使う」 参照）使ったpytzモジュールのインストール例です。"
   ]
  },
  {
   "cell_type": "markdown",
   "metadata": {},
   "source": [
    "```\n",
    "python3 -m pip install pytz\n",
    "Collecting pytz\n",
    "\n",
    "Downloading ...\n",
    "Installing collected packages. pytz\n",
    "Successfully installed pytz-2018.9\n",
    "```"
   ]
  },
  {
   "cell_type": "markdown",
   "metadata": {},
   "source": [
    "pipは組み込みモジュール venv と一緒に使うのが、プロジェクト用に一貫したパッケージを記録管理するには一番良い選択です(「項目 83 隔離された複製可能な依存関係のために仮想環境を使う」参 照)。専用のPyPIパッケージを作り、Python コミュニティと共有したり、pipで使用できる専用パッケージリポジトリをホストすることもできます。\n",
    "\n",
    "PyPIのモジュールは、いずれも自前のソフトウェアライセンスを持っています。特によく使われる ほとんどのパッケージがフリーかオープンソースライセンス(詳細は、https://opensource.org/参照) です。ほとんどの場合、これらのライセンスの下では、プログラムにモジュールの複製を入れることができます。不明な点がある場合は、 弁護士に相談することです。"
   ]
  },
  {
   "cell_type": "markdown",
   "metadata": {},
   "source": [
    "### 覚えておくこと"
   ]
  },
  {
   "cell_type": "markdown",
   "metadata": {},
   "source": [
    "- Python パッケージインデックス (PyPI) には、 Python コミュニティで作られ保守されている、よく使われる豊富なパッケージがある。\n",
    "- pipは、PyPIからのパッケージのインストールに使うコマンドラインツール\n",
    "- PyPIのモジュールの大多数は、 フリーまたはオープンソースのソフトウェア。"
   ]
  },
  {
   "cell_type": "markdown",
   "metadata": {},
   "source": [
    "## 項目 83 隔離された複製可能な依存関係のために仮想環境を使う"
   ]
  },
  {
   "cell_type": "markdown",
   "metadata": {},
   "source": [
    "より大きくてより複雑なプログラムの作成においては、Python コミュニティからのさまざまなパッケージに依存するようになることがよくあります (「項目82 コミュニティのモジュールをどこで見つ けられるかを知っておく」参照)。pytz, numpy, その他多くのパッケージをインストールするためにpython3 -m pip コマンドラインを実行することも多いでしょう。\n",
    "\n",
    "問題は、デフォルトでpipがグローバルロケーションで新たなパッケージをインストールしてしまうことです。これは、システム上のすべてのPythonプログラムが、これらのインストールしたモジュールによって影響を受けることを意味します。理論的には、これは問題とはならないはずです。パッケージをインストールしただけで import　していないのに、なぜプログラムに影響が出るのでしょうか。 問題は、推移的依存関係から発生します。インストールしたパッケージに依存しているパッケージです。例えば、pipを使ってインストールした後で、Sphinxパッケージが何に依存しているかがわかります。\n"
   ]
  },
  {
   "cell_type": "markdown",
   "metadata": {},
   "source": [
    "```\n",
    "$ python3 -m pip show Sphinx\n",
    "\n",
    "Name: Sphinx\n",
    "Version: 2.1.2\n",
    "Summary: Python documentation generator\n",
    "Location: /usr/local/lib/python3.8/site-pacages\n",
    "Requires: alabaster, imagesize, requests,  sphinxcontrib-applehelp, sphinxcontrib-qthelp, Jinja2, setuptools, sphinxcontrib-jsmath, sphinxcontrib-serializinghtml, Pygments, snowballstemmer, packaging, sphinxcontrib-devhelp, sphinxcontrib-htmlhelp, babel, docutils\n",
    "Required-by:\n",
    "```"
   ]
  },
  {
   "cell_type": "markdown",
   "metadata": {},
   "source": [
    "flaskのような別のモジュールをインストールすると、それもJinja2 パッケージに依存することがわかります。\n"
   ]
  },
  {
   "cell_type": "markdown",
   "metadata": {},
   "source": [
    "```\n",
    "$ python3 -m pip show flask\n",
    "Name: Flask\n",
    "Version: 1.0.3\n",
    "Summary: A simple framework for building complex web applications.\n",
    "Location: /usr/local/lib/python3.8/site-packages\n",
    "Requires: itsdangerous, click, Jinja2, Werkzeug\n",
    "Required-by:\n",
    "```"
   ]
  },
  {
   "cell_type": "markdown",
   "metadata": {},
   "source": [
    "Sphinx と flaskは、常に開発が進められているので、時間が経つと問題が生じます。現時点では、おそらくどちらもJinja2の同じバージョンを要求していて、すべて問題なしでしょう。今から、半年か1年でJinja2が新しいバージョンに移行して、ライブラリのユーザに変更を迫るかもしれません。 python3 -m pip install --upgrade Jinja2 を実行して、Jinja2のバージョンを上げた場合、 flaskは問題なく動くのに、 Sphinxは動かなくなる恐れがあります。\n",
    "\n",
    "このような問題の原因は、 Python がある時点でインストールされたモジュールに1つのバージョンしか対応できないことにあります。インストールしたパッケージが最新バージョンを使わなければならないのに、他のパッケージは古いバージョンを使わなければならないとすると、システムが正常に働くのは無理なのです。この状況は、**依存性地獄**と呼ばれます。\n",
    "\n",
    "このような障害は、パッケージの保守担当者が最善の努力をして、リリースしたバージョンの間で APIの互換性を維持していても起こります(「項目85 モジュールの構成にパッケージを用い、安定なAPIを提供する」参照)。ライブラリの新バージョンがAPIを使うコードが信頼している振る舞いを少し変えることがあります。システムのユーザが、あるパッケージを新バージョンに更新したが、他のはそのままにしており、そのため依存関係が壊れることがあります。十分注意していないと、基盤から揺らいでしまうというリスクが常にあるのです。\n",
    "\n",
    "このような困難は、別のコンピュータで作業をしている他の開発者と協働しているとさらに大きくなります。彼らが自分のマシンにインストールしている Python とそのパッケージのバージョンが、自分のとは少々異なるだろうという最悪の事態を想定しておくのが安全です。この状況から、あるプログラマのマシンではコードベースが完璧に動くのに、他の人のでは動かないということが起こりうるのです。\n"
   ]
  },
  {
   "cell_type": "markdown",
   "metadata": {},
   "source": [
    "こういった問題のすべてが、仮想環境を提供する venv と呼ばれるツールを使うことで解決できます。Python 3.4以降では、pip と venv は、Python インストール時にデフォルトで利用可能です(python -m venvでも使えます)。\n",
    "\n",
    "venv は、隔離されたバージョンのPython環境を作ることができます。venv を使うと、同じシステムで同時期に同じパッケージの異なるバージョンを問題なく保持できます。これは、同じコンピュー タで、多数の異なるプロジェクトを行い、多数の異なるツールを使うことができることを意味します。venv は、パッケージの明示されたバージョンとその依存関係を完全に別のディレクトリ構造にインストールするので、これが可能です。これは、自分のコードが確実に動作する Python 環境を再生することも可能にします。予期しない破綻を避けるための信頼できる方法です。\n"
   ]
  },
  {
   "cell_type": "markdown",
   "metadata": {},
   "source": [
    "### コマンドラインでvenv を使う"
   ]
  },
  {
   "cell_type": "markdown",
   "metadata": {},
   "source": [
    "venv を効果的に使うための簡単なチュートリアルを行います。 このツールを使う前に、システム上で python3 コマンドラインの意味を知っておくことが重要です。著者のコンピュータでは、 python3 は /usr/local/bin ディレクトリに位置し、バージョン3.8.0です(「項目1 使用する Pythonのバー ジョンを知っておく」参照)。"
   ]
  },
  {
   "cell_type": "markdown",
   "metadata": {},
   "source": [
    "```\n",
    "$ which python3\n",
    "/usr/local/bin/python3\n",
    "\n",
    "$ python3-version info\n",
    "Python 3.8.0\n",
    "```"
   ]
  },
  {
   "cell_type": "markdown",
   "metadata": {},
   "source": [
    "環境がどうセットアップされているか確認するために、pytz モジュールをインポートするコマンド を実行してもエラーが起こらないかどうか試すことができます。これがうまくいくのは、既に pytz モジュールがグローバルモジュールとしてインストールされているからです。\n"
   ]
  },
  {
   "cell_type": "markdown",
   "metadata": {},
   "source": [
    "```\n",
    "$ python3 -c 'import pytz'\n",
    "$\n",
    "```\n",
    "※訳注:Windows環境では、二重引用符を使うのでpython3 -c \"import pytz\" と入力する"
   ]
  },
  {
   "cell_type": "markdown",
   "metadata": {},
   "source": [
    "venv を使って、myproject という新たな仮想環境を作成しましょう。仮想環境は独自のディレクトリで動作します。コマンドの結果は、仮想環境を管理するディレクトリとファイルのツリーになります。"
   ]
  },
  {
   "cell_type": "markdown",
   "metadata": {},
   "source": [
    "```\n",
    "$ python3 -m venv myproject\n",
    "$ cd myproject\n",
    "$ ls\n",
    "bin include lib pyvenv.cfg\n",
    "```"
   ]
  },
  {
   "cell_type": "markdown",
   "metadata": {},
   "source": [
    "仮想環境を使うために、 sourceコマンドでbin/activate シェルスクリプトを使います。 activate は、すべての環境変数を仮想環境に合致するように修正します。さらに、コマンドライン プロンプトを仮想環境名 ('myproject') を含めるように変更して、自分が何をしているかをはっきりさせてくれます。\n"
   ]
  },
  {
   "cell_type": "markdown",
   "metadata": {},
   "source": [
    "```\n",
    "$ source bin/activate\n",
    "(myproject)$\n",
    "```"
   ]
  },
  {
   "cell_type": "markdown",
   "metadata": {},
   "source": [
    "Windows では、同じスクリプトは次のようになります。"
   ]
  },
  {
   "cell_type": "markdown",
   "metadata": {},
   "source": [
    "```\n",
    "C:\\> myproject\\Scripts\\activate.bat\n",
    "(myproject) C:>\n",
    "```"
   ]
  },
  {
   "cell_type": "markdown",
   "metadata": {},
   "source": [
    "またはPowerShell で次のようになります。"
   ]
  },
  {
   "cell_type": "markdown",
   "metadata": {},
   "source": [
    "```\n",
    "PS C:\\> myproject\\Scripts\\activate.psl\n",
    "(myproject)PS C:>\n",
    "```"
   ]
  },
  {
   "cell_type": "markdown",
   "metadata": {},
   "source": [
    "アクティベーションの後は、python3 コマンドラインツールが仮想環境ディレクトリに移動しています。"
   ]
  },
  {
   "cell_type": "markdown",
   "metadata": {},
   "source": [
    "```\n",
    "(myproject)$ which python3\n",
    "/tmp/myproject/bin/python3\n",
    "(myproject)$ ls -l /tmp/myproject/bin/python3\n",
    "...-> /usr/local/bin/python3.8\n",
    "```"
   ]
  },
  {
   "cell_type": "markdown",
   "metadata": {},
   "source": [
    "これは、外部のシステムへの変更が仮想環境に及ばないことを保証します。外部システムがデフォルトのpython3をバージョン3.9に更新しても、仮想環境はバージョン3.8と明示された状態を保ちます。\n",
    "\n",
    "venvで作成した仮想環境は、pip と setuptools を除いては、何のパッケージもインストールされていないところから始まります。外側のシステムでグローバルモジュールとしてインストールされていた pytz を使おうとすると、仮想環境では知られていないので失敗します。\n"
   ]
  },
  {
   "cell_type": "markdown",
   "metadata": {},
   "source": [
    "```\n",
    "(myproject)$ python3 -c 'import pytz'\n",
    "Traceback (most recent call last):\n",
    " File \"<string>\", line 1, in <module>\n",
    "ModuleNotFoundError: No module named 'pytz'\n",
    "```"
   ]
  },
  {
   "cell_type": "markdown",
   "metadata": {},
   "source": [
    "pipを使って、 pytzモジュールを仮想環境にインストールできます。"
   ]
  },
  {
   "cell_type": "markdown",
   "metadata": {},
   "source": [
    "```\n",
    "(myproject)$ python3 -m pip install pytz\n",
    "Collecting pytz\n",
    "  Downloading ...\n",
    "Installing collected packages: pytz\n",
    "Successfully installed pytz-2019.1\n",
    "```"
   ]
  },
  {
   "cell_type": "markdown",
   "metadata": {},
   "source": [
    "インストールしたら、同じインポートコマンドのテストで動くかどうか検証できます。"
   ]
  },
  {
   "cell_type": "markdown",
   "metadata": {},
   "source": [
    "```\n",
    "(myproject)$ python3 -c 'import pytz'\n",
    "(myproject)$\n",
    "```"
   ]
  },
  {
   "cell_type": "markdown",
   "metadata": {},
   "source": [
    "仮想環境を作ってから、デフォルトのシステムに戻りたければ、deactivate コマンドを用います。 これは、python3 コマンドラインツールの場所を含めて、環境をシステムのデフォルトに戻します。"
   ]
  },
  {
   "cell_type": "markdown",
   "metadata": {},
   "source": [
    "```\n",
    "(myproject)$ which python3\n",
    "/tmp/myproject/bin/python3\n",
    "(myproject)$ deactivate\n",
    "$ which python3\n",
    "/usr/local/bin/python3\n",
    "```"
   ]
  },
  {
   "cell_type": "markdown",
   "metadata": {},
   "source": [
    "myproject環境に再び戻って作業したければ、前と同じくmyprojectディレクトリで source bin/activate を実行すればいいのです。"
   ]
  },
  {
   "cell_type": "markdown",
   "metadata": {},
   "source": [
    "### 依存関係を複製する"
   ]
  },
  {
   "cell_type": "markdown",
   "metadata": {},
   "source": [
    "仮想環境ができれば、必要に応じてpipを使ってパッケージをインストールしていけます。実際、環境をどこかに複製しておきたいこともあるでしょう。例えば、ワークステーションの開発環境をデータセンターのサーバに複製したいとか、誰かの環境を自分のマシンにクローンして、そのコードのデバッグを手伝うとかです。\n",
    "\n",
    "venv はそういった状況をたやすく作ることができます。python3 -m pip freeze コマンドを使って、明示的なパッケージ依存関係すべてを (便宜上 requirements.txtという名前の) ファイルに保存できます。\n"
   ]
  },
  {
   "cell_type": "markdown",
   "metadata": {},
   "source": [
    "```\n",
    "(myproject)$ python3 -m pip freeze > requirements.txt\n",
    "(myproject)$ cat requirements.txt\n",
    "\n",
    "certifi==2019.3.9\n",
    "chardet==3.0.4\n",
    "idna==2.8\n",
    "numpy==1.16.2\n",
    "pytz==2018.9\n",
    "calubom?nt enrgnindex\"\n",
    "s3vq' bemen Jubom of abnuo dollslubol\n",
    "requests==2.21.0\n",
    "urllib3==1.24.1\n",
    "```"
   ]
  },
  {
   "cell_type": "markdown",
   "metadata": {},
   "source": [
    "myproject に相当する別の仮想環境を作っておきたいとしましょう。 以前と同じく venv を使って新たなディレクトリを作り、それを activate できます。\n"
   ]
  },
  {
   "cell_type": "markdown",
   "metadata": {},
   "source": [
    "```\n",
    "$ python3 -m venv otherproject\n",
    "$ cd otherproject\n",
    "$ source bin/activate\n",
    "\n",
    "(otherproject) $\n",
    "```"
   ]
  },
  {
   "cell_type": "markdown",
   "metadata": {},
   "source": [
    "この新環境にはパッケージはまだインストールされていません。\n"
   ]
  },
  {
   "cell_type": "markdown",
   "metadata": {},
   "source": [
    "```\n",
    "(otherproject)$ python3 -m pip list\n",
    "\n",
    "Package     Version\n",
    "----------  ---------\n",
    "pip         18.0.1\n",
    "setuptools  39.0.1\n",
    "```"
   ]
  },
  {
   "cell_type": "markdown",
   "metadata": {},
   "source": [
    "python3 -m pip freeze コマンドで生成した requirements.txt に、python3 -m pip install を実行して、最初の環境にあったすべてのパッケージをインストールすることができます。"
   ]
  },
  {
   "cell_type": "markdown",
   "metadata": {},
   "source": [
    "```\n",
    "(otherproject)$ python3 -m pip install -r /tmp/myproject/requirements.txt\n",
    "```"
   ]
  },
  {
   "cell_type": "markdown",
   "metadata": {},
   "source": [
    "このコマンドにより、最初の環境を複製するのに必要なパッケージがすべて選択されて順にインストールされます。これができたら、この第二の環境でインストールされたパッケージをリストすれば、 最初の仮想環境と同じ依存関係のリストが得られます。\n"
   ]
  },
  {
   "cell_type": "markdown",
   "metadata": {},
   "source": [
    "```\n",
    "(otherproject)$ python3 -m pip list\n",
    "\n",
    "Package     Version\n",
    "----------  ---------\n",
    "certifi     2019.3.9\n",
    "(中略)\n",
    "urllib3 1.24.1\n",
    "```"
   ]
  },
  {
   "cell_type": "markdown",
   "metadata": {},
   "source": [
    "requirements.txt ファイルを使うことは、バージョン管理システムを用いて他の人と協働するのに理想的です。コードの変更にコミットすると同時に、パッケージ依存関係のリストを更新して、作業の同期を取って進めることができます。 しかし、使用しているPythonのバージョンが requirements.txt ファイルに含まれていないことに注意することが重要です。そのために、別途管理しないといけません。\n",
    "\n",
    "仮想環境で理解しないといけないのは、場所を移動すると python3 のようなすべてのパスが環境のインストールディレクトリの中に直接埋め込まれているので、何もかもが壊れてしまうということです。しかし、それは大したことではありません。仮想環境のそもそもの目的は、 同じセットアップを複製するのを容易にすることでした。仮想環境ディレクトリを動かす代わりに、古いのを python3 -m pip freeze して、新しい仮想環境をどこかに作り、requirements.txt ファイルですべてを再イ\n",
    "ンストールすればいいだけなのですから。"
   ]
  },
  {
   "cell_type": "markdown",
   "metadata": {},
   "source": [
    "### 覚えておくこと"
   ]
  },
  {
   "cell_type": "markdown",
   "metadata": {},
   "source": [
    "- 仮想環境は、pip を使って、同じマシンに同じパッケージの異なるバージョンを問題を起こ さずにインストールすることを可能にする\n",
    "- 仮想環境は、python -m venvで作られ、source bin/activate で利用可能になり、deactivate で停止する\n",
    "- python-m pip freeze で、環境のすべての要件をダンプすることができる。python -m pip install -r requirements.txtで、環境を複製することができる。\n"
   ]
  },
  {
   "cell_type": "markdown",
   "metadata": {},
   "source": [
    "## 項目 84 すべての関数、クラス、モジュールについて docstring を書く\n"
   ]
  },
  {
   "cell_type": "markdown",
   "metadata": {},
   "source": [
    "Python におけるドキュメンテーションは、 言語の動的な性質からして非常に重要です。他の多くの言語とは異なり、プログラムのソースコードのドキュメンテーションは、プログラムから実行時に直接アクセスできます。\n",
    "\n",
    "例えば、 関数のdef文の直後にdocstring (ドキュメンテーション文字列)を与えることによってドキュメンテーションを追加することができます。"
   ]
  },
  {
   "cell_type": "code",
   "execution_count": 1,
   "metadata": {},
   "outputs": [],
   "source": [
    "# Example 1\n",
    "def palindrome(word):\n",
    "    \"\"\"Return True if the given word is a palindrome.\"\"\"\n",
    "    return word == word[::-1]   # 単語が回文ならTrueを返す\n",
    "\n",
    "assert palindrome('tacocat')\n",
    "assert not palindrome('banana')"
   ]
  },
  {
   "cell_type": "markdown",
   "metadata": {},
   "source": [
    "関数の特別な属性__doc__ にアクセスすることでPython プログラムの中からdocstring を取り出せます。"
   ]
  },
  {
   "cell_type": "code",
   "execution_count": 2,
   "metadata": {},
   "outputs": [
    {
     "name": "stdout",
     "output_type": "stream",
     "text": [
      "'Return True if the given word is a palindrome.'\n"
     ]
    }
   ],
   "source": [
    "print(repr(palindrome.__doc__))"
   ]
  },
  {
   "cell_type": "markdown",
   "metadata": {},
   "source": [
    "コマンドラインから組み込みモジュール pydocを使って、 Pythonインタプリタからアクセスできる Python ドキュメンテーションをホストするローカルウェブサーバを実行することもできます。"
   ]
  },
  {
   "cell_type": "markdown",
   "metadata": {},
   "source": [
    "```\n",
    "$ python3 -m pydoc -p 1234\n",
    "\n",
    "Server ready at http://localhost: 1234/ \n",
    "Server commands: [b]rowser, [q]uit\n",
    "server > b\n",
    "```"
   ]
  },
  {
   "cell_type": "markdown",
   "metadata": {},
   "source": [
    "docstring は、 関数、クラス、モジュールに付与できます。 この関連付けは、 Python プログラムをコンパイルして実行するプロセスの一部です。 docstring と__doc__属性をサポートすることによって、 次の3つの成果が得られています。\n"
   ]
  },
  {
   "cell_type": "markdown",
   "metadata": {},
   "source": [
    "- アクセスしやすいドキュメンテーションがあると、 対話的な開発が容易になる。 組み込み関数 helpを用いてドキュメンテーションを読み、関数、クラス、モジュールを調べることができる。 アルゴリズムを開発し、APIをテストし、コードを書くことが、これによって、Python の対話的 インタプリタ (Python Shell) や IPython Notebook (https://ipython.org) のようなツールを使って楽しくできる。\n",
    "- ドキュメンテーションを定義する標準的な方法を使うと、テキストを (HTMLのような)より魅力的なフォーマットに変換するツールを作りやすい。 これが、 Sphinx (https://www.sphinx-doc.org) のような Python コミュニティのための優れたドキュメンテーション生成ツールにつながっている。さらには、きれいに見えるドキュメンテーション用のオープンソース Pythonプロジェ クトをフリーにホストする Read the Docs (https://readthedocs.org) のようなコミュニティがサポートするサイトを可能にしている。\n",
    "- Pythonの、ファーストクラスで、アクセス可能で、可読性に優れたドキュメンテーションは、 人々にさらに多くのドキュメンテーション書く気にさせる。 Python コミュニティは、ドキュメン テーションの重要性を強く信じている。「良いコード」がドキュメンテーションの良いコードを意味していると考えられている。 これは、ほとんどのオープンソース Python ライブラリにきちんとしたドキュメンテーションがあると期待できることを意味する。\n"
   ]
  },
  {
   "cell_type": "markdown",
   "metadata": {},
   "source": [
    "この優れたドキュメンテーション文化に参加するには、 docstringを書くときにいくつかのガイドラ インに従う必要があります。 詳細は、PEP 257 (https://www.python.org/dev/peps/pep-0257/)でオンラインで議論されています。間違いなく従うべきベストプラクティスがあります。"
   ]
  },
  {
   "cell_type": "markdown",
   "metadata": {},
   "source": [
    "### モジュールのドキュメンテーション"
   ]
  },
  {
   "cell_type": "markdown",
   "metadata": {},
   "source": [
    "各モジュールのトップレベルに、すなわちソースファイルの最初に、docstring の文字列リテラルを 置くべきです。3連二重引用符 (\"\"\") を使います。このdocstringの目的は、 モジュールとその内容の紹介です。\n",
    "\n",
    "docstringの第1行は、モジュールの目的を述べる1つの文です。その次の段落は、モジュールの全 ユーザがその働きについて知っておくべきことの詳細です。 モジュール docstringから、モジュールにある重要なクラスや関数を探し出すことができます。\n",
    "\n",
    "モジュール docstring の例は次の通りです。\n"
   ]
  },
  {
   "cell_type": "markdown",
   "metadata": {},
   "source": [
    "```\n",
    "# words.py\n",
    "#!/usr/bin/env python3\n",
    "\n",
    "\"\"\"Library for testing words for various linguistic patterns.'※\n",
    "Testing how words relate to each other can be tricky sometimes!\n",
    "This module provides easy ways to determine when words you've found have special properties.\n",
    "Available functions:\n",
    "palindrome: Determine if a word is a palindrome.\n",
    "check_anagram: Determine if two words are anagrams.\n",
    "...\n",
    "\"\"\"\n",
    "```\n",
    "※訳注: docstring の訳は次の通り\n",
    "\n",
    "さまざまな言語処理パターンで単語をテストするライブラリ単語の相互関係のテストは難しいことがある。このモジュールで、 特定の性質を持つかどうかがわかる。\n",
    "\n",
    "含まれる関数\n",
    "- palindrome: 単語が回文か調べる\n",
    "- check_anagram: 2つの単語がアナグラムか調べる\n"
   ]
  },
  {
   "cell_type": "markdown",
   "metadata": {},
   "source": [
    "モジュールがコマンドラインユーティリティなら、 モジュール docstring は、コマンドラインからこのツールを利用するための情報を示すのに最適の場所です。"
   ]
  },
  {
   "cell_type": "markdown",
   "metadata": {},
   "source": [
    "### クラスのドキュメンテーション"
   ]
  },
  {
   "cell_type": "markdown",
   "metadata": {},
   "source": [
    "どのクラスもクラスレベルの docstring を持つべきです。これは、ほぼ、モジュールレベルの docstring と同じ形式です。第1行は、クラスの目的という1つの文です。続く段落は、クラスの演算の重要なところを詳細に述べます。\n",
    "\n",
    "クラスの重要なパブリックな属性とメソッドをクラスレベルの docstring で述べます。プロテクテッド属性 (項目42 プライベート属性よりパブリックな属性が好ましい」 参照) やスーパークラスのメソッドを正しく扱うためのサブクラスに対する指針も提供すべきです。\n",
    "\n",
    "クラスの docstring の例は、次のようになります。\n"
   ]
  },
  {
   "cell_type": "code",
   "execution_count": 3,
   "metadata": {},
   "outputs": [],
   "source": [
    "# Example 4\n",
    "class Player:\n",
    "    \"\"\"Represents a player of the game.\n",
    "\n",
    "    Subclasses may override the 'tick' method to provide\n",
    "    custom animations for the player's movement depending\n",
    "    on their power level, etc.\n",
    "\n",
    "    Public attributes:\n",
    "    - power: Unused power-ups (float between 0 and 1).\n",
    "    - coins: Coins found during the level (integer).\n",
    "    \"\"\"\n",
    "    # ..."
   ]
  },
  {
   "cell_type": "markdown",
   "metadata": {},
   "source": [
    "※訳注:docstringの訳は次の通り\n",
    "\n",
    "ゲームのプレイヤーを表す。サブクラスはtickメソッドをオーバーライドしてパワーレベルに応じたアニメーションを行う。\n",
    "\n",
    "パブリックな属性\n",
    "- power: 未使用パワーアップ (0から1のfloat)\n",
    "- coins: レベルで見つかったコイン（integer）\n"
   ]
  },
  {
   "cell_type": "markdown",
   "metadata": {},
   "source": [
    "### 関数のドキュメンテーション"
   ]
  },
  {
   "cell_type": "markdown",
   "metadata": {},
   "source": [
    "パブリック関数とメソッドには、docstring を付けるべきです。モジュールやクラスと同じ形式です。第1行は、関数が何をするかを述べる1つの文です。続く段落で、振る舞いと引数について述べます。戻り値があれば述べます。呼び出し元が関数のインタフェースの一部として扱う例外は説明すべきです(「項目20 None を返すのではなく例外を送出する」 参照)。\n",
    "\n",
    "関数の docstring の例を示します。\n"
   ]
  },
  {
   "cell_type": "code",
   "execution_count": null,
   "metadata": {},
   "outputs": [],
   "source": [
    "# Example 5\n",
    "import itertools\n",
    "\n",
    "def find_anagrams(word, dictionary):\n",
    "    \"\"\"Find all anagrams for a word.\n",
    "\n",
    "    This function only runs as fast as the test for\n",
    "    membership in the 'dictionary' container.\n",
    "\n",
    "    Args:\n",
    "        word: String of the target word.\n",
    "        dictionary: collections.abc.Container with all\n",
    "            strings that are known to be actual words.\n",
    "\n",
    "    Returns:\n",
    "        List of anagrams that were found. Empty if\n",
    "        none were found.\n",
    "    \"\"\"\n",
    "    permutations = itertools.permutations(word, len(word))\n",
    "    possible = (''.join(x) for x in permutations)\n",
    "    found = {word for word in possible if word in dictionary}\n",
    "    return list(found)\n",
    "\n",
    "assert find_anagrams('pancakes', ['scanpeak']) == ['scanpeak']"
   ]
  },
  {
   "cell_type": "markdown",
   "metadata": {},
   "source": [
    "*2 訳注: docstring の訳は次の通り\n",
    "\n",
    "単語の全アナグラムを見つける。この関数は dictionary コンテナのメンバー検査の速度で実行する。\n",
    "\n",
    "引数\n",
    "- word: 単語の文字列\n",
    "- dictionary: 単語としてわかっている全文字列を含む\n",
    "  \n",
    "戻り値\n",
    "- 得られたアナグラムのリスト。なければ空\n"
   ]
  },
  {
   "cell_type": "markdown",
   "metadata": {},
   "source": [
    "関数の docstring を書く際に知っておくのが重要な次のような特別な場合があります。\n",
    "- 関数が引数を持たず単純な戻り値を返すなら、1つの文で述べれば十分。\n",
    "- 関数が何も返さないなら、 「returns None」と書くくらいなら戻り値について何も書かないほうがよい。\n",
    "- 関数のインタフェースが例外を含むなら (「項目20 None を返すのではなく例外を送出する」 参照) docstring には、 発生しうる例外とそれがどのような場合に起こるかを述べる。\n",
    "- 関数が通常の演算で例外を起こさないなら、何も書かない。\n",
    "- 関数が可変個数引数 (「項目22 可変長位置引数を使って、 見た目をすっきりさせる」 参照) や キーワード引数 (項目23 キーワード引数にオプションの振る舞いを与える」参照)を取るなら、docstringの中で引数リストで *args と **kwargsをその目的とともに述べる\n",
    "- 関数がデフォルト値のある引数を取るなら、 そのデフォルト値について述べる (項目24 動的 なデフォルト引数を指定するときには None と docstringを使う」参照)。\n",
    "- 関数がジェネレータ (項目30 リストを返さずにジェネレータを返すことを考える」 参照) なら、 docstring でジェネレータが何を yield するか述べる。\n",
    "- 関数が非同期コルーチン (項目60 コルーチンで高度な並行I/Oを達成する」 参照) なら、 docstring で、いつ実行を停止するかを説明する。\n"
   ]
  },
  {
   "cell_type": "markdown",
   "metadata": {},
   "source": [
    "### docstring と型ヒントの使用"
   ]
  },
  {
   "cell_type": "markdown",
   "metadata": {},
   "source": [
    "現在のPython は、 さまざまな目的のために型ヒントをサポートしています (使用法については「項目 90 バグを回避するために静的解析を検討する」参照)。 型ヒントの情報が、docstring と重なることがあります。例えば、find_anagrams の関数シグネチャに型ヒントを適用したとします。"
   ]
  },
  {
   "cell_type": "code",
   "execution_count": 4,
   "metadata": {},
   "outputs": [],
   "source": [
    "# Example 6\n",
    "# Check types in this file with: python -m mypy <path>\n",
    "from typing import Container, List\n",
    "\n",
    "def find_anagrams(word: str,\n",
    "                  dictionary: Container[str]) -> List[str]:\n",
    "    pass\n"
   ]
  },
  {
   "cell_type": "markdown",
   "metadata": {},
   "source": [
    "docstringの中で、引数 word が文字列だと述べる必要は、型ヒントに示されているので不要です。dictionary 引数についても、collections.abc.Container であることを述べる必要はありません。戻り値の型がlistであることも、型ヒントに明示されているので述べる必要がありません。引数がなくても戻り値がlistなので、空listだとわかりますし、docstring で述べる必要はありません。この関数の docstringを短くして記述します。\n"
   ]
  },
  {
   "cell_type": "code",
   "execution_count": 5,
   "metadata": {},
   "outputs": [],
   "source": [
    "# Example 7\n",
    "# Check types in this file with: python -m mypy <path>\n",
    "\n",
    "from typing import Container, List\n",
    "\n",
    "def find_anagrams(word: str,\n",
    "                  dictionary: Container[str]) -> List[str]:\n",
    "    \"\"\"Find all anagrams for a word.\n",
    "\n",
    "    This function only runs as fast as the test for\n",
    "    membership in the 'dictionary' container.\n",
    "\n",
    "    Args:\n",
    "        word: Target word.\n",
    "        dictionary: All known actual words.\n",
    "\n",
    "    Returns:\n",
    "        Anagrams that were found.\n",
    "    \"\"\"\n",
    "    pass"
   ]
  },
  {
   "cell_type": "markdown",
   "metadata": {},
   "source": [
    "※訳注:docstringの訳は次の通り\n",
    "\n",
    "単語の全アナグラムを返す。この関数は、'dictionary ' コンテナのメンバーテストの速度で実行。\n",
    "\n",
    "引数\n",
    "- word : 目標単語\n",
    "- dictionary: 既知の単語全体\n",
    "\n",
    "戻り値\n",
    "- 見つけたアナグラム\n"
   ]
  },
  {
   "cell_type": "markdown",
   "metadata": {},
   "source": [
    "型ヒントと docstring の重複は、インスタンスフィールド、クラス属性、メソッドでも同様にして避けるべきです。型情報は1か所にまとめ、実際の実装と矛盾がないようにすることが大事です。"
   ]
  },
  {
   "cell_type": "markdown",
   "metadata": {},
   "source": [
    "### 覚えておくこと"
   ]
  },
  {
   "cell_type": "markdown",
   "metadata": {},
   "source": [
    "- あらゆるモジュール、クラス、メソッド、関数に docstring を使ってドキュメンテーション を書く。コードの変化に追随して、ドキュメンテーションを最新に保つ。\n",
    "- モジュールについて、 モジュールの内容とすべてのユーザが知っておくべき重要なクラスや 関数を紹介する。\n",
    "- クラスについて、 class 文に続く docstring に、振る舞い、重要な属性、サブクラスの振 る舞いを記述する。\n",
    "- 関数とメソッドについて、def 文に続く docstring に、すべての引数、戻り値、引き起こさ れる例外 その他の振る舞いを記述する。\n",
    "- 型ヒントを使うなら、両方に同じ情報が重複しないように、型ヒントにある情報を docstring には書かない。\n"
   ]
  }
 ],
 "metadata": {
  "kernelspec": {
   "display_name": "develop",
   "language": "python",
   "name": "python3"
  },
  "language_info": {
   "codemirror_mode": {
    "name": "ipython",
    "version": 3
   },
   "file_extension": ".py",
   "mimetype": "text/x-python",
   "name": "python",
   "nbconvert_exporter": "python",
   "pygments_lexer": "ipython3",
   "version": "3.10.4"
  },
  "orig_nbformat": 4
 },
 "nbformat": 4,
 "nbformat_minor": 2
}
