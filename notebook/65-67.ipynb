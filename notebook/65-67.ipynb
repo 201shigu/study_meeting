{
 "cells": [
  {
   "attachments": {},
   "cell_type": "markdown",
   "metadata": {},
   "source": [
    "# 8章 頑健性と性能"
   ]
  },
  {
   "attachments": {},
   "cell_type": "markdown",
   "metadata": {},
   "source": [
    "有用な Python プログラムを書いたなら、 次のステップは、本番運用できる頑健なコードにすることである。プログラムを想定外の環境でも信頼できるようにすることは、正しい機能を備えることと同じように重要である。Python には、さまざまな状況下でもプログラムが頑健になるようにするのを手助けする組み込みの機能やモジュールがあります。\n",
    "\n",
    "頑健さの1つの側面が、スケーラビリティと性能である。膨大なデータ量を扱う Python プログラムを実装する場合、コードのアルゴリズム計算量に由来する速度低下や他の種類の計算上のオーバーヘッドに出会うことがある。幸い、Python には最小限の努力で高性能を達成するのに必要なアルゴリズムとデータ構造が用意されている。\n"
   ]
  },
  {
   "cell_type": "code",
   "execution_count": 1,
   "metadata": {},
   "outputs": [],
   "source": [
    "# Reproduce book environment\n",
    "import random\n",
    "random.seed(1234)\n",
    "\n",
    "import logging\n",
    "from pprint import pprint\n",
    "from sys import stdout as STDOUT\n",
    "\n",
    "# Write all output to a temporary directory\n",
    "import atexit\n",
    "import gc\n",
    "import io\n",
    "import os\n",
    "import tempfile"
   ]
  },
  {
   "attachments": {},
   "cell_type": "markdown",
   "metadata": {},
   "source": [
    "### （補足）logging"
   ]
  },
  {
   "attachments": {},
   "cell_type": "markdown",
   "metadata": {},
   "source": [
    "logging（[参考](https://docs.python.org/ja/3/howto/logging.html)）\n",
    "- logging は、あるソフトウェアが実行されているときに起こったイベントを追跡するための手段\n",
    "- 特定のイベントが発生したことを示す logging の呼び出しをコードに加えることで使用できる\n",
    "- イベントは、メッセージで記述され、これに変数データ（イベントが起こる度に異なるかもしれないデータ）を加えることもできる\n",
    "- イベントには、開発者がそのイベントに定めた重要性も含まれる（重要性は、レベル (level) や 重大度 (severity) とも呼ばれる）"
   ]
  },
  {
   "attachments": {},
   "cell_type": "markdown",
   "metadata": {},
   "source": [
    "重要性・レベル\n",
    "- DEBUG\n",
    "  - おもに問題を診断するときにのみ関心があるような、詳細な情報。\n",
    "- INFO\n",
    "  - 想定された通りのことが起こったことの確認。\n",
    "- WARNING\n",
    "  - 想定外のことが起こった、または問題が近く起こりそうである (例えば、'disk space low') ことの表示。\n",
    "- ERROR\n",
    "  - より重大な問題により、ソフトウェアがある機能を実行できないこと。\n",
    "- CRITICAL\n",
    "  - プログラム自体が実行を続けられないことを表す、重大なエラー。"
   ]
  },
  {
   "attachments": {},
   "cell_type": "markdown",
   "metadata": {},
   "source": [
    "## 項目 65 try/except/else/finally の各ブロックを活用する"
   ]
  },
  {
   "attachments": {},
   "cell_type": "markdown",
   "metadata": {},
   "source": [
    "Python で例外処理をしているときには、4種類の異なる場合がある。それらは、機能的には、try, except else, finally の各ブロックで取り扱える。それぞれのブロックが、複合文の中で独特の目的を果たし、役に立つようにさまざまに組み合わせられる（他の例としては「項目87 API からの呼び出し元を分離するために、ルート例外を定義する」参照）。"
   ]
  },
  {
   "attachments": {},
   "cell_type": "markdown",
   "metadata": {},
   "source": [
    "### finally ブロック"
   ]
  },
  {
   "attachments": {},
   "cell_type": "markdown",
   "metadata": {},
   "source": [
    "例外を上に(呼び出し元に) 伝えたいときには try / finally を用いるが、例外発生時にも後始末処理を実行したいことがある。よく使う try / finally の場面の1つが、ファイルハンドルを確実に閉じることである（別の、おそらくより良いやり方としては、「項目 66 contextlib と with 文を try / finally の代わりに考える」参照）。"
   ]
  },
  {
   "cell_type": "code",
   "execution_count": 2,
   "metadata": {},
   "outputs": [],
   "source": [
    "# Example 1\n",
    "def try_finally_example(filename):\n",
    "    print('* Opening file')\n",
    "    handle = open(filename, encoding='utf-8') # May raise OSError\n",
    "    try:\n",
    "        print('* Reading data')\n",
    "        return handle.read()  # May raise UnicodeDecodeError\n",
    "    finally:\n",
    "        print('* Calling close()')\n",
    "        handle.close()        # Always runs after try block\n"
   ]
  },
  {
   "attachments": {},
   "cell_type": "markdown",
   "metadata": {},
   "source": [
    "read メソッドで引き起こされた例外はすべて、呼び出したコードまで常に伝わるが、handle の close メソッドも finally ブロックで最初に実行される。"
   ]
  },
  {
   "cell_type": "code",
   "execution_count": 3,
   "metadata": {},
   "outputs": [
    {
     "name": "stderr",
     "output_type": "stream",
     "text": [
      "ERROR:root:Expected\n",
      "Traceback (most recent call last):\n",
      "  File \"C:\\Users\\su10_\\AppData\\Local\\Temp\\ipykernel_20756\\451854399.py\", line 8, in <cell line: 2>\n",
      "    data = try_finally_example(filename)\n",
      "  File \"C:\\Users\\su10_\\AppData\\Local\\Temp\\ipykernel_20756\\1123240798.py\", line 7, in try_finally_example\n",
      "    return handle.read()  # May raise UnicodeDecodeError\n",
      "  File \"c:\\Users\\su10_\\anaconda3\\envs\\develop\\lib\\codecs.py\", line 322, in decode\n",
      "    (result, consumed) = self._buffer_decode(data, self.errors, final)\n",
      "UnicodeDecodeError: 'utf-8' codec can't decode byte 0xf1 in position 0: invalid continuation byte\n"
     ]
    },
    {
     "name": "stdout",
     "output_type": "stream",
     "text": [
      "* Opening file\n",
      "* Reading data\n",
      "* Calling close()\n"
     ]
    }
   ],
   "source": [
    "# Example 2\n",
    "try:\n",
    "    filename = 'random_data.txt'\n",
    "    \n",
    "    with open(filename, 'wb') as f:\n",
    "        f.write(b'\\xf1\\xf2\\xf3\\xf4\\xf5')  # Invalid utf-8\n",
    "    \n",
    "    data = try_finally_example(filename)\n",
    "    # This should not be reached.\n",
    "    import sys\n",
    "    sys.exit(1)\n",
    "except:\n",
    "    logging.exception('Expected')\n",
    "else:\n",
    "    assert False"
   ]
  },
  {
   "attachments": {},
   "cell_type": "markdown",
   "metadata": {},
   "source": [
    "open の呼び出しは try ブロックの前に実行する。ファイルを開くときに発生する（ファイルが存在しないときの IOError のような）例外は、finally ブロック全体をスキップする必要があるためである\n"
   ]
  },
  {
   "cell_type": "code",
   "execution_count": 4,
   "metadata": {},
   "outputs": [
    {
     "name": "stderr",
     "output_type": "stream",
     "text": [
      "ERROR:root:Expected\n",
      "Traceback (most recent call last):\n",
      "  File \"C:\\Users\\su10_\\AppData\\Local\\Temp\\ipykernel_20756\\2999981595.py\", line 3, in <cell line: 2>\n",
      "    try_finally_example('does_not_exist.txt')\n",
      "  File \"C:\\Users\\su10_\\AppData\\Local\\Temp\\ipykernel_20756\\1123240798.py\", line 4, in try_finally_example\n",
      "    handle = open(filename, encoding='utf-8') # May raise OSError\n",
      "FileNotFoundError: [Errno 2] No such file or directory: 'does_not_exist.txt'\n"
     ]
    },
    {
     "name": "stdout",
     "output_type": "stream",
     "text": [
      "* Opening file\n"
     ]
    }
   ],
   "source": [
    "# Example 3\n",
    "try:\n",
    "    try_finally_example('does_not_exist.txt')\n",
    "except:\n",
    "    logging.exception('Expected')\n",
    "else:\n",
    "    assert False"
   ]
  },
  {
   "attachments": {},
   "cell_type": "markdown",
   "metadata": {},
   "source": [
    "### else ブロック"
   ]
  },
  {
   "attachments": {},
   "cell_type": "markdown",
   "metadata": {},
   "source": [
    "try / except / else を使うと、どの例外が自分のコードで扱われ、どの例外が上に伝わるかが明らかになる。try ブロックで例外が発生しなければ、else ブロックが実行されます。else ロックによって、try ブロックでのコードが最小化できて、例外の原因が分離され、読みやすさが向上する。例えば、JSON の辞書データを文字列からロードして、含まれているキー値を返したいとする。\n"
   ]
  },
  {
   "cell_type": "code",
   "execution_count": 5,
   "metadata": {},
   "outputs": [],
   "source": [
    "# Example 4\n",
    "import json\n",
    "\n",
    "def load_json_key(data, key):\n",
    "    try:\n",
    "        print('* Loading JSON data')\n",
    "        result_dict = json.loads(data)  # May raise ValueError\n",
    "    except ValueError as e:\n",
    "        print('* Handling ValueError')\n",
    "        raise KeyError(key) from e\n",
    "    else:\n",
    "        print('* Looking up key')\n",
    "        return result_dict[key]         # May raise KeyError"
   ]
  },
  {
   "attachments": {},
   "cell_type": "markdown",
   "metadata": {},
   "source": [
    "うまくいけば、JSON データは try ブロックで復号され、else ブロックでキー値の比較が行われる。"
   ]
  },
  {
   "cell_type": "code",
   "execution_count": 6,
   "metadata": {},
   "outputs": [
    {
     "name": "stdout",
     "output_type": "stream",
     "text": [
      "* Loading JSON data\n",
      "* Looking up key\n"
     ]
    }
   ],
   "source": [
    "# Example 5\n",
    "assert load_json_key('{\"foo\": \"bar\"}', 'foo') == 'bar'"
   ]
  },
  {
   "attachments": {},
   "cell_type": "markdown",
   "metadata": {},
   "source": [
    "入力データが正しい JSON 形式でないなら、json.loads による復号は ValueError を起こす。この例外は、except ブロックで捕捉されて処理される。"
   ]
  },
  {
   "cell_type": "code",
   "execution_count": 7,
   "metadata": {},
   "outputs": [
    {
     "name": "stderr",
     "output_type": "stream",
     "text": [
      "ERROR:root:Expected\n",
      "Traceback (most recent call last):\n",
      "  File \"C:\\Users\\su10_\\AppData\\Local\\Temp\\ipykernel_20756\\1582434711.py\", line 7, in load_json_key\n",
      "    result_dict = json.loads(data)  # May raise ValueError\n",
      "  File \"c:\\Users\\su10_\\anaconda3\\envs\\develop\\lib\\json\\__init__.py\", line 346, in loads\n",
      "    return _default_decoder.decode(s)\n",
      "  File \"c:\\Users\\su10_\\anaconda3\\envs\\develop\\lib\\json\\decoder.py\", line 337, in decode\n",
      "    obj, end = self.raw_decode(s, idx=_w(s, 0).end())\n",
      "  File \"c:\\Users\\su10_\\anaconda3\\envs\\develop\\lib\\json\\decoder.py\", line 355, in raw_decode\n",
      "    raise JSONDecodeError(\"Expecting value\", s, err.value) from None\n",
      "json.decoder.JSONDecodeError: Expecting value: line 1 column 9 (char 8)\n",
      "\n",
      "The above exception was the direct cause of the following exception:\n",
      "\n",
      "Traceback (most recent call last):\n",
      "  File \"C:\\Users\\su10_\\AppData\\Local\\Temp\\ipykernel_20756\\3943734403.py\", line 3, in <cell line: 2>\n",
      "    load_json_key('{\"foo\": bad payload', 'foo')\n",
      "  File \"C:\\Users\\su10_\\AppData\\Local\\Temp\\ipykernel_20756\\1582434711.py\", line 10, in load_json_key\n",
      "    raise KeyError(key) from e\n",
      "KeyError: 'foo'\n"
     ]
    },
    {
     "name": "stdout",
     "output_type": "stream",
     "text": [
      "* Loading JSON data\n",
      "* Handling ValueError\n"
     ]
    }
   ],
   "source": [
    "# Example 6\n",
    "try:\n",
    "    load_json_key('{\"foo\": bad payload', 'foo')\n",
    "except:\n",
    "    logging.exception('Expected')\n",
    "else:\n",
    "    assert False"
   ]
  },
  {
   "attachments": {},
   "cell_type": "markdown",
   "metadata": {},
   "source": [
    "キー値比較で何らかの例外が発生すると、これは try ブロックの外なので、呼び出し元まで伝播する。else 節は、try / except の後で起こることは、見た目にも、except ブロックとは異なるということを保証する。これによって、例外伝播の振る舞いが明らかになる。\n"
   ]
  },
  {
   "cell_type": "code",
   "execution_count": 8,
   "metadata": {},
   "outputs": [
    {
     "name": "stderr",
     "output_type": "stream",
     "text": [
      "ERROR:root:Expected\n",
      "Traceback (most recent call last):\n",
      "  File \"C:\\Users\\su10_\\AppData\\Local\\Temp\\ipykernel_20756\\4147436497.py\", line 3, in <cell line: 2>\n",
      "    load_json_key('{\"foo\": \"bar\"}', 'does not exist')\n",
      "  File \"C:\\Users\\su10_\\AppData\\Local\\Temp\\ipykernel_20756\\1582434711.py\", line 13, in load_json_key\n",
      "    return result_dict[key]         # May raise KeyError\n",
      "KeyError: 'does not exist'\n"
     ]
    },
    {
     "name": "stdout",
     "output_type": "stream",
     "text": [
      "* Loading JSON data\n",
      "* Looking up key\n"
     ]
    }
   ],
   "source": [
    "# Example 7\n",
    "try:\n",
    "    load_json_key('{\"foo\": \"bar\"}', 'does not exist')\n",
    "except:\n",
    "    logging.exception('Expected')\n",
    "else:\n",
    "    assert False\n"
   ]
  },
  {
   "attachments": {},
   "cell_type": "markdown",
   "metadata": {},
   "source": [
    "### すべてをあわせる"
   ]
  },
  {
   "attachments": {},
   "cell_type": "markdown",
   "metadata": {},
   "source": [
    "すべてを1つの複合文で行いたい場合には、try / except / else / finally を使う。例えば、ファイルから、作業の記述を読み込み、 処理して、ファイルを更新する場合を考える。try ブロックを使ってファイルを読みだして処理する。except ブロックを使って、try ブロックで予期される例外を扱う。else ブロックは、ファイルを更新し、関連する例外を上に伝える。finally ブロックは、ファイルハンドルを解放する。\n"
   ]
  },
  {
   "cell_type": "code",
   "execution_count": 9,
   "metadata": {},
   "outputs": [],
   "source": [
    "# Example 8\n",
    "UNDEFINED = object()\n",
    "DIE_IN_ELSE_BLOCK = False\n",
    "\n",
    "def divide_json(path):\n",
    "    print('* Opening file')\n",
    "    handle = open(path, 'r+')   # May raise OSError\n",
    "    try:\n",
    "        print('* Reading data')\n",
    "        data = handle.read()    # May raise UnicodeDecodeError\n",
    "        print('* Loading JSON data')\n",
    "        op = json.loads(data)   # May raise ValueError\n",
    "        print('* Performing calculation')\n",
    "        value = (\n",
    "            op['numerator'] /\n",
    "            op['denominator'])  # May raise ZeroDivisionError\n",
    "    except ZeroDivisionError as e:\n",
    "        print('* Handling ZeroDivisionError')\n",
    "        return UNDEFINED\n",
    "    else:\n",
    "        print('* Writing calculation')\n",
    "        op['result'] = value\n",
    "        result = json.dumps(op)\n",
    "        handle.seek(0)          # May raise OSError\n",
    "        if DIE_IN_ELSE_BLOCK:\n",
    "            import errno\n",
    "            import os\n",
    "            raise OSError(errno.ENOSPC, os.strerror(errno.ENOSPC))\n",
    "        handle.write(result)    # May raise OSError\n",
    "        return value\n",
    "    finally:\n",
    "        print('* Calling close()')\n",
    "        handle.close()          # Always runs\n"
   ]
  },
  {
   "attachments": {},
   "cell_type": "markdown",
   "metadata": {},
   "source": [
    "成功すると、try, else, finally の各ブロックが実行される。"
   ]
  },
  {
   "cell_type": "code",
   "execution_count": 10,
   "metadata": {},
   "outputs": [
    {
     "name": "stdout",
     "output_type": "stream",
     "text": [
      "* Opening file\n",
      "* Reading data\n",
      "* Loading JSON data\n",
      "* Performing calculation\n",
      "* Writing calculation\n",
      "* Calling close()\n"
     ]
    }
   ],
   "source": [
    "# Example 9\n",
    "temp_path = 'random_data.json'\n",
    "\n",
    "with open(temp_path, 'w') as f:\n",
    "    f.write('{\"numerator\": 1, \"denominator\": 10}')\n",
    "\n",
    "assert divide_json(temp_path) == 0.1"
   ]
  },
  {
   "attachments": {},
   "cell_type": "markdown",
   "metadata": {},
   "source": [
    "計算結果が不当なら、try, except, finally の各ブロックが実行されるが、else ブロックは実行されない。"
   ]
  },
  {
   "cell_type": "code",
   "execution_count": 11,
   "metadata": {},
   "outputs": [
    {
     "name": "stdout",
     "output_type": "stream",
     "text": [
      "* Opening file\n",
      "* Reading data\n",
      "* Loading JSON data\n",
      "* Performing calculation\n",
      "* Handling ZeroDivisionError\n",
      "* Calling close()\n"
     ]
    }
   ],
   "source": [
    "# Example 10\n",
    "with open(temp_path, 'w') as f:\n",
    "    f.write('{\"numerator\": 1, \"denominator\": 0}')\n",
    "\n",
    "assert divide_json(temp_path) is UNDEFINED"
   ]
  },
  {
   "attachments": {},
   "cell_type": "markdown",
   "metadata": {},
   "source": [
    "JSONデータが不当なら、try ブロックが実行され、例外を送出する。finally ブロックが実行され、例外が呼び出し元まで上げられる。except, else ブロックは実行されない。"
   ]
  },
  {
   "cell_type": "code",
   "execution_count": 12,
   "metadata": {},
   "outputs": [
    {
     "name": "stderr",
     "output_type": "stream",
     "text": [
      "ERROR:root:Expected\n",
      "Traceback (most recent call last):\n",
      "  File \"C:\\Users\\su10_\\AppData\\Local\\Temp\\ipykernel_20756\\2445449472.py\", line 6, in <cell line: 2>\n",
      "    divide_json(temp_path)\n",
      "  File \"C:\\Users\\su10_\\AppData\\Local\\Temp\\ipykernel_20756\\3456276059.py\", line 12, in divide_json\n",
      "    op = json.loads(data)   # May raise ValueError\n",
      "  File \"c:\\Users\\su10_\\anaconda3\\envs\\develop\\lib\\json\\__init__.py\", line 346, in loads\n",
      "    return _default_decoder.decode(s)\n",
      "  File \"c:\\Users\\su10_\\anaconda3\\envs\\develop\\lib\\json\\decoder.py\", line 337, in decode\n",
      "    obj, end = self.raw_decode(s, idx=_w(s, 0).end())\n",
      "  File \"c:\\Users\\su10_\\anaconda3\\envs\\develop\\lib\\json\\decoder.py\", line 353, in raw_decode\n",
      "    obj, end = self.scan_once(s, idx)\n",
      "json.decoder.JSONDecodeError: Expecting ',' delimiter: line 1 column 17 (char 16)\n"
     ]
    },
    {
     "name": "stdout",
     "output_type": "stream",
     "text": [
      "* Opening file\n",
      "* Reading data\n",
      "* Loading JSON data\n",
      "* Calling close()\n"
     ]
    }
   ],
   "source": [
    "# Example 11\n",
    "try:\n",
    "    with open(temp_path, 'w') as f:\n",
    "        f.write('{\"numerator\": 1 bad data')\n",
    "    \n",
    "    divide_json(temp_path)\n",
    "except:\n",
    "    logging.exception('Expected')\n",
    "else:\n",
    "    assert False"
   ]
  },
  {
   "attachments": {},
   "cell_type": "markdown",
   "metadata": {},
   "source": [
    "この配置は、すべてのブロックが直感的に一緒に働くので、非常に有用である。\n",
    "例えば、これを divide_json 関数実行と同時にハードディスクが満杯になった状況をシミュレーションする。"
   ]
  },
  {
   "cell_type": "code",
   "execution_count": 13,
   "metadata": {},
   "outputs": [
    {
     "name": "stderr",
     "output_type": "stream",
     "text": [
      "ERROR:root:Expected\n",
      "Traceback (most recent call last):\n",
      "  File \"C:\\Users\\su10_\\AppData\\Local\\Temp\\ipykernel_20756\\1279431829.py\", line 7, in <cell line: 2>\n",
      "    divide_json(temp_path)\n",
      "  File \"C:\\Users\\su10_\\AppData\\Local\\Temp\\ipykernel_20756\\3456276059.py\", line 28, in divide_json\n",
      "    raise OSError(errno.ENOSPC, os.strerror(errno.ENOSPC))\n",
      "OSError: [Errno 28] No space left on device\n"
     ]
    },
    {
     "name": "stdout",
     "output_type": "stream",
     "text": [
      "* Opening file\n",
      "* Reading data\n",
      "* Loading JSON data\n",
      "* Performing calculation\n",
      "* Writing calculation\n",
      "* Calling close()\n"
     ]
    }
   ],
   "source": [
    "# Example 12\n",
    "try:\n",
    "    with open(temp_path, 'w') as f:\n",
    "        f.write('{\"numerator\": 1, \"denominator\": 10}')\n",
    "    DIE_IN_ELSE_BLOCK = True\n",
    "    \n",
    "    divide_json(temp_path)\n",
    "except:\n",
    "    logging.exception('Expected')\n",
    "else:\n",
    "    assert False"
   ]
  },
  {
   "attachments": {},
   "cell_type": "markdown",
   "metadata": {},
   "source": [
    "結果データを書き換えているときに、else ブロックで例外が発生したとしても、finally ブロックは、ちゃんと実行されてファイルハンドルを閉じる。"
   ]
  },
  {
   "attachments": {},
   "cell_type": "markdown",
   "metadata": {},
   "source": [
    "### 覚えておくこと"
   ]
  },
  {
   "attachments": {},
   "cell_type": "markdown",
   "metadata": {},
   "source": [
    "- try / finally 複合文では、try ブロックで例外が発生しようとしまいと、後始末処理を実行できる。\n",
    "- elseブロックは、try ブロックでのコードを最少にして、成功した場合を見た目にも try / except ブロックから区別できるようにする。\n",
    "- else ブロックは、成功したtryブロックの後で、finally ブロックによる共通後始末処理の前に、追加作業を行うのに便利だ。\n"
   ]
  },
  {
   "attachments": {},
   "cell_type": "markdown",
   "metadata": {},
   "source": [
    "## 項目 66 contextlib と with文をtry/finally の代わりに考える"
   ]
  },
  {
   "attachments": {},
   "cell_type": "markdown",
   "metadata": {},
   "source": [
    "Python の with 文は、コードが特別なコンテキスト下で実行されていることを示すのに使われる。例えば、排他制御ロック(「項目54 スレッドにおけるデータ競合を防ぐためにLockを使う」参照)を with 文で使い、そのコードブロックがロック状態でのみ実行されることを示す。"
   ]
  },
  {
   "cell_type": "code",
   "execution_count": 14,
   "metadata": {},
   "outputs": [],
   "source": [
    "# Example 1\n",
    "from threading import Lock\n",
    "\n",
    "lock = Lock()\n",
    "with lock:\n",
    "    # Do something while maintaining an invariant\n",
    "    pass"
   ]
  },
  {
   "attachments": {},
   "cell_type": "markdown",
   "metadata": {},
   "source": [
    "この例は、Lock クラスが with 文で正しく動作するため、次の try / finally 構成と等価となる (try / finally については「項目 65 try/except/else/finally の各ブロックを活用する」参照)。"
   ]
  },
  {
   "cell_type": "code",
   "execution_count": 15,
   "metadata": {},
   "outputs": [],
   "source": [
    "# Example 2\n",
    "lock.acquire()\n",
    "try:\n",
    "    # Do something while maintaining an invariant\n",
    "    pass\n",
    "finally:\n",
    "    lock.release()"
   ]
  },
  {
   "attachments": {},
   "cell_type": "markdown",
   "metadata": {},
   "source": [
    "この場合、with 文のほうが、try / finally 構成で繰り返し現れるコードを書く必要がなく、すべての acquire 呼び出しで対応する release を必ず実行するので優れている。\n",
    "組み込みモジュール contextlib を使うとオブジェクトや関数を with 文で簡単に使えるようになる。\n",
    "このモジュールは、単純な関数を with 文で使えるようにする contextmanager デコレータ を含む（「項目 26 functools.wraps を使って関数デコレータを定義する」 参照）。\n",
    "これは、（標準的な）特殊メソッド `__enter__` や `__exit__` を持つ新たなクラスを定義するよりも、ずっと容易である。\n",
    "\n",
    "例えば、コードの一部の範囲で、デバッグ用のロギングをたくさんする必要があったとする。\n",
    "次のように、2つの重大度レベルでロギングを行う関数を定義する。\n"
   ]
  },
  {
   "cell_type": "code",
   "execution_count": 16,
   "metadata": {},
   "outputs": [],
   "source": [
    "# Example 3\n",
    "import logging\n",
    "logging.getLogger().setLevel(logging.WARNING)\n",
    "\n",
    "def my_function():\n",
    "    logging.debug('Some debug data')\n",
    "    logging.error('Error log here')\n",
    "    logging.debug('More debug data')"
   ]
  },
  {
   "attachments": {},
   "cell_type": "markdown",
   "metadata": {},
   "source": [
    "プログラムのデフォルトのロギングレベルは WARNING なので、この関数を実行したときの画面に出るのは、エラーメッセージだけである"
   ]
  },
  {
   "cell_type": "code",
   "execution_count": 17,
   "metadata": {},
   "outputs": [
    {
     "name": "stderr",
     "output_type": "stream",
     "text": [
      "ERROR:root:Error log here\n"
     ]
    }
   ],
   "source": [
    "# Example 4\n",
    "my_function()"
   ]
  },
  {
   "cell_type": "code",
   "execution_count": 38,
   "metadata": {},
   "outputs": [
    {
     "name": "stderr",
     "output_type": "stream",
     "text": [
      "DEBUG:root:Some debug data\n",
      "ERROR:root:Error log here\n",
      "DEBUG:root:More debug data\n"
     ]
    }
   ],
   "source": [
    "# Example 4.1: DEBUGレベルにするとデバッグメッセージまで表示される\n",
    "logging.getLogger().setLevel(logging.DEBUG)\n",
    "my_function()"
   ]
  },
  {
   "attachments": {},
   "cell_type": "markdown",
   "metadata": {},
   "source": [
    "この関数のロギングレベルを、コンテキストマネジャーを定義することで、一時的に上げることができる。\n",
    "このヘルパー関数は、with ブロックでコードが実行される前に重大度レベルを上げて、その後では、重大度レベルを元に戻す。\n"
   ]
  },
  {
   "cell_type": "code",
   "execution_count": 18,
   "metadata": {},
   "outputs": [],
   "source": [
    "# Example 5\n",
    "from contextlib import contextmanager\n",
    "\n",
    "@contextmanager\n",
    "def debug_logging(level):\n",
    "    logger = logging.getLogger()\n",
    "    old_level = logger.getEffectiveLevel()\n",
    "    logger.setLevel(level)\n",
    "    try:\n",
    "        yield\n",
    "    finally:\n",
    "        logger.setLevel(old_level)"
   ]
  },
  {
   "attachments": {},
   "cell_type": "markdown",
   "metadata": {},
   "source": [
    "yield 式のところで、 with ブロックの内容が実行される（背景については「項目30 リストを返さずにジェネレータを返すことを考える」参照）。with ブロックで起こるすべての例外は、 yield 式で再度起こされてヘルパー関数で捕捉される（どのように動作するかは、「項目35 ジェネレータで throw による状態遷移を起こすのは避ける」参照）。\n",
    "\n",
    "先ほどと同じロギング関数を、今度は debug_logging のコンテキストで実行する。with プロックでは、すべてのデバッグメッセージが出力されるのに対し、with ブロックの外では、デバッグメッセージを出さないことが確認できる。\n"
   ]
  },
  {
   "cell_type": "code",
   "execution_count": 19,
   "metadata": {},
   "outputs": [
    {
     "name": "stderr",
     "output_type": "stream",
     "text": [
      "DEBUG:root:Some debug data\n",
      "ERROR:root:Error log here\n",
      "DEBUG:root:More debug data\n",
      "ERROR:root:Error log here\n"
     ]
    },
    {
     "name": "stdout",
     "output_type": "stream",
     "text": [
      "* Inside:\n",
      "* After:\n"
     ]
    }
   ],
   "source": [
    "# Example 6\n",
    "with debug_logging(logging.DEBUG):\n",
    "    print('* Inside:')\n",
    "    my_function()\n",
    "\n",
    "print('* After:')\n",
    "my_function()"
   ]
  },
  {
   "attachments": {},
   "cell_type": "markdown",
   "metadata": {},
   "source": [
    "### with ターゲットを使う"
   ]
  },
  {
   "attachments": {},
   "cell_type": "markdown",
   "metadata": {},
   "source": [
    "with 文に渡されるコンテキストマネジャーは、オブジェクトを返すこともある。\n",
    "このオブジェクトは、複合文の as 部分のローカル変数に代入される。これにより、with ブロックで実行されるコードが、そのコンテキストと直接対話できる。\n",
    "\n",
    "例えば、ファイルに書き込んだ後で、それを確実に正しく閉じたいとする。open を with 文に渡すことで、これを実現できる。\n",
    "open は、with 文の as ターゲットとしてファイルハンドルを返し、with ブロックを抜けた後で自動でハンドルを閉じる。\n"
   ]
  },
  {
   "cell_type": "code",
   "execution_count": 20,
   "metadata": {},
   "outputs": [],
   "source": [
    "# Example 7\n",
    "with open('my_output.txt', 'w') as handle:\n",
    "    handle.write('This is some data!')"
   ]
  },
  {
   "attachments": {},
   "cell_type": "markdown",
   "metadata": {},
   "source": [
    "この方式は、毎回ファイルハンドルを自分で開いて閉じるよりも Pythonic である。with 文の実行が抜けた後で、ファイルが実際に閉じられたことを確信できる。ファイルハンドルがオープンしている間に実行するコード量も減らすことができ、一般に優れたやり方である。\n",
    "\n",
    "自分の関数で as ターゲットとして値を与えるために必要なのは、コンテキストマネジャーからその値を yield することだけである。例えば、コンテキストマネジャーで Logger インスタンスを取り出し、そのレベルを設定して、それを as ターゲットとして yield することで次のように定義できる。\n"
   ]
  },
  {
   "cell_type": "code",
   "execution_count": 21,
   "metadata": {},
   "outputs": [],
   "source": [
    "# Example 8\n",
    "@contextmanager\n",
    "def log_level(level, name):\n",
    "    logger = logging.getLogger(name)\n",
    "    old_level = logger.getEffectiveLevel()\n",
    "    logger.setLevel(level)\n",
    "    try:\n",
    "        yield logger\n",
    "    finally:\n",
    "        logger.setLevel(old_level)"
   ]
  },
  {
   "attachments": {},
   "cell_type": "markdown",
   "metadata": {},
   "source": [
    "※捕捉： @contextmanager デコレータを使用して定義された関数は、with 文のコンテキスト内で使用されるときに呼び出される。この関数は、yield 文を含み、イテレータを返す。yield 文の前のコードはコンテキストの開始時に実行され、yield 文の後のコードはコンテキストの終了時に実行される。Example 8 のコードでは、@contextmanager デコレータが log_level 関数に適用されている。これにより、log_level 関数はコンテキストマネージャとして使用できるようになる。コンテキスト内の処理が実行される間、ログレベルが一時的に変更され、処理が終了した後に元のログレベルに戻される。"
   ]
  },
  {
   "attachments": {},
   "cell_type": "markdown",
   "metadata": {},
   "source": [
    "as ターゲットで debug のようなロギングメソッドを呼び出すと、with ブロックにおけるロギングの重大度レベルが十分低いため、出力がなされます。logging モジュールを直接使うと、デフォルト のプログラムロガーのデフォルトのロギング重大度レベルが WARNING なので、何も出力されない。"
   ]
  },
  {
   "cell_type": "code",
   "execution_count": 22,
   "metadata": {},
   "outputs": [
    {
     "name": "stderr",
     "output_type": "stream",
     "text": [
      "DEBUG:my-log:This is a message for my-log!\n"
     ]
    }
   ],
   "source": [
    "# Example 9\n",
    "with log_level(logging.DEBUG, 'my-log') as logger:\n",
    "    logger.debug(f'This is a message for {logger.name}!')\n",
    "    logging.debug('This will not print')"
   ]
  },
  {
   "attachments": {},
   "cell_type": "markdown",
   "metadata": {},
   "source": [
    "with 文を抜けた後で、'my-log' という名前の Logger でデバッグロギングメソッドを呼び出しても、デフォルトのロギング重大度が元に戻されているため、何も出力されない。エラーログメッセージは、常に出力される。\n"
   ]
  },
  {
   "cell_type": "code",
   "execution_count": 23,
   "metadata": {},
   "outputs": [
    {
     "name": "stderr",
     "output_type": "stream",
     "text": [
      "ERROR:my-log:Error will print\n"
     ]
    }
   ],
   "source": [
    "# Example 10\n",
    "logger = logging.getLogger('my-log')\n",
    "logger.debug('Debug will not print')\n",
    "logger.error('Error will print')"
   ]
  },
  {
   "attachments": {},
   "cell_type": "markdown",
   "metadata": {},
   "source": [
    "後で、with文を更新するだけで、 使いたいロガーの名前を変えることができる。これにより、with ブロックの as ターゲットの Logger が別のインスタンスを指す。しかし、他のコードは更新する必要はない。\n"
   ]
  },
  {
   "cell_type": "code",
   "execution_count": 24,
   "metadata": {},
   "outputs": [
    {
     "name": "stderr",
     "output_type": "stream",
     "text": [
      "DEBUG:other-log:This is a message for other-log!\n"
     ]
    }
   ],
   "source": [
    "# Example 11\n",
    "with log_level(logging.DEBUG, 'other-log') as logger:\n",
    "    logger.debug(f'This is a message for {logger.name}!')\n",
    "    logging.debug('This will not print')    # logging はデフォルトの WARNING レベルのため .debug の文は表示されない"
   ]
  },
  {
   "attachments": {},
   "cell_type": "markdown",
   "metadata": {},
   "source": [
    "この状態分離とコンテキストの作成とコンテキスト内における動作との切り離しが、with 文の別の利点である。\n"
   ]
  },
  {
   "attachments": {},
   "cell_type": "markdown",
   "metadata": {},
   "source": [
    "### 覚えておくこと"
   ]
  },
  {
   "attachments": {},
   "cell_type": "markdown",
   "metadata": {},
   "source": [
    "- with文は、try/finally ブロックのロジックを再利用して、見た目をすっきりさせる。\n",
    "- 組み込みモジュール contextlib は、 with文で自分の関数を使うことを容易にする contextmanager デコレータを提供する。\n",
    "- コンテキストマネジャーで yield した値は、with文のas部分に渡される。これは、コードが特別なコンテキストの元に直接アクセスできるようにするので便利である。\n"
   ]
  },
  {
   "attachments": {},
   "cell_type": "markdown",
   "metadata": {},
   "source": [
    "## 項目 67 ローカルクロックにはtimeではなくdatetime を使う"
   ]
  },
  {
   "attachments": {},
   "cell_type": "markdown",
   "metadata": {},
   "source": [
    "協定世界時 (Coordinated Universal Time: UTC) は、タイムゾーンとは独立した標準的な時刻の表現方式です。UTCは、コンピュータの中で、 Unixエポックからの秒数で時刻を表すのに使われています。しかし、UTC は、 人間にとっては理想的ではありません。 人間が使う時刻は、今どこにいるかに 依存する相対的なものです。 「UTCの15:00 マイナス7時」とは言わず、「8am」 とか 「正午」と言います。 プログラムで時刻を扱う場合には、おそらく、 UTC と現地のクロックとの間で時刻の変換をして、人間にとってわかりやすくしています。\n",
    "\n",
    "Python は、タイムゾーンの変換を行うのに2種類の方法を提供しています。 古い方法は、組み込み モジュール time を用いるもので、 ひどいエラーが起こる危険性があります。 新しい方法は、組み込みモジュール datetime を用いるもので、pytz というコミュニティが作ったパッケージを使って素晴らしい仕事をします。\n",
    "\n",
    "なぜdatetime が最良でtimeを避けるべきかを理解するには、 time と datetimeの両方を完全に\n",
    "知っておく必要があります。\n"
   ]
  },
  {
   "attachments": {},
   "cell_type": "markdown",
   "metadata": {},
   "source": [
    "### time モジュール"
   ]
  },
  {
   "attachments": {},
   "cell_type": "markdown",
   "metadata": {},
   "source": [
    "組み込みモジュールtimeのlocaltime 関数は、UNIX タイムスタンプ (UTCによるUNIXエポックからの秒数)をホストコンピュータのタイムゾーン (著者の場合なら太平洋夏時間) に合致するロー カル時間に変換します。このローカル時間は、strftime 関数を使い人間に読みやすい形式で出力できます。\n"
   ]
  },
  {
   "cell_type": "code",
   "execution_count": 25,
   "metadata": {},
   "outputs": [
    {
     "name": "stdout",
     "output_type": "stream",
     "text": [
      "2019-03-17 07:14:35\n"
     ]
    }
   ],
   "source": [
    "# Example 1\n",
    "import time\n",
    "\n",
    "now = 1552774475\n",
    "local_tuple = time.localtime(now)\n",
    "time_format = '%Y-%m-%d %H:%M:%S'\n",
    "time_str = time.strftime(time_format, local_tuple)\n",
    "print(time_str)"
   ]
  },
  {
   "attachments": {},
   "cell_type": "markdown",
   "metadata": {},
   "source": [
    "反対に、人間に読みやすいローカル時間のユーザ入力から始めてUTC時間に変換する必要もよくあ ります。これをするには、時間文字列をパースする strptime 関数を使い、 mktime を呼び出してロー カル時間を UNIX タイムスタンプに変換します。"
   ]
  },
  {
   "cell_type": "code",
   "execution_count": 26,
   "metadata": {},
   "outputs": [
    {
     "name": "stdout",
     "output_type": "stream",
     "text": [
      "1552774475.0\n"
     ]
    }
   ],
   "source": [
    "# Example 2\n",
    "time_tuple = time.strptime(time_str, time_format)\n",
    "utc_now = time.mktime(time_tuple)\n",
    "print(utc_now)\n"
   ]
  },
  {
   "attachments": {},
   "cell_type": "markdown",
   "metadata": {},
   "source": [
    "あるタイムゾーンのローカル時間を別のタイムゾーンの時間に変換するにはどうするのでしょうか。例えば、サンフランシスコとニューヨーク間の飛行機に乗って、ニューヨークに到着したときに、サンフランシスコが何時か調べたいとします。\n",
    "\n",
    "time, localtime, strptime 関数の戻り値を直接扱ってタイムゾーンの変換をすることをまず 考えるかもしれません。しかし、これはまずい考えです。タイムゾーンは、その地方の法律により、常に変化します。自分で処理するのは、特に、飛行機が発着する国際的な都市を扱う場合には複雑になりすぎます。\n",
    "\n",
    "多くのオペレーティングシステムでは、タイムゾーンの変更を自動的に管理するための設定ファイルを持っています。Python は、time モジュールを使って、プラットフォームがサポートしているならそのタイムゾーン情報を利用します。 Windowsのようなサポートされていないプラットフォームでは、time モジュールはタイムゾーン情報が得られないところがあります。次の例では、 太平洋夏時間のサンフランシスコの出発時間をパースします。\n"
   ]
  },
  {
   "cell_type": "code",
   "execution_count": 27,
   "metadata": {},
   "outputs": [
    {
     "name": "stdout",
     "output_type": "stream",
     "text": [
      "This example doesn't work on Windows\n"
     ]
    }
   ],
   "source": [
    "# Example 3\n",
    "import os\n",
    "\n",
    "if os.name == 'nt':\n",
    "    print(\"This example doesn't work on Windows\")\n",
    "else:\n",
    "    parse_format = '%Y-%m-%d %H:%M:%S %Z'\n",
    "    depart_sfo = '2019-03-16 15:45:16 PDT'\n",
    "    time_tuple = time.strptime(depart_sfo, parse_format)\n",
    "    time_str = time.strftime(time_format, time_tuple)\n",
    "    print(time_str)"
   ]
  },
  {
   "attachments": {},
   "cell_type": "markdown",
   "metadata": {},
   "source": [
    "PDTがstrptime関数でうまくいくのを見たら、自分のコンピュータでわかっている他のタイムゾーンもうまくいくだろうと考えるでしょう。残念ながら、これは間違いです。strptimeは、東部夏時間 (ニューヨークのタイムゾーン) で例外が発生します。\n"
   ]
  },
  {
   "cell_type": "code",
   "execution_count": 28,
   "metadata": {},
   "outputs": [
    {
     "name": "stderr",
     "output_type": "stream",
     "text": [
      "ERROR:root:Expected\n",
      "Traceback (most recent call last):\n",
      "  File \"C:\\Users\\su10_\\AppData\\Local\\Temp\\ipykernel_20756\\2746807617.py\", line 4, in <cell line: 2>\n",
      "    time_tuple = time.strptime(arrival_nyc, time_format)\n",
      "  File \"c:\\Users\\su10_\\anaconda3\\envs\\develop\\lib\\_strptime.py\", line 562, in _strptime_time\n",
      "    tt = _strptime(data_string, format)[0]\n",
      "  File \"c:\\Users\\su10_\\anaconda3\\envs\\develop\\lib\\_strptime.py\", line 352, in _strptime\n",
      "    raise ValueError(\"unconverted data remains: %s\" %\n",
      "ValueError: unconverted data remains:  EDT\n"
     ]
    }
   ],
   "source": [
    "# Example 4\n",
    "try:\n",
    "    arrival_nyc = '2019-03-16 23:33:24 EDT'\n",
    "    time_tuple = time.strptime(arrival_nyc, time_format)\n",
    "except:\n",
    "    logging.exception('Expected')\n",
    "else:\n",
    "    assert False"
   ]
  },
  {
   "attachments": {},
   "cell_type": "markdown",
   "metadata": {},
   "source": [
    "原因は、time モジュールは本質的にプラットフォーム依存であるからです。 実際の振る舞いは、元 になっているC関数がホストのオペレーティングシステムとどのように働いているかによって決まり ます。 これがtimeモジュールの機能をPython で信頼できないものにしています。 time モジュール は、複数のローカルタイムに対して適切に働くことができません。 したがって、この目的にはtimeモ ジュールを使うべきではありません。 timeを使わなければならないなら、UTCとホストコンピュータ のローカル時間との間の変換にだけ使うべきです。他の変換については、すべてdatetime モジュールを使いましょう。"
   ]
  },
  {
   "attachments": {},
   "cell_type": "markdown",
   "metadata": {},
   "source": [
    "### datetime モジュール"
   ]
  },
  {
   "attachments": {},
   "cell_type": "markdown",
   "metadata": {},
   "source": [
    "time モジュールと同様に、 datetime は現在時刻をUTCからローカル時間に変換するのに使えます。Python で時刻を表す第2の選択肢は、 組み込みモジュール datetimeのdatetime クラスです。現在時刻をUTCで測り、コンピュータのローカル時間 (太平洋夏時間) に変換します。\n"
   ]
  },
  {
   "cell_type": "code",
   "execution_count": 29,
   "metadata": {},
   "outputs": [
    {
     "name": "stdout",
     "output_type": "stream",
     "text": [
      "2019-03-17 07:14:35+09:00\n"
     ]
    }
   ],
   "source": [
    "# Example 5\n",
    "from datetime import datetime, timezone\n",
    "\n",
    "now = datetime(2019, 3, 16, 22, 14, 35)\n",
    "now_utc = now.replace(tzinfo=timezone.utc)\n",
    "now_local = now_utc.astimezone()\n",
    "print(now_local)"
   ]
  },
  {
   "attachments": {},
   "cell_type": "markdown",
   "metadata": {},
   "source": [
    "datetime モジュールではローカル時間をUTCによるUNIX タイムスタンプに変換するのも簡単です。"
   ]
  },
  {
   "cell_type": "code",
   "execution_count": 30,
   "metadata": {},
   "outputs": [
    {
     "name": "stdout",
     "output_type": "stream",
     "text": [
      "1552716875.0\n"
     ]
    }
   ],
   "source": [
    "# Example 6\n",
    "time_str = '2019-03-16 15:14:35'\n",
    "now = datetime.strptime(time_str, time_format)\n",
    "time_tuple = now.timetuple()\n",
    "utc_now = time.mktime(time_tuple)\n",
    "print(utc_now)"
   ]
  },
  {
   "attachments": {},
   "cell_type": "markdown",
   "metadata": {},
   "source": [
    "timeモジュールと異なり、 datetime モジュールはあるローカル時間から別のローカル時間に変換する機能は信頼できます。しかし、datetime は tzinfo クラスと関連メソッドのタイムゾーン演算の仕掛けしか提供していません。Python のデフォルトインストールで欠けているのは、UTC の他のタイムゾーンの定義です。\n",
    "\n",
    "幸いなことに、Python パッケージインデックス (PyPI) (「項目82 コミュニティのモジュールをどこで見つけられるかを知っておく」参照) からダウンロードできる pytz モジュールが、その問題を解決します。pytz は、必要になるすべてのタイムゾーンの完全なデータベースを含んでいます。\n",
    "\n",
    "pytz を効果的に使うには、ローカル時間をまず UTC に常に変換することです。必要な datetime 演算(オフセットなど) を UTC値に対して行います。それから、ローカル時間に変換します。\n",
    "\n",
    "例えば、次に示すようにニューヨーク便到着時刻を UTC datetime に変換します。いくつかの呼び出しは冗長に見えるかもしれませんが、 pytz を使うときにはすべて必要です。\n"
   ]
  },
  {
   "cell_type": "code",
   "execution_count": 31,
   "metadata": {},
   "outputs": [
    {
     "name": "stdout",
     "output_type": "stream",
     "text": [
      "2019-03-17 03:33:24+00:00\n"
     ]
    }
   ],
   "source": [
    "# Example 7\n",
    "import pytz\n",
    "\n",
    "arrival_nyc = '2019-03-16 23:33:24'\n",
    "nyc_dt_naive = datetime.strptime(arrival_nyc, time_format)\n",
    "eastern = pytz.timezone('US/Eastern')\n",
    "nyc_dt = eastern.localize(nyc_dt_naive)\n",
    "utc_dt = pytz.utc.normalize(nyc_dt.astimezone(pytz.utc))\n",
    "print(utc_dt)"
   ]
  },
  {
   "attachments": {},
   "cell_type": "markdown",
   "metadata": {},
   "source": [
    "UTC datetime を取得できたら、サンフランシスコのローカル時間に変換できます。"
   ]
  },
  {
   "cell_type": "code",
   "execution_count": 32,
   "metadata": {},
   "outputs": [
    {
     "name": "stdout",
     "output_type": "stream",
     "text": [
      "2019-03-16 20:33:24-07:00\n"
     ]
    }
   ],
   "source": [
    "# Example 8\n",
    "pacific = pytz.timezone('US/Pacific')\n",
    "sf_dt = pacific.normalize(utc_dt.astimezone(pacific))\n",
    "print(sf_dt)"
   ]
  },
  {
   "attachments": {},
   "cell_type": "markdown",
   "metadata": {},
   "source": [
    "同じく簡単に、ネパールのローカル時間に変換できます。"
   ]
  },
  {
   "cell_type": "code",
   "execution_count": 33,
   "metadata": {},
   "outputs": [
    {
     "name": "stdout",
     "output_type": "stream",
     "text": [
      "2019-03-17 09:18:24+05:45\n"
     ]
    }
   ],
   "source": [
    "# Example 9\n",
    "nepal = pytz.timezone('Asia/Katmandu')\n",
    "nepal_dt = nepal.normalize(utc_dt.astimezone(nepal))\n",
    "print(nepal_dt)\n"
   ]
  },
  {
   "attachments": {},
   "cell_type": "markdown",
   "metadata": {},
   "source": [
    "datetime と pytz とで、ホストコンピュータがどんなオペレーティングシステムかにかかわらず、すべての環境で、このような変換が一貫して行えます。\n"
   ]
  },
  {
   "attachments": {},
   "cell_type": "markdown",
   "metadata": {},
   "source": [
    "### 覚えておくこと"
   ]
  },
  {
   "attachments": {},
   "cell_type": "markdown",
   "metadata": {},
   "source": [
    "- 異なるタイムゾーン間の変換にはtimeモジュールを使わない。\n",
    "- 組み込みモジュール datetime をコミュニティモジュール pytz と一緒に使い、異なるタイムゾーン間の変換を変換する。\n",
    "- 時刻を常に UTC で表し、表示の直前の段階でローカル時間に変換する。\n"
   ]
  },
  {
   "attachments": {},
   "cell_type": "markdown",
   "metadata": {},
   "source": []
  },
  {
   "attachments": {},
   "cell_type": "markdown",
   "metadata": {},
   "source": []
  }
 ],
 "metadata": {
  "kernelspec": {
   "display_name": "develop",
   "language": "python",
   "name": "python3"
  },
  "language_info": {
   "codemirror_mode": {
    "name": "ipython",
    "version": 3
   },
   "file_extension": ".py",
   "mimetype": "text/x-python",
   "name": "python",
   "nbconvert_exporter": "python",
   "pygments_lexer": "ipython3",
   "version": "3.10.4"
  },
  "orig_nbformat": 4
 },
 "nbformat": 4,
 "nbformat_minor": 2
}
