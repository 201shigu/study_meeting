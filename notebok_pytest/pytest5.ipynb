{
 "cells": [
  {
   "cell_type": "markdown",
   "metadata": {},
   "source": [
    "# パラメータ化 CHAPTER 5\n",
    "\n",
    "本省の**パラメータ化 (parametrization)**では、1つのテスト関数を使って複数のテストケースを実行することで、より徹底的なテストをより少ない労力で行う方法を紹介する。\n",
    "\n",
    "テストのパラメータ化は、テスト関数にパラメータを追加し、いくつかの引数をテストに渡すことで複数のテストケースを作成するというものである。ここでは、テストのパラメータ化を pytest で実装する方法として次の3つを取り上げる。パラメータ化の方法を選ぶときには、上から優先に考えることを推奨する。\n",
    "- 関数をパラメータ化する\n",
    "- フィクスチャをパラメータ化する\n",
    "- `pytest_generate_tests` というフック関数を使う\n",
    "この3つの方法を比較するため、同じパラメータ化問題をそれぞれの方法で解いてみよう。\n"
   ]
  },
  {
   "cell_type": "markdown",
   "metadata": {},
   "source": [
    "## 5.1 パラメータ化せずにテストする\n",
    "関数を使って何らかの値を送り込み、その出力が正しいかどうかをチェックするのは、ソフトウェアテストの一般的なパターンである。しかし、ひと組みの値を渡して関数を呼び出し、結果が正しいかどうかをチェックするだけでは、ほとんどの関数にとって十分なテストとは言えない。そこで、テストをパラメータ化し、何種類かのデータを用意して、同じテストを繰り返し呼び出す方法を考える。そのテストが1回でも失敗すれば、pytest はそのテストを失敗したと判定する。"
   ]
  },
  {
   "cell_type": "markdown",
   "metadata": {},
   "source": [
    "まずは、cards プロジェクトの API の`finish()`メソッドのテストを見てみよう。"
   ]
  },
  {
   "cell_type": "code",
   "execution_count": null,
   "metadata": {},
   "outputs": [],
   "source": [
    "# リスト5-1: cards_proj/src/cards/api.py\n",
    "def finish (self, card_id: int):\n",
    "    \"\"\"Set a card state to 'done'.\"\"\"\n",
    "    self.update_card(card_id, Card(state=\"done\"))"
   ]
  },
  {
   "cell_type": "markdown",
   "metadata": {},
   "source": [
    "Cards アプリケーションにおけるカードの状態は\"todo\", \"in prog\", \"done\"\n",
    "の3つであり、`finish()` メソッドはカードの状態を \"done\" に設定します。\n",
    "\n",
    "このことをテストするために次のような方法で確認する: \n",
    "1. Card オブジェクトを作成してデータベースに追加し、 テストに使えるようにする。\n",
    "2. finish () を呼び出す。\n",
    "13 最終状態が\"done\"であることを確認する。\n",
    "\n",
    "変数の1つは Card オブジェクトの開始時の状態である。\n",
    "この変数には、\"todo\"、\"prog\"、最初から\"done\" のいずれかの値が設定される。\n",
    "開始時の状態を3つともテストしてみよう。\n"
   ]
  },
  {
   "cell_type": "code",
   "execution_count": null,
   "metadata": {},
   "outputs": [],
   "source": [
    "# リスト5-2:ch5/test_finish.py\n",
    "from cards import Card\n",
    "\n",
    "def test_finish_from_done (cards_db):\n",
    "    index = cards.db.add_card(Card(\"write a book\", state=\"done\"))\n",
    "    cards_db.finish(index)\n",
    "    card = cards_db.get_card(index)\n",
    "    assert card.state == \"done\"\n",
    "\n",
    "def test_finish_from_todo(cards_db):\n",
    "    index = cards_db.add_card(Card(\"create a course\", state=\"todo\"))\n",
    "    cards_db.finish(index)\n",
    "    card cards_db.get_card(index)\n",
    "    assert card.state == \"done\"\n"
   ]
  },
  {
   "cell_type": "markdown",
   "metadata": {},
   "source": [
    "これら3つのテスト関数は非常によく似ており、違いは状態 (state) とサマリー (summary) の値だけである。\n",
    "実際にテストを実行結果は以下のとおりである。"
   ]
  },
  {
   "cell_type": "markdown",
   "metadata": {},
   "source": [
    "実行結果貼り付け"
   ]
  },
  {
   "cell_type": "markdown",
   "metadata": {},
   "source": [
    "上記の冗長性を減らす方法の1つとして、それらのコードを同じ関数にまとめることが考えられる。"
   ]
  },
  {
   "cell_type": "code",
   "execution_count": null,
   "metadata": {},
   "outputs": [],
   "source": [
    "# UZ-5-3: ch5/test_finish_combined.py\n",
    "from cards import Card\n",
    "def test_finish(cards_db):\n",
    "    for c in [\n",
    "        Card (\"write a book\", state=\"done\"),\n",
    "        Card (\"second edition\", state=\"in prog\"),\n",
    "        Card(\"create a course\"\n",
    "        state=\"todo\")\n",
    "    ]:\n",
    "    書き写し"
   ]
  },
  {
   "cell_type": "markdown",
   "metadata": {},
   "source": [
    "実行結果は以下の通り"
   ]
  },
  {
   "cell_type": "code",
   "execution_count": null,
   "metadata": {},
   "outputs": [],
   "source": [
    "実行結果貼り付け"
   ]
  },
  {
   "cell_type": "markdown",
   "metadata": {},
   "source": [
    "テストは成功し、一見冗長性も軽減できている。しかし、以下のような問題が残ってしまっている。\n",
    "- 報告されるテストケースが3つではなく1つになっている。\n",
    "- テストケースの1つが失敗した場合、トレースバックか他のデバッグ情報を調べない限り、どのテストが失敗したのかわからない。\n",
    "- テストケースの1つが失敗した場合、その後のテストケースは実行されない。pytest は assert が失敗した時点でテストの実行を中止する。\n",
    "\n",
    "pytest には、この種の問題を解決するためのパラメータ化に関する機能が十分に備わっている。\n",
    "ここでは、関数のパラメータ化、フィクスチャのパラメータ化、`pytest_generate_tests`の順に見ていこう。\n"
   ]
  },
  {
   "cell_type": "markdown",
   "metadata": {},
   "source": [
    "## 5.2 関数をパラメータ化する\n",
    "テスト関数をパラメータ化するには、テストの定義にパラメータを追加し、テストに渡す引数を定義する。\n",
    "引数の定義には、@pytest.mark.parametrize() マーカーを使う。"
   ]
  },
  {
   "cell_type": "code",
   "execution_count": null,
   "metadata": {},
   "outputs": [],
   "source": [
    "# リスト5-4:ch5/test_func_param.py\n"
   ]
  },
  {
   "cell_type": "markdown",
   "metadata": {},
   "source": [
    "`test_finish` 関数には、元のパラメータである `cards_db` フィクスチャに加えて、`start_summary` と `start_state` の2つが追加されている。これらのパラメータは`@pytest.mark.parametrize()` の1つ目の引数と一致する。 \n",
    "\n",
    "`@pytest.mark.parametrize()`の1つ目の引数は、パラメータの名前のリストである。これらの名前は文字列であり、[\"start_summary\", \"start_state\"] のように文字列のリストとして指定するか、\"start_summary, start_state\" のようにコンマ区切りの文字列として指定する。\n",
    "\n",
    "`@pytest.mark.parametrize()`の2つ目の引数は、テストケースのリストである。このリストの各要素はタプルまたはリストとして表されたテストケースであり、テスト関数に渡される引数ごとに1つの要素を含んでいる。\n",
    "\n",
    "pytest は、 このテストを (start_summary, start_state) ペアごとに実行し、別々のテストとして報告する。\n"
   ]
  },
  {
   "cell_type": "markdown",
   "metadata": {},
   "source": [
    "実行結果"
   ]
  },
  {
   "cell_type": "markdown",
   "metadata": {},
   "source": [
    "この `parametrize()` は狙いどおりの働きをしたようです。しかし、テストケースごとに `summary` を変更することはこのテストにとってあまり重要ではなく、意味もなく複雑になるだけである。そこでパラメータ化を `start_state` だけにしてみよう。"
   ]
  },
  {
   "cell_type": "code",
   "execution_count": null,
   "metadata": {},
   "outputs": [],
   "source": [
    "# リスト5-5ch5/test_func_param.py\n"
   ]
  },
  {
   "cell_type": "markdown",
   "metadata": {},
   "source": [
    "テストの大部分は以前と同じであり、パラメータの「リスト」に含まれているのは1つ　(\"start_state\") である。テストケースのリストに含まれているパラメータの値も1つだけになっています。\n",
    "\n",
    "`start_summary`パラメータはもう関数の定義に含まれていません。`start_summary` は `Card()` 呼び出しにハードコーディングされている。\n",
    "\n",
    "このテストを実行すると、肝心の変更箇所に焦点が絞られることがわかる。\n"
   ]
  },
  {
   "cell_type": "markdown",
   "metadata": {},
   "source": [
    "実行結果"
   ]
  },
  {
   "cell_type": "markdown",
   "metadata": {},
   "source": [
    "2つの例の出力を見比べてみると、この例で表示されているのが `start_state` パラメー夕の値 (\"todo\", \"in prog\", \"done\") だけであることがわかる。\n",
    "最初の例では pytest が両方のパラメータの値をハイフン(-)で区切って表示されていたが、変化するパラメータが1つだけになったためハイフンは必要なくなっている。\n",
    "\n",
    "テストコードでも出力でも `start_state` の違いに焦点が絞られている。 テストコードでの違いは些細なものなので、筆者はつい必要以上にパラメータを追加してしまう。しかし、出力での違いは歴然で、テストケースの違いが出力にはっきり表れます。\n",
    "こういった出力の明確さはテストケースが失敗したときに大きな助けになる。\n",
    "テストの失敗にとって意味を持つ変更箇所にすぐに目星を付けることができます。\n",
    "\n",
    "本節では関数のパラメータ化の仕方を見てきたが、次節のようにフィクスチャのパラメータ化を使って同じテストを書くこともできる。"
   ]
  },
  {
   "cell_type": "markdown",
   "metadata": {},
   "source": [
    "## 5.3 フィクスチャをパラメータ化する\n",
    "関数をパラメータ化したときには、指定した引数セットごとに pytest がテスト関数を1回呼び出した。\n",
    "本節でのフィクスチャのパラメータ化では、それらのパラメータをフィクスチャに移動する。そのようにすると、指定した値セットごとに pytest がフィクスチャを 1回呼び出すようになる。そして、そのフィクスチャに依存しているすべてのテスト関数がフィクスチャの値ごとに1回呼び出される。"
   ]
  },
  {
   "cell_type": "code",
   "execution_count": null,
   "metadata": {},
   "outputs": [],
   "source": [
    "# リスト5-6:ch5/test.fix.param.py\n"
   ]
  },
  {
   "cell_type": "markdown",
   "metadata": {},
   "source": [
    "`start_state()` は、`params` の値ごとに1回、合計3回呼び出される。`params` の値がそれぞれ`request.param`に保存され、フィクスチャによって使われる。パラメータ値に依存するコードを `start_state()` の中に配置することも可能。 ただし、この場合は単にパラメータの値を返している。\n",
    "`test_finish()` は、関数のパラメータ化で使った `test_finish_simple()` とまったく同じですが、`parametrize()` マーカーは付いていない。この関数は `start_state` をパラメータとして使っているため、`start_state()` フィクスチャに渡される値ごとに pytest によって1回呼び出される。テストを実行すると、前節と同じ出力が生成される。\n"
   ]
  },
  {
   "cell_type": "markdown",
   "metadata": {},
   "source": [
    "実行結果"
   ]
  },
  {
   "cell_type": "markdown",
   "metadata": {},
   "source": [
    "一見、フィクスチャのパラメータ化の目的は関数のパラメータ化と同じで、コードが少し増えるだけのようにも見えるが、状況によっては、フィクスチャのパラメー夕化のほうに分があることがある。\n",
    "フィクスチャのパラメータ化の利点は、引数セットごとにフィクスチャを実行できることであり、テストごとに実行するセットアップやティアダウンのコードがある場合に役立つ。\n",
    "\n",
    "たとえば、異なるデータベースに接続したり、 内容が異なるファイルを選んだりできる。\n",
    "\n",
    "また、フィクスチャのパラメータ化には、同じパラメータセットで多くのテスト関数を実行できるという利点もある。\n",
    "`start_state`フィクスチャを使っているテストはすべて、パラメータの値ごとに1回、合計3回呼び出されるようになる。\n",
    "\n",
    "フィクスチャのパラメータ化は、同じ問題を別の角度から捉える方法でもある。「同じテスト、異なるデータ」の観点から考えた場合、`finish()` のテストであっても、関数のパラメータ化のほうを選ぶのが良いだろう。\n",
    "しかし、「同じテスト、異なる `start_state`」の観点から考えた場合は、フィクスチャのパラメータ化のほうを選ぶのが良いだろう。"
   ]
  },
  {
   "cell_type": "markdown",
   "metadata": {},
   "source": [
    "## 5.4 pytest_generate_tests を使ってパラメータ化する\n",
    "\n",
    "テストをパラメータ化する3つ目の方法は、`pytest-generate_tests`というフック関数を使うことである。フック関数は pytest の通常の処理フローを変更するためにプラグインでよく使われる。しかし、フック関数の多くはテストファイルやconftest.py ファイルで使うことができる。\n",
    "\n",
    "`pytest_generate_tests` を使って前節と同じフローを実装すると、次のように書くことができる。"
   ]
  },
  {
   "cell_type": "code",
   "execution_count": null,
   "metadata": {},
   "outputs": [],
   "source": [
    "# リスト5-7:ch5/test_gen.py"
   ]
  },
  {
   "cell_type": "markdown",
   "metadata": {},
   "source": [
    "`test_finish()`は以前のものと同じである。変更したのは、テストが呼び出されるたびに pytest が `start_state` の値を設定する方法だけである。\n",
    "\n",
    "この `pytestgenerate_tests`関数は、実行するテストのリストを組み立てるときに pytest によって呼び出される。`metafunc`オブジェクトはさまざまな情報を含んでいるが、ここでは単にパラメータ名の取得とパラメータの生成に使っている。\n",
    "\n",
    "このテストを実行すると、見覚えのある出力が表示される。\n"
   ]
  },
  {
   "cell_type": "markdown",
   "metadata": {},
   "source": [
    "実行結果"
   ]
  },
  {
   "cell_type": "markdown",
   "metadata": {},
   "source": [
    "実際には、`pytest-generate_tests` 関数は途轍もなく強力です。 この単純な例では、 先の2つのパラメータ化と同じことをするだけですが、テストの収集時にパラメータリス トをおもしろい方法で変更したい場合は、 この関数が大きな助けになります。\n",
    "\n",
    "たとえば、`pytest-generate_tests` 関数を使って次のようなことができる。\n",
    "\n",
    "1. metafunc を使って metafunc.config.getoption(\"--someflag\")にアクセスできるため、コマンドラインフラグに基づいてパラメータリストを作成できる。 さらに多くの値をテストするために--excessive フラグを追加したり、一部の値 だけをテストするために--quick フラグを追加したりできる。\n",
    "2. 別のパラメータの有無に基づいてパラメータリストを作成できる。たとえば、関 連する2つのパラメータを要求するテスト関数では、パラメータを1つだけ要求 する場合とは異なる値を使って両方のパラメータを設定できる。\n",
    "3. 関連する2つのパラメータをたとえば次のようにして同時にパラメータ化できる。\n"
   ]
  },
  {
   "cell_type": "markdown",
   "metadata": {},
   "source": [
    "テストをパラメータ化する3つの方法を見てきましたが、ここでは単に finish()に対する1つのテスト関数から3つのテストケースを作成するためにパラメータ化を使いました。\n",
    "\n",
    "しかし、パラメータ化を利用すれば、大量のテストケースを生成することも考えられます。\n",
    "\n",
    "そこで次節では、-k フラグを使ってテストの一部を選択する方法を紹介します。\n",
    "\n"
   ]
  },
  {
   "cell_type": "markdown",
   "metadata": {},
   "source": [
    "## 5.5 キーワードを使ってテストケースを選択する\n",
    "大量のテストケースをすばやく作成することにかけては、パラメータ化の威力は絶大です。このため、テストの一部だけを実行できると便利なことがよくあります（-k フラグは第2章の2.9節が初出）。本章ではテストケースの数が多いため、 このオプションを試してみることにしましょう。"
   ]
  },
  {
   "cell_type": "markdown",
   "metadata": {},
   "source": [
    "出力結果"
   ]
  },
  {
   "cell_type": "markdown",
   "metadata": {},
   "source": [
    "\"play\" または \"create\" を含んでいるテストケースを除外したい場合は、さらに絞り込\n",
    "むことができます。\n"
   ]
  },
  {
   "cell_type": "markdown",
   "metadata": {},
   "source": [
    "出力結果"
   ]
  },
  {
   "cell_type": "markdown",
   "metadata": {},
   "source": [
    "テスト関数を1つだけ選択することもできます。 そのテスト関数はすべてのパラメータ を使って実行されます。"
   ]
  },
  {
   "cell_type": "markdown",
   "metadata": {},
   "source": [
    "出力結果"
   ]
  },
  {
   "cell_type": "markdown",
   "metadata": {},
   "source": [
    "テストケースを1つだけ選択することもできます。"
   ]
  },
  {
   "cell_type": "markdown",
   "metadata": {},
   "source": [
    "出力結果"
   ]
  },
  {
   "cell_type": "markdown",
   "metadata": {},
   "source": [
    "うれしいことに、テストの一部を選択する一般的な方法はすべてパラメータ化されたテストでも使うことができます。\n",
    "これらの手法は新しいものではありませんが、筆者はバラメータ化されたテストを実行したりデバッグしたりするときによく使っています。"
   ]
  },
  {
   "cell_type": "markdown",
   "metadata": {},
   "source": [
    "※ 引用符を使う\n",
    "ハイフン(-)、角かっこ([])、スペースをそのまま使うとコマンドシェルに 渉することになります。 パラメータ化されたテストを選択するときには、引用符 (\") を使うようにしてください。"
   ]
  }
 ],
 "metadata": {
  "kernelspec": {
   "display_name": "develop",
   "language": "python",
   "name": "python3"
  },
  "language_info": {
   "codemirror_mode": {
    "name": "ipython",
    "version": 3
   },
   "file_extension": ".py",
   "mimetype": "text/x-python",
   "name": "python",
   "nbconvert_exporter": "python",
   "pygments_lexer": "ipython3",
   "version": "3.10.4"
  }
 },
 "nbformat": 4,
 "nbformat_minor": 2
}
